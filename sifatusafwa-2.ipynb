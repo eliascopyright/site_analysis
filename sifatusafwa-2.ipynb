{
 "cells": [
  {
   "cell_type": "markdown",
   "metadata": {},
   "source": [
    "بسم الله الرحمن الرحيم"
   ]
  },
  {
   "cell_type": "markdown",
   "metadata": {},
   "source": [
    "\n",
    "On a réussi à prendre les livres de fiqh maliki, maintenant on va essayer de mettre l'auteur..."
   ]
  },
  {
   "cell_type": "code",
   "execution_count": 111,
   "metadata": {},
   "outputs": [],
   "source": [
    "import requests\n",
    "from bs4 import BeautifulSoup\n",
    "import numpy as np\n",
    "import pandas as pd\n",
    "\n",
    "r = requests.get('https://www.sifatusafwa.com/fr/fiqh-maliki/')\n",
    "soup = BeautifulSoup(r.content, 'html.parser')\n",
    "s = soup.find('section', id = 'products')\n",
    "#s = s.find_all('div', class_ = 'products product_list row grid')\n",
    "#lines = s.find('h3', class_ = 's_title_block flex_child')\n",
    "#Affichage du contenu de la page\n",
    "#print(lines)\n",
    "\n",
    "#Extraire les liens\n",
    "urls = []\n",
    "for line in s.findAll('a'):\n",
    "    urls.append(line.get('href'))#line.text.split(\\'n') est une liste de hcaine de caractères, donc [0] est \n",
    "    #seulement le str.\n",
    "    #print(line.text.split('\\n'))#line.text enlève les balises et les choses propres à html/css. Le .split split sur les \\n"
   ]
  },
  {
   "cell_type": "markdown",
   "metadata": {},
   "source": [
    "Tous les liens sont en double/ triple... on va les faire apparaitre qu'une seule fois."
   ]
  },
  {
   "cell_type": "code",
   "execution_count": 112,
   "metadata": {},
   "outputs": [],
   "source": [
    "#Tous les liens sont en double/ triple... on va les faire apparaitre qu'une seule fois.\n",
    "urls = list(np.unique(L_string))\n",
    "#urls"
   ]
  },
  {
   "cell_type": "markdown",
   "metadata": {},
   "source": [
    "On va supprimer les liens qui ne renvoient pas vers des livres : \n",
    " - Ceux qui finissent pas '.asc' ou 'desc\n",
    " - Les liens de page (\"?page=2\", \"?page=3\"...) et le lien 'fiqh-maliki/'\n",
    " - les \"javascript\""
   ]
  },
  {
   "cell_type": "code",
   "execution_count": 113,
   "metadata": {},
   "outputs": [
    {
     "ename": "ValueError",
     "evalue": "list.remove(x): x not in list",
     "output_type": "error",
     "traceback": [
      "\u001b[1;31m---------------------------------------------------------------------------\u001b[0m",
      "\u001b[1;31mValueError\u001b[0m                                Traceback (most recent call last)",
      "\u001b[1;32m<ipython-input-113-493750ec6d94>\u001b[0m in \u001b[0;36m<module>\u001b[1;34m\u001b[0m\n\u001b[0;32m      5\u001b[0m     \u001b[1;32mif\u001b[0m \u001b[0mlink\u001b[0m\u001b[1;33m.\u001b[0m\u001b[0mstartswith\u001b[0m\u001b[1;33m(\u001b[0m\u001b[1;34m'https://www.sifatusafwa.com/fr/fiqh-maliki/?'\u001b[0m\u001b[1;33m)\u001b[0m\u001b[1;33m:\u001b[0m\u001b[1;33m\u001b[0m\u001b[1;33m\u001b[0m\u001b[0m\n\u001b[0;32m      6\u001b[0m         \u001b[0murls\u001b[0m\u001b[1;33m.\u001b[0m\u001b[0mremove\u001b[0m\u001b[1;33m(\u001b[0m\u001b[0mlink\u001b[0m\u001b[1;33m)\u001b[0m\u001b[1;33m\u001b[0m\u001b[1;33m\u001b[0m\u001b[0m\n\u001b[1;32m----> 7\u001b[1;33m \u001b[0murls\u001b[0m\u001b[1;33m.\u001b[0m\u001b[0mremove\u001b[0m\u001b[1;33m(\u001b[0m\u001b[1;34m'javascript:'\u001b[0m\u001b[1;33m)\u001b[0m\u001b[1;33m\u001b[0m\u001b[1;33m\u001b[0m\u001b[0m\n\u001b[0m\u001b[0;32m      8\u001b[0m \u001b[0murls\u001b[0m\u001b[1;33m.\u001b[0m\u001b[0mremove\u001b[0m\u001b[1;33m(\u001b[0m\u001b[1;34m'javascript:;'\u001b[0m\u001b[1;33m)\u001b[0m\u001b[1;33m\u001b[0m\u001b[1;33m\u001b[0m\u001b[0m\n\u001b[0;32m      9\u001b[0m \u001b[0murls\u001b[0m\u001b[1;33m.\u001b[0m\u001b[0mremove\u001b[0m\u001b[1;33m(\u001b[0m\u001b[1;34m'https://www.sifatusafwa.com/fr/fiqh-maliki/'\u001b[0m\u001b[1;33m)\u001b[0m\u001b[1;33m\u001b[0m\u001b[1;33m\u001b[0m\u001b[0m\n",
      "\u001b[1;31mValueError\u001b[0m: list.remove(x): x not in list"
     ]
    }
   ],
   "source": [
    "#Suppression des liens ne renvoyant pas vers des livres.\n",
    "for link in urls:\n",
    "    if link.endswith('asc') or link.endswith('desc'):\n",
    "        urls.remove(link)\n",
    "    if link.startswith('https://www.sifatusafwa.com/fr/fiqh-maliki/?'):\n",
    "        urls.remove(link)\n",
    "urls.remove('javascript:')\n",
    "urls.remove('javascript:;')\n",
    "urls.remove('https://www.sifatusafwa.com/fr/fiqh-maliki/')\n"
   ]
  },
  {
   "cell_type": "code",
   "execution_count": null,
   "metadata": {},
   "outputs": [],
   "source": [
    "urls"
   ]
  },
  {
   "cell_type": "markdown",
   "metadata": {},
   "source": [
    "On va maintenant essayer de regrouper les données des liens dans un dataframe."
   ]
  },
  {
   "cell_type": "markdown",
   "metadata": {},
   "source": [
    "## Essai pour le premier lien"
   ]
  },
  {
   "cell_type": "code",
   "execution_count": 177,
   "metadata": {},
   "outputs": [],
   "source": [
    "url = urls[0]\n",
    "r = requests.get(url)\n",
    "soup = BeautifulSoup(r.content, 'html.parser')\n",
    "s = soup.find('section', class_='product-features')\n",
    "L_string = []\n",
    "for text in s.findAll(class_ ='data-sheet flex_container'):\n",
    "    L_string.append(text.text.split('\\n'))"
   ]
  },
  {
   "cell_type": "code",
   "execution_count": 182,
   "metadata": {},
   "outputs": [
    {
     "data": {
      "text/plain": [
       "[['', 'Titre', 'شرح بداية المجتهد ونهاية المقتصد وبهامشه السبيل المرشد', ''],\n",
       " ['', 'Auteur', 'د. عبد الله العبادي', ''],\n",
       " ['', 'Volumes', '4', ''],\n",
       " ['', 'Pages', '2328', ''],\n",
       " ['', 'Édition', 'دار السلام', ''],\n",
       " ['', 'Couverture', 'Rigide', ''],\n",
       " ['', 'Volumes', '4', ''],\n",
       " ['', 'Format', '17x24cm', ''],\n",
       " ['', 'Harakat', 'Pas ou peu (ou que sur le Matn)', '']]"
      ]
     },
     "execution_count": 182,
     "metadata": {},
     "output_type": "execute_result"
    }
   ],
   "source": [
    "L_string"
   ]
  },
  {
   "cell_type": "markdown",
   "metadata": {},
   "source": [
    "On essaye d'unifier pour enlever les deux \"\" et afficher en colonnes:"
   ]
  },
  {
   "cell_type": "code",
   "execution_count": 212,
   "metadata": {},
   "outputs": [],
   "source": [
    "X = []\n",
    "Y = []\n",
    "for element in L_string:\n",
    "    \n",
    "    templist = list(np.unique(element))\n",
    "    templist.remove('')\n",
    "    X.append(templist[0])\n",
    "    Y.append(templist[1])"
   ]
  },
  {
   "cell_type": "code",
   "execution_count": 213,
   "metadata": {
    "scrolled": true
   },
   "outputs": [
    {
     "data": {
      "text/html": [
       "<div>\n",
       "<style scoped>\n",
       "    .dataframe tbody tr th:only-of-type {\n",
       "        vertical-align: middle;\n",
       "    }\n",
       "\n",
       "    .dataframe tbody tr th {\n",
       "        vertical-align: top;\n",
       "    }\n",
       "\n",
       "    .dataframe thead th {\n",
       "        text-align: right;\n",
       "    }\n",
       "</style>\n",
       "<table border=\"1\" class=\"dataframe\">\n",
       "  <thead>\n",
       "    <tr style=\"text-align: right;\">\n",
       "      <th></th>\n",
       "      <th>c</th>\n",
       "      <th>d</th>\n",
       "    </tr>\n",
       "  </thead>\n",
       "  <tbody>\n",
       "    <tr>\n",
       "      <th>0</th>\n",
       "      <td>Titre</td>\n",
       "      <td>شرح بداية المجتهد ونهاية المقتصد وبهامشه السبي...</td>\n",
       "    </tr>\n",
       "    <tr>\n",
       "      <th>1</th>\n",
       "      <td>Auteur</td>\n",
       "      <td>د. عبد الله العبادي</td>\n",
       "    </tr>\n",
       "    <tr>\n",
       "      <th>2</th>\n",
       "      <td>4</td>\n",
       "      <td>Volumes</td>\n",
       "    </tr>\n",
       "    <tr>\n",
       "      <th>3</th>\n",
       "      <td>2328</td>\n",
       "      <td>Pages</td>\n",
       "    </tr>\n",
       "    <tr>\n",
       "      <th>4</th>\n",
       "      <td>Édition</td>\n",
       "      <td>دار السلام</td>\n",
       "    </tr>\n",
       "    <tr>\n",
       "      <th>5</th>\n",
       "      <td>Couverture</td>\n",
       "      <td>Rigide</td>\n",
       "    </tr>\n",
       "    <tr>\n",
       "      <th>6</th>\n",
       "      <td>4</td>\n",
       "      <td>Volumes</td>\n",
       "    </tr>\n",
       "    <tr>\n",
       "      <th>7</th>\n",
       "      <td>17x24cm</td>\n",
       "      <td>Format</td>\n",
       "    </tr>\n",
       "    <tr>\n",
       "      <th>8</th>\n",
       "      <td>Harakat</td>\n",
       "      <td>Pas ou peu (ou que sur le Matn)</td>\n",
       "    </tr>\n",
       "  </tbody>\n",
       "</table>\n",
       "</div>"
      ],
      "text/plain": [
       "            c                                                  d\n",
       "0       Titre  شرح بداية المجتهد ونهاية المقتصد وبهامشه السبي...\n",
       "1      Auteur                                د. عبد الله العبادي\n",
       "2           4                                            Volumes\n",
       "3        2328                                              Pages\n",
       "4     Édition                                         دار السلام\n",
       "5  Couverture                                             Rigide\n",
       "6           4                                            Volumes\n",
       "7     17x24cm                                             Format\n",
       "8     Harakat                    Pas ou peu (ou que sur le Matn)"
      ]
     },
     "execution_count": 213,
     "metadata": {},
     "output_type": "execute_result"
    }
   ],
   "source": [
    "pd.DataFrame({'c': X, \"d\": Y})"
   ]
  },
  {
   "cell_type": "markdown",
   "metadata": {},
   "source": [
    "On remarque qu'il récupère pas les données dans l'ordre, on aimerait avoir une condition sur des nombres tq:\n",
    "\n",
    "pas 0, pas 1, 2, 3, pas 4, pas 5, 6, 7, pas 8, pas 9, 10, 11, pas 12, 13 \n",
    "\n",
    "on remarque que la condition qu'il faut pour les différencier : les nombres qui valent 0 ou 1 modulo 4. (8%4 = 0, 9%4 = 1...) mais ca marche pas pour les autres."
   ]
  },
  {
   "cell_type": "code",
   "execution_count": 228,
   "metadata": {},
   "outputs": [
    {
     "data": {
      "text/plain": [
       "[['', 'Titre', 'شرح بداية المجتهد ونهاية المقتصد وبهامشه السبيل المرشد', ''],\n",
       " ['', 'Auteur', 'د. عبد الله العبادي', ''],\n",
       " ['', 'Volumes', '4', ''],\n",
       " ['', 'Pages', '2328', ''],\n",
       " ['', 'Édition', 'دار السلام', ''],\n",
       " ['', 'Couverture', 'Rigide', ''],\n",
       " ['', 'Volumes', '4', ''],\n",
       " ['', 'Format', '17x24cm', ''],\n",
       " ['', 'Harakat', 'Pas ou peu (ou que sur le Matn)', '']]"
      ]
     },
     "execution_count": 228,
     "metadata": {},
     "output_type": "execute_result"
    }
   ],
   "source": [
    "L_string."
   ]
  },
  {
   "cell_type": "code",
   "execution_count": 236,
   "metadata": {},
   "outputs": [],
   "source": [
    "X = []\n",
    "Y = []\n",
    "for i in range(len(L_string)):\n",
    "    templist = list(np.unique(L_string[i]))\n",
    "    templist.remove('')\n",
    "    if i%4 == 0 or i%4 ==1:\n",
    "        X.append(templist[0])\n",
    "        Y.append(templist[1])\n",
    "    else:\n",
    "        X.append(templist[1])\n",
    "        Y.append(templist[0])\n"
   ]
  },
  {
   "cell_type": "code",
   "execution_count": 241,
   "metadata": {},
   "outputs": [],
   "source": [
    "df = pd.DataFrame({'c': X, \"d\": Y})"
   ]
  },
  {
   "cell_type": "code",
   "execution_count": 248,
   "metadata": {},
   "outputs": [
    {
     "data": {
      "text/plain": [
       "'شرح بداية المجتهد ونهاية المقتصد وبهامشه السبيل المرشد'"
      ]
     },
     "execution_count": 248,
     "metadata": {},
     "output_type": "execute_result"
    }
   ],
   "source": [
    "df.d[0]"
   ]
  },
  {
   "cell_type": "code",
   "execution_count": 167,
   "metadata": {},
   "outputs": [
    {
     "data": {
      "text/html": [
       "<div>\n",
       "<style scoped>\n",
       "    .dataframe tbody tr th:only-of-type {\n",
       "        vertical-align: middle;\n",
       "    }\n",
       "\n",
       "    .dataframe tbody tr th {\n",
       "        vertical-align: top;\n",
       "    }\n",
       "\n",
       "    .dataframe thead th {\n",
       "        text-align: right;\n",
       "    }\n",
       "</style>\n",
       "<table border=\"1\" class=\"dataframe\">\n",
       "  <thead>\n",
       "    <tr style=\"text-align: right;\">\n",
       "      <th></th>\n",
       "      <th>caracteristiques</th>\n",
       "      <th>test</th>\n",
       "    </tr>\n",
       "  </thead>\n",
       "  <tbody>\n",
       "    <tr>\n",
       "      <th>0</th>\n",
       "      <td>None</td>\n",
       "      <td>None</td>\n",
       "    </tr>\n",
       "    <tr>\n",
       "      <th>1</th>\n",
       "      <td>None</td>\n",
       "      <td>None</td>\n",
       "    </tr>\n",
       "    <tr>\n",
       "      <th>2</th>\n",
       "      <td>None</td>\n",
       "      <td>None</td>\n",
       "    </tr>\n",
       "    <tr>\n",
       "      <th>3</th>\n",
       "      <td>None</td>\n",
       "      <td>None</td>\n",
       "    </tr>\n",
       "    <tr>\n",
       "      <th>4</th>\n",
       "      <td>None</td>\n",
       "      <td>None</td>\n",
       "    </tr>\n",
       "    <tr>\n",
       "      <th>5</th>\n",
       "      <td>None</td>\n",
       "      <td>None</td>\n",
       "    </tr>\n",
       "    <tr>\n",
       "      <th>6</th>\n",
       "      <td>None</td>\n",
       "      <td>None</td>\n",
       "    </tr>\n",
       "    <tr>\n",
       "      <th>7</th>\n",
       "      <td>None</td>\n",
       "      <td>None</td>\n",
       "    </tr>\n",
       "    <tr>\n",
       "      <th>8</th>\n",
       "      <td>None</td>\n",
       "      <td>None</td>\n",
       "    </tr>\n",
       "  </tbody>\n",
       "</table>\n",
       "</div>"
      ],
      "text/plain": [
       "  caracteristiques  test\n",
       "0             None  None\n",
       "1             None  None\n",
       "2             None  None\n",
       "3             None  None\n",
       "4             None  None\n",
       "5             None  None\n",
       "6             None  None\n",
       "7             None  None\n",
       "8             None  None"
      ]
     },
     "execution_count": 167,
     "metadata": {},
     "output_type": "execute_result"
    }
   ],
   "source": [
    "pd.DataFrame({\"caracteristiques\":X, \"test\":Y})"
   ]
  },
  {
   "cell_type": "code",
   "execution_count": 165,
   "metadata": {
    "scrolled": true
   },
   "outputs": [
    {
     "data": {
      "text/plain": [
       "['',\n",
       " 'dl class=\"data-sheet flex_container\">\\n',\n",
       " 'dt class=\"name\">Titre',\n",
       " '/dt>\\n',\n",
       " 'dd class=\"value flex_child\">شرح بداية المجتهد ونهاية المقتصد وبهامشه السبيل المرشد',\n",
       " '/dd>\\n',\n",
       " '/dl>']"
      ]
     },
     "execution_count": 165,
     "metadata": {},
     "output_type": "execute_result"
    }
   ],
   "source": [
    "str(list(s)[0]).split('<')"
   ]
  },
  {
   "cell_type": "code",
   "execution_count": null,
   "metadata": {},
   "outputs": [],
   "source": [
    "L_string"
   ]
  },
  {
   "cell_type": "markdown",
   "metadata": {},
   "source": [
    "On a une liste avec les principales informations d'un livre, on va essayer d'enlever les moins importantes et de garder les plus importantes."
   ]
  },
  {
   "cell_type": "code",
   "execution_count": 125,
   "metadata": {},
   "outputs": [],
   "source": [
    "L_string = list(np.unique(L_string))\n",
    "try:\n",
    "    L_string.remove('')\n",
    "except ValueError:\n",
    "\n",
    "    X = []\n",
    "    Y = []\n",
    "    for i in range(len(L_string)):\n",
    "        if i%2==0:\n",
    "            X.append(L_string[i])\n",
    "        else:\n",
    "            Y.append(L_string[i])\n",
    "    df = pd.DataFrame({'test':pd.Series(X), 'test2':pd.Series(Y)})"
   ]
  },
  {
   "cell_type": "code",
   "execution_count": 127,
   "metadata": {},
   "outputs": [
    {
     "data": {
      "text/plain": [
       "['17x24cm',\n",
       " '2328',\n",
       " '4',\n",
       " 'Auteur',\n",
       " 'Couverture',\n",
       " 'Fiche technique',\n",
       " 'Format',\n",
       " 'Harakat',\n",
       " 'Pages',\n",
       " 'Pas ou peu (ou que sur le Matn)',\n",
       " 'Rigide',\n",
       " 'Titre',\n",
       " 'Volumes',\n",
       " 'Édition',\n",
       " 'د. عبد الله العبادي',\n",
       " 'دار السلام',\n",
       " 'شرح بداية المجتهد ونهاية المقتصد وبهامشه السبيل المرشد']"
      ]
     },
     "execution_count": 127,
     "metadata": {},
     "output_type": "execute_result"
    }
   ],
   "source": [
    "L_string"
   ]
  },
  {
   "cell_type": "code",
   "execution_count": null,
   "metadata": {},
   "outputs": [],
   "source": []
  }
 ],
 "metadata": {
  "kernelspec": {
   "display_name": "Python 3",
   "language": "python",
   "name": "python3"
  },
  "language_info": {
   "codemirror_mode": {
    "name": "ipython",
    "version": 3
   },
   "file_extension": ".py",
   "mimetype": "text/x-python",
   "name": "python",
   "nbconvert_exporter": "python",
   "pygments_lexer": "ipython3",
   "version": "3.8.5"
  }
 },
 "nbformat": 4,
 "nbformat_minor": 4
}
