{
 "cells": [
  {
   "cell_type": "markdown",
   "metadata": {},
   "source": [
    "بسم الله\n",
    "\n",
    "**Troisième extraction**\n",
    "\n",
    "Troisième notebook. Le but est d'essayer d'extraire tous les livres du site, en une fois, sans passer par des sous catégories comme on l'a fait dans la première étape.\n",
    "\n",
    "On utilisera cependant la même démarche pour récupérer les urls que dans fiqhqmaliki-extract-1/2."
   ]
  },
  {
   "cell_type": "markdown",
   "metadata": {},
   "source": [
    "## Etape 1 : Récupérer les urls"
   ]
  },
  {
   "cell_type": "code",
   "execution_count": 1,
   "metadata": {},
   "outputs": [],
   "source": [
    "import requests\n",
    "import pandas as pd\n",
    "import numpy as np\n",
    "from bs4 import BeautifulSoup\n",
    "from tqdm import tqdm"
   ]
  },
  {
   "cell_type": "code",
   "execution_count": 2,
   "metadata": {},
   "outputs": [
    {
     "name": "stderr",
     "output_type": "stream",
     "text": [
      "100%|██████████| 98/98 [10:00<00:00,  6.13s/it]\n"
     ]
    }
   ],
   "source": [
    "##Aller chercher les urls des livres\n",
    "urls = []\n",
    "new_urls = []\n",
    "to_supp =[]\n",
    "NB_MAX_PAGES = 100\n",
    "for i in tqdm(range(2,NB_MAX_PAGES)):\n",
    "    #if i%5 == 0:\n",
    "    #  print('page ', i, '/', NB_MAX_PAGES, (i/NB_MAX_PAGES)*100, '%')\n",
    "    i = str(i)\n",
    "    r = requests.get('https://www.sifatusafwa.com/fr/accueil/?page=' + i)\n",
    "    soup = BeautifulSoup(r.content, 'html.parser')\n",
    "    s = soup.find('section', id = 'products')\n",
    "    #s = s.find_all('div', class_ = 'products product_list row grid')\n",
    "    #lines = s.find('h3', class_ = 's_title_block flex_child')\n",
    "    #Affichage du contenu de la page\n",
    "    #print(lines)\n",
    "\n",
    "    #Extraire les liens\n",
    "    \n",
    "    for line in s.findAll('a'):\n",
    "        urls.append(line.get('href'))#line.text.split(\\'n') est une liste de chaine de caractères, donc [0] est \n",
    "        #seulement le str.\n",
    "        #print(line.text.split('\\n'))#line.text enlève les balises et les choses propres à html/css. Le .split split sur les \\n\n",
    "    #Tous les liens sont en double/ triple... on va les faire apparaitre qu'une seule fois.\n",
    "    urls = list(np.unique(urls))\n",
    "    #urls\n",
    "    # On va supprimer les liens qui ne renvoient pas vers des livres : \n",
    "    #  - Ceux qui finissent pas '.asc' ou 'desc\n",
    "    #  - Les liens de page (\"?page=2\", \"?page=3\"...) et le lien 'fiqh-maliki/'\n",
    "    #  - les \"javascript\"\n",
    "    \n",
    "    #Suppression des liens ne renvoyant pas vers des livres.\n",
    "\n"
   ]
  },
  {
   "cell_type": "code",
   "execution_count": 3,
   "metadata": {},
   "outputs": [
    {
     "data": {
      "text/plain": [
       "1284"
      ]
     },
     "execution_count": 3,
     "metadata": {},
     "output_type": "execute_result"
    }
   ],
   "source": [
    "len(urls)"
   ]
  },
  {
   "cell_type": "code",
   "execution_count": 4,
   "metadata": {},
   "outputs": [
    {
     "name": "stderr",
     "output_type": "stream",
     "text": [
      "100%|██████████| 1284/1284 [00:00<00:00, 99831.06it/s]\n"
     ]
    }
   ],
   "source": [
    "for link in tqdm(urls):\n",
    "    if (link.endswith('asc'))==False and \\\n",
    "        (link.endswith('.desc'))==False and \\\n",
    "        len(link.split('/'))>5 and \\\n",
    "        (link.split('/')[5].startswith('?page=')) == False and \\\n",
    "        (link.startswith('https://www.sifatusafwa.com/fr/accueil/?rewrite'))== False and\\\n",
    "        (link.split('/')[5] != \"\"):\n",
    "        new_urls.append(link)            \n",
    "    \n",
    "for i in range(3):\n",
    "    try:\n",
    "        new_urls.remove('javascript:')\n",
    "        new_urls.remove('javascript:;')\n",
    "    except ValueError:\n",
    "        continue\n",
    "new_urls = pd.DataFrame(new_urls)\n",
    "new_urls = new_urls.values.T.tolist()[0]\n",
    "#on enlève tout ce qu'on a rajouté maintenant qu'on a pu faire la comparaison avec ce qu'il y avait\n",
    "#a supprimer"
   ]
  },
  {
   "cell_type": "code",
   "execution_count": 5,
   "metadata": {},
   "outputs": [
    {
     "data": {
      "text/plain": [
       "1173"
      ]
     },
     "execution_count": 5,
     "metadata": {},
     "output_type": "execute_result"
    }
   ],
   "source": [
    "len(new_urls)"
   ]
  },
  {
   "cell_type": "markdown",
   "metadata": {},
   "source": [
    "## Etape 2 : Boucle 1 (par ouvrage)"
   ]
  },
  {
   "cell_type": "code",
   "execution_count": 6,
   "metadata": {},
   "outputs": [],
   "source": [
    "urls = new_urls"
   ]
  },
  {
   "cell_type": "markdown",
   "metadata": {},
   "source": [
    "#### A régler"
   ]
  },
  {
   "cell_type": "code",
   "execution_count": 7,
   "metadata": {},
   "outputs": [],
   "source": [
    "url = urls[0]\n",
    "r = requests.get(url)\n",
    "soup = BeautifulSoup(r.content, 'html.parser')\n",
    "s = soup.find('section', class_='product-features')\n",
    "L_string = []\n",
    "for text in s.findAll(class_ ='data-sheet flex_container'):\n",
    "    L_string.append(text.text.split('\\n'))\n",
    "L_string = np.array(L_string)\n",
    "df = pd.DataFrame((L_string))\n",
    "df = df.drop_duplicates()#des fois les volumes apparaissent deux fois\n",
    "df.columns = ['supp', 'categories', str(url), 'supp2']# a cette étape on remplace ce qu'il faut pour voir les sites en colonnes\n",
    "df.drop(['supp', 'supp2'], axis = 1, inplace=True)\n",
    "df.set_index('categories', inplace = True)\n",
    "urls.remove(urls[0]) #On enlève le lien qu'on a déjà mis dans le dataframe de base\n"
   ]
  },
  {
   "cell_type": "markdown",
   "metadata": {},
   "source": [
    "#### Caractéristiques de base"
   ]
  },
  {
   "cell_type": "code",
   "execution_count": 8,
   "metadata": {},
   "outputs": [
    {
     "name": "stderr",
     "output_type": "stream",
     "text": [
      "100%|██████████| 1172/1172 [32:16<00:00,  1.65s/it]\n"
     ]
    }
   ],
   "source": [
    "dfs = []\n",
    "prices = []\n",
    "auteurs = []\n",
    "dates = []\n",
    "domaines =[]\n",
    "urls_obsolete = []\n",
    "from tqdm import tqdm  \n",
    "for url in tqdm(urls):\n",
    "    # Ajout des caractéristiques du livre (de fiqhmaliki-extract-1)\n",
    "    r = requests.get(url)\n",
    "    soup = BeautifulSoup(r.content, 'html.parser')\n",
    "    s = soup.find('section', class_='product-features')\n",
    "    L_string = []\n",
    "    if s !=None:\n",
    "        for text in s.findAll(class_ ='data-sheet flex_container'):\n",
    "            L_string.append(text.text.split('\\n'))\n",
    "    else:\n",
    "        urls_obsolete.append(url)\n",
    "    L_string = np.array(L_string)\n",
    "    df_other = pd.DataFrame((L_string))\n",
    "    df_other = df_other.drop_duplicates()#des fois les volumes apparaissent deux fois\n",
    "    if len(df_other.columns) == 4:\n",
    "        df_other.columns = ['supp', 'categories',str(url), 'supp2']# a cette étape on remplace ce qu'il faut pour voir les sites en colonnes\n",
    "        df_other.drop(['supp', 'supp2'], axis = 1, inplace=True)\n",
    "        df_other.set_index('categories', inplace = True)\n",
    "        dfs.append(df_other)"
   ]
  },
  {
   "cell_type": "markdown",
   "metadata": {},
   "source": [
    "#### Ajout des auteurs/dates de décès/prix/domaines/descriptions "
   ]
  },
  {
   "cell_type": "code",
   "execution_count": 9,
   "metadata": {},
   "outputs": [
    {
     "name": "stderr",
     "output_type": "stream",
     "text": [
      " 57%|█████▋    | 667/1172 [19:10<10:54,  1.30s/it]"
     ]
    },
    {
     "name": "stdout",
     "output_type": "stream",
     "text": [
      "https://www.sifatusafwa.com/fr/langue-arabe/al-moufrad-al-alam-ahmad-al-hachimi-imlae.html <class 'bs4.element.Tag'>\n"
     ]
    },
    {
     "name": "stderr",
     "output_type": "stream",
     "text": [
      "100%|██████████| 1172/1172 [35:41<00:00,  1.83s/it]\n"
     ]
    }
   ],
   "source": [
    "dfs_2 = []\n",
    "from tqdm import tqdm  \n",
    "prices = []\n",
    "auteurs = []\n",
    "dates = []\n",
    "domaines = []\n",
    "for url in tqdm(urls):\n",
    "    r = requests.get(url)\n",
    "    soup = BeautifulSoup(r.content, 'html.parser')\n",
    "    s = soup.find('section', id ='main')\n",
    "## Ajout des auteurs/dates de décès/prix/domaines/descriptions (de fiqhmaliki-extract-2)\n",
    "    #On vérifie si l'auteur du livre est disponible:\n",
    "    s_auteur = s.find(\"a\", class_= 'pro_extra_info_brand') #Si on divise pas en s_auteur et s_prix le find deviendra une liste car ce sera un find d'un find...\n",
    "    \n",
    "    #Soit pas d'auteur, soit auteur avec date, soit auteur sans date, soit auteur avec date mais deux\n",
    "    #fois la parenthèse.\n",
    "\n",
    "    if  s_auteur != None:#Auteur existe\n",
    "        s_auteur = s_auteur.text         \n",
    "        #Le try c'est juste pour couvrir tous les cas de date de décès possible\n",
    "        try:#Cas 1 : La date existe : on l'ajoute\n",
    "            s_dateauteur = s_auteur.split('(')[1].split('H)')[0]#s_auteur.split('(') = ['al qadhi iyyadh ', '544H)']\n",
    "            dates.append(int(s_dateauteur))            \n",
    "\n",
    "           #Ibn Rushd (Al-Jadd) (520H)\t: split('\\n') = ['', 'ibn rushd (Al hafid)', '']\n",
    "        except IndexError:#Cas 2: Pas de date de décès disponible\n",
    "            dates.append('') #On ne met pas de date pour pas qu'il y ait de décalage: un auteur avec la date de décès de l'auteur \n",
    "            #suivant\n",
    "        except ValueError:#Cas 3: deux fois la parenthèse, il ne peut pas convertir en entier: c'est une \n",
    "            #chaine de caractères\n",
    "            dates.append('') #Avantageux de remplir les auteurs après avoir vérifié la date car ibn rushd (al hafid) est coupé\n",
    "\n",
    "        auteur = (s_auteur.split('\\n')[1].split('(')[0])#s_auteur.split('\\n) = ['', 'ibn rushd (Al hafid)', '']\n",
    "         # ou ['', 'al qadi iyadd','(544)]\n",
    "        auteurs.append(auteur) #Pour pas qu'on ait un espace à la fin.\n",
    "            \n",
    "    else: #Pas d'auteur\n",
    "        auteurs.append('Auteur non disponible')\n",
    "        dates.append('') #pour pas qu'il y ait de décalage (exemple un auteur avec la date de décès de l'auteur suivant)\n",
    "    \n",
    "    #Ajour du prix    \n",
    "    s_prix = s.find(\"span\", class_ = 'price')\n",
    "    try:\n",
    "        price = s_prix.text\n",
    "        prices.append(price)\n",
    "\n",
    "    except AttributeError: #s.find eset une liste et .text n'existe pas pour une liste: normalement plus d'erreur\n",
    "        print(url, type(s))\n",
    "        prices.append('Non disponible')\n",
    "    #Ajout du domaine:\n",
    "    domaine = url.split('/')[4]\n",
    "    domaines.append(domaine)"
   ]
  },
  {
   "cell_type": "markdown",
   "metadata": {},
   "source": [
    "On va faire un DataFrame avec les informations des livres (titre arabe, auteur, édition, volumes... de fiqh-extract1) et un autre avec les auteurs, les domaines.... (de fiqhmaliki-extract-2)"
   ]
  },
  {
   "cell_type": "code",
   "execution_count": 10,
   "metadata": {},
   "outputs": [],
   "source": [
    "dfs_1 = pd.concat((i for i in dfs), axis = 1)\n",
    "dfs_2 = pd.DataFrame({\"lien\": urls, 'auteurs': auteurs, 'date': dates, 'domaine':domaines, 'prix': prices})"
   ]
  },
  {
   "cell_type": "code",
   "execution_count": 11,
   "metadata": {},
   "outputs": [],
   "source": [
    "dfs_1 = dfs_1.T"
   ]
  },
  {
   "cell_type": "code",
   "execution_count": 12,
   "metadata": {},
   "outputs": [],
   "source": [
    "dfs_1['lien'] = dfs_1.index\n",
    "dfs_1.set_index(np.arange(len(dfs_1)), inplace = True)"
   ]
  },
  {
   "cell_type": "code",
   "execution_count": 13,
   "metadata": {},
   "outputs": [
    {
     "data": {
      "text/plain": [
       "True"
      ]
     },
     "execution_count": 13,
     "metadata": {},
     "output_type": "execute_result"
    }
   ],
   "source": [
    "dfs_2['lien'][0] ==  dfs_1['lien'][0]"
   ]
  },
  {
   "cell_type": "code",
   "execution_count": 14,
   "metadata": {},
   "outputs": [],
   "source": [
    "if 'isbn' in dfs_1.columns and \"ean13\" in dfs_1.columns:\n",
    "    dfs_1.drop(['isbn', 'ean13'], axis = 1, inplace=True)#Données propres à l'édition d'un livre. Elles ont du\n",
    "#etre présentes sur un des liens."
   ]
  },
  {
   "cell_type": "markdown",
   "metadata": {},
   "source": [
    "On pourra donc faire une jointure si besoin car les deux dataframes ont les mêmes sites aux mêmes index\n",
    "\n",
    "On va faire un troisième DataFrame avec les descriptions des livres."
   ]
  },
  {
   "cell_type": "code",
   "execution_count": 16,
   "metadata": {},
   "outputs": [],
   "source": [
    "import pickle\n",
    "with open('file.pkl', 'wb') as file:\n",
    "      \n",
    "    # A new file will be created\n",
    "    pickle.dump(dfs, file)"
   ]
  },
  {
   "cell_type": "markdown",
   "metadata": {},
   "source": [
    "#### Ajout des descriptions"
   ]
  },
  {
   "cell_type": "code",
   "execution_count": 17,
   "metadata": {},
   "outputs": [
    {
     "name": "stderr",
     "output_type": "stream",
     "text": [
      " 57%|█████▋    | 667/1172 [20:16<14:17,  1.70s/it]"
     ]
    },
    {
     "name": "stdout",
     "output_type": "stream",
     "text": [
      "pas diponible 'NoneType' object has no attribute 'text'\n"
     ]
    },
    {
     "name": "stderr",
     "output_type": "stream",
     "text": [
      "100%|██████████| 1172/1172 [37:13<00:00,  1.91s/it]\n"
     ]
    }
   ],
   "source": [
    "descriptions = []\n",
    "for url in tqdm(urls):\n",
    "    r = requests.get(url)\n",
    "    soup = BeautifulSoup(r.content, 'html.parser')\n",
    "    s = soup.find('section', id ='main')\n",
    "    s_description = s.find(class_ = 'product-information')\n",
    "\n",
    "    try:\n",
    "        s_description = s_description.text.split('\\n')\n",
    "        description = \"\"\n",
    "        passage = False\n",
    "        for char in range(len(s_description)):\n",
    "            if s_description[char] != \"\":\n",
    "                description = description + s_description[char] + '\\n'\n",
    "                passage = True\n",
    "            else:\n",
    "                if passage == True:\n",
    "                    break\n",
    "        \n",
    "    except AttributeError as e :\n",
    "        print('pas diponible', e)\n",
    "        description = 'erreur'\n",
    "    descriptions.append(description)"
   ]
  },
  {
   "cell_type": "code",
   "execution_count": 18,
   "metadata": {},
   "outputs": [
    {
     "data": {
      "text/html": [
       "<div>\n",
       "<style scoped>\n",
       "    .dataframe tbody tr th:only-of-type {\n",
       "        vertical-align: middle;\n",
       "    }\n",
       "\n",
       "    .dataframe tbody tr th {\n",
       "        vertical-align: top;\n",
       "    }\n",
       "\n",
       "    .dataframe thead th {\n",
       "        text-align: right;\n",
       "    }\n",
       "</style>\n",
       "<table border=\"1\" class=\"dataframe\">\n",
       "  <thead>\n",
       "    <tr style=\"text-align: right;\">\n",
       "      <th></th>\n",
       "      <th>description</th>\n",
       "      <th>lien</th>\n",
       "    </tr>\n",
       "  </thead>\n",
       "  <tbody>\n",
       "    <tr>\n",
       "      <th>221</th>\n",
       "      <td>Biographie détaillée du Sultan Mamelouk al-Mou...</td>\n",
       "      <td>https://www.sifatusafwa.com/fr/biographies/bio...</td>\n",
       "    </tr>\n",
       "    <tr>\n",
       "      <th>449</th>\n",
       "      <td>L'une des plus importantes encyclopédies de Fi...</td>\n",
       "      <td>https://www.sifatusafwa.com/fr/fiqh-généralist...</td>\n",
       "    </tr>\n",
       "    <tr>\n",
       "      <th>514</th>\n",
       "      <td>Explication de Dalil at-Talib du Cheikh Mar’i ...</td>\n",
       "      <td>https://www.sifatusafwa.com/fr/fiqh-hanbali/ma...</td>\n",
       "    </tr>\n",
       "    <tr>\n",
       "      <th>1153</th>\n",
       "      <td>Voici une oeuvre rare de l’Imam Ahmad, peu con...</td>\n",
       "      <td>https://www.sifatusafwa.com/fr/tahara-wa-salat...</td>\n",
       "    </tr>\n",
       "    <tr>\n",
       "      <th>657</th>\n",
       "      <td>Il s’agit d’un très bon glossaire de l’interpr...</td>\n",
       "      <td>https://www.sifatusafwa.com/fr/kalimat-moufrad...</td>\n",
       "    </tr>\n",
       "    <tr>\n",
       "      <th>552</th>\n",
       "      <td>Explication détaillée et complète, réunie en u...</td>\n",
       "      <td>https://www.sifatusafwa.com/fr/fiqh-rajih-sala...</td>\n",
       "    </tr>\n",
       "    <tr>\n",
       "      <th>149</th>\n",
       "      <td>Bustan Al-Arifin est un livre sur l'ascètisme,...</td>\n",
       "      <td>https://www.sifatusafwa.com/fr/az-zuhd-wa-al-a...</td>\n",
       "    </tr>\n",
       "    <tr>\n",
       "      <th>178</th>\n",
       "      <td>L'auteur a commencé par mentionner l'amour pou...</td>\n",
       "      <td>https://www.sifatusafwa.com/fr/biographies/abn...</td>\n",
       "    </tr>\n",
       "    <tr>\n",
       "      <th>636</th>\n",
       "      <td>Le Jugement de l’altération de l'Alcool est un...</td>\n",
       "      <td>https://www.sifatusafwa.com/fr/hukm-et-sujets-...</td>\n",
       "    </tr>\n",
       "    <tr>\n",
       "      <th>828</th>\n",
       "      <td>Ce recueil est une œuvre impressionnante. Il r...</td>\n",
       "      <td>https://www.sifatusafwa.com/fr/majmu-fatawa-wa...</td>\n",
       "    </tr>\n",
       "    <tr>\n",
       "      <th>1103</th>\n",
       "      <td>Un Tafsir à la fois simple et complet, idéal p...</td>\n",
       "      <td>https://www.sifatusafwa.com/fr/tafsir-complet/...</td>\n",
       "    </tr>\n",
       "    <tr>\n",
       "      <th>869</th>\n",
       "      <td>« Comment mémoriser le Coran en dix étapes ? »...</td>\n",
       "      <td>https://www.sifatusafwa.com/fr/mémorisation-du...</td>\n",
       "    </tr>\n",
       "    <tr>\n",
       "      <th>253</th>\n",
       "      <td>Ce livre est unique et propose une nouvelle ap...</td>\n",
       "      <td>https://www.sifatusafwa.com/fr/conjugaison-et-...</td>\n",
       "    </tr>\n",
       "    <tr>\n",
       "      <th>713</th>\n",
       "      <td>Ce livre (La médicine royale) est probablement...</td>\n",
       "      <td>https://www.sifatusafwa.com/fr/littérature-ara...</td>\n",
       "    </tr>\n",
       "    <tr>\n",
       "      <th>819</th>\n",
       "      <td>Recueil de 5 épîtres écrites par le grand sava...</td>\n",
       "      <td>https://www.sifatusafwa.com/fr/majmu-fatawa-wa...</td>\n",
       "    </tr>\n",
       "  </tbody>\n",
       "</table>\n",
       "</div>"
      ],
      "text/plain": [
       "                                            description  \\\n",
       "221   Biographie détaillée du Sultan Mamelouk al-Mou...   \n",
       "449   L'une des plus importantes encyclopédies de Fi...   \n",
       "514   Explication de Dalil at-Talib du Cheikh Mar’i ...   \n",
       "1153  Voici une oeuvre rare de l’Imam Ahmad, peu con...   \n",
       "657   Il s’agit d’un très bon glossaire de l’interpr...   \n",
       "552   Explication détaillée et complète, réunie en u...   \n",
       "149   Bustan Al-Arifin est un livre sur l'ascètisme,...   \n",
       "178   L'auteur a commencé par mentionner l'amour pou...   \n",
       "636   Le Jugement de l’altération de l'Alcool est un...   \n",
       "828   Ce recueil est une œuvre impressionnante. Il r...   \n",
       "1103  Un Tafsir à la fois simple et complet, idéal p...   \n",
       "869   « Comment mémoriser le Coran en dix étapes ? »...   \n",
       "253   Ce livre est unique et propose une nouvelle ap...   \n",
       "713   Ce livre (La médicine royale) est probablement...   \n",
       "819   Recueil de 5 épîtres écrites par le grand sava...   \n",
       "\n",
       "                                                   lien  \n",
       "221   https://www.sifatusafwa.com/fr/biographies/bio...  \n",
       "449   https://www.sifatusafwa.com/fr/fiqh-généralist...  \n",
       "514   https://www.sifatusafwa.com/fr/fiqh-hanbali/ma...  \n",
       "1153  https://www.sifatusafwa.com/fr/tahara-wa-salat...  \n",
       "657   https://www.sifatusafwa.com/fr/kalimat-moufrad...  \n",
       "552   https://www.sifatusafwa.com/fr/fiqh-rajih-sala...  \n",
       "149   https://www.sifatusafwa.com/fr/az-zuhd-wa-al-a...  \n",
       "178   https://www.sifatusafwa.com/fr/biographies/abn...  \n",
       "636   https://www.sifatusafwa.com/fr/hukm-et-sujets-...  \n",
       "828   https://www.sifatusafwa.com/fr/majmu-fatawa-wa...  \n",
       "1103  https://www.sifatusafwa.com/fr/tafsir-complet/...  \n",
       "869   https://www.sifatusafwa.com/fr/mémorisation-du...  \n",
       "253   https://www.sifatusafwa.com/fr/conjugaison-et-...  \n",
       "713   https://www.sifatusafwa.com/fr/littérature-ara...  \n",
       "819   https://www.sifatusafwa.com/fr/majmu-fatawa-wa...  "
      ]
     },
     "execution_count": 18,
     "metadata": {},
     "output_type": "execute_result"
    }
   ],
   "source": [
    "dfs_3 = pd.DataFrame({'description':descriptions, 'lien':urls})\n",
    "dfs_3.sample(15)"
   ]
  },
  {
   "cell_type": "markdown",
   "metadata": {},
   "source": [
    "#### Ajout des éditions"
   ]
  },
  {
   "cell_type": "code",
   "execution_count": 19,
   "metadata": {},
   "outputs": [
    {
     "name": "stderr",
     "output_type": "stream",
     "text": [
      "  1%|          | 10/1172 [00:21<40:43,  2.10s/it]\n"
     ]
    },
    {
     "ename": "KeyboardInterrupt",
     "evalue": "",
     "output_type": "error",
     "traceback": [
      "\u001b[1;31m---------------------------------------------------------------------------\u001b[0m",
      "\u001b[1;31mKeyboardInterrupt\u001b[0m                         Traceback (most recent call last)",
      "\u001b[1;32m<ipython-input-19-bd87577877fe>\u001b[0m in \u001b[0;36m<module>\u001b[1;34m\u001b[0m\n\u001b[0;32m      2\u001b[0m \u001b[1;32mfor\u001b[0m \u001b[0murl\u001b[0m \u001b[1;32min\u001b[0m \u001b[0mtqdm\u001b[0m\u001b[1;33m(\u001b[0m\u001b[0murls\u001b[0m\u001b[1;33m)\u001b[0m\u001b[1;33m:\u001b[0m\u001b[1;33m\u001b[0m\u001b[1;33m\u001b[0m\u001b[0m\n\u001b[0;32m      3\u001b[0m     \u001b[0mr\u001b[0m \u001b[1;33m=\u001b[0m \u001b[0mrequests\u001b[0m\u001b[1;33m.\u001b[0m\u001b[0mget\u001b[0m\u001b[1;33m(\u001b[0m\u001b[0murl\u001b[0m\u001b[1;33m)\u001b[0m\u001b[1;33m\u001b[0m\u001b[1;33m\u001b[0m\u001b[0m\n\u001b[1;32m----> 4\u001b[1;33m     \u001b[0msoup\u001b[0m \u001b[1;33m=\u001b[0m \u001b[0mBeautifulSoup\u001b[0m\u001b[1;33m(\u001b[0m\u001b[0mr\u001b[0m\u001b[1;33m.\u001b[0m\u001b[0mcontent\u001b[0m\u001b[1;33m,\u001b[0m \u001b[1;34m'html.parser'\u001b[0m\u001b[1;33m)\u001b[0m\u001b[1;33m\u001b[0m\u001b[1;33m\u001b[0m\u001b[0m\n\u001b[0m\u001b[0;32m      5\u001b[0m     \u001b[0ms\u001b[0m \u001b[1;33m=\u001b[0m \u001b[0msoup\u001b[0m\u001b[1;33m.\u001b[0m\u001b[0mfind\u001b[0m\u001b[1;33m(\u001b[0m\u001b[1;34m'section'\u001b[0m\u001b[1;33m,\u001b[0m \u001b[0mid\u001b[0m \u001b[1;33m=\u001b[0m\u001b[1;34m'main'\u001b[0m\u001b[1;33m)\u001b[0m\u001b[1;33m\u001b[0m\u001b[1;33m\u001b[0m\u001b[0m\n\u001b[0;32m      6\u001b[0m     \u001b[0ms_editiondescription\u001b[0m \u001b[1;33m=\u001b[0m  \u001b[0ms\u001b[0m\u001b[1;33m.\u001b[0m\u001b[0mfind\u001b[0m\u001b[1;33m(\u001b[0m\u001b[0mclass_\u001b[0m \u001b[1;33m=\u001b[0m \u001b[1;34m'product-description'\u001b[0m\u001b[1;33m)\u001b[0m\u001b[1;33m\u001b[0m\u001b[1;33m\u001b[0m\u001b[0m\n",
      "\u001b[1;32mc:\\Users\\elias\\anaconda3\\lib\\site-packages\\bs4\\__init__.py\u001b[0m in \u001b[0;36m__init__\u001b[1;34m(self, markup, features, builder, parse_only, from_encoding, exclude_encodings, element_classes, **kwargs)\u001b[0m\n\u001b[0;32m    346\u001b[0m             \u001b[0mself\u001b[0m\u001b[1;33m.\u001b[0m\u001b[0mreset\u001b[0m\u001b[1;33m(\u001b[0m\u001b[1;33m)\u001b[0m\u001b[1;33m\u001b[0m\u001b[1;33m\u001b[0m\u001b[0m\n\u001b[0;32m    347\u001b[0m             \u001b[1;32mtry\u001b[0m\u001b[1;33m:\u001b[0m\u001b[1;33m\u001b[0m\u001b[1;33m\u001b[0m\u001b[0m\n\u001b[1;32m--> 348\u001b[1;33m                 \u001b[0mself\u001b[0m\u001b[1;33m.\u001b[0m\u001b[0m_feed\u001b[0m\u001b[1;33m(\u001b[0m\u001b[1;33m)\u001b[0m\u001b[1;33m\u001b[0m\u001b[1;33m\u001b[0m\u001b[0m\n\u001b[0m\u001b[0;32m    349\u001b[0m                 \u001b[0msuccess\u001b[0m \u001b[1;33m=\u001b[0m \u001b[1;32mTrue\u001b[0m\u001b[1;33m\u001b[0m\u001b[1;33m\u001b[0m\u001b[0m\n\u001b[0;32m    350\u001b[0m                 \u001b[1;32mbreak\u001b[0m\u001b[1;33m\u001b[0m\u001b[1;33m\u001b[0m\u001b[0m\n",
      "\u001b[1;32mc:\\Users\\elias\\anaconda3\\lib\\site-packages\\bs4\\__init__.py\u001b[0m in \u001b[0;36m_feed\u001b[1;34m(self)\u001b[0m\n\u001b[0;32m    432\u001b[0m         \u001b[0mself\u001b[0m\u001b[1;33m.\u001b[0m\u001b[0mbuilder\u001b[0m\u001b[1;33m.\u001b[0m\u001b[0mreset\u001b[0m\u001b[1;33m(\u001b[0m\u001b[1;33m)\u001b[0m\u001b[1;33m\u001b[0m\u001b[1;33m\u001b[0m\u001b[0m\n\u001b[0;32m    433\u001b[0m \u001b[1;33m\u001b[0m\u001b[0m\n\u001b[1;32m--> 434\u001b[1;33m         \u001b[0mself\u001b[0m\u001b[1;33m.\u001b[0m\u001b[0mbuilder\u001b[0m\u001b[1;33m.\u001b[0m\u001b[0mfeed\u001b[0m\u001b[1;33m(\u001b[0m\u001b[0mself\u001b[0m\u001b[1;33m.\u001b[0m\u001b[0mmarkup\u001b[0m\u001b[1;33m)\u001b[0m\u001b[1;33m\u001b[0m\u001b[1;33m\u001b[0m\u001b[0m\n\u001b[0m\u001b[0;32m    435\u001b[0m         \u001b[1;31m# Close out any unfinished strings and close all the open tags.\u001b[0m\u001b[1;33m\u001b[0m\u001b[1;33m\u001b[0m\u001b[1;33m\u001b[0m\u001b[0m\n\u001b[0;32m    436\u001b[0m         \u001b[0mself\u001b[0m\u001b[1;33m.\u001b[0m\u001b[0mendData\u001b[0m\u001b[1;33m(\u001b[0m\u001b[1;33m)\u001b[0m\u001b[1;33m\u001b[0m\u001b[1;33m\u001b[0m\u001b[0m\n",
      "\u001b[1;32mc:\\Users\\elias\\anaconda3\\lib\\site-packages\\bs4\\builder\\_htmlparser.py\u001b[0m in \u001b[0;36mfeed\u001b[1;34m(self, markup)\u001b[0m\n\u001b[0;32m    375\u001b[0m         \u001b[0mparser\u001b[0m\u001b[1;33m.\u001b[0m\u001b[0msoup\u001b[0m \u001b[1;33m=\u001b[0m \u001b[0mself\u001b[0m\u001b[1;33m.\u001b[0m\u001b[0msoup\u001b[0m\u001b[1;33m\u001b[0m\u001b[1;33m\u001b[0m\u001b[0m\n\u001b[0;32m    376\u001b[0m         \u001b[1;32mtry\u001b[0m\u001b[1;33m:\u001b[0m\u001b[1;33m\u001b[0m\u001b[1;33m\u001b[0m\u001b[0m\n\u001b[1;32m--> 377\u001b[1;33m             \u001b[0mparser\u001b[0m\u001b[1;33m.\u001b[0m\u001b[0mfeed\u001b[0m\u001b[1;33m(\u001b[0m\u001b[0mmarkup\u001b[0m\u001b[1;33m)\u001b[0m\u001b[1;33m\u001b[0m\u001b[1;33m\u001b[0m\u001b[0m\n\u001b[0m\u001b[0;32m    378\u001b[0m             \u001b[0mparser\u001b[0m\u001b[1;33m.\u001b[0m\u001b[0mclose\u001b[0m\u001b[1;33m(\u001b[0m\u001b[1;33m)\u001b[0m\u001b[1;33m\u001b[0m\u001b[1;33m\u001b[0m\u001b[0m\n\u001b[0;32m    379\u001b[0m         \u001b[1;32mexcept\u001b[0m \u001b[0mHTMLParseError\u001b[0m \u001b[1;32mas\u001b[0m \u001b[0me\u001b[0m\u001b[1;33m:\u001b[0m\u001b[1;33m\u001b[0m\u001b[1;33m\u001b[0m\u001b[0m\n",
      "\u001b[1;32mc:\\Users\\elias\\anaconda3\\lib\\html\\parser.py\u001b[0m in \u001b[0;36mfeed\u001b[1;34m(self, data)\u001b[0m\n\u001b[0;32m    109\u001b[0m         \"\"\"\n\u001b[0;32m    110\u001b[0m         \u001b[0mself\u001b[0m\u001b[1;33m.\u001b[0m\u001b[0mrawdata\u001b[0m \u001b[1;33m=\u001b[0m \u001b[0mself\u001b[0m\u001b[1;33m.\u001b[0m\u001b[0mrawdata\u001b[0m \u001b[1;33m+\u001b[0m \u001b[0mdata\u001b[0m\u001b[1;33m\u001b[0m\u001b[1;33m\u001b[0m\u001b[0m\n\u001b[1;32m--> 111\u001b[1;33m         \u001b[0mself\u001b[0m\u001b[1;33m.\u001b[0m\u001b[0mgoahead\u001b[0m\u001b[1;33m(\u001b[0m\u001b[1;36m0\u001b[0m\u001b[1;33m)\u001b[0m\u001b[1;33m\u001b[0m\u001b[1;33m\u001b[0m\u001b[0m\n\u001b[0m\u001b[0;32m    112\u001b[0m \u001b[1;33m\u001b[0m\u001b[0m\n\u001b[0;32m    113\u001b[0m     \u001b[1;32mdef\u001b[0m \u001b[0mclose\u001b[0m\u001b[1;33m(\u001b[0m\u001b[0mself\u001b[0m\u001b[1;33m)\u001b[0m\u001b[1;33m:\u001b[0m\u001b[1;33m\u001b[0m\u001b[1;33m\u001b[0m\u001b[0m\n",
      "\u001b[1;32mc:\\Users\\elias\\anaconda3\\lib\\html\\parser.py\u001b[0m in \u001b[0;36mgoahead\u001b[1;34m(self, end)\u001b[0m\n\u001b[0;32m    169\u001b[0m             \u001b[1;32mif\u001b[0m \u001b[0mstartswith\u001b[0m\u001b[1;33m(\u001b[0m\u001b[1;34m'<'\u001b[0m\u001b[1;33m,\u001b[0m \u001b[0mi\u001b[0m\u001b[1;33m)\u001b[0m\u001b[1;33m:\u001b[0m\u001b[1;33m\u001b[0m\u001b[1;33m\u001b[0m\u001b[0m\n\u001b[0;32m    170\u001b[0m                 \u001b[1;32mif\u001b[0m \u001b[0mstarttagopen\u001b[0m\u001b[1;33m.\u001b[0m\u001b[0mmatch\u001b[0m\u001b[1;33m(\u001b[0m\u001b[0mrawdata\u001b[0m\u001b[1;33m,\u001b[0m \u001b[0mi\u001b[0m\u001b[1;33m)\u001b[0m\u001b[1;33m:\u001b[0m \u001b[1;31m# < + letter\u001b[0m\u001b[1;33m\u001b[0m\u001b[1;33m\u001b[0m\u001b[0m\n\u001b[1;32m--> 171\u001b[1;33m                     \u001b[0mk\u001b[0m \u001b[1;33m=\u001b[0m \u001b[0mself\u001b[0m\u001b[1;33m.\u001b[0m\u001b[0mparse_starttag\u001b[0m\u001b[1;33m(\u001b[0m\u001b[0mi\u001b[0m\u001b[1;33m)\u001b[0m\u001b[1;33m\u001b[0m\u001b[1;33m\u001b[0m\u001b[0m\n\u001b[0m\u001b[0;32m    172\u001b[0m                 \u001b[1;32melif\u001b[0m \u001b[0mstartswith\u001b[0m\u001b[1;33m(\u001b[0m\u001b[1;34m\"</\"\u001b[0m\u001b[1;33m,\u001b[0m \u001b[0mi\u001b[0m\u001b[1;33m)\u001b[0m\u001b[1;33m:\u001b[0m\u001b[1;33m\u001b[0m\u001b[1;33m\u001b[0m\u001b[0m\n\u001b[0;32m    173\u001b[0m                     \u001b[0mk\u001b[0m \u001b[1;33m=\u001b[0m \u001b[0mself\u001b[0m\u001b[1;33m.\u001b[0m\u001b[0mparse_endtag\u001b[0m\u001b[1;33m(\u001b[0m\u001b[0mi\u001b[0m\u001b[1;33m)\u001b[0m\u001b[1;33m\u001b[0m\u001b[1;33m\u001b[0m\u001b[0m\n",
      "\u001b[1;32mc:\\Users\\elias\\anaconda3\\lib\\html\\parser.py\u001b[0m in \u001b[0;36mparse_starttag\u001b[1;34m(self, i)\u001b[0m\n\u001b[0;32m    343\u001b[0m             \u001b[0mself\u001b[0m\u001b[1;33m.\u001b[0m\u001b[0mhandle_startendtag\u001b[0m\u001b[1;33m(\u001b[0m\u001b[0mtag\u001b[0m\u001b[1;33m,\u001b[0m \u001b[0mattrs\u001b[0m\u001b[1;33m)\u001b[0m\u001b[1;33m\u001b[0m\u001b[1;33m\u001b[0m\u001b[0m\n\u001b[0;32m    344\u001b[0m         \u001b[1;32melse\u001b[0m\u001b[1;33m:\u001b[0m\u001b[1;33m\u001b[0m\u001b[1;33m\u001b[0m\u001b[0m\n\u001b[1;32m--> 345\u001b[1;33m             \u001b[0mself\u001b[0m\u001b[1;33m.\u001b[0m\u001b[0mhandle_starttag\u001b[0m\u001b[1;33m(\u001b[0m\u001b[0mtag\u001b[0m\u001b[1;33m,\u001b[0m \u001b[0mattrs\u001b[0m\u001b[1;33m)\u001b[0m\u001b[1;33m\u001b[0m\u001b[1;33m\u001b[0m\u001b[0m\n\u001b[0m\u001b[0;32m    346\u001b[0m             \u001b[1;32mif\u001b[0m \u001b[0mtag\u001b[0m \u001b[1;32min\u001b[0m \u001b[0mself\u001b[0m\u001b[1;33m.\u001b[0m\u001b[0mCDATA_CONTENT_ELEMENTS\u001b[0m\u001b[1;33m:\u001b[0m\u001b[1;33m\u001b[0m\u001b[1;33m\u001b[0m\u001b[0m\n\u001b[0;32m    347\u001b[0m                 \u001b[0mself\u001b[0m\u001b[1;33m.\u001b[0m\u001b[0mset_cdata_mode\u001b[0m\u001b[1;33m(\u001b[0m\u001b[0mtag\u001b[0m\u001b[1;33m)\u001b[0m\u001b[1;33m\u001b[0m\u001b[1;33m\u001b[0m\u001b[0m\n",
      "\u001b[1;32mc:\\Users\\elias\\anaconda3\\lib\\site-packages\\bs4\\builder\\_htmlparser.py\u001b[0m in \u001b[0;36mhandle_starttag\u001b[1;34m(self, name, attrs, handle_empty_element)\u001b[0m\n\u001b[0;32m    149\u001b[0m         \u001b[1;31m#print(\"START\", name)\u001b[0m\u001b[1;33m\u001b[0m\u001b[1;33m\u001b[0m\u001b[1;33m\u001b[0m\u001b[0m\n\u001b[0;32m    150\u001b[0m         \u001b[0msourceline\u001b[0m\u001b[1;33m,\u001b[0m \u001b[0msourcepos\u001b[0m \u001b[1;33m=\u001b[0m \u001b[0mself\u001b[0m\u001b[1;33m.\u001b[0m\u001b[0mgetpos\u001b[0m\u001b[1;33m(\u001b[0m\u001b[1;33m)\u001b[0m\u001b[1;33m\u001b[0m\u001b[1;33m\u001b[0m\u001b[0m\n\u001b[1;32m--> 151\u001b[1;33m         tag = self.soup.handle_starttag(\n\u001b[0m\u001b[0;32m    152\u001b[0m             \u001b[0mname\u001b[0m\u001b[1;33m,\u001b[0m \u001b[1;32mNone\u001b[0m\u001b[1;33m,\u001b[0m \u001b[1;32mNone\u001b[0m\u001b[1;33m,\u001b[0m \u001b[0mattr_dict\u001b[0m\u001b[1;33m,\u001b[0m \u001b[0msourceline\u001b[0m\u001b[1;33m=\u001b[0m\u001b[0msourceline\u001b[0m\u001b[1;33m,\u001b[0m\u001b[1;33m\u001b[0m\u001b[1;33m\u001b[0m\u001b[0m\n\u001b[0;32m    153\u001b[0m             \u001b[0msourcepos\u001b[0m\u001b[1;33m=\u001b[0m\u001b[0msourcepos\u001b[0m\u001b[1;33m\u001b[0m\u001b[1;33m\u001b[0m\u001b[0m\n",
      "\u001b[1;32mc:\\Users\\elias\\anaconda3\\lib\\site-packages\\bs4\\__init__.py\u001b[0m in \u001b[0;36mhandle_starttag\u001b[1;34m(self, name, namespace, nsprefix, attrs, sourceline, sourcepos)\u001b[0m\n\u001b[0;32m    701\u001b[0m             \u001b[1;32mreturn\u001b[0m \u001b[1;32mNone\u001b[0m\u001b[1;33m\u001b[0m\u001b[1;33m\u001b[0m\u001b[0m\n\u001b[0;32m    702\u001b[0m \u001b[1;33m\u001b[0m\u001b[0m\n\u001b[1;32m--> 703\u001b[1;33m         tag = self.element_classes.get(Tag, Tag)(\n\u001b[0m\u001b[0;32m    704\u001b[0m             \u001b[0mself\u001b[0m\u001b[1;33m,\u001b[0m \u001b[0mself\u001b[0m\u001b[1;33m.\u001b[0m\u001b[0mbuilder\u001b[0m\u001b[1;33m,\u001b[0m \u001b[0mname\u001b[0m\u001b[1;33m,\u001b[0m \u001b[0mnamespace\u001b[0m\u001b[1;33m,\u001b[0m \u001b[0mnsprefix\u001b[0m\u001b[1;33m,\u001b[0m \u001b[0mattrs\u001b[0m\u001b[1;33m,\u001b[0m\u001b[1;33m\u001b[0m\u001b[1;33m\u001b[0m\u001b[0m\n\u001b[0;32m    705\u001b[0m             \u001b[0mself\u001b[0m\u001b[1;33m.\u001b[0m\u001b[0mcurrentTag\u001b[0m\u001b[1;33m,\u001b[0m \u001b[0mself\u001b[0m\u001b[1;33m.\u001b[0m\u001b[0m_most_recent_element\u001b[0m\u001b[1;33m,\u001b[0m\u001b[1;33m\u001b[0m\u001b[1;33m\u001b[0m\u001b[0m\n",
      "\u001b[1;32mc:\\Users\\elias\\anaconda3\\lib\\site-packages\\bs4\\element.py\u001b[0m in \u001b[0;36m__init__\u001b[1;34m(self, parser, builder, name, namespace, prefix, attrs, parent, previous, is_xml, sourceline, sourcepos, can_be_empty_element, cdata_list_attributes, preserve_whitespace_tags)\u001b[0m\n\u001b[0;32m   1102\u001b[0m             \u001b[1;31m# We don't actually store the parser object: that lets extracted\u001b[0m\u001b[1;33m\u001b[0m\u001b[1;33m\u001b[0m\u001b[1;33m\u001b[0m\u001b[0m\n\u001b[0;32m   1103\u001b[0m             \u001b[1;31m# chunks be garbage-collected.\u001b[0m\u001b[1;33m\u001b[0m\u001b[1;33m\u001b[0m\u001b[1;33m\u001b[0m\u001b[0m\n\u001b[1;32m-> 1104\u001b[1;33m             \u001b[0mself\u001b[0m\u001b[1;33m.\u001b[0m\u001b[0mparser_class\u001b[0m \u001b[1;33m=\u001b[0m \u001b[0mparser\u001b[0m\u001b[1;33m.\u001b[0m\u001b[0m__class__\u001b[0m\u001b[1;33m\u001b[0m\u001b[1;33m\u001b[0m\u001b[0m\n\u001b[0m\u001b[0;32m   1105\u001b[0m         \u001b[1;32mif\u001b[0m \u001b[0mname\u001b[0m \u001b[1;32mis\u001b[0m \u001b[1;32mNone\u001b[0m\u001b[1;33m:\u001b[0m\u001b[1;33m\u001b[0m\u001b[1;33m\u001b[0m\u001b[0m\n\u001b[0;32m   1106\u001b[0m             \u001b[1;32mraise\u001b[0m \u001b[0mValueError\u001b[0m\u001b[1;33m(\u001b[0m\u001b[1;34m\"No value provided for new tag's name.\"\u001b[0m\u001b[1;33m)\u001b[0m\u001b[1;33m\u001b[0m\u001b[1;33m\u001b[0m\u001b[0m\n",
      "\u001b[1;31mKeyboardInterrupt\u001b[0m: "
     ]
    }
   ],
   "source": [
    "descriptions_edition = []\n",
    "for url in tqdm(urls):\n",
    "    r = requests.get(url)\n",
    "    soup = BeautifulSoup(r.content, 'html.parser')\n",
    "    s = soup.find('section', id ='main')\n",
    "    s_editiondescription =  s.find(class_ = 'product-description')\n",
    "    description = \"\"\n",
    "    passage = False\n",
    "    try:\n",
    "        if s_editiondescription != None:\n",
    "            s_editiondescription = s_editiondescription.text.split('\\n')\n",
    "            for char in range(len(s_editiondescription)):\n",
    "                if s_editiondescription[char] != \"\":\n",
    "                    description = description + s_editiondescription[char] + '\\n'\n",
    "                    passage = True\n",
    "                    char = char + 1\n",
    "                else:\n",
    "                    if passage == True:\n",
    "                        break\n",
    "                    char = char + 1\n",
    "    except AttributeError as e:\n",
    "            description = \"Erreur\"\n",
    "    if passage == False: # Pas description d'édition\n",
    "        description = 'Non disponible'\n",
    "    descriptions_edition.append(description)\n"
   ]
  },
  {
   "cell_type": "markdown",
   "metadata": {},
   "source": [
    "On ajoute un dernier DataFrame avec les descriptions éditions (certains ouvrages ne possèdent qu'une seule édition donc beaucoup de valeurs nulles si on les met dans le même DataFrame)"
   ]
  },
  {
   "cell_type": "code",
   "execution_count": null,
   "metadata": {},
   "outputs": [
    {
     "data": {
      "text/plain": [
       "array(['https://www.sifatusafwa.com/fr/adhkar-et-dou-ah/la-roqiyah-shar-iyah-ahmad-at-tayyar.html',\n",
       "       'https://www.sifatusafwa.com/fr/adhkar-et-dou-ah/sahih-al-adhkar-wa-ar-roqiya-basé-sur-le-tahqiq-d-al-albani-et-moqbil.html',\n",
       "       'https://www.sifatusafwa.com/fr/al-asma-wa-as-sifat/at-tafwid-fi-as-sifat-al-ilahiyyah-muhammad-ar-rabah.html',\n",
       "       'https://www.sifatusafwa.com/fr/al-hakimiya-koufr-wal-irjae/al-moubin-fi-qawa-id-al-takfir-al-mou-in-mouhammad-salih-ar-rachid.html',\n",
       "       'https://www.sifatusafwa.com/fr/al-hakimiya-koufr-wal-irjae/kitab-fi-al-imamah-muhammad-ibn-ali-al-qal-yi-630h.html',\n",
       "       'https://www.sifatusafwa.com/fr/al-ilm-wa-talab-al-ilm/khazanat-al-ulum-li-amir-al-muminin-bil-andalus-al-mutnassir-billah.html',\n",
       "       'https://www.sifatusafwa.com/fr/al-ilm-wa-talab-al-ilm/qawa-id-tahqiq-an-nousous-dr-ali-al-imran.html',\n",
       "       'https://www.sifatusafwa.com/fr/al-iman-ses-piliers-et-ses-branches/les-nobles-angles-entre-les-gens-de-la-sounnah-et-les-égarés.html',\n",
       "       'https://www.sifatusafwa.com/fr/al-qira-at-lectures-coraniques/al-ijaz-fi-qiraaat-al-aimmah-as-sabah-by-imam-sabt-al-khayyat.html',\n",
       "       'https://www.sifatusafwa.com/fr/aqida-croyance/moustalahat-fi-koutoub-al-aqa-id-muhammad-ibrahim-al-hamad.html',\n",
       "       'https://www.sifatusafwa.com/fr/aqida-croyance/ta-qibat-ulema-aba-butayn-ibn-samhan-as-sa-di-ala-imam-as-safarini.html',\n",
       "       'https://www.sifatusafwa.com/fr/as-sira-an-nabawiya/al-madkhal-ila-dirasah-ilm-as-sirah-an-nabawiyyah.html',\n",
       "       'https://www.sifatusafwa.com/fr/autour-de-la-langue-arabe/adhwae-ala-tarikh-ouloum-al-arabiyyah-dr-mazin-al-moubarak.html',\n",
       "       'https://www.sifatusafwa.com/fr/biographie-histoire/al-mou-in-fi-ma-rifah-manahij-al-mouhaddithin-khalid-ar-raddadi.html',\n",
       "       'https://www.sifatusafwa.com/fr/biographies/a-lam-as-salafiyyin-1000-biographies-3-volumes-merkez-as-salaf.html',\n",
       "       'https://www.sifatusafwa.com/fr/biographies/abdallah-ibn-moubarak-mohammed-matar-az-zahrani.html',\n",
       "       'https://www.sifatusafwa.com/fr/biographies/asr-as-sahabah-par-abdel-mounim-al-hachimi.html',\n",
       "       'https://www.sifatusafwa.com/fr/biographies/asr-at-taabiin-by-abdul-munim-al-hashimi.html',\n",
       "       'https://www.sifatusafwa.com/fr/biographies/sufyan-ath-thawi-mohammed-matar-az-zahrani.html',\n",
       "       'https://www.sifatusafwa.com/fr/déstockage-et-occasion/al-iman-bi-al-qada-wa-al-qaar-muhammad-ibrahim-al-hamad.html',\n",
       "       'https://www.sifatusafwa.com/fr/déstockage-et-occasion/makarim-al-akhlaq-fi-aw-al-quran-wa-as-sunnah-sa-di-al-chamri.html',\n",
       "       'https://www.sifatusafwa.com/fr/déstockage-et-occasion/sufyan-ath-thawi-mohamed-matar-az-zahrani.html',\n",
       "       'https://www.sifatusafwa.com/fr/explications-de-hadith-choisi/charh-sahih-adab-al-mufrad-lil-imam-al-bukhari-husayn-al-awayshah.html',\n",
       "       'https://www.sifatusafwa.com/fr/explications-de-kitab-at-tawhid/hiliyah-al-moustafid-charh-kitab-at-tawhid-abdelkarim-al-khoudayr.html',\n",
       "       'https://www.sifatusafwa.com/fr/explications-de-livres-de-aqida/charh-i-tiqad-ahl-as-sounnah-cheikh-abdallah-al-ghounayman.html',\n",
       "       'https://www.sifatusafwa.com/fr/explications-de-livres-de-aqida/charh-tashil-al-aqidah-al-islamiyyah-du-dr-abdallah-ibn-al-jibrin.html',\n",
       "       'https://www.sifatusafwa.com/fr/explications-de-oussoul-thalathah/charh-thalathah-al-ousoul-wa-l-qawa-id-al-arba-haytham-sarhan.html',\n",
       "       'https://www.sifatusafwa.com/fr/famille-femmes-enfant/le-consensus-des-4-écoles-sur-l-obligation-du-hijab.html',\n",
       "       'https://www.sifatusafwa.com/fr/femmes-famille-enfants2/tawq-al-hamamah-fil-ulfah-wal-ullaaf-de-l-imam-ibn-hazm.html',\n",
       "       'https://www.sifatusafwa.com/fr/fiqh-ahkam/al-sharh-al-muyassar-li-kitab-al-muharrar-fil-hadith-ahmed-al-qarni.html',\n",
       "       'https://www.sifatusafwa.com/fr/fiqh-hanbali/al-inayah-bi-adillah-al-kifayah-ala-mu-tamad-fi-madhhab-al-imam-ahmad.html',\n",
       "       'https://www.sifatusafwa.com/fr/fiqh-maliki/al-jami-li-masa-il-al-mudawwanah-ibn-yunus-as-siqilli-451h.html',\n",
       "       'https://www.sifatusafwa.com/fr/fiqh-maliki/lawami-al-durar-fi-hatk-astar-al-mukhtasar-al-majlisi-ash-shinqiti.html',\n",
       "       'https://www.sifatusafwa.com/fr/fiqh-maliki/majmou-al-amir-moukhtasar-al-amir-fiqh-maliki.html',\n",
       "       'https://www.sifatusafwa.com/fr/fiqh-rajih-salafi-sans-madhhab/sharh-umdah-al-fiqh-by-dr-abdullah-ibn-abdilaziz-al-jibrin.html',\n",
       "       'https://www.sifatusafwa.com/fr/histoire-islamique/tarikh-ibn-issa-histoire-du-najd-et-de-ses-gens.html',\n",
       "       'https://www.sifatusafwa.com/fr/jarh-wa-ta-dil/al-ilal-de-limam-daraqutni.html',\n",
       "       'https://www.sifatusafwa.com/fr/kalimat-moufradat/fath-ar-rahman-bi-kashf-ma-yaltabisu-fil-quran-zakariya-al-ansari.html',\n",
       "       'https://www.sifatusafwa.com/fr/les-occaz-de-l-entrepôt/a-lam-as-sunna-al-manchora-200-q-r-sur-la-aqida-hafidh-hakimi.html',\n",
       "       'https://www.sifatusafwa.com/fr/les-occaz-de-l-entrepôt/ad-durar-al-mubahah-fi-al-hadhr-wa-al-ibahah-an-nahlawi-1350h.html',\n",
       "       'https://www.sifatusafwa.com/fr/les-occaz-de-l-entrepôt/ahkam-at-ta-amul-ma-al-jinn-wa-adab-ar-ruqa.html',\n",
       "       'https://www.sifatusafwa.com/fr/les-occaz-de-l-entrepôt/al-adillah-al-aqliyyah-an-naqliyah-ala-usul-l-itiqad-su-ud-arifi.html',\n",
       "       'https://www.sifatusafwa.com/fr/les-occaz-de-l-entrepôt/al-kafi-fi-an-nahwi-sayyid-al-khalfah.html',\n",
       "       'https://www.sifatusafwa.com/fr/les-occaz-de-l-entrepôt/al-khulasah-al-fiqhiyyah-ala-madhhab-al-malkiyyah-100-harakat.html',\n",
       "       'https://www.sifatusafwa.com/fr/les-occaz-de-l-entrepôt/aqidah-ahl-al-islam-fima-yajibu-li-al-imm-abdussalam-ibn-barjis.html',\n",
       "       'https://www.sifatusafwa.com/fr/les-occaz-de-l-entrepôt/at-ta-liqat-alaal-fatawa-al-hamawiya-al-fawzan.html',\n",
       "       'https://www.sifatusafwa.com/fr/les-occaz-de-l-entrepôt/charh-ad-durrah-al-mdiyah-as-safariniyah-al-fawzan.html',\n",
       "       'https://www.sifatusafwa.com/fr/les-occaz-de-l-entrepôt/charh-ikhtisar-ulum-al-adith-ibn-baz.html',\n",
       "       'https://www.sifatusafwa.com/fr/les-occaz-de-l-entrepôt/charh-kitab-at-thara-saleh-aal-cheikh.html',\n",
       "       'https://www.sifatusafwa.com/fr/les-occaz-de-l-entrepôt/choumou-an-nahar-prouver-lexistence-d-allah-abdullah-al-ajiri.html',\n",
       "       'https://www.sifatusafwa.com/fr/les-occaz-de-l-entrepôt/diwan-al-mutanabbi-lesœuvres-complètes.html',\n",
       "       'https://www.sifatusafwa.com/fr/les-occaz-de-l-entrepôt/kitab-al-iman-de-l-imam-ibn-andah-395h-2-volumes.html',\n",
       "       'https://www.sifatusafwa.com/fr/les-occaz-de-l-entrepôt/kitab-kalilah-wa-dimnah-ibn-al-mqaffa.html',\n",
       "       'https://www.sifatusafwa.com/fr/les-occaz-de-l-entrepôt/les-impératifs-à-savoir-pour-les-imms-et-prêcheurs-q-r.html',\n",
       "       'https://www.sifatusafwa.com/fr/les-occaz-de-l-entrepôt/majmou-maqalat-ach-cheikh-ahmad-cakir.html',\n",
       "       'https://www.sifatusafwa.com/fr/les-occaz-de-l-entrepôt/maqalat-kibar-al-kuttab-an-al-ira-ah-wa-al-kitab-dr-ali-al-imran.html',\n",
       "       'https://www.sifatusafwa.com/fr/les-occaz-de-l-entrepôt/moudhakkirah-fi-oussoul-al-fiqh-ah-chanqiti.html',\n",
       "       'https://www.sifatusafwa.com/fr/les-occaz-de-l-entrepôt/sifat-woudou-annabi-charh-hadith-uthman-abdul-aziz-at-tarifi.html',\n",
       "       'https://www.sifatusafwa.com/fr/les-occaz-de-l-entrepôt/taysir-moutachabihat-al-qura-wa-ulumih-ali-fahmi-an-nouzhi.html',\n",
       "       'https://www.sifatusafwa.com/fr/les-occaz-de-l-entrepôt/taysir-mustalah-al-hdith-d-mahmoud-tahan.html',\n",
       "       'https://www.sifatusafwa.com/fr/livres-de-contemporains-sur-le-minhaj/al-matalib-al-mufidah-fi-masa-il-al-aqidah-tariq-ibn-said-al-qahtani.html',\n",
       "       'https://www.sifatusafwa.com/fr/livres-de-contemporains-sur-le-minhaj/les-oussoul-relatifs-au-hukm-par-autre-que-la-révélation-d-allah.html',\n",
       "       'https://www.sifatusafwa.com/fr/livres-de-contemporains-sur-le-minhaj/tarikh-at-tadwin-fi-ousoul-ad-din-tariq-ibn-said-al-qahtani.html',\n",
       "       'https://www.sifatusafwa.com/fr/livres-de-contemporains-sur-le-minhaj/usul-taqiyyid-al-kitab-wa-as-sunnah-bi-fahm-as-salaf-as-salih.html',\n",
       "       'https://www.sifatusafwa.com/fr/livres-de-salaf-sur-la-sounnah/jami-i-tiqad-a-immah-as-salaf-recueil-de-35-matn-de-aqida.html',\n",
       "       'https://www.sifatusafwa.com/fr/livres-islamiques-grand-public/la-aqidah-les-adorations-et-le-comportement-abul-hasan-an-nadwi.html',\n",
       "       'https://www.sifatusafwa.com/fr/livres-islamiques-grand-public/qawa-id-fi-a-mal-al-qulub-règles-concernant-les-actes-du-cœur.html',\n",
       "       'https://www.sifatusafwa.com/fr/matn-de-langue-arabe/matn-al-ajrumiyyah-fi-an-nahu-spécial-annotations.html',\n",
       "       'https://www.sifatusafwa.com/fr/matn-de-langue-arabe/matn-qatr-an-nada-tahqiq-approfondi-et-spécial-annotations.html#/180-choisir-matn_seulement',\n",
       "       'https://www.sifatusafwa.com/fr/minhaj-et-sectes/annotations-à-la-aqidah-ash-ariyyah-d-ibn-ashir-et-à-umm-al-barahin.html',\n",
       "       'https://www.sifatusafwa.com/fr/mort-fin-des-temps-et-au-delà/fiqh-al-fitan-cheikh-soulayman-ar-rouhayli.html',\n",
       "       'https://www.sifatusafwa.com/fr/mémorisation-du-coran/i-anah-at-talibin-ala-al-hifdh-wa-at-tamkin-fi-mutachabihat-al-quran.html',\n",
       "       'https://www.sifatusafwa.com/fr/mémorisation-du-coran/moushaf-al-hifdh-al-mouyassar-warch.html',\n",
       "       'https://www.sifatusafwa.com/fr/oussoul-al-fiqh/al-uqud-al-fiddiyah-sharh-mandhumah-al-qawa-id-al-fiqhiyyah-harakat.html',\n",
       "       'https://www.sifatusafwa.com/fr/oussoul-al-fiqh/alfiat-al-iraqi-fi-usul-al-fiqh-matn-minhaj-al-wusul-li-l-baydawi.html',\n",
       "       'https://www.sifatusafwa.com/fr/papeterie/marque-page-sifatusafwa-hadith-an-nabawi-man-salaka-tariqan.html',\n",
       "       'https://www.sifatusafwa.com/fr/papeterie/marque-page-sifatusafwa-hadith-talab-al-ilm-faridatun-marron.html',\n",
       "       'https://www.sifatusafwa.com/fr/papeterie/marque-page-sifatusafwa-hadith-talab-al-ilm-faridatun-vert.html',\n",
       "       'https://www.sifatusafwa.com/fr/rappels-et-autres-sujets/40-majalis-fi-souhbah-al-habib-ﷺ-sirah-akhlaq-chamail.html',\n",
       "       'https://www.sifatusafwa.com/fr/rappels-et-autres-sujets/hadi-mouhammad-ﷺ-rasoul-allah-30-exemples-pris-de-sa-vie.html',\n",
       "       'https://www.sifatusafwa.com/fr/rappels-et-autres-sujets/les-hadiths-rapportés-sur-les-meilleurs-de-gens-ahsan-an-nass.html',\n",
       "       'https://www.sifatusafwa.com/fr/recueil-thématiques-et-divers/jami-as-sahihayn-dr-walid-abderrahman-al-hamdan-harakat.html',\n",
       "       'https://www.sifatusafwa.com/fr/recueil-thématiques-et-divers/mousnad-al-imam-abdallah-ibn-al-moubarak.html',\n",
       "       'https://www.sifatusafwa.com/fr/règles-du-tajwid/taqrib-al-manhaji-li-t-tajwid-dr-ahmad-choukri-dr-adil-abu-cha-r.html',\n",
       "       'https://www.sifatusafwa.com/fr/sciences-du-hadith-moustalah/2-muqaddimah-dans-la-science-du-hadith-ibn-al-athir-ibn-mulaqqin.html',\n",
       "       'https://www.sifatusafwa.com/fr/sciences-du-hadith-moustalah/charh-al-mandhumah-al-bayquniyah-abu-malik-ar-rayachi-100-harakat.html',\n",
       "       'https://www.sifatusafwa.com/fr/sciences-du-hadith-moustalah/muqaddimah-al-jarh-wa-at-ta-dil-imam-ibn-abi-hatim-ar-razi-327h.html',\n",
       "       'https://www.sifatusafwa.com/fr/sciences-du-hadith-moustalah/tadwin-as-sunnah-an-nabawiyyah-sayyid-abd-al-majid-al-ghuri.html',\n",
       "       'https://www.sifatusafwa.com/fr/sectes-et-innovations/fath-al-manan-fi-dirasah-al-firaq-wa-al-adyan-tariq-said-al-qahtani.html',\n",
       "       'https://www.sifatusafwa.com/fr/tafsir-complet/hachiyat-as-sawy-ala-tafsir-al-jalalayn-sheikh-ahmed-as-sawi.html',\n",
       "       'https://www.sifatusafwa.com/fr/tafsir-partiel-ou-choisi/sabil-ar-rachad-fi-hady-khayri-al-ibaad-taqi-ad-din-al-hilali.html',\n",
       "       'https://www.sifatusafwa.com/fr/tafsir-partiel-ou-choisi/tafsir-sourate-al-fatiha-durar-as-sanniyah.html',\n",
       "       'https://www.sifatusafwa.com/fr/tahara-wa-salat/qiyam-al-layl-de-l-imam-ibn-al-jawzi.html',\n",
       "       'https://www.sifatusafwa.com/fr/thèses-et-recherches-universitaires/taqrirat-al-aimmah-al-arba-a-li-aqidah-ahl-as-sounnah-2-volumes.html'],\n",
       "      dtype=object)"
      ]
     },
     "execution_count": 58,
     "metadata": {},
     "output_type": "execute_result"
    }
   ],
   "source": [
    "dfs_edition = pd.DataFrame({\"descriptions_edition\":descriptions_edition, \"urls\":urls})\n",
    "dfs_edition[\"urls\"].values"
   ]
  },
  {
   "cell_type": "code",
   "execution_count": 24,
   "metadata": {},
   "outputs": [
    {
     "data": {
      "text/html": [
       "<div>\n",
       "<style scoped>\n",
       "    .dataframe tbody tr th:only-of-type {\n",
       "        vertical-align: middle;\n",
       "    }\n",
       "\n",
       "    .dataframe tbody tr th {\n",
       "        vertical-align: top;\n",
       "    }\n",
       "\n",
       "    .dataframe thead th {\n",
       "        text-align: right;\n",
       "    }\n",
       "</style>\n",
       "<table border=\"1\" class=\"dataframe\">\n",
       "  <thead>\n",
       "    <tr style=\"text-align: right;\">\n",
       "      <th></th>\n",
       "      <th>description</th>\n",
       "      <th>lien</th>\n",
       "    </tr>\n",
       "  </thead>\n",
       "  <tbody>\n",
       "    <tr>\n",
       "      <th>0</th>\n",
       "      <td>Le livre “Al-Iqna’a fi Masa’il al-Ijma’a” de l...</td>\n",
       "      <td>https://www.sifatusafwa.com/fr/accueil/al-iqna...</td>\n",
       "    </tr>\n",
       "    <tr>\n",
       "      <th>1</th>\n",
       "      <td>Cet ouvrage d'Ibn Abi Dounia, parle des djinns...</td>\n",
       "      <td>https://www.sifatusafwa.com/fr/accueil/kitab-h...</td>\n",
       "    </tr>\n",
       "    <tr>\n",
       "      <th>2</th>\n",
       "      <td>Explication par l'Imam as-Safarini du poème su...</td>\n",
       "      <td>https://www.sifatusafwa.com/fr/actes-blamables...</td>\n",
       "    </tr>\n",
       "    <tr>\n",
       "      <th>3</th>\n",
       "      <td>Risalah du Cheikh Abd-As-Salam ibn Barjas Al-A...</td>\n",
       "      <td>https://www.sifatusafwa.com/fr/actes-blamables...</td>\n",
       "    </tr>\n",
       "    <tr>\n",
       "      <th>4</th>\n",
       "      <td>Le livre des grands péchés écrit par le Cheikh...</td>\n",
       "      <td>https://www.sifatusafwa.com/fr/actes-blamables...</td>\n",
       "    </tr>\n",
       "  </tbody>\n",
       "</table>\n",
       "</div>"
      ],
      "text/plain": [
       "                                         description  \\\n",
       "0  Le livre “Al-Iqna’a fi Masa’il al-Ijma’a” de l...   \n",
       "1  Cet ouvrage d'Ibn Abi Dounia, parle des djinns...   \n",
       "2  Explication par l'Imam as-Safarini du poème su...   \n",
       "3  Risalah du Cheikh Abd-As-Salam ibn Barjas Al-A...   \n",
       "4  Le livre des grands péchés écrit par le Cheikh...   \n",
       "\n",
       "                                                lien  \n",
       "0  https://www.sifatusafwa.com/fr/accueil/al-iqna...  \n",
       "1  https://www.sifatusafwa.com/fr/accueil/kitab-h...  \n",
       "2  https://www.sifatusafwa.com/fr/actes-blamables...  \n",
       "3  https://www.sifatusafwa.com/fr/actes-blamables...  \n",
       "4  https://www.sifatusafwa.com/fr/actes-blamables...  "
      ]
     },
     "execution_count": 24,
     "metadata": {},
     "output_type": "execute_result"
    }
   ],
   "source": [
    "dfs_3.head()"
   ]
  },
  {
   "cell_type": "code",
   "execution_count": 25,
   "metadata": {},
   "outputs": [],
   "source": [
    "dfs_1.to_csv('books_1.csv')\n",
    "dfs_2.to_csv('books_2.csv')\n",
    "dfs_3.to_csv('books_3.csv', sep = \";\")"
   ]
  },
  {
   "cell_type": "markdown",
   "metadata": {},
   "source": [
    "#### الحمد لله; la construction du dataset est terminée."
   ]
  },
  {
   "cell_type": "code",
   "execution_count": null,
   "metadata": {},
   "outputs": [
    {
     "data": {
      "text/plain": [
       "<div class=\"product-information\">\n",
       "<div class=\"product-description-short mb-3\" id=\"product-description-short-4006\"><div class=\"rte align_justify\" id=\"short_description_content\">\n",
       "<p>Voici l’explication de la Risalah de l’Imam Abu Uthman as-Sabuni (449H) avec le commentaire éclairé et efficace du Cheikh Abdullah al-Ghunayman, qui figure parmi les ulémas enseignants au Masjid an-Nabawi.</p>\n",
       "<p>Très belle édition saoudienne.</p>\n",
       "</div></div>\n",
       "<div class=\"steasy_divider between_short_and_price\"><div class=\"steasy_divider_item\"></div></div>\n",
       "<div class=\"product-actions\">\n",
       "<form action=\"https://www.sifatusafwa.com/fr/panier\" id=\"add-to-cart-or-refresh\" method=\"post\">\n",
       "<input name=\"token\" type=\"hidden\" value=\"97ea31bdb5f5f0bca9d418d989214c72\"/>\n",
       "<input id=\"product_page_product_id\" name=\"id_product\" type=\"hidden\" value=\"4006\"/>\n",
       "<input id=\"product_customization_id\" name=\"id_customization\" type=\"hidden\" value=\"0\"/>\n",
       "<div class=\"product-variants\"> <div class=\"product-description\">\n",
       "</div>\n",
       "</div>\n",
       "<div class=\"mar_b1 pro_price_block flex_container flex_start\">\n",
       "<div class=\"product-prices\">\n",
       "<div class=\"product-price\">\n",
       "<div class=\"current-price\">\n",
       "<span class=\"price\">17,50 €</span>\n",
       "<span class=\"tax_label\">TTC</span>\n",
       "</div>\n",
       "</div>\n",
       "<div class=\"tax-shipping-delivery-label\">\n",
       "</div>\n",
       "</div>\n",
       "<div class=\"pro_price_right\">\n",
       "<div class=\"flex_box\">\n",
       "</div>\n",
       "</div>\n",
       "</div>\n",
       "<section class=\"product-discounts\">\n",
       "</section>\n",
       "<div class=\"product-add-to-cart mb-3\">\n",
       "<div class=\"product-available mar_b6 fs_md\" id=\"product-availability\">\n",
       "</div>\n",
       "<div class=\"pro_cart_block flex_container flex_column_sm\">\n",
       "<div class=\"product-quantity flex_child\">\n",
       "<div class=\"qty qty_wrap qty_wrap_big mar_b6\">\n",
       "<input aria-label=\"Quantité\" class=\"input-group\" data-allow-oosp=\"0\" data-quantity=\"4\" id=\"quantity_wanted\" min=\"1\" name=\"qty\" type=\"number\" value=\"1\"/>\n",
       "</div>\n",
       "<div class=\"add mar_b6\">\n",
       "<button class=\"btn btn-default btn-large add-to-cart btn-full-width btn-spin\" data-button-action=\"add-to-cart\" type=\"submit\">\n",
       "<i class=\"fto-glyph icon_btn\"></i><span>Ajouter au panier</span>\n",
       "</button>\n",
       "</div>\n",
       "</div>\n",
       "<div class=\"pro_cart_right\">\n",
       "<div class=\"flex_box\">\n",
       "</div>\n",
       "</div>\n",
       "</div>\n",
       "</div>\n",
       "<a class=\"add_to_wishlit hover_fly_btn btn_inline wishlist_product pro_right_item\" data-id-product=\"4006\" data-id-product-attribute=\"\" href=\"javascript:;\" rel=\"nofollow\" title=\"Ajouter à la liste de souhaits\"><div class=\"hover_fly_btn_inner\"><i class=\"fto-star icon_btn\"></i><span>Ajouter à la liste de souhaits</span></div></a>\n",
       "<div class=\"steasy_divider between_detials_and_buttons\"><div class=\"steasy_divider_item\"></div></div>\n",
       "<div class=\"product-additional-info\">\n",
       "</div>\n",
       "<input class=\"product-refresh ps-hidden-by-js btn btn-default hidden\" name=\"refresh\" type=\"submit\" value=\"Rafraîchir\"/>\n",
       "</form>\n",
       "</div>\n",
       "<div class=\"product-reference pro_extra_info flex_container\">\n",
       "<span class=\"pro_extra_info_label\">Référence: </span>\n",
       "<div class=\"pro_extra_info_content flex_child\">18-HJZ-032</div>\n",
       "</div>\n",
       "<section class=\"product-features\">\n",
       "<p class=\"page_heading\">Fiche technique</p>\n",
       "<dl class=\"data-sheet flex_container\">\n",
       "<dt class=\"name\">Titre</dt>\n",
       "<dd class=\"value flex_child\">شرح عقيدة السلف وأصحاب الحديث للإمام أبي عثمان الصابوني</dd>\n",
       "</dl>\n",
       "<dl class=\"data-sheet flex_container\">\n",
       "<dt class=\"name\">Auteur</dt>\n",
       "<dd class=\"value flex_child\">الشيخ عبد الله الغنيمان</dd>\n",
       "</dl>\n",
       "<dl class=\"data-sheet flex_container\">\n",
       "<dt class=\"name\">Pages</dt>\n",
       "<dd class=\"value flex_child\">280</dd>\n",
       "</dl>\n",
       "<dl class=\"data-sheet flex_container\">\n",
       "<dt class=\"name\">Édition</dt>\n",
       "<dd class=\"value flex_child\">مكتبة دار الحجاز</dd>\n",
       "</dl>\n",
       "<dl class=\"data-sheet flex_container\">\n",
       "<dt class=\"name\">Couverture</dt>\n",
       "<dd class=\"value flex_child\">Rigide</dd>\n",
       "</dl>\n",
       "<dl class=\"data-sheet flex_container\">\n",
       "<dt class=\"name\">Format</dt>\n",
       "<dd class=\"value flex_child\">17x24cm</dd>\n",
       "</dl>\n",
       "<dl class=\"data-sheet flex_container\">\n",
       "<dt class=\"name\">Harakat</dt>\n",
       "<dd class=\"value flex_child\">Pas ou peu (ou que sur le Matn)</dd>\n",
       "</dl>\n",
       "</section>\n",
       "</div>"
      ]
     },
     "execution_count": 31,
     "metadata": {},
     "output_type": "execute_result"
    }
   ],
   "source": [
    "url = \"https://www.sifatusafwa.com/fr/explications-de-livres-de-aqida/charh-aqidah-salaf-wa-ashab-al-hadith-cheikh-abdallah-al-ghunayman.html\"\n",
    "r = requests.get(url)\n",
    "soup = BeautifulSoup(r.content, 'html.parser')\n",
    "s = soup.find('section', id ='main')\n",
    "s_description = s.find(class_ = 'product-information')\n",
    "s_description"
   ]
  }
 ],
 "metadata": {
  "kernelspec": {
   "display_name": "Python 3.8.5 ('base')",
   "language": "python",
   "name": "python3"
  },
  "language_info": {
   "codemirror_mode": {
    "name": "ipython",
    "version": 3
   },
   "file_extension": ".py",
   "mimetype": "text/x-python",
   "name": "python",
   "nbconvert_exporter": "python",
   "pygments_lexer": "ipython3",
   "version": "3.8.5"
  },
  "orig_nbformat": 4,
  "vscode": {
   "interpreter": {
    "hash": "258996d679d8e259ac990df9fdfc128ec5eb77c39bd98f0b9ba2b9004f62dd43"
   }
  }
 },
 "nbformat": 4,
 "nbformat_minor": 2
}
