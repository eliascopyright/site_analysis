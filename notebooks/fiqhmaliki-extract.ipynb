{
 "cells": [
  {
   "cell_type": "markdown",
   "metadata": {},
   "source": [
    "بسم الله الرحمن الرحيم"
   ]
  },
  {
   "cell_type": "markdown",
   "metadata": {},
   "source": [
    "**Première extraction**\n",
    "\n",
    "Deuxième notebook.\n",
    "\n",
    "Détails 1/2.\n",
    "\n",
    "Le but ici est d'obtenir les détails de chaque livre : Titre arabe, nombre de volumes, édition...."
   ]
  },
  {
   "cell_type": "markdown",
   "metadata": {},
   "source": [
    "## Première étape : aller chercher les urls de chacun des livres"
   ]
  },
  {
   "cell_type": "code",
   "execution_count": 1,
   "metadata": {},
   "outputs": [],
   "source": [
    "import requests\n",
    "from bs4 import BeautifulSoup\n",
    "import numpy as np\n",
    "import pandas as pd\n",
    "\n",
    "r = requests.get('https://www.sifatusafwa.com/fr/fiqh-maliki/')\n",
    "soup = BeautifulSoup(r.content, 'html.parser')\n",
    "s = soup.find('section', id = 'products')\n",
    "#s = s.find_all('div', class_ = 'products product_list row grid')\n",
    "#lines = s.find('h3', class_ = 's_title_block flex_child')\n",
    "#Affichage du contenu de la page\n",
    "#print(lines)\n",
    "\n",
    "#Extraire les liens\n",
    "urls = []\n",
    "for line in s.findAll('a'):\n",
    "    urls.append(line.get('href'))#line.text.split(\\'n') est une liste de hcaine de caractères, donc [0] est \n",
    "    #seulement le str.\n",
    "    #print(line.text.split('\\n'))#line.text enlève les balises et les choses propres à html/css. Le .split split sur les \\n"
   ]
  },
  {
   "cell_type": "markdown",
   "metadata": {},
   "source": [
    "Tous les liens sont en double/ triple... on va les faire apparaitre qu'une seule fois."
   ]
  },
  {
   "cell_type": "code",
   "execution_count": 2,
   "metadata": {},
   "outputs": [],
   "source": [
    "#Tous les liens sont en double/ triple... on va les faire apparaitre qu'une seule fois.\n",
    "urls = list(np.unique(urls))\n",
    "#urls"
   ]
  },
  {
   "cell_type": "markdown",
   "metadata": {},
   "source": [
    "On va supprimer les liens qui ne renvoient pas vers des livres : \n",
    " - Ceux qui finissent pas '.asc' ou 'desc\n",
    " - Les liens de page (\"?page=2\", \"?page=3\"...) et le lien 'fiqh-maliki/'\n",
    " - les \"javascript\""
   ]
  },
  {
   "cell_type": "code",
   "execution_count": 3,
   "metadata": {},
   "outputs": [],
   "source": [
    "#Suppression des liens ne renvoyant pas vers des livres.\n",
    "urls.remove('javascript:')\n",
    "urls.remove('javascript:;')\n",
    "urls.remove('https://www.sifatusafwa.com/fr/fiqh-maliki/')\n",
    "to_supp = []\n",
    "for link in range(len(urls)):\n",
    "    if urls[link].endswith('asc') or urls[link].endswith('.desc') or urls[link].startswith('https://www.sifatusafwa.com/fr/fiqh-maliki/?'):\n",
    "        to_supp.append(urls[link])\n",
    "    else:\n",
    "        to_supp.append('')\n",
    "    "
   ]
  },
  {
   "cell_type": "code",
   "execution_count": 4,
   "metadata": {},
   "outputs": [],
   "source": [
    "urls = pd.DataFrame(urls)\n",
    "A = urls == pd.DataFrame(to_supp) \n",
    "urls = urls[A == False].dropna()"
   ]
  },
  {
   "cell_type": "code",
   "execution_count": 5,
   "metadata": {},
   "outputs": [],
   "source": [
    "urls = urls.values.T.tolist()[0]"
   ]
  },
  {
   "cell_type": "code",
   "execution_count": 6,
   "metadata": {},
   "outputs": [
    {
     "data": {
      "text/plain": [
       "['https://www.sifatusafwa.com/fr/fiqh-ahkam/charh-bidayah-al-mujtahid-wa-nihayah-al-muqtasid-abdullah-al-abadi.html',\n",
       " 'https://www.sifatusafwa.com/fr/fiqh-ahkam/tabsirah-al-hukkam-fi-usul-al-aqdhiyyah-ibn-farhun-799h.html',\n",
       " 'https://www.sifatusafwa.com/fr/fiqh-maliki/al-jami-li-masa-il-al-mudawwanah-ibn-yunus-as-siqilli-451h.html',\n",
       " 'https://www.sifatusafwa.com/fr/fiqh-maliki/al-mou-amalat-fi-al-fiqh-al-maliki-sadiq-al-ghariani.html',\n",
       " 'https://www.sifatusafwa.com/fr/fiqh-maliki/al-muqaddimah-al-qurtubiyyah-bi-charh-cheikh-zarrouk-el-bernoussi.html',\n",
       " 'https://www.sifatusafwa.com/fr/fiqh-maliki/al-usul-fi-ma-rifah-al-usul-risalah-fi-usul-ad-din-ibn-al-arabi.html',\n",
       " 'https://www.sifatusafwa.com/fr/fiqh-maliki/charh-aqidah-malik-as-saghir-al-qayrawani-al-qadi-abdelwahhab.html',\n",
       " 'https://www.sifatusafwa.com/fr/fiqh-maliki/dalil-as-salik-ala-as-hal-al-massalik-houssain-as-soulaymani.html',\n",
       " 'https://www.sifatusafwa.com/fr/fiqh-maliki/hachiyah-ad-dousouqi-ala-ach-charh-al-kabir-fiqh-maliki.html',\n",
       " 'https://www.sifatusafwa.com/fr/fiqh-maliki/lawami-al-durar-fi-hatk-astar-al-mukhtasar-al-majlisi-ash-shinqiti.html',\n",
       " 'https://www.sifatusafwa.com/fr/fiqh-maliki/le-statut-du-qabd-dans-la-prière-chez-l-imam-malik-al-mekki-ibn-azouz.html',\n",
       " 'https://www.sifatusafwa.com/fr/fiqh-maliki/majmou-al-amir-moukhtasar-al-amir-fiqh-maliki.html']"
      ]
     },
     "execution_count": 6,
     "metadata": {},
     "output_type": "execute_result"
    }
   ],
   "source": [
    "urls"
   ]
  },
  {
   "cell_type": "markdown",
   "metadata": {},
   "source": [
    "On va maintenant essayer de regrouper les données des liens dans un dataframe."
   ]
  },
  {
   "cell_type": "markdown",
   "metadata": {},
   "source": [
    "## Essai pour le premier lien"
   ]
  },
  {
   "cell_type": "code",
   "execution_count": 7,
   "metadata": {},
   "outputs": [],
   "source": [
    "url = urls[0]\n",
    "r = requests.get(url)\n",
    "soup = BeautifulSoup(r.content, 'html.parser')\n",
    "s = soup.find('section', class_='product-features')\n",
    "L_string = []\n",
    "for text in s.findAll(class_ ='data-sheet flex_container'):\n",
    "    L_string.append(text.text.split('\\n'))"
   ]
  },
  {
   "cell_type": "code",
   "execution_count": 8,
   "metadata": {},
   "outputs": [],
   "source": [
    "#L_string"
   ]
  },
  {
   "cell_type": "markdown",
   "metadata": {},
   "source": [
    "On essaye d'unifier pour enlever les deux \"\" et afficher en colonnes:"
   ]
  },
  {
   "cell_type": "code",
   "execution_count": 9,
   "metadata": {},
   "outputs": [
    {
     "data": {
      "text/html": [
       "<div>\n",
       "<style scoped>\n",
       "    .dataframe tbody tr th:only-of-type {\n",
       "        vertical-align: middle;\n",
       "    }\n",
       "\n",
       "    .dataframe tbody tr th {\n",
       "        vertical-align: top;\n",
       "    }\n",
       "\n",
       "    .dataframe thead th {\n",
       "        text-align: right;\n",
       "    }\n",
       "</style>\n",
       "<table border=\"1\" class=\"dataframe\">\n",
       "  <thead>\n",
       "    <tr style=\"text-align: right;\">\n",
       "      <th></th>\n",
       "      <th>0</th>\n",
       "      <th>1</th>\n",
       "      <th>2</th>\n",
       "      <th>3</th>\n",
       "    </tr>\n",
       "  </thead>\n",
       "  <tbody>\n",
       "    <tr>\n",
       "      <th>0</th>\n",
       "      <td></td>\n",
       "      <td>Titre</td>\n",
       "      <td>شرح بداية المجتهد ونهاية المقتصد وبهامشه السبي...</td>\n",
       "      <td></td>\n",
       "    </tr>\n",
       "    <tr>\n",
       "      <th>1</th>\n",
       "      <td></td>\n",
       "      <td>Auteur</td>\n",
       "      <td>د. عبد الله العبادي</td>\n",
       "      <td></td>\n",
       "    </tr>\n",
       "    <tr>\n",
       "      <th>2</th>\n",
       "      <td></td>\n",
       "      <td>Volumes</td>\n",
       "      <td>4</td>\n",
       "      <td></td>\n",
       "    </tr>\n",
       "    <tr>\n",
       "      <th>3</th>\n",
       "      <td></td>\n",
       "      <td>Pages</td>\n",
       "      <td>2328</td>\n",
       "      <td></td>\n",
       "    </tr>\n",
       "    <tr>\n",
       "      <th>4</th>\n",
       "      <td></td>\n",
       "      <td>Édition</td>\n",
       "      <td>دار السلام</td>\n",
       "      <td></td>\n",
       "    </tr>\n",
       "  </tbody>\n",
       "</table>\n",
       "</div>"
      ],
      "text/plain": [
       "  0        1                                                  2 3\n",
       "0      Titre  شرح بداية المجتهد ونهاية المقتصد وبهامشه السبي...  \n",
       "1     Auteur                                د. عبد الله العبادي  \n",
       "2    Volumes                                                  4  \n",
       "3      Pages                                               2328  \n",
       "4    Édition                                         دار السلام  "
      ]
     },
     "execution_count": 9,
     "metadata": {},
     "output_type": "execute_result"
    }
   ],
   "source": [
    "df = pd.DataFrame(L_string)\n",
    "df = df.drop_duplicates() #des fois les volumes apparaissent deux fois\n",
    "df.head() #Pour avoir un aperçu"
   ]
  },
  {
   "cell_type": "code",
   "execution_count": 10,
   "metadata": {},
   "outputs": [],
   "source": [
    "df.columns = ['supp', 'categories', 'test', 'supp2']\n",
    "df.drop(['supp', 'supp2'], axis = 1, inplace=True)"
   ]
  },
  {
   "cell_type": "code",
   "execution_count": 11,
   "metadata": {},
   "outputs": [
    {
     "data": {
      "text/html": [
       "<div>\n",
       "<style scoped>\n",
       "    .dataframe tbody tr th:only-of-type {\n",
       "        vertical-align: middle;\n",
       "    }\n",
       "\n",
       "    .dataframe tbody tr th {\n",
       "        vertical-align: top;\n",
       "    }\n",
       "\n",
       "    .dataframe thead th {\n",
       "        text-align: right;\n",
       "    }\n",
       "</style>\n",
       "<table border=\"1\" class=\"dataframe\">\n",
       "  <thead>\n",
       "    <tr style=\"text-align: right;\">\n",
       "      <th></th>\n",
       "      <th>test</th>\n",
       "    </tr>\n",
       "    <tr>\n",
       "      <th>categories</th>\n",
       "      <th></th>\n",
       "    </tr>\n",
       "  </thead>\n",
       "  <tbody>\n",
       "    <tr>\n",
       "      <th>Titre</th>\n",
       "      <td>شرح بداية المجتهد ونهاية المقتصد وبهامشه السبي...</td>\n",
       "    </tr>\n",
       "    <tr>\n",
       "      <th>Auteur</th>\n",
       "      <td>د. عبد الله العبادي</td>\n",
       "    </tr>\n",
       "    <tr>\n",
       "      <th>Volumes</th>\n",
       "      <td>4</td>\n",
       "    </tr>\n",
       "    <tr>\n",
       "      <th>Pages</th>\n",
       "      <td>2328</td>\n",
       "    </tr>\n",
       "    <tr>\n",
       "      <th>Édition</th>\n",
       "      <td>دار السلام</td>\n",
       "    </tr>\n",
       "  </tbody>\n",
       "</table>\n",
       "</div>"
      ],
      "text/plain": [
       "                                                         test\n",
       "categories                                                   \n",
       "Titre       شرح بداية المجتهد ونهاية المقتصد وبهامشه السبي...\n",
       "Auteur                                    د. عبد الله العبادي\n",
       "Volumes                                                     4\n",
       "Pages                                                    2328\n",
       "Édition                                            دار السلام"
      ]
     },
     "execution_count": 11,
     "metadata": {},
     "output_type": "execute_result"
    }
   ],
   "source": [
    "df.set_index('categories', inplace = True)\n",
    "df.head()"
   ]
  },
  {
   "cell_type": "markdown",
   "metadata": {},
   "source": [
    "الحمد لله, il faut maintenant transposer ce tableau et le faire tourner pour tous les sites."
   ]
  },
  {
   "cell_type": "markdown",
   "metadata": {},
   "source": [
    "## Tentative de concaténation de deux dataframes"
   ]
  },
  {
   "cell_type": "markdown",
   "metadata": {},
   "source": [
    "On a pas réussi à concaténer les deux transposés, on va essayer de les concaténer et de les transposer après."
   ]
  },
  {
   "cell_type": "code",
   "execution_count": 12,
   "metadata": {},
   "outputs": [
    {
     "data": {
      "text/html": [
       "<div>\n",
       "<style scoped>\n",
       "    .dataframe tbody tr th:only-of-type {\n",
       "        vertical-align: middle;\n",
       "    }\n",
       "\n",
       "    .dataframe tbody tr th {\n",
       "        vertical-align: top;\n",
       "    }\n",
       "\n",
       "    .dataframe thead th {\n",
       "        text-align: right;\n",
       "    }\n",
       "</style>\n",
       "<table border=\"1\" class=\"dataframe\">\n",
       "  <thead>\n",
       "    <tr style=\"text-align: right;\">\n",
       "      <th></th>\n",
       "      <th>0</th>\n",
       "      <th>1</th>\n",
       "      <th>2</th>\n",
       "      <th>3</th>\n",
       "    </tr>\n",
       "  </thead>\n",
       "  <tbody>\n",
       "    <tr>\n",
       "      <th>0</th>\n",
       "      <td></td>\n",
       "      <td>Titre</td>\n",
       "      <td>تبصرة الحكام في أصول الأقضية ومناهج الأحكام</td>\n",
       "      <td></td>\n",
       "    </tr>\n",
       "    <tr>\n",
       "      <th>1</th>\n",
       "      <td></td>\n",
       "      <td>Auteur</td>\n",
       "      <td>ابن فرحون المالكي</td>\n",
       "      <td></td>\n",
       "    </tr>\n",
       "    <tr>\n",
       "      <th>2</th>\n",
       "      <td></td>\n",
       "      <td>Volumes</td>\n",
       "      <td>3</td>\n",
       "      <td></td>\n",
       "    </tr>\n",
       "    <tr>\n",
       "      <th>3</th>\n",
       "      <td></td>\n",
       "      <td>Pages</td>\n",
       "      <td>2013</td>\n",
       "      <td></td>\n",
       "    </tr>\n",
       "    <tr>\n",
       "      <th>4</th>\n",
       "      <td></td>\n",
       "      <td>Édition</td>\n",
       "      <td>دار القلم</td>\n",
       "      <td></td>\n",
       "    </tr>\n",
       "    <tr>\n",
       "      <th>5</th>\n",
       "      <td></td>\n",
       "      <td>Couverture</td>\n",
       "      <td>Rigide</td>\n",
       "      <td></td>\n",
       "    </tr>\n",
       "    <tr>\n",
       "      <th>6</th>\n",
       "      <td></td>\n",
       "      <td>Vérification et préparation</td>\n",
       "      <td>د. عثمان ضميرية</td>\n",
       "      <td></td>\n",
       "    </tr>\n",
       "    <tr>\n",
       "      <th>8</th>\n",
       "      <td></td>\n",
       "      <td>Format</td>\n",
       "      <td>17x24cm</td>\n",
       "      <td></td>\n",
       "    </tr>\n",
       "    <tr>\n",
       "      <th>9</th>\n",
       "      <td></td>\n",
       "      <td>Harakat</td>\n",
       "      <td>En Majorité ou en Totalité</td>\n",
       "      <td></td>\n",
       "    </tr>\n",
       "  </tbody>\n",
       "</table>\n",
       "</div>"
      ],
      "text/plain": [
       "  0                            1                                            2  \\\n",
       "0                          Titre  تبصرة الحكام في أصول الأقضية ومناهج الأحكام   \n",
       "1                         Auteur                            ابن فرحون المالكي   \n",
       "2                        Volumes                                            3   \n",
       "3                          Pages                                         2013   \n",
       "4                        Édition                                    دار القلم   \n",
       "5                     Couverture                                       Rigide   \n",
       "6    Vérification et préparation                              د. عثمان ضميرية   \n",
       "8                         Format                                      17x24cm   \n",
       "9                        Harakat                   En Majorité ou en Totalité   \n",
       "\n",
       "  3  \n",
       "0    \n",
       "1    \n",
       "2    \n",
       "3    \n",
       "4    \n",
       "5    \n",
       "6    \n",
       "8    \n",
       "9    "
      ]
     },
     "execution_count": 12,
     "metadata": {},
     "output_type": "execute_result"
    }
   ],
   "source": [
    "url = urls[1]\n",
    "r = requests.get(url)\n",
    "soup = BeautifulSoup(r.content, 'html.parser')\n",
    "s = soup.find('section', class_='product-features')\n",
    "L_string = []\n",
    "for text in s.findAll(class_ ='data-sheet flex_container'):\n",
    "    L_string.append(text.text.split('\\n'))\n",
    "L_string = np.array(L_string)\n",
    "df2 = pd.DataFrame((L_string))\n",
    "df2 = df2.drop_duplicates()\n",
    "df2 #Pour avoir un aperçu"
   ]
  },
  {
   "cell_type": "code",
   "execution_count": 13,
   "metadata": {},
   "outputs": [
    {
     "data": {
      "text/html": [
       "<div>\n",
       "<style scoped>\n",
       "    .dataframe tbody tr th:only-of-type {\n",
       "        vertical-align: middle;\n",
       "    }\n",
       "\n",
       "    .dataframe tbody tr th {\n",
       "        vertical-align: top;\n",
       "    }\n",
       "\n",
       "    .dataframe thead th {\n",
       "        text-align: right;\n",
       "    }\n",
       "</style>\n",
       "<table border=\"1\" class=\"dataframe\">\n",
       "  <thead>\n",
       "    <tr style=\"text-align: right;\">\n",
       "      <th></th>\n",
       "      <th>test</th>\n",
       "    </tr>\n",
       "    <tr>\n",
       "      <th>categories</th>\n",
       "      <th></th>\n",
       "    </tr>\n",
       "  </thead>\n",
       "  <tbody>\n",
       "    <tr>\n",
       "      <th>Titre</th>\n",
       "      <td>تبصرة الحكام في أصول الأقضية ومناهج الأحكام</td>\n",
       "    </tr>\n",
       "    <tr>\n",
       "      <th>Auteur</th>\n",
       "      <td>ابن فرحون المالكي</td>\n",
       "    </tr>\n",
       "    <tr>\n",
       "      <th>Volumes</th>\n",
       "      <td>3</td>\n",
       "    </tr>\n",
       "    <tr>\n",
       "      <th>Pages</th>\n",
       "      <td>2013</td>\n",
       "    </tr>\n",
       "    <tr>\n",
       "      <th>Édition</th>\n",
       "      <td>دار القلم</td>\n",
       "    </tr>\n",
       "    <tr>\n",
       "      <th>Couverture</th>\n",
       "      <td>Rigide</td>\n",
       "    </tr>\n",
       "    <tr>\n",
       "      <th>Vérification et préparation</th>\n",
       "      <td>د. عثمان ضميرية</td>\n",
       "    </tr>\n",
       "    <tr>\n",
       "      <th>Format</th>\n",
       "      <td>17x24cm</td>\n",
       "    </tr>\n",
       "    <tr>\n",
       "      <th>Harakat</th>\n",
       "      <td>En Majorité ou en Totalité</td>\n",
       "    </tr>\n",
       "  </tbody>\n",
       "</table>\n",
       "</div>"
      ],
      "text/plain": [
       "                                                                    test\n",
       "categories                                                              \n",
       "Titre                        تبصرة الحكام في أصول الأقضية ومناهج الأحكام\n",
       "Auteur                                                 ابن فرحون المالكي\n",
       "Volumes                                                                3\n",
       "Pages                                                               2013\n",
       "Édition                                                        دار القلم\n",
       "Couverture                                                        Rigide\n",
       "Vérification et préparation                              د. عثمان ضميرية\n",
       "Format                                                           17x24cm\n",
       "Harakat                                       En Majorité ou en Totalité"
      ]
     },
     "execution_count": 13,
     "metadata": {},
     "output_type": "execute_result"
    }
   ],
   "source": [
    "df2.columns = ['supp', 'categories', 'test', 'supp2']\n",
    "df2.drop(['supp', 'supp2'], axis = 1, inplace=True)\n",
    "df2.set_index('categories', inplace = True)\n",
    "df2 #pour comparer avec df"
   ]
  },
  {
   "cell_type": "code",
   "execution_count": 14,
   "metadata": {},
   "outputs": [],
   "source": [
    "M = df.join(on='categories', other = df2, rsuffix='_df2', how = 'outer')"
   ]
  },
  {
   "cell_type": "code",
   "execution_count": 15,
   "metadata": {},
   "outputs": [],
   "source": [
    "M.set_index(M['categories'], inplace = True)#Si il y a un tahqiq (authentification), une colonne supplémentaire apparaît,\n",
    "#en faisant ca on dit que l'index sera la colonne \"categories\" avec le plus de champs remplis.\n",
    "M.drop(['categories'], axis = 1, inplace = True)"
   ]
  },
  {
   "cell_type": "code",
   "execution_count": 16,
   "metadata": {},
   "outputs": [],
   "source": [
    "#M"
   ]
  },
  {
   "cell_type": "code",
   "execution_count": 17,
   "metadata": {},
   "outputs": [],
   "source": [
    "#M.T"
   ]
  },
  {
   "cell_type": "markdown",
   "metadata": {},
   "source": [
    "Maintenant on peut essayer de faire une boucles sur toutes les pages. On pourra renommer les \"categories\" par le site où on pourra trouver ce livre."
   ]
  },
  {
   "cell_type": "markdown",
   "metadata": {},
   "source": [
    "## Essai de boucle sur tous les sites d'une page donnée"
   ]
  },
  {
   "cell_type": "markdown",
   "metadata": {},
   "source": [
    "On fait juste le premier lien pour qu'on puisse fusionner sur un DataFrame, on le supprimera juste après inchAllah"
   ]
  },
  {
   "cell_type": "code",
   "execution_count": 18,
   "metadata": {},
   "outputs": [],
   "source": [
    "url = urls[0]\n",
    "r = requests.get(url)\n",
    "soup = BeautifulSoup(r.content, 'html.parser')\n",
    "s = soup.find('section', class_='product-features')\n",
    "L_string = []\n",
    "for text in s.findAll(class_ ='data-sheet flex_container'):\n",
    "    L_string.append(text.text.split('\\n'))\n",
    "L_string = np.array(L_string)\n",
    "df = pd.DataFrame((L_string))\n",
    "df = df.drop_duplicates()#des fois les volumes apparaissent deux fois\n",
    "df.columns = ['supp', 'categories', str(url), 'supp2']# a cette étape on remplace ce qu'il faut pour voir les sites en colonnes\n",
    "df.drop(['supp', 'supp2'], axis = 1, inplace=True)\n",
    "df.set_index('categories', inplace = True)"
   ]
  },
  {
   "cell_type": "code",
   "execution_count": 19,
   "metadata": {},
   "outputs": [],
   "source": [
    "urls.remove(urls[0]) #On enlève le lien qu'on a déjà mis dans le dataframe de base"
   ]
  },
  {
   "cell_type": "markdown",
   "metadata": {},
   "source": [
    "Changements dans la boucle:\n",
    " - df2 devient df_other\n",
    " - on ajoute le site en colonne"
   ]
  },
  {
   "cell_type": "code",
   "execution_count": 20,
   "metadata": {},
   "outputs": [
    {
     "name": "stdout",
     "output_type": "stream",
     "text": [
      "0\n"
     ]
    }
   ],
   "source": [
    "print(urls.index(urls[0]))"
   ]
  },
  {
   "cell_type": "code",
   "execution_count": 21,
   "metadata": {},
   "outputs": [],
   "source": [
    "dfs = []\n",
    "i = 0\n",
    "for url in urls:\n",
    "    r = requests.get(url)\n",
    "    soup = BeautifulSoup(r.content, 'html.parser')\n",
    "    s = soup.find('section', class_='product-features')\n",
    "    L_string = []\n",
    "    for text in s.findAll(class_ ='data-sheet flex_container'):\n",
    "        L_string.append(text.text.split('\\n'))\n",
    "    L_string = np.array(L_string)\n",
    "    df_other = pd.DataFrame((L_string))\n",
    "    df_other = df_other.drop_duplicates()#des fois les volumes apparaissent deux fois\n",
    "    df_other.columns = ['supp', 'categories',str(url), 'supp2']# a cette étape on remplace ce qu'il faut pour voir les sites en colonnes\n",
    "    df_other.drop(['supp', 'supp2'], axis = 1, inplace=True)\n",
    "    df_other.set_index('categories', inplace = True)\n",
    "    dfs.append(df_other)"
   ]
  },
  {
   "cell_type": "code",
   "execution_count": 22,
   "metadata": {},
   "outputs": [],
   "source": [
    "M = pd.concat((d for d in dfs), axis = 1)"
   ]
  },
  {
   "cell_type": "code",
   "execution_count": 23,
   "metadata": {},
   "outputs": [
    {
     "data": {
      "text/html": [
       "<div>\n",
       "<style scoped>\n",
       "    .dataframe tbody tr th:only-of-type {\n",
       "        vertical-align: middle;\n",
       "    }\n",
       "\n",
       "    .dataframe tbody tr th {\n",
       "        vertical-align: top;\n",
       "    }\n",
       "\n",
       "    .dataframe thead th {\n",
       "        text-align: right;\n",
       "    }\n",
       "</style>\n",
       "<table border=\"1\" class=\"dataframe\">\n",
       "  <thead>\n",
       "    <tr style=\"text-align: right;\">\n",
       "      <th></th>\n",
       "      <th>Titre</th>\n",
       "      <th>Auteur</th>\n",
       "      <th>Volumes</th>\n",
       "      <th>Pages</th>\n",
       "      <th>Édition</th>\n",
       "      <th>Couverture</th>\n",
       "      <th>Vérification et préparation</th>\n",
       "      <th>Format</th>\n",
       "      <th>Harakat</th>\n",
       "      <th>Préface</th>\n",
       "    </tr>\n",
       "  </thead>\n",
       "  <tbody>\n",
       "    <tr>\n",
       "      <th>https://www.sifatusafwa.com/fr/fiqh-ahkam/tabsirah-al-hukkam-fi-usul-al-aqdhiyyah-ibn-farhun-799h.html</th>\n",
       "      <td>تبصرة الحكام في أصول الأقضية ومناهج الأحكام</td>\n",
       "      <td>ابن فرحون المالكي</td>\n",
       "      <td>3</td>\n",
       "      <td>2013</td>\n",
       "      <td>دار القلم</td>\n",
       "      <td>Rigide</td>\n",
       "      <td>د. عثمان ضميرية</td>\n",
       "      <td>17x24cm</td>\n",
       "      <td>En Majorité ou en Totalité</td>\n",
       "      <td>NaN</td>\n",
       "    </tr>\n",
       "    <tr>\n",
       "      <th>https://www.sifatusafwa.com/fr/fiqh-maliki/al-jami-li-masa-il-al-mudawwanah-ibn-yunus-as-siqilli-451h.html</th>\n",
       "      <td>الجامع لمسائل المدونة المسمى مصحف المذهب المالكي</td>\n",
       "      <td>ابن يونس الصقلي</td>\n",
       "      <td>10</td>\n",
       "      <td>5520</td>\n",
       "      <td>إبداع - دار ابن الجوزي القاهرة</td>\n",
       "      <td>Rigide</td>\n",
       "      <td>NaN</td>\n",
       "      <td>17x24cm</td>\n",
       "      <td>Pas ou peu (ou que sur le Matn)</td>\n",
       "      <td>NaN</td>\n",
       "    </tr>\n",
       "    <tr>\n",
       "      <th>https://www.sifatusafwa.com/fr/fiqh-maliki/al-mou-amalat-fi-al-fiqh-al-maliki-sadiq-al-ghariani.html</th>\n",
       "      <td>المعاملات في الفقه المالكي</td>\n",
       "      <td>الصادق بن عبد الرحمن الغرياني</td>\n",
       "      <td>NaN</td>\n",
       "      <td>333</td>\n",
       "      <td>دار ابن حزم</td>\n",
       "      <td>Rigide</td>\n",
       "      <td>NaN</td>\n",
       "      <td>17x24cm</td>\n",
       "      <td>Pas ou peu (ou que sur le Matn)</td>\n",
       "      <td>NaN</td>\n",
       "    </tr>\n",
       "    <tr>\n",
       "      <th>https://www.sifatusafwa.com/fr/fiqh-maliki/al-muqaddimah-al-qurtubiyyah-bi-charh-cheikh-zarrouk-el-bernoussi.html</th>\n",
       "      <td>شرح المقدمة القرطبية ليحيى القرطبي</td>\n",
       "      <td>الشيخ أحمد زروق البرنسي</td>\n",
       "      <td>NaN</td>\n",
       "      <td>334</td>\n",
       "      <td>دار ابن حزم</td>\n",
       "      <td>Rigide</td>\n",
       "      <td>د. أحسن زقور</td>\n",
       "      <td>17x24cm</td>\n",
       "      <td>Pas ou peu (ou que sur le Matn)</td>\n",
       "      <td>NaN</td>\n",
       "    </tr>\n",
       "    <tr>\n",
       "      <th>https://www.sifatusafwa.com/fr/fiqh-maliki/al-usul-fi-ma-rifah-al-usul-risalah-fi-usul-ad-din-ibn-al-arabi.html</th>\n",
       "      <td>الوصول إلى معرفة الأصول</td>\n",
       "      <td>الإمام أبو بكر ابن العربي المالكي</td>\n",
       "      <td>NaN</td>\n",
       "      <td>172</td>\n",
       "      <td>دار الفتح</td>\n",
       "      <td>Rigide</td>\n",
       "      <td>NaN</td>\n",
       "      <td>17x24cm</td>\n",
       "      <td>Pas ou peu (ou que sur le Matn)</td>\n",
       "      <td>NaN</td>\n",
       "    </tr>\n",
       "    <tr>\n",
       "      <th>https://www.sifatusafwa.com/fr/fiqh-maliki/charh-aqidah-malik-as-saghir-al-qayrawani-al-qadi-abdelwahhab.html</th>\n",
       "      <td>شرح عقيدة مالك الصغير ابن أبي زيد القيرواني</td>\n",
       "      <td>القاضي عبد الوهاب بن نصر البغدادي</td>\n",
       "      <td>NaN</td>\n",
       "      <td>344</td>\n",
       "      <td>الرابطة المحمدية للعلماء في المغرب</td>\n",
       "      <td>Rigide</td>\n",
       "      <td>NaN</td>\n",
       "      <td>17x24cm</td>\n",
       "      <td>Pas ou peu (ou que sur le Matn)</td>\n",
       "      <td>NaN</td>\n",
       "    </tr>\n",
       "    <tr>\n",
       "      <th>https://www.sifatusafwa.com/fr/fiqh-maliki/dalil-as-salik-ala-as-hal-al-massalik-houssain-as-soulaymani.html</th>\n",
       "      <td>دليل السالك على أسهل المسالك</td>\n",
       "      <td>لحسن بن محمد سليماني</td>\n",
       "      <td>NaN</td>\n",
       "      <td>613</td>\n",
       "      <td>دار ابن حزم</td>\n",
       "      <td>Rigide</td>\n",
       "      <td>NaN</td>\n",
       "      <td>17x24cm</td>\n",
       "      <td>Pas ou peu (ou que sur le Matn)</td>\n",
       "      <td>NaN</td>\n",
       "    </tr>\n",
       "    <tr>\n",
       "      <th>https://www.sifatusafwa.com/fr/fiqh-maliki/hachiyah-ad-dousouqi-ala-ach-charh-al-kabir-fiqh-maliki.html</th>\n",
       "      <td>حاشية العلامة الدسوقي على الشرح الكبير للإمام ...</td>\n",
       "      <td>العلامة الدسوقي</td>\n",
       "      <td>15</td>\n",
       "      <td>NaN</td>\n",
       "      <td>دار ابن حزم</td>\n",
       "      <td>Rigide</td>\n",
       "      <td>أحمد بن علي الدمياطي</td>\n",
       "      <td>17x24cm</td>\n",
       "      <td>En Majorité ou en Totalité</td>\n",
       "      <td>NaN</td>\n",
       "    </tr>\n",
       "    <tr>\n",
       "      <th>https://www.sifatusafwa.com/fr/fiqh-maliki/lawami-al-durar-fi-hatk-astar-al-mukhtasar-al-majlisi-ash-shinqiti.html</th>\n",
       "      <td>لوامع الدرر في هتك أستار المختصر</td>\n",
       "      <td>محمد المجلسي الشنقيطي</td>\n",
       "      <td>14</td>\n",
       "      <td>9032</td>\n",
       "      <td>إبداع - دار ابن الجوزي القاهرة</td>\n",
       "      <td>Rigide</td>\n",
       "      <td>NaN</td>\n",
       "      <td>17x24cm</td>\n",
       "      <td>Pas ou peu (ou que sur le Matn)</td>\n",
       "      <td>NaN</td>\n",
       "    </tr>\n",
       "    <tr>\n",
       "      <th>https://www.sifatusafwa.com/fr/fiqh-maliki/le-statut-du-qabd-dans-la-prière-chez-l-imam-malik-al-mekki-ibn-azouz.html</th>\n",
       "      <td>هيئة الناسك في أن القبض في الصلاة هو مذهب الإم...</td>\n",
       "      <td>محمد المكي بن عزوز</td>\n",
       "      <td>NaN</td>\n",
       "      <td>176</td>\n",
       "      <td>دار الإمام مسلم</td>\n",
       "      <td>Rigide</td>\n",
       "      <td>NaN</td>\n",
       "      <td>17x24cm</td>\n",
       "      <td>Pas ou peu (ou que sur le Matn)</td>\n",
       "      <td>NaN</td>\n",
       "    </tr>\n",
       "    <tr>\n",
       "      <th>https://www.sifatusafwa.com/fr/fiqh-maliki/majmou-al-amir-moukhtasar-al-amir-fiqh-maliki.html</th>\n",
       "      <td>مجموع الأمير وشرحه</td>\n",
       "      <td>محمد الأمير المالكي</td>\n",
       "      <td>4</td>\n",
       "      <td>1532</td>\n",
       "      <td>مكتبة المشارق</td>\n",
       "      <td>Rigide</td>\n",
       "      <td>حمدي عبد المنعم شلبي</td>\n",
       "      <td>17x24cm</td>\n",
       "      <td>En Majorité ou en Totalité</td>\n",
       "      <td>د. أحمد علي طه ريان</td>\n",
       "    </tr>\n",
       "  </tbody>\n",
       "</table>\n",
       "</div>"
      ],
      "text/plain": [
       "                                                                                                Titre  \\\n",
       "https://www.sifatusafwa.com/fr/fiqh-ahkam/tabsi...        تبصرة الحكام في أصول الأقضية ومناهج الأحكام   \n",
       "https://www.sifatusafwa.com/fr/fiqh-maliki/al-j...   الجامع لمسائل المدونة المسمى مصحف المذهب المالكي   \n",
       "https://www.sifatusafwa.com/fr/fiqh-maliki/al-m...                         المعاملات في الفقه المالكي   \n",
       "https://www.sifatusafwa.com/fr/fiqh-maliki/al-m...                 شرح المقدمة القرطبية ليحيى القرطبي   \n",
       "https://www.sifatusafwa.com/fr/fiqh-maliki/al-u...                            الوصول إلى معرفة الأصول   \n",
       "https://www.sifatusafwa.com/fr/fiqh-maliki/char...        شرح عقيدة مالك الصغير ابن أبي زيد القيرواني   \n",
       "https://www.sifatusafwa.com/fr/fiqh-maliki/dali...                       دليل السالك على أسهل المسالك   \n",
       "https://www.sifatusafwa.com/fr/fiqh-maliki/hach...  حاشية العلامة الدسوقي على الشرح الكبير للإمام ...   \n",
       "https://www.sifatusafwa.com/fr/fiqh-maliki/lawa...                   لوامع الدرر في هتك أستار المختصر   \n",
       "https://www.sifatusafwa.com/fr/fiqh-maliki/le-s...  هيئة الناسك في أن القبض في الصلاة هو مذهب الإم...   \n",
       "https://www.sifatusafwa.com/fr/fiqh-maliki/majm...                                 مجموع الأمير وشرحه   \n",
       "\n",
       "                                                                               Auteur  \\\n",
       "https://www.sifatusafwa.com/fr/fiqh-ahkam/tabsi...                  ابن فرحون المالكي   \n",
       "https://www.sifatusafwa.com/fr/fiqh-maliki/al-j...                    ابن يونس الصقلي   \n",
       "https://www.sifatusafwa.com/fr/fiqh-maliki/al-m...      الصادق بن عبد الرحمن الغرياني   \n",
       "https://www.sifatusafwa.com/fr/fiqh-maliki/al-m...            الشيخ أحمد زروق البرنسي   \n",
       "https://www.sifatusafwa.com/fr/fiqh-maliki/al-u...  الإمام أبو بكر ابن العربي المالكي   \n",
       "https://www.sifatusafwa.com/fr/fiqh-maliki/char...  القاضي عبد الوهاب بن نصر البغدادي   \n",
       "https://www.sifatusafwa.com/fr/fiqh-maliki/dali...               لحسن بن محمد سليماني   \n",
       "https://www.sifatusafwa.com/fr/fiqh-maliki/hach...                    العلامة الدسوقي   \n",
       "https://www.sifatusafwa.com/fr/fiqh-maliki/lawa...              محمد المجلسي الشنقيطي   \n",
       "https://www.sifatusafwa.com/fr/fiqh-maliki/le-s...                 محمد المكي بن عزوز   \n",
       "https://www.sifatusafwa.com/fr/fiqh-maliki/majm...                محمد الأمير المالكي   \n",
       "\n",
       "                                                   Volumes Pages  \\\n",
       "https://www.sifatusafwa.com/fr/fiqh-ahkam/tabsi...       3  2013   \n",
       "https://www.sifatusafwa.com/fr/fiqh-maliki/al-j...      10  5520   \n",
       "https://www.sifatusafwa.com/fr/fiqh-maliki/al-m...     NaN   333   \n",
       "https://www.sifatusafwa.com/fr/fiqh-maliki/al-m...     NaN   334   \n",
       "https://www.sifatusafwa.com/fr/fiqh-maliki/al-u...     NaN   172   \n",
       "https://www.sifatusafwa.com/fr/fiqh-maliki/char...     NaN   344   \n",
       "https://www.sifatusafwa.com/fr/fiqh-maliki/dali...     NaN   613   \n",
       "https://www.sifatusafwa.com/fr/fiqh-maliki/hach...      15   NaN   \n",
       "https://www.sifatusafwa.com/fr/fiqh-maliki/lawa...      14  9032   \n",
       "https://www.sifatusafwa.com/fr/fiqh-maliki/le-s...     NaN   176   \n",
       "https://www.sifatusafwa.com/fr/fiqh-maliki/majm...       4  1532   \n",
       "\n",
       "                                                                               Édition  \\\n",
       "https://www.sifatusafwa.com/fr/fiqh-ahkam/tabsi...                           دار القلم   \n",
       "https://www.sifatusafwa.com/fr/fiqh-maliki/al-j...      إبداع - دار ابن الجوزي القاهرة   \n",
       "https://www.sifatusafwa.com/fr/fiqh-maliki/al-m...                         دار ابن حزم   \n",
       "https://www.sifatusafwa.com/fr/fiqh-maliki/al-m...                         دار ابن حزم   \n",
       "https://www.sifatusafwa.com/fr/fiqh-maliki/al-u...                           دار الفتح   \n",
       "https://www.sifatusafwa.com/fr/fiqh-maliki/char...  الرابطة المحمدية للعلماء في المغرب   \n",
       "https://www.sifatusafwa.com/fr/fiqh-maliki/dali...                         دار ابن حزم   \n",
       "https://www.sifatusafwa.com/fr/fiqh-maliki/hach...                         دار ابن حزم   \n",
       "https://www.sifatusafwa.com/fr/fiqh-maliki/lawa...      إبداع - دار ابن الجوزي القاهرة   \n",
       "https://www.sifatusafwa.com/fr/fiqh-maliki/le-s...                     دار الإمام مسلم   \n",
       "https://www.sifatusafwa.com/fr/fiqh-maliki/majm...                       مكتبة المشارق   \n",
       "\n",
       "                                                   Couverture  \\\n",
       "https://www.sifatusafwa.com/fr/fiqh-ahkam/tabsi...     Rigide   \n",
       "https://www.sifatusafwa.com/fr/fiqh-maliki/al-j...     Rigide   \n",
       "https://www.sifatusafwa.com/fr/fiqh-maliki/al-m...     Rigide   \n",
       "https://www.sifatusafwa.com/fr/fiqh-maliki/al-m...     Rigide   \n",
       "https://www.sifatusafwa.com/fr/fiqh-maliki/al-u...     Rigide   \n",
       "https://www.sifatusafwa.com/fr/fiqh-maliki/char...     Rigide   \n",
       "https://www.sifatusafwa.com/fr/fiqh-maliki/dali...     Rigide   \n",
       "https://www.sifatusafwa.com/fr/fiqh-maliki/hach...     Rigide   \n",
       "https://www.sifatusafwa.com/fr/fiqh-maliki/lawa...     Rigide   \n",
       "https://www.sifatusafwa.com/fr/fiqh-maliki/le-s...     Rigide   \n",
       "https://www.sifatusafwa.com/fr/fiqh-maliki/majm...     Rigide   \n",
       "\n",
       "                                                   Vérification et préparation  \\\n",
       "https://www.sifatusafwa.com/fr/fiqh-ahkam/tabsi...             د. عثمان ضميرية   \n",
       "https://www.sifatusafwa.com/fr/fiqh-maliki/al-j...                         NaN   \n",
       "https://www.sifatusafwa.com/fr/fiqh-maliki/al-m...                         NaN   \n",
       "https://www.sifatusafwa.com/fr/fiqh-maliki/al-m...                د. أحسن زقور   \n",
       "https://www.sifatusafwa.com/fr/fiqh-maliki/al-u...                         NaN   \n",
       "https://www.sifatusafwa.com/fr/fiqh-maliki/char...                         NaN   \n",
       "https://www.sifatusafwa.com/fr/fiqh-maliki/dali...                         NaN   \n",
       "https://www.sifatusafwa.com/fr/fiqh-maliki/hach...        أحمد بن علي الدمياطي   \n",
       "https://www.sifatusafwa.com/fr/fiqh-maliki/lawa...                         NaN   \n",
       "https://www.sifatusafwa.com/fr/fiqh-maliki/le-s...                         NaN   \n",
       "https://www.sifatusafwa.com/fr/fiqh-maliki/majm...        حمدي عبد المنعم شلبي   \n",
       "\n",
       "                                                     Format  \\\n",
       "https://www.sifatusafwa.com/fr/fiqh-ahkam/tabsi...  17x24cm   \n",
       "https://www.sifatusafwa.com/fr/fiqh-maliki/al-j...  17x24cm   \n",
       "https://www.sifatusafwa.com/fr/fiqh-maliki/al-m...  17x24cm   \n",
       "https://www.sifatusafwa.com/fr/fiqh-maliki/al-m...  17x24cm   \n",
       "https://www.sifatusafwa.com/fr/fiqh-maliki/al-u...  17x24cm   \n",
       "https://www.sifatusafwa.com/fr/fiqh-maliki/char...  17x24cm   \n",
       "https://www.sifatusafwa.com/fr/fiqh-maliki/dali...  17x24cm   \n",
       "https://www.sifatusafwa.com/fr/fiqh-maliki/hach...  17x24cm   \n",
       "https://www.sifatusafwa.com/fr/fiqh-maliki/lawa...  17x24cm   \n",
       "https://www.sifatusafwa.com/fr/fiqh-maliki/le-s...  17x24cm   \n",
       "https://www.sifatusafwa.com/fr/fiqh-maliki/majm...  17x24cm   \n",
       "\n",
       "                                                                            Harakat  \\\n",
       "https://www.sifatusafwa.com/fr/fiqh-ahkam/tabsi...       En Majorité ou en Totalité   \n",
       "https://www.sifatusafwa.com/fr/fiqh-maliki/al-j...  Pas ou peu (ou que sur le Matn)   \n",
       "https://www.sifatusafwa.com/fr/fiqh-maliki/al-m...  Pas ou peu (ou que sur le Matn)   \n",
       "https://www.sifatusafwa.com/fr/fiqh-maliki/al-m...  Pas ou peu (ou que sur le Matn)   \n",
       "https://www.sifatusafwa.com/fr/fiqh-maliki/al-u...  Pas ou peu (ou que sur le Matn)   \n",
       "https://www.sifatusafwa.com/fr/fiqh-maliki/char...  Pas ou peu (ou que sur le Matn)   \n",
       "https://www.sifatusafwa.com/fr/fiqh-maliki/dali...  Pas ou peu (ou que sur le Matn)   \n",
       "https://www.sifatusafwa.com/fr/fiqh-maliki/hach...       En Majorité ou en Totalité   \n",
       "https://www.sifatusafwa.com/fr/fiqh-maliki/lawa...  Pas ou peu (ou que sur le Matn)   \n",
       "https://www.sifatusafwa.com/fr/fiqh-maliki/le-s...  Pas ou peu (ou que sur le Matn)   \n",
       "https://www.sifatusafwa.com/fr/fiqh-maliki/majm...       En Majorité ou en Totalité   \n",
       "\n",
       "                                                                Préface  \n",
       "https://www.sifatusafwa.com/fr/fiqh-ahkam/tabsi...                  NaN  \n",
       "https://www.sifatusafwa.com/fr/fiqh-maliki/al-j...                  NaN  \n",
       "https://www.sifatusafwa.com/fr/fiqh-maliki/al-m...                  NaN  \n",
       "https://www.sifatusafwa.com/fr/fiqh-maliki/al-m...                  NaN  \n",
       "https://www.sifatusafwa.com/fr/fiqh-maliki/al-u...                  NaN  \n",
       "https://www.sifatusafwa.com/fr/fiqh-maliki/char...                  NaN  \n",
       "https://www.sifatusafwa.com/fr/fiqh-maliki/dali...                  NaN  \n",
       "https://www.sifatusafwa.com/fr/fiqh-maliki/hach...                  NaN  \n",
       "https://www.sifatusafwa.com/fr/fiqh-maliki/lawa...                  NaN  \n",
       "https://www.sifatusafwa.com/fr/fiqh-maliki/le-s...                  NaN  \n",
       "https://www.sifatusafwa.com/fr/fiqh-maliki/majm...  د. أحمد علي طه ريان  "
      ]
     },
     "execution_count": 23,
     "metadata": {},
     "output_type": "execute_result"
    }
   ],
   "source": [
    "M.T"
   ]
  },
  {
   "cell_type": "markdown",
   "metadata": {},
   "source": [
    "الحمد لله Maintenant on peut essayer de généraliser à toutes les pages"
   ]
  },
  {
   "cell_type": "markdown",
   "metadata": {},
   "source": [
    "## Généralisation à toutes les pages."
   ]
  },
  {
   "cell_type": "markdown",
   "metadata": {},
   "source": [
    "J'ai pris le même modèle de code que dans sifatusafwa-1.ipynb. Ici on va préparer la liste des urls."
   ]
  },
  {
   "cell_type": "code",
   "execution_count": 24,
   "metadata": {},
   "outputs": [],
   "source": [
    "##Aller chercher les urls des livres\n",
    "urls = []\n",
    "new_urls = []\n",
    "to_supp =[]\n",
    "NB_MAX_PAGES = 15\n",
    "for i in range(1,NB_MAX_PAGES):\n",
    "    i = str(i)\n",
    "    r = requests.get('https://www.sifatusafwa.com/fr/fiqh-maliki/?page=' + i)\n",
    "    soup = BeautifulSoup(r.content, 'html.parser')\n",
    "    s = soup.find('section', id = 'products')\n",
    "    #s = s.find_all('div', class_ = 'products product_list row grid')\n",
    "    #lines = s.find('h3', class_ = 's_title_block flex_child')\n",
    "    #Affichage du contenu de la page\n",
    "    #print(lines)\n",
    "\n",
    "    #Extraire les liens\n",
    "    \n",
    "    for line in s.findAll('a'):\n",
    "        urls.append(line.get('href'))#line.text.split(\\'n') est une liste de chaine de caractères, donc [0] est \n",
    "        #seulement le str.\n",
    "        #print(line.text.split('\\n'))#line.text enlève les balises et les choses propres à html/css. Le .split split sur les \\n\n",
    "    #Tous les liens sont en double/ triple... on va les faire apparaitre qu'une seule fois.\n",
    "    urls = list(np.unique(urls))\n",
    "    #urls\n",
    "    # On va supprimer les liens qui ne renvoient pas vers des livres : \n",
    "    #  - Ceux qui finissent pas '.asc' ou 'desc\n",
    "    #  - Les liens de page (\"?page=2\", \"?page=3\"...) et le lien 'fiqh-maliki/'\n",
    "    #  - les \"javascript\"\n",
    "    #Suppression des liens ne renvoyant pas vers des livres.\n",
    "\n",
    "for link in urls:\n",
    "    if (link.endswith('asc'))==False and \\\n",
    "        (link.endswith('.desc'))==False and \\\n",
    "        (link.startswith('https://www.sifatusafwa.com/fr/fiqh-maliki/?page=')) == False:\n",
    "        new_urls.append(link)            \n",
    "for i in range(3):\n",
    "    try:\n",
    "        new_urls.remove('javascript:')\n",
    "        new_urls.remove('javascript:;')\n",
    "        new_urls.remove('https://www.sifatusafwa.com/fr/fiqh-maliki/')\n",
    "    except ValueError:\n",
    "        continue\n",
    "new_urls = pd.DataFrame(new_urls)\n",
    "del urls\n",
    "new_urls = new_urls.values.T.tolist()[0]\n",
    "#on enlève tout ce qu'on a rajouté maintenant qu'on a pu faire la comparaison avec ce qu'il y avait\n",
    "#a supprimer\n",
    "urls = list(np.unique(new_urls))"
   ]
  },
  {
   "cell_type": "markdown",
   "metadata": {},
   "source": [
    "A ce stade, `urls` devrait contenir les adresses de chacun des livres, pour toutes les pages de fiqh maliki."
   ]
  },
  {
   "cell_type": "code",
   "execution_count": 25,
   "metadata": {},
   "outputs": [],
   "source": [
    "#urls"
   ]
  },
  {
   "cell_type": "markdown",
   "metadata": {},
   "source": [
    "Ici, on va construire les dataframes pour chaque page. \n",
    "Une page a plusieurs livres. On aura une seule liste qui contiendra toutes les livres de la page 1, ceux de la page2... et on concatènera tout inchAllah"
   ]
  },
  {
   "cell_type": "code",
   "execution_count": 26,
   "metadata": {},
   "outputs": [],
   "source": [
    "url = urls[0]\n",
    "r = requests.get(url)\n",
    "soup = BeautifulSoup(r.content, 'html.parser')\n",
    "s = soup.find('section', class_='product-features')\n",
    "L_string = []\n",
    "for text in s.findAll(class_ ='data-sheet flex_container'):\n",
    "    L_string.append(text.text.split('\\n'))\n",
    "L_string = np.array(L_string)\n",
    "df = pd.DataFrame((L_string))\n",
    "df = df.drop_duplicates()#des fois les volumes apparaissent deux fois\n",
    "df.columns = ['supp', 'categories', str(url), 'supp2']# a cette étape on remplace ce qu'il faut pour voir les sites en colonnes\n",
    "df.drop(['supp', 'supp2'], axis = 1, inplace=True)\n",
    "df.set_index('categories', inplace = True)\n",
    "urls.remove(urls[0]) #On enlève le lien qu'on a déjà mis dans le dataframe de base\n"
   ]
  },
  {
   "cell_type": "code",
   "execution_count": 27,
   "metadata": {
    "collapsed": true
   },
   "outputs": [
    {
     "name": "stdout",
     "output_type": "stream",
     "text": [
      "url numero 1 / 139 0.7194244604316548 %\n",
      "url numero 2 / 139 1.4388489208633095 %\n",
      "url numero 3 / 139 2.158273381294964 %\n",
      "url numero 4 / 139 2.877697841726619 %\n",
      "url numero 5 / 139 3.597122302158273 %\n",
      "url numero 6 / 139 4.316546762589928 %\n",
      "url numero 7 / 139 5.0359712230215825 %\n",
      "url numero 8 / 139 5.755395683453238 %\n",
      "url numero 9 / 139 6.474820143884892 %\n",
      "url numero 10 / 139 7.194244604316546 %\n",
      "url numero 11 / 139 7.913669064748201 %\n",
      "url numero 12 / 139 8.633093525179856 %\n",
      "url numero 13 / 139 9.352517985611511 %\n",
      "url numero 14 / 139 10.071942446043165 %\n",
      "url numero 15 / 139 10.79136690647482 %\n",
      "url numero 16 / 139 11.510791366906476 %\n",
      "url numero 17 / 139 12.23021582733813 %\n",
      "url numero 18 / 139 12.949640287769784 %\n",
      "url numero 19 / 139 13.66906474820144 %\n",
      "url numero 20 / 139 14.388489208633093 %\n",
      "url numero 21 / 139 15.107913669064748 %\n",
      "url numero 22 / 139 15.827338129496402 %\n",
      "url numero 23 / 139 16.546762589928058 %\n",
      "url numero 24 / 139 17.26618705035971 %\n",
      "url numero 25 / 139 17.985611510791365 %\n",
      "url numero 26 / 139 18.705035971223023 %\n",
      "url numero 27 / 139 19.424460431654676 %\n",
      "url numero 28 / 139 20.14388489208633 %\n",
      "https://www.sifatusafwa.com/fr/fiqh-maliki/?rewrite=fiqh-maliki etape 1\n",
      "https://www.sifatusafwa.com/fr/fiqh-maliki/?rewrite=fiqh-maliki etape 2\n",
      "url numero 29 / 139 20.863309352517987 %\n",
      "https://www.sifatusafwa.com/fr/fiqh-maliki/?rewrite=fiqh-maliki&page=12 etape 1\n",
      "https://www.sifatusafwa.com/fr/fiqh-maliki/?rewrite=fiqh-maliki&page=12 etape 2\n",
      "url numero 30 / 139 21.58273381294964 %\n",
      "https://www.sifatusafwa.com/fr/fiqh-maliki/?rewrite=fiqh-maliki&page=2 etape 1\n",
      "https://www.sifatusafwa.com/fr/fiqh-maliki/?rewrite=fiqh-maliki&page=2 etape 2\n",
      "url numero 31 / 139 22.302158273381295 %\n",
      "https://www.sifatusafwa.com/fr/fiqh-maliki/?rewrite=fiqh-maliki&page=3 etape 1\n",
      "https://www.sifatusafwa.com/fr/fiqh-maliki/?rewrite=fiqh-maliki&page=3 etape 2\n",
      "url numero 32 / 139 23.021582733812952 %\n",
      "url numero 33 / 139 23.741007194244602 %\n",
      "url numero 34 / 139 24.46043165467626 %\n",
      "url numero 35 / 139 25.179856115107913 %\n",
      "url numero 36 / 139 25.899280575539567 %\n",
      "url numero 37 / 139 26.618705035971225 %\n",
      "url numero 38 / 139 27.33812949640288 %\n",
      "url numero 39 / 139 28.05755395683453 %\n",
      "url numero 40 / 139 28.776978417266186 %\n",
      "url numero 41 / 139 29.496402877697843 %\n",
      "url numero 42 / 139 30.215827338129497 %\n",
      "url numero 43 / 139 30.935251798561154 %\n",
      "url numero 44 / 139 31.654676258992804 %\n",
      "url numero 45 / 139 32.37410071942446 %\n",
      "url numero 46 / 139 33.093525179856115 %\n",
      "url numero 47 / 139 33.81294964028777 %\n",
      "url numero 48 / 139 34.53237410071942 %\n",
      "url numero 49 / 139 35.25179856115108 %\n",
      "url numero 50 / 139 35.97122302158273 %\n",
      "url numero 51 / 139 36.69064748201439 %\n",
      "url numero 52 / 139 37.410071942446045 %\n",
      "url numero 53 / 139 38.1294964028777 %\n",
      "url numero 54 / 139 38.84892086330935 %\n",
      "url numero 55 / 139 39.568345323741006 %\n",
      "url numero 56 / 139 40.28776978417266 %\n",
      "url numero 57 / 139 41.007194244604314 %\n",
      "url numero 58 / 139 41.726618705035975 %\n",
      "url numero 59 / 139 42.44604316546763 %\n",
      "url numero 60 / 139 43.16546762589928 %\n",
      "url numero 61 / 139 43.884892086330936 %\n",
      "url numero 62 / 139 44.60431654676259 %\n",
      "url numero 63 / 139 45.32374100719424 %\n",
      "url numero 64 / 139 46.043165467625904 %\n",
      "url numero 65 / 139 46.76258992805755 %\n",
      "url numero 66 / 139 47.482014388489205 %\n",
      "url numero 67 / 139 48.201438848920866 %\n",
      "url numero 68 / 139 48.92086330935252 %\n",
      "url numero 69 / 139 49.64028776978417 %\n",
      "url numero 70 / 139 50.35971223021583 %\n",
      "url numero 71 / 139 51.07913669064749 %\n",
      "url numero 72 / 139 51.798561151079134 %\n",
      "url numero 73 / 139 52.51798561151079 %\n",
      "url numero 74 / 139 53.23741007194245 %\n",
      "url numero 75 / 139 53.956834532374096 %\n",
      "url numero 76 / 139 54.67625899280576 %\n",
      "url numero 77 / 139 55.39568345323741 %\n",
      "url numero 78 / 139 56.11510791366906 %\n",
      "url numero 79 / 139 56.83453237410072 %\n",
      "url numero 80 / 139 57.55395683453237 %\n",
      "url numero 81 / 139 58.27338129496403 %\n",
      "url numero 82 / 139 58.992805755395686 %\n",
      "url numero 83 / 139 59.71223021582733 %\n",
      "url numero 84 / 139 60.431654676258994 %\n",
      "url numero 85 / 139 61.15107913669065 %\n",
      "url numero 86 / 139 61.87050359712231 %\n",
      "url numero 87 / 139 62.589928057553955 %\n",
      "url numero 88 / 139 63.30935251798561 %\n",
      "url numero 89 / 139 64.02877697841727 %\n",
      "url numero 90 / 139 64.74820143884892 %\n",
      "url numero 91 / 139 65.46762589928058 %\n",
      "url numero 92 / 139 66.18705035971223 %\n",
      "url numero 93 / 139 66.90647482014388 %\n",
      "url numero 94 / 139 67.62589928057554 %\n",
      "url numero 95 / 139 68.34532374100719 %\n",
      "url numero 96 / 139 69.06474820143885 %\n",
      "url numero 97 / 139 69.7841726618705 %\n",
      "url numero 98 / 139 70.50359712230215 %\n",
      "url numero 99 / 139 71.22302158273382 %\n",
      "url numero 100 / 139 71.94244604316546 %\n",
      "url numero 101 / 139 72.66187050359713 %\n",
      "url numero 102 / 139 73.38129496402878 %\n",
      "url numero 103 / 139 74.10071942446042 %\n",
      "url numero 104 / 139 74.82014388489209 %\n",
      "url numero 105 / 139 75.53956834532374 %\n",
      "url numero 106 / 139 76.2589928057554 %\n",
      "url numero 107 / 139 76.97841726618705 %\n",
      "url numero 108 / 139 77.6978417266187 %\n",
      "url numero 109 / 139 78.41726618705036 %\n",
      "url numero 110 / 139 79.13669064748201 %\n",
      "url numero 111 / 139 79.85611510791367 %\n",
      "url numero 112 / 139 80.57553956834532 %\n",
      "url numero 113 / 139 81.29496402877699 %\n",
      "url numero 114 / 139 82.01438848920863 %\n",
      "url numero 115 / 139 82.73381294964028 %\n",
      "url numero 116 / 139 83.45323741007195 %\n",
      "url numero 117 / 139 84.17266187050359 %\n",
      "url numero 118 / 139 84.89208633093526 %\n",
      "url numero 119 / 139 85.61151079136691 %\n",
      "url numero 120 / 139 86.33093525179856 %\n",
      "https://www.sifatusafwa.com/fr/fiqh-maliki/étude-simplifiée-du-fiqh-de-l-imam-malik-schémas-tableaux-exercices.html etape 1\n",
      "https://www.sifatusafwa.com/fr/fiqh-maliki/étude-simplifiée-du-fiqh-de-l-imam-malik-schémas-tableaux-exercices.html etape 2\n",
      "url numero 121 / 139 87.05035971223022 %\n",
      "https://www.sifatusafwa.com/fr/fiqh-maliki/َqa-idah-fi-tafdil-madhhab-imam-ahl-al-madina-ibn-taymiyya.html#/143-edition-syrienne_qualité_saoudienne etape 1\n",
      "https://www.sifatusafwa.com/fr/fiqh-maliki/َqa-idah-fi-tafdil-madhhab-imam-ahl-al-madina-ibn-taymiyya.html#/143-edition-syrienne_qualité_saoudienne etape 2\n",
      "url numero 122 / 139 87.76978417266187 %\n",
      "https://www.sifatusafwa.com/fr/fiqh-maliki/َqa-idah-fi-tafdil-madhhab-imam-ahl-al-madina-ibn-taymiyya.html#/21-edition-egyptienne etape 1\n",
      "https://www.sifatusafwa.com/fr/fiqh-maliki/َqa-idah-fi-tafdil-madhhab-imam-ahl-al-madina-ibn-taymiyya.html#/21-edition-egyptienne etape 2\n",
      "url numero 123 / 139 88.48920863309353 %\n",
      "url numero 124 / 139 89.20863309352518 %\n",
      "url numero 125 / 139 89.92805755395683 %\n",
      "url numero 126 / 139 90.64748201438849 %\n",
      "url numero 127 / 139 91.36690647482014 %\n",
      "url numero 128 / 139 92.08633093525181 %\n",
      "url numero 129 / 139 92.80575539568345 %\n",
      "url numero 130 / 139 93.5251798561151 %\n",
      "url numero 131 / 139 94.24460431654677 %\n",
      "url numero 132 / 139 94.96402877697841 %\n",
      "url numero 133 / 139 95.68345323741008 %\n",
      "url numero 134 / 139 96.40287769784173 %\n",
      "url numero 135 / 139 97.12230215827337 %\n",
      "url numero 136 / 139 97.84172661870504 %\n",
      "url numero 137 / 139 98.56115107913669 %\n",
      "url numero 138 / 139 99.28057553956835 %\n",
      "url numero 139 / 139 100.0 %\n"
     ]
    }
   ],
   "source": [
    "dfs = []\n",
    "i = 0\n",
    "for url in urls:\n",
    "    i = i+1\n",
    "    print('url numero', i, '/', len(urls), (i/len(urls))*100, \"%\")\n",
    "    r = requests.get(url)\n",
    "    soup = BeautifulSoup(r.content, 'html.parser')\n",
    "    s = soup.find('section', class_='product-features')\n",
    "    L_string = []\n",
    "    if s !=None:\n",
    "        for text in s.findAll(class_ ='data-sheet flex_container'):\n",
    "            L_string.append(text.text.split('\\n'))\n",
    "    else:\n",
    "        print(url, \"etape 1\")\n",
    "    L_string = np.array(L_string)\n",
    "    df_other = pd.DataFrame((L_string))\n",
    "    df_other = df_other.drop_duplicates()#des fois les volumes apparaissent deux fois\n",
    "    if len(df_other.columns) == 4:\n",
    "        df_other.columns = ['supp', 'categories',str(url), 'supp2']# a cette étape on remplace ce qu'il faut pour voir les sites en colonnes\n",
    "        df_other.drop(['supp', 'supp2'], axis = 1, inplace=True)\n",
    "        df_other.set_index('categories', inplace = True)\n",
    "        dfs.append(df_other)\n",
    "    else:\n",
    "        print(url, 'etape 2')"
   ]
  },
  {
   "cell_type": "code",
   "execution_count": 28,
   "metadata": {},
   "outputs": [],
   "source": [
    "M = pd.concat((d for d in dfs), axis = 1)\n",
    "M = M.T"
   ]
  },
  {
   "cell_type": "markdown",
   "metadata": {},
   "source": [
    "On peut rajouter le site en colonne, et changer l'index"
   ]
  },
  {
   "cell_type": "code",
   "execution_count": 29,
   "metadata": {},
   "outputs": [
    {
     "data": {
      "text/html": [
       "<div>\n",
       "<style scoped>\n",
       "    .dataframe tbody tr th:only-of-type {\n",
       "        vertical-align: middle;\n",
       "    }\n",
       "\n",
       "    .dataframe tbody tr th {\n",
       "        vertical-align: top;\n",
       "    }\n",
       "\n",
       "    .dataframe thead th {\n",
       "        text-align: right;\n",
       "    }\n",
       "</style>\n",
       "<table border=\"1\" class=\"dataframe\">\n",
       "  <thead>\n",
       "    <tr style=\"text-align: right;\">\n",
       "      <th></th>\n",
       "      <th>Titre</th>\n",
       "      <th>Auteur</th>\n",
       "      <th>Pages</th>\n",
       "      <th>Édition</th>\n",
       "      <th>Couverture</th>\n",
       "      <th>Format</th>\n",
       "      <th>Harakat</th>\n",
       "      <th>Volumes</th>\n",
       "      <th>Vérification et préparation</th>\n",
       "      <th>Préface</th>\n",
       "      <th>Annotations</th>\n",
       "    </tr>\n",
       "  </thead>\n",
       "  <tbody>\n",
       "    <tr>\n",
       "      <th>https://www.sifatusafwa.com/fr/aqida-croyance/fatawa-ulema-al-malikiyah-fi-taqrir-aqidah-ahl-as-sounnah.html</th>\n",
       "      <td>فتاوى علماء المالكية في تقرير عقيدة أهل السنة ...</td>\n",
       "      <td>د. فاضل بن نورالدين الإمام</td>\n",
       "      <td>871</td>\n",
       "      <td>دار التوحيد للنشر</td>\n",
       "      <td>Rigide</td>\n",
       "      <td>17x24cm</td>\n",
       "      <td>Pas ou peu (ou que sur le Matn)</td>\n",
       "      <td>NaN</td>\n",
       "      <td>NaN</td>\n",
       "      <td>NaN</td>\n",
       "      <td>NaN</td>\n",
       "    </tr>\n",
       "    <tr>\n",
       "      <th>https://www.sifatusafwa.com/fr/aqida-croyance/jouhoud-al-malikiyah-fi-taqrir-tawhid-al-ibadah.html</th>\n",
       "      <td>جهود المالكية في تقرير توحيد العبادة</td>\n",
       "      <td>د. عبد الله بن فهد العرفج</td>\n",
       "      <td>487</td>\n",
       "      <td>دار التوحيد للنشر</td>\n",
       "      <td>Rigide</td>\n",
       "      <td>17x24cm</td>\n",
       "      <td>Pas ou peu (ou que sur le Matn)</td>\n",
       "      <td>NaN</td>\n",
       "      <td>NaN</td>\n",
       "      <td>NaN</td>\n",
       "      <td>NaN</td>\n",
       "    </tr>\n",
       "    <tr>\n",
       "      <th>https://www.sifatusafwa.com/fr/biographies/malamih-min-hayat-al-imam-malik-ahmad-taha-rayan.html</th>\n",
       "      <td>ملامح من حياة الإمام مالك ، إمام دار الهجرة وص...</td>\n",
       "      <td>د. أحمد علي طه ريان</td>\n",
       "      <td>103</td>\n",
       "      <td>دار الفضيلة القاهرة</td>\n",
       "      <td>Souple</td>\n",
       "      <td>17x24cm</td>\n",
       "      <td>Pas ou peu (ou que sur le Matn)</td>\n",
       "      <td>NaN</td>\n",
       "      <td>NaN</td>\n",
       "      <td>NaN</td>\n",
       "      <td>NaN</td>\n",
       "    </tr>\n",
       "    <tr>\n",
       "      <th>https://www.sifatusafwa.com/fr/biographies/malik-ibn-anas-sirah-a-immah-al-madhahib-al-arba-ah.html</th>\n",
       "      <td>مالك بن أنس (سير أئمة المذاهب)</td>\n",
       "      <td>عبد الغني الدقر</td>\n",
       "      <td>359</td>\n",
       "      <td>دار القلم</td>\n",
       "      <td>Rigide</td>\n",
       "      <td>17x24cm</td>\n",
       "      <td>Pas ou peu (ou que sur le Matn)</td>\n",
       "      <td>NaN</td>\n",
       "      <td>NaN</td>\n",
       "      <td>NaN</td>\n",
       "      <td>NaN</td>\n",
       "    </tr>\n",
       "    <tr>\n",
       "      <th>https://www.sifatusafwa.com/fr/biographies/tartib-al-madarik-wa-taqrib-al-masalik-li-ma-rifat-a-lam-madhhab-malik.html</th>\n",
       "      <td>ترتيب المدارك وتقريب المسالك لمعرفة أعلام مذهب...</td>\n",
       "      <td>القاضي عياض</td>\n",
       "      <td>2051</td>\n",
       "      <td>مؤسسة الرسالة</td>\n",
       "      <td>Rigide</td>\n",
       "      <td>17x24cm</td>\n",
       "      <td>En Partie</td>\n",
       "      <td>4</td>\n",
       "      <td>NaN</td>\n",
       "      <td>NaN</td>\n",
       "      <td>NaN</td>\n",
       "    </tr>\n",
       "  </tbody>\n",
       "</table>\n",
       "</div>"
      ],
      "text/plain": [
       "                                                                                                Titre  \\\n",
       "https://www.sifatusafwa.com/fr/aqida-croyance/f...  فتاوى علماء المالكية في تقرير عقيدة أهل السنة ...   \n",
       "https://www.sifatusafwa.com/fr/aqida-croyance/j...               جهود المالكية في تقرير توحيد العبادة   \n",
       "https://www.sifatusafwa.com/fr/biographies/mala...  ملامح من حياة الإمام مالك ، إمام دار الهجرة وص...   \n",
       "https://www.sifatusafwa.com/fr/biographies/mali...                     مالك بن أنس (سير أئمة المذاهب)   \n",
       "https://www.sifatusafwa.com/fr/biographies/tart...  ترتيب المدارك وتقريب المسالك لمعرفة أعلام مذهب...   \n",
       "\n",
       "                                                                        Auteur  \\\n",
       "https://www.sifatusafwa.com/fr/aqida-croyance/f...  د. فاضل بن نورالدين الإمام   \n",
       "https://www.sifatusafwa.com/fr/aqida-croyance/j...   د. عبد الله بن فهد العرفج   \n",
       "https://www.sifatusafwa.com/fr/biographies/mala...         د. أحمد علي طه ريان   \n",
       "https://www.sifatusafwa.com/fr/biographies/mali...             عبد الغني الدقر   \n",
       "https://www.sifatusafwa.com/fr/biographies/tart...                 القاضي عياض   \n",
       "\n",
       "                                                   Pages              Édition  \\\n",
       "https://www.sifatusafwa.com/fr/aqida-croyance/f...   871    دار التوحيد للنشر   \n",
       "https://www.sifatusafwa.com/fr/aqida-croyance/j...   487    دار التوحيد للنشر   \n",
       "https://www.sifatusafwa.com/fr/biographies/mala...   103  دار الفضيلة القاهرة   \n",
       "https://www.sifatusafwa.com/fr/biographies/mali...   359            دار القلم   \n",
       "https://www.sifatusafwa.com/fr/biographies/tart...  2051        مؤسسة الرسالة   \n",
       "\n",
       "                                                   Couverture   Format  \\\n",
       "https://www.sifatusafwa.com/fr/aqida-croyance/f...     Rigide  17x24cm   \n",
       "https://www.sifatusafwa.com/fr/aqida-croyance/j...     Rigide  17x24cm   \n",
       "https://www.sifatusafwa.com/fr/biographies/mala...     Souple  17x24cm   \n",
       "https://www.sifatusafwa.com/fr/biographies/mali...     Rigide  17x24cm   \n",
       "https://www.sifatusafwa.com/fr/biographies/tart...     Rigide  17x24cm   \n",
       "\n",
       "                                                                            Harakat  \\\n",
       "https://www.sifatusafwa.com/fr/aqida-croyance/f...  Pas ou peu (ou que sur le Matn)   \n",
       "https://www.sifatusafwa.com/fr/aqida-croyance/j...  Pas ou peu (ou que sur le Matn)   \n",
       "https://www.sifatusafwa.com/fr/biographies/mala...  Pas ou peu (ou que sur le Matn)   \n",
       "https://www.sifatusafwa.com/fr/biographies/mali...  Pas ou peu (ou que sur le Matn)   \n",
       "https://www.sifatusafwa.com/fr/biographies/tart...                        En Partie   \n",
       "\n",
       "                                                   Volumes  \\\n",
       "https://www.sifatusafwa.com/fr/aqida-croyance/f...     NaN   \n",
       "https://www.sifatusafwa.com/fr/aqida-croyance/j...     NaN   \n",
       "https://www.sifatusafwa.com/fr/biographies/mala...     NaN   \n",
       "https://www.sifatusafwa.com/fr/biographies/mali...     NaN   \n",
       "https://www.sifatusafwa.com/fr/biographies/tart...       4   \n",
       "\n",
       "                                                   Vérification et préparation  \\\n",
       "https://www.sifatusafwa.com/fr/aqida-croyance/f...                         NaN   \n",
       "https://www.sifatusafwa.com/fr/aqida-croyance/j...                         NaN   \n",
       "https://www.sifatusafwa.com/fr/biographies/mala...                         NaN   \n",
       "https://www.sifatusafwa.com/fr/biographies/mali...                         NaN   \n",
       "https://www.sifatusafwa.com/fr/biographies/tart...                         NaN   \n",
       "\n",
       "                                                   Préface Annotations  \n",
       "https://www.sifatusafwa.com/fr/aqida-croyance/f...     NaN         NaN  \n",
       "https://www.sifatusafwa.com/fr/aqida-croyance/j...     NaN         NaN  \n",
       "https://www.sifatusafwa.com/fr/biographies/mala...     NaN         NaN  \n",
       "https://www.sifatusafwa.com/fr/biographies/mali...     NaN         NaN  \n",
       "https://www.sifatusafwa.com/fr/biographies/tart...     NaN         NaN  "
      ]
     },
     "execution_count": 29,
     "metadata": {},
     "output_type": "execute_result"
    }
   ],
   "source": [
    "M.head()"
   ]
  },
  {
   "cell_type": "code",
   "execution_count": 30,
   "metadata": {},
   "outputs": [
    {
     "data": {
      "text/html": [
       "<div>\n",
       "<style scoped>\n",
       "    .dataframe tbody tr th:only-of-type {\n",
       "        vertical-align: middle;\n",
       "    }\n",
       "\n",
       "    .dataframe tbody tr th {\n",
       "        vertical-align: top;\n",
       "    }\n",
       "\n",
       "    .dataframe thead th {\n",
       "        text-align: right;\n",
       "    }\n",
       "</style>\n",
       "<table border=\"1\" class=\"dataframe\">\n",
       "  <thead>\n",
       "    <tr style=\"text-align: right;\">\n",
       "      <th></th>\n",
       "      <th>Titre</th>\n",
       "      <th>Auteur</th>\n",
       "      <th>Pages</th>\n",
       "      <th>Édition</th>\n",
       "      <th>Couverture</th>\n",
       "      <th>Format</th>\n",
       "      <th>Harakat</th>\n",
       "      <th>Volumes</th>\n",
       "      <th>Vérification et préparation</th>\n",
       "      <th>Préface</th>\n",
       "      <th>Annotations</th>\n",
       "      <th>site</th>\n",
       "    </tr>\n",
       "  </thead>\n",
       "  <tbody>\n",
       "    <tr>\n",
       "      <th>0</th>\n",
       "      <td>فتاوى علماء المالكية في تقرير عقيدة أهل السنة ...</td>\n",
       "      <td>د. فاضل بن نورالدين الإمام</td>\n",
       "      <td>871</td>\n",
       "      <td>دار التوحيد للنشر</td>\n",
       "      <td>Rigide</td>\n",
       "      <td>17x24cm</td>\n",
       "      <td>Pas ou peu (ou que sur le Matn)</td>\n",
       "      <td>NaN</td>\n",
       "      <td>NaN</td>\n",
       "      <td>NaN</td>\n",
       "      <td>NaN</td>\n",
       "      <td>https://www.sifatusafwa.com/fr/aqida-croyance/...</td>\n",
       "    </tr>\n",
       "    <tr>\n",
       "      <th>1</th>\n",
       "      <td>جهود المالكية في تقرير توحيد العبادة</td>\n",
       "      <td>د. عبد الله بن فهد العرفج</td>\n",
       "      <td>487</td>\n",
       "      <td>دار التوحيد للنشر</td>\n",
       "      <td>Rigide</td>\n",
       "      <td>17x24cm</td>\n",
       "      <td>Pas ou peu (ou que sur le Matn)</td>\n",
       "      <td>NaN</td>\n",
       "      <td>NaN</td>\n",
       "      <td>NaN</td>\n",
       "      <td>NaN</td>\n",
       "      <td>https://www.sifatusafwa.com/fr/aqida-croyance/...</td>\n",
       "    </tr>\n",
       "    <tr>\n",
       "      <th>2</th>\n",
       "      <td>ملامح من حياة الإمام مالك ، إمام دار الهجرة وص...</td>\n",
       "      <td>د. أحمد علي طه ريان</td>\n",
       "      <td>103</td>\n",
       "      <td>دار الفضيلة القاهرة</td>\n",
       "      <td>Souple</td>\n",
       "      <td>17x24cm</td>\n",
       "      <td>Pas ou peu (ou que sur le Matn)</td>\n",
       "      <td>NaN</td>\n",
       "      <td>NaN</td>\n",
       "      <td>NaN</td>\n",
       "      <td>NaN</td>\n",
       "      <td>https://www.sifatusafwa.com/fr/biographies/mal...</td>\n",
       "    </tr>\n",
       "    <tr>\n",
       "      <th>3</th>\n",
       "      <td>مالك بن أنس (سير أئمة المذاهب)</td>\n",
       "      <td>عبد الغني الدقر</td>\n",
       "      <td>359</td>\n",
       "      <td>دار القلم</td>\n",
       "      <td>Rigide</td>\n",
       "      <td>17x24cm</td>\n",
       "      <td>Pas ou peu (ou que sur le Matn)</td>\n",
       "      <td>NaN</td>\n",
       "      <td>NaN</td>\n",
       "      <td>NaN</td>\n",
       "      <td>NaN</td>\n",
       "      <td>https://www.sifatusafwa.com/fr/biographies/mal...</td>\n",
       "    </tr>\n",
       "    <tr>\n",
       "      <th>4</th>\n",
       "      <td>ترتيب المدارك وتقريب المسالك لمعرفة أعلام مذهب...</td>\n",
       "      <td>القاضي عياض</td>\n",
       "      <td>2051</td>\n",
       "      <td>مؤسسة الرسالة</td>\n",
       "      <td>Rigide</td>\n",
       "      <td>17x24cm</td>\n",
       "      <td>En Partie</td>\n",
       "      <td>4</td>\n",
       "      <td>NaN</td>\n",
       "      <td>NaN</td>\n",
       "      <td>NaN</td>\n",
       "      <td>https://www.sifatusafwa.com/fr/biographies/tar...</td>\n",
       "    </tr>\n",
       "  </tbody>\n",
       "</table>\n",
       "</div>"
      ],
      "text/plain": [
       "                                               Titre  \\\n",
       "0  فتاوى علماء المالكية في تقرير عقيدة أهل السنة ...   \n",
       "1               جهود المالكية في تقرير توحيد العبادة   \n",
       "2  ملامح من حياة الإمام مالك ، إمام دار الهجرة وص...   \n",
       "3                     مالك بن أنس (سير أئمة المذاهب)   \n",
       "4  ترتيب المدارك وتقريب المسالك لمعرفة أعلام مذهب...   \n",
       "\n",
       "                       Auteur Pages              Édition Couverture   Format  \\\n",
       "0  د. فاضل بن نورالدين الإمام   871    دار التوحيد للنشر     Rigide  17x24cm   \n",
       "1   د. عبد الله بن فهد العرفج   487    دار التوحيد للنشر     Rigide  17x24cm   \n",
       "2         د. أحمد علي طه ريان   103  دار الفضيلة القاهرة     Souple  17x24cm   \n",
       "3             عبد الغني الدقر   359            دار القلم     Rigide  17x24cm   \n",
       "4                 القاضي عياض  2051        مؤسسة الرسالة     Rigide  17x24cm   \n",
       "\n",
       "                           Harakat Volumes Vérification et préparation  \\\n",
       "0  Pas ou peu (ou que sur le Matn)     NaN                         NaN   \n",
       "1  Pas ou peu (ou que sur le Matn)     NaN                         NaN   \n",
       "2  Pas ou peu (ou que sur le Matn)     NaN                         NaN   \n",
       "3  Pas ou peu (ou que sur le Matn)     NaN                         NaN   \n",
       "4                        En Partie       4                         NaN   \n",
       "\n",
       "  Préface Annotations                                               site  \n",
       "0     NaN         NaN  https://www.sifatusafwa.com/fr/aqida-croyance/...  \n",
       "1     NaN         NaN  https://www.sifatusafwa.com/fr/aqida-croyance/...  \n",
       "2     NaN         NaN  https://www.sifatusafwa.com/fr/biographies/mal...  \n",
       "3     NaN         NaN  https://www.sifatusafwa.com/fr/biographies/mal...  \n",
       "4     NaN         NaN  https://www.sifatusafwa.com/fr/biographies/tar...  "
      ]
     },
     "execution_count": 30,
     "metadata": {},
     "output_type": "execute_result"
    }
   ],
   "source": [
    "M['site'] = M.index\n",
    "M.set_index(np.arange(len(M)), inplace = True)\n",
    "M.head()"
   ]
  },
  {
   "cell_type": "code",
   "execution_count": 31,
   "metadata": {},
   "outputs": [],
   "source": [
    "M.to_excel('livres.xlsx')"
   ]
  },
  {
   "cell_type": "markdown",
   "metadata": {},
   "source": [
    "### Fin  de cette étape"
   ]
  },
  {
   "cell_type": "markdown",
   "metadata": {},
   "source": [
    "On peut en bonus fusionner sur le fichier créé par sifatusafwa-1.ipynb pour avoir les titres en français. Je vois pas d'autre moyen que de fusionner sur le titre en arabe. L'index reposant sur l'ordre dans lequel les addresses, il peut différer."
   ]
  },
  {
   "cell_type": "markdown",
   "metadata": {},
   "source": [
    "## Essai d'ajout du nom des sites français"
   ]
  },
  {
   "cell_type": "markdown",
   "metadata": {},
   "source": [
    "### Jointure sur titre arabe"
   ]
  },
  {
   "cell_type": "code",
   "execution_count": 32,
   "metadata": {
    "scrolled": true
   },
   "outputs": [
    {
     "data": {
      "text/plain": [
       "Index(['Titre', 'Auteur', 'Pages', 'Édition', 'Couverture', 'Format',\n",
       "       'Harakat', 'Volumes', 'Vérification et préparation', 'Préface',\n",
       "       'Annotations', 'site'],\n",
       "      dtype='object')"
      ]
     },
     "execution_count": 32,
     "metadata": {},
     "output_type": "execute_result"
    }
   ],
   "source": [
    "M.columns"
   ]
  },
  {
   "cell_type": "code",
   "execution_count": 33,
   "metadata": {},
   "outputs": [
    {
     "ename": "FileNotFoundError",
     "evalue": "[Errno 2] No such file or directory: 'fiqh_maliki.xlsx'",
     "output_type": "error",
     "traceback": [
      "\u001b[1;31m---------------------------------------------------------------------------\u001b[0m",
      "\u001b[1;31mFileNotFoundError\u001b[0m                         Traceback (most recent call last)",
      "\u001b[1;32m<ipython-input-33-17a21aaf428e>\u001b[0m in \u001b[0;36m<module>\u001b[1;34m\u001b[0m\n\u001b[1;32m----> 1\u001b[1;33m \u001b[0mdf\u001b[0m \u001b[1;33m=\u001b[0m \u001b[0mpd\u001b[0m\u001b[1;33m.\u001b[0m\u001b[0mread_excel\u001b[0m\u001b[1;33m(\u001b[0m\u001b[1;34m'fiqh_maliki.xlsx'\u001b[0m\u001b[1;33m)\u001b[0m\u001b[1;33m\u001b[0m\u001b[1;33m\u001b[0m\u001b[0m\n\u001b[0m\u001b[0;32m      2\u001b[0m \u001b[0mdf\u001b[0m \u001b[1;33m=\u001b[0m \u001b[0mdf\u001b[0m\u001b[1;33m.\u001b[0m\u001b[0mdrop_duplicates\u001b[0m\u001b[1;33m(\u001b[0m\u001b[1;33m)\u001b[0m\u001b[1;33m\u001b[0m\u001b[1;33m\u001b[0m\u001b[0m\n",
      "\u001b[1;32mc:\\Users\\elias\\anaconda3\\lib\\site-packages\\pandas\\util\\_decorators.py\u001b[0m in \u001b[0;36mwrapper\u001b[1;34m(*args, **kwargs)\u001b[0m\n\u001b[0;32m    294\u001b[0m                 )\n\u001b[0;32m    295\u001b[0m                 \u001b[0mwarnings\u001b[0m\u001b[1;33m.\u001b[0m\u001b[0mwarn\u001b[0m\u001b[1;33m(\u001b[0m\u001b[0mmsg\u001b[0m\u001b[1;33m,\u001b[0m \u001b[0mFutureWarning\u001b[0m\u001b[1;33m,\u001b[0m \u001b[0mstacklevel\u001b[0m\u001b[1;33m=\u001b[0m\u001b[0mstacklevel\u001b[0m\u001b[1;33m)\u001b[0m\u001b[1;33m\u001b[0m\u001b[1;33m\u001b[0m\u001b[0m\n\u001b[1;32m--> 296\u001b[1;33m             \u001b[1;32mreturn\u001b[0m \u001b[0mfunc\u001b[0m\u001b[1;33m(\u001b[0m\u001b[1;33m*\u001b[0m\u001b[0margs\u001b[0m\u001b[1;33m,\u001b[0m \u001b[1;33m**\u001b[0m\u001b[0mkwargs\u001b[0m\u001b[1;33m)\u001b[0m\u001b[1;33m\u001b[0m\u001b[1;33m\u001b[0m\u001b[0m\n\u001b[0m\u001b[0;32m    297\u001b[0m \u001b[1;33m\u001b[0m\u001b[0m\n\u001b[0;32m    298\u001b[0m         \u001b[1;32mreturn\u001b[0m \u001b[0mwrapper\u001b[0m\u001b[1;33m\u001b[0m\u001b[1;33m\u001b[0m\u001b[0m\n",
      "\u001b[1;32mc:\\Users\\elias\\anaconda3\\lib\\site-packages\\pandas\\io\\excel\\_base.py\u001b[0m in \u001b[0;36mread_excel\u001b[1;34m(io, sheet_name, header, names, index_col, usecols, squeeze, dtype, engine, converters, true_values, false_values, skiprows, nrows, na_values, keep_default_na, na_filter, verbose, parse_dates, date_parser, thousands, comment, skipfooter, convert_float, mangle_dupe_cols)\u001b[0m\n\u001b[0;32m    302\u001b[0m \u001b[1;33m\u001b[0m\u001b[0m\n\u001b[0;32m    303\u001b[0m     \u001b[1;32mif\u001b[0m \u001b[1;32mnot\u001b[0m \u001b[0misinstance\u001b[0m\u001b[1;33m(\u001b[0m\u001b[0mio\u001b[0m\u001b[1;33m,\u001b[0m \u001b[0mExcelFile\u001b[0m\u001b[1;33m)\u001b[0m\u001b[1;33m:\u001b[0m\u001b[1;33m\u001b[0m\u001b[1;33m\u001b[0m\u001b[0m\n\u001b[1;32m--> 304\u001b[1;33m         \u001b[0mio\u001b[0m \u001b[1;33m=\u001b[0m \u001b[0mExcelFile\u001b[0m\u001b[1;33m(\u001b[0m\u001b[0mio\u001b[0m\u001b[1;33m,\u001b[0m \u001b[0mengine\u001b[0m\u001b[1;33m=\u001b[0m\u001b[0mengine\u001b[0m\u001b[1;33m)\u001b[0m\u001b[1;33m\u001b[0m\u001b[1;33m\u001b[0m\u001b[0m\n\u001b[0m\u001b[0;32m    305\u001b[0m     \u001b[1;32melif\u001b[0m \u001b[0mengine\u001b[0m \u001b[1;32mand\u001b[0m \u001b[0mengine\u001b[0m \u001b[1;33m!=\u001b[0m \u001b[0mio\u001b[0m\u001b[1;33m.\u001b[0m\u001b[0mengine\u001b[0m\u001b[1;33m:\u001b[0m\u001b[1;33m\u001b[0m\u001b[1;33m\u001b[0m\u001b[0m\n\u001b[0;32m    306\u001b[0m         raise ValueError(\n",
      "\u001b[1;32mc:\\Users\\elias\\anaconda3\\lib\\site-packages\\pandas\\io\\excel\\_base.py\u001b[0m in \u001b[0;36m__init__\u001b[1;34m(self, path_or_buffer, engine)\u001b[0m\n\u001b[0;32m    865\u001b[0m         \u001b[0mself\u001b[0m\u001b[1;33m.\u001b[0m\u001b[0m_io\u001b[0m \u001b[1;33m=\u001b[0m \u001b[0mstringify_path\u001b[0m\u001b[1;33m(\u001b[0m\u001b[0mpath_or_buffer\u001b[0m\u001b[1;33m)\u001b[0m\u001b[1;33m\u001b[0m\u001b[1;33m\u001b[0m\u001b[0m\n\u001b[0;32m    866\u001b[0m \u001b[1;33m\u001b[0m\u001b[0m\n\u001b[1;32m--> 867\u001b[1;33m         \u001b[0mself\u001b[0m\u001b[1;33m.\u001b[0m\u001b[0m_reader\u001b[0m \u001b[1;33m=\u001b[0m \u001b[0mself\u001b[0m\u001b[1;33m.\u001b[0m\u001b[0m_engines\u001b[0m\u001b[1;33m[\u001b[0m\u001b[0mengine\u001b[0m\u001b[1;33m]\u001b[0m\u001b[1;33m(\u001b[0m\u001b[0mself\u001b[0m\u001b[1;33m.\u001b[0m\u001b[0m_io\u001b[0m\u001b[1;33m)\u001b[0m\u001b[1;33m\u001b[0m\u001b[1;33m\u001b[0m\u001b[0m\n\u001b[0m\u001b[0;32m    868\u001b[0m \u001b[1;33m\u001b[0m\u001b[0m\n\u001b[0;32m    869\u001b[0m     \u001b[1;32mdef\u001b[0m \u001b[0m__fspath__\u001b[0m\u001b[1;33m(\u001b[0m\u001b[0mself\u001b[0m\u001b[1;33m)\u001b[0m\u001b[1;33m:\u001b[0m\u001b[1;33m\u001b[0m\u001b[1;33m\u001b[0m\u001b[0m\n",
      "\u001b[1;32mc:\\Users\\elias\\anaconda3\\lib\\site-packages\\pandas\\io\\excel\\_xlrd.py\u001b[0m in \u001b[0;36m__init__\u001b[1;34m(self, filepath_or_buffer)\u001b[0m\n\u001b[0;32m     20\u001b[0m         \u001b[0merr_msg\u001b[0m \u001b[1;33m=\u001b[0m \u001b[1;34m\"Install xlrd >= 1.0.0 for Excel support\"\u001b[0m\u001b[1;33m\u001b[0m\u001b[1;33m\u001b[0m\u001b[0m\n\u001b[0;32m     21\u001b[0m         \u001b[0mimport_optional_dependency\u001b[0m\u001b[1;33m(\u001b[0m\u001b[1;34m\"xlrd\"\u001b[0m\u001b[1;33m,\u001b[0m \u001b[0mextra\u001b[0m\u001b[1;33m=\u001b[0m\u001b[0merr_msg\u001b[0m\u001b[1;33m)\u001b[0m\u001b[1;33m\u001b[0m\u001b[1;33m\u001b[0m\u001b[0m\n\u001b[1;32m---> 22\u001b[1;33m         \u001b[0msuper\u001b[0m\u001b[1;33m(\u001b[0m\u001b[1;33m)\u001b[0m\u001b[1;33m.\u001b[0m\u001b[0m__init__\u001b[0m\u001b[1;33m(\u001b[0m\u001b[0mfilepath_or_buffer\u001b[0m\u001b[1;33m)\u001b[0m\u001b[1;33m\u001b[0m\u001b[1;33m\u001b[0m\u001b[0m\n\u001b[0m\u001b[0;32m     23\u001b[0m \u001b[1;33m\u001b[0m\u001b[0m\n\u001b[0;32m     24\u001b[0m     \u001b[1;33m@\u001b[0m\u001b[0mproperty\u001b[0m\u001b[1;33m\u001b[0m\u001b[1;33m\u001b[0m\u001b[0m\n",
      "\u001b[1;32mc:\\Users\\elias\\anaconda3\\lib\\site-packages\\pandas\\io\\excel\\_base.py\u001b[0m in \u001b[0;36m__init__\u001b[1;34m(self, filepath_or_buffer)\u001b[0m\n\u001b[0;32m    351\u001b[0m             \u001b[0mself\u001b[0m\u001b[1;33m.\u001b[0m\u001b[0mbook\u001b[0m \u001b[1;33m=\u001b[0m \u001b[0mself\u001b[0m\u001b[1;33m.\u001b[0m\u001b[0mload_workbook\u001b[0m\u001b[1;33m(\u001b[0m\u001b[0mfilepath_or_buffer\u001b[0m\u001b[1;33m)\u001b[0m\u001b[1;33m\u001b[0m\u001b[1;33m\u001b[0m\u001b[0m\n\u001b[0;32m    352\u001b[0m         \u001b[1;32melif\u001b[0m \u001b[0misinstance\u001b[0m\u001b[1;33m(\u001b[0m\u001b[0mfilepath_or_buffer\u001b[0m\u001b[1;33m,\u001b[0m \u001b[0mstr\u001b[0m\u001b[1;33m)\u001b[0m\u001b[1;33m:\u001b[0m\u001b[1;33m\u001b[0m\u001b[1;33m\u001b[0m\u001b[0m\n\u001b[1;32m--> 353\u001b[1;33m             \u001b[0mself\u001b[0m\u001b[1;33m.\u001b[0m\u001b[0mbook\u001b[0m \u001b[1;33m=\u001b[0m \u001b[0mself\u001b[0m\u001b[1;33m.\u001b[0m\u001b[0mload_workbook\u001b[0m\u001b[1;33m(\u001b[0m\u001b[0mfilepath_or_buffer\u001b[0m\u001b[1;33m)\u001b[0m\u001b[1;33m\u001b[0m\u001b[1;33m\u001b[0m\u001b[0m\n\u001b[0m\u001b[0;32m    354\u001b[0m         \u001b[1;32melif\u001b[0m \u001b[0misinstance\u001b[0m\u001b[1;33m(\u001b[0m\u001b[0mfilepath_or_buffer\u001b[0m\u001b[1;33m,\u001b[0m \u001b[0mbytes\u001b[0m\u001b[1;33m)\u001b[0m\u001b[1;33m:\u001b[0m\u001b[1;33m\u001b[0m\u001b[1;33m\u001b[0m\u001b[0m\n\u001b[0;32m    355\u001b[0m             \u001b[0mself\u001b[0m\u001b[1;33m.\u001b[0m\u001b[0mbook\u001b[0m \u001b[1;33m=\u001b[0m \u001b[0mself\u001b[0m\u001b[1;33m.\u001b[0m\u001b[0mload_workbook\u001b[0m\u001b[1;33m(\u001b[0m\u001b[0mBytesIO\u001b[0m\u001b[1;33m(\u001b[0m\u001b[0mfilepath_or_buffer\u001b[0m\u001b[1;33m)\u001b[0m\u001b[1;33m)\u001b[0m\u001b[1;33m\u001b[0m\u001b[1;33m\u001b[0m\u001b[0m\n",
      "\u001b[1;32mc:\\Users\\elias\\anaconda3\\lib\\site-packages\\pandas\\io\\excel\\_xlrd.py\u001b[0m in \u001b[0;36mload_workbook\u001b[1;34m(self, filepath_or_buffer)\u001b[0m\n\u001b[0;32m     35\u001b[0m             \u001b[1;32mreturn\u001b[0m \u001b[0mopen_workbook\u001b[0m\u001b[1;33m(\u001b[0m\u001b[0mfile_contents\u001b[0m\u001b[1;33m=\u001b[0m\u001b[0mdata\u001b[0m\u001b[1;33m)\u001b[0m\u001b[1;33m\u001b[0m\u001b[1;33m\u001b[0m\u001b[0m\n\u001b[0;32m     36\u001b[0m         \u001b[1;32melse\u001b[0m\u001b[1;33m:\u001b[0m\u001b[1;33m\u001b[0m\u001b[1;33m\u001b[0m\u001b[0m\n\u001b[1;32m---> 37\u001b[1;33m             \u001b[1;32mreturn\u001b[0m \u001b[0mopen_workbook\u001b[0m\u001b[1;33m(\u001b[0m\u001b[0mfilepath_or_buffer\u001b[0m\u001b[1;33m)\u001b[0m\u001b[1;33m\u001b[0m\u001b[1;33m\u001b[0m\u001b[0m\n\u001b[0m\u001b[0;32m     38\u001b[0m \u001b[1;33m\u001b[0m\u001b[0m\n\u001b[0;32m     39\u001b[0m     \u001b[1;33m@\u001b[0m\u001b[0mproperty\u001b[0m\u001b[1;33m\u001b[0m\u001b[1;33m\u001b[0m\u001b[0m\n",
      "\u001b[1;32mc:\\Users\\elias\\anaconda3\\lib\\site-packages\\xlrd\\__init__.py\u001b[0m in \u001b[0;36mopen_workbook\u001b[1;34m(filename, logfile, verbosity, use_mmap, file_contents, encoding_override, formatting_info, on_demand, ragged_rows)\u001b[0m\n\u001b[0;32m    109\u001b[0m     \u001b[1;32melse\u001b[0m\u001b[1;33m:\u001b[0m\u001b[1;33m\u001b[0m\u001b[1;33m\u001b[0m\u001b[0m\n\u001b[0;32m    110\u001b[0m         \u001b[0mfilename\u001b[0m \u001b[1;33m=\u001b[0m \u001b[0mos\u001b[0m\u001b[1;33m.\u001b[0m\u001b[0mpath\u001b[0m\u001b[1;33m.\u001b[0m\u001b[0mexpanduser\u001b[0m\u001b[1;33m(\u001b[0m\u001b[0mfilename\u001b[0m\u001b[1;33m)\u001b[0m\u001b[1;33m\u001b[0m\u001b[1;33m\u001b[0m\u001b[0m\n\u001b[1;32m--> 111\u001b[1;33m         \u001b[1;32mwith\u001b[0m \u001b[0mopen\u001b[0m\u001b[1;33m(\u001b[0m\u001b[0mfilename\u001b[0m\u001b[1;33m,\u001b[0m \u001b[1;34m\"rb\"\u001b[0m\u001b[1;33m)\u001b[0m \u001b[1;32mas\u001b[0m \u001b[0mf\u001b[0m\u001b[1;33m:\u001b[0m\u001b[1;33m\u001b[0m\u001b[1;33m\u001b[0m\u001b[0m\n\u001b[0m\u001b[0;32m    112\u001b[0m             \u001b[0mpeek\u001b[0m \u001b[1;33m=\u001b[0m \u001b[0mf\u001b[0m\u001b[1;33m.\u001b[0m\u001b[0mread\u001b[0m\u001b[1;33m(\u001b[0m\u001b[0mpeeksz\u001b[0m\u001b[1;33m)\u001b[0m\u001b[1;33m\u001b[0m\u001b[1;33m\u001b[0m\u001b[0m\n\u001b[0;32m    113\u001b[0m     \u001b[1;32mif\u001b[0m \u001b[0mpeek\u001b[0m \u001b[1;33m==\u001b[0m \u001b[1;34mb\"PK\\x03\\x04\"\u001b[0m\u001b[1;33m:\u001b[0m \u001b[1;31m# a ZIP file\u001b[0m\u001b[1;33m\u001b[0m\u001b[1;33m\u001b[0m\u001b[0m\n",
      "\u001b[1;31mFileNotFoundError\u001b[0m: [Errno 2] No such file or directory: 'fiqh_maliki.xlsx'"
     ]
    }
   ],
   "source": [
    "df = pd.read_excel('fiqh_maliki.xlsx')\n",
    "df = df.drop_duplicates()"
   ]
  },
  {
   "cell_type": "code",
   "execution_count": null,
   "metadata": {},
   "outputs": [],
   "source": [
    "M['index'] = M.index"
   ]
  },
  {
   "cell_type": "code",
   "execution_count": null,
   "metadata": {},
   "outputs": [
    {
     "data": {
      "text/plain": [
       "(136, 2)"
      ]
     },
     "execution_count": 35,
     "metadata": {},
     "output_type": "execute_result"
    }
   ],
   "source": [
    "df.shape"
   ]
  },
  {
   "cell_type": "code",
   "execution_count": null,
   "metadata": {},
   "outputs": [],
   "source": [
    "df.set_index('ar', inplace = True)"
   ]
  },
  {
   "cell_type": "code",
   "execution_count": null,
   "metadata": {},
   "outputs": [],
   "source": [
    "M['ar'] = M['Titre']\n",
    "M.set_index('ar', inplace = True)"
   ]
  },
  {
   "cell_type": "code",
   "execution_count": null,
   "metadata": {},
   "outputs": [],
   "source": [
    "M_join = M.join(other =df, on = 'ar', rsuffix = '_df2', how = 'outer')"
   ]
  },
  {
   "cell_type": "code",
   "execution_count": null,
   "metadata": {},
   "outputs": [
    {
     "name": "stdout",
     "output_type": "stream",
     "text": [
      "(136, 1) (132, 13) (253, 15)\n"
     ]
    }
   ],
   "source": [
    "print(df.shape, M.shape, M_join.shape)"
   ]
  },
  {
   "cell_type": "code",
   "execution_count": null,
   "metadata": {},
   "outputs": [],
   "source": [
    "M_join['fr'] = M_join['fr'].fillna(value = 'none')"
   ]
  },
  {
   "cell_type": "markdown",
   "metadata": {},
   "source": [
    "On peut afficher les sites qui ont un `nan` dans la colonne `fr`"
   ]
  },
  {
   "cell_type": "code",
   "execution_count": null,
   "metadata": {
    "scrolled": true
   },
   "outputs": [
    {
     "data": {
      "text/plain": [
       "array(['https://www.sifatusafwa.com/fr/aqida-croyance/jouhoud-al-malikiyah-fi-taqrir-tawhid-al-ibadah.html',\n",
       "       'https://www.sifatusafwa.com/fr/biographies/malamih-min-hayat-al-imam-malik-ahmad-taha-rayan.html',\n",
       "       'https://www.sifatusafwa.com/fr/biographies/malik-ibn-anas-sirah-a-immah-al-madhahib-al-arba-ah.html',\n",
       "       'https://www.sifatusafwa.com/fr/biographies/tartib-al-madarik-wa-taqrib-al-masalik-li-ma-rifat-a-lam-madhhab-malik.html',\n",
       "       'https://www.sifatusafwa.com/fr/explications-de-livres-de-aqida/charh-aqidah-ibn-abi-zayd-al-qayrawani-cheikh-an-najmi.html',\n",
       "       'https://www.sifatusafwa.com/fr/explications-de-livres-de-aqida/charh-usul-as-sunnah-lil-imam-ibn-abi-zamanin-zayd-al-madkhali.html',\n",
       "       'https://www.sifatusafwa.com/fr/explications-de-recueils/at-tamhid-charh-al-muwatta-de-l-imam-ibn-abdil-barr.html#/21-edition-egyptienne',\n",
       "       'https://www.sifatusafwa.com/fr/explications-de-recueils/at-tamhid-charh-al-muwatta-de-l-imam-ibn-abdil-barr.html#/23-edition-libanaise_qualité_saoudienne',\n",
       "       'https://www.sifatusafwa.com/fr/explications-de-recueils/kitab-al-qabas-fi-charh-muwatta-malik-ibn-anas-ibnul-arabi-al-maliki.html#/21-edition-egyptienne',\n",
       "       'https://www.sifatusafwa.com/fr/explications-de-recueils/kitab-al-qabas-fi-charh-muwatta-malik-ibn-anas-ibnul-arabi-al-maliki.html#/22-edition-saoudienne',\n",
       "       'https://www.sifatusafwa.com/fr/explications-de-recueils/machariq-al-anwar-ala-sahih-al-athar-al-qadhi-iyyad.html',\n",
       "       'https://www.sifatusafwa.com/fr/explications-de-recueils/mouhadarat-fi-charh-al-mouwatta-dr-ilyes-dardour.html',\n",
       "       'https://www.sifatusafwa.com/fr/fiqh-ahkam/al-fiqh-al-maliki-wa-adillatuhu-préface-ahmad-taha-rayan.html',\n",
       "       'https://www.sifatusafwa.com/fr/fiqh-ahkam/charh-bidayah-al-mujtahid-wa-nihayah-al-muqtasid-abdullah-al-abadi.html',\n",
       "       'https://www.sifatusafwa.com/fr/fiqh-ahkam/hidayah-al-muta-abid-as-salik-charh-al-akhdari-abdessami-al-abi.html',\n",
       "       'https://www.sifatusafwa.com/fr/fiqh-ahkam/introduction-au-fondements-du-fiqh-maliki-usul-fiqh.html',\n",
       "       'https://www.sifatusafwa.com/fr/fiqh-ahkam/ithaf-dhawi-al-himam-al-aliyah-bi-charh-al-achmawiyah-al-ghumari.html',\n",
       "       'https://www.sifatusafwa.com/fr/fiqh-ahkam/matn-al-akhdari-mukhtasar-fi-al-ibadat-ala-madhhab-al-maliki.html',\n",
       "       'https://www.sifatusafwa.com/fr/fiqh-ahkam/mubtilat-as-salat-ala-al-madhhab-al-maliki.html',\n",
       "       'https://www.sifatusafwa.com/fr/fiqh-ahkam/tabsirah-al-hukkam-fi-usul-al-aqdhiyyah-ibn-farhun-799h.html',\n",
       "       'https://www.sifatusafwa.com/fr/fiqh-généraliste/bidayah-al-mujtahid-wa-nihaya-al-muqtassid-ibn-rushd.html#/30-edition-1_volume',\n",
       "       'https://www.sifatusafwa.com/fr/fiqh-généraliste/bidayah-al-mujtahid-wa-nihaya-al-muqtassid-ibn-rushd.html#/39-edition-4_volumes',\n",
       "       'https://www.sifatusafwa.com/fr/fiqh-généraliste/fiqh-as-sounnah-ala-madhhab-al-maliki-2-volumes.html',\n",
       "       'https://www.sifatusafwa.com/fr/fiqh-généraliste/kitab-al-fiqh-ala-al-madhahib-al-arba-a-abderrahman-al-djazairi.html',\n",
       "       'https://www.sifatusafwa.com/fr/fiqh-maliki/-amal-ahl-al-madinah-inda-al-malikiyyah.html',\n",
       "       'https://www.sifatusafwa.com/fr/fiqh-maliki/al-arf-an-nachir-fi-charh-wa-adillat-fiqhi-matn-ibn-achir.html',\n",
       "       'https://www.sifatusafwa.com/fr/fiqh-maliki/al-charh-al-saghir-ala-aqrab-al-masalik-ad-dardir-ta-aliqat-al-sawi-al-mubarak.html#/51-edition-5_volumes',\n",
       "       'https://www.sifatusafwa.com/fr/fiqh-maliki/al-charh-al-saghir-ala-aqrab-al-masalik-ad-dardir-ta-aliqat-al-sawi-al-mubarak.html#/87-edition-8_volumes',\n",
       "       'https://www.sifatusafwa.com/fr/fiqh-maliki/al-durar-al-thamin-wa-l-mawrid-al-muin-al-mayyarah.html',\n",
       "       'https://www.sifatusafwa.com/fr/fiqh-maliki/al-fiqh-al-muyassar-ala-madhhab-imam-dar-al-hijra-malik-ibn-anas.html',\n",
       "       'https://www.sifatusafwa.com/fr/fiqh-maliki/al-jami-li-masa-il-al-mudawwanah-ibn-yunus-as-siqilli-451h.html',\n",
       "       'https://www.sifatusafwa.com/fr/fiqh-maliki/al-kafi-fi-fiqh-ala-madh-hab-ahl-al-medina-ibn-abdel-barr-fiqh-maliki.html#/31-edition-2_volumes',\n",
       "       'https://www.sifatusafwa.com/fr/fiqh-maliki/al-kafi-fi-fiqh-ala-madh-hab-ahl-al-medina-ibn-abdel-barr-fiqh-maliki.html#/38-edition-3_volumes',\n",
       "       'https://www.sifatusafwa.com/fr/fiqh-maliki/al-khulasah-al-fiqhiyyah-ala-madhhab-al-malikiyyah-100-harakat.html',\n",
       "       'https://www.sifatusafwa.com/fr/fiqh-maliki/al-madkhal-ila-moukhtassar-khalil.html',\n",
       "       'https://www.sifatusafwa.com/fr/fiqh-maliki/al-manahil-az-zulalah-fi-charh-adillah-ar-risalah-al-qayrawaniya.html',\n",
       "       'https://www.sifatusafwa.com/fr/fiqh-maliki/al-masail-allati-banaha-al-imam-malik-ala-amal-ahl-al-madina.html',\n",
       "       'https://www.sifatusafwa.com/fr/fiqh-maliki/al-minah-al-ilahiyah-fi-charh-al-achmawiyah-al-fichi-972h.html',\n",
       "       'https://www.sifatusafwa.com/fr/fiqh-maliki/al-misk-al-adhfari-fi-charh-wa-adilla-fiqh-matn-al-akhdari-mokhtar-chanqiti.html',\n",
       "       'https://www.sifatusafwa.com/fr/fiqh-maliki/al-mou-amalat-fi-al-fiqh-al-maliki-sadiq-al-ghariani.html',\n",
       "       'https://www.sifatusafwa.com/fr/fiqh-maliki/al-moudawanah-fi-fourou-al-malikiyah-sahnoun.html#/33-edition-édition_1',\n",
       "       'https://www.sifatusafwa.com/fr/fiqh-maliki/al-moudawanah-fi-fourou-al-malikiyah-sahnoun.html#/34-edition-édition_2',\n",
       "       'https://www.sifatusafwa.com/fr/fiqh-maliki/al-moukhtassar-al-fiqhi-de-ibn-arafah-803h-fiqh-maliki.html',\n",
       "       'https://www.sifatusafwa.com/fr/fiqh-maliki/al-muqaddimah-al-qurtubiyyah-bi-charh-cheikh-zarrouk-el-bernoussi.html',\n",
       "       'https://www.sifatusafwa.com/fr/fiqh-maliki/al-usul-fi-ma-rifah-al-usul-risalah-fi-usul-ad-din-ibn-al-arabi.html',\n",
       "       'https://www.sifatusafwa.com/fr/fiqh-maliki/an-nour-al-moubin-ala-al-mourchid-al-mou-in-fiqh-maliki-90-harakat.html',\n",
       "       'https://www.sifatusafwa.com/fr/fiqh-maliki/aqrab-al-masalik-li-madhhab-al-imam-malik-ad-dardir-harakat.html#/40-edition-petit_format',\n",
       "       'https://www.sifatusafwa.com/fr/fiqh-maliki/aqrab-al-masalik-li-madhhab-al-imam-malik-ad-dardir-harakat.html#/42-edition-grand_format',\n",
       "       'https://www.sifatusafwa.com/fr/fiqh-maliki/ashal-al-masalik-fi-madhhab-al-imam-malik-muhammad-al-bashar.html',\n",
       "       'https://www.sifatusafwa.com/fr/fiqh-maliki/at-tabsirah-al-lakhmi-408h-14-volumes-fiqh-maliki.html',\n",
       "       'https://www.sifatusafwa.com/fr/fiqh-maliki/at-taj-wa-al-iklil-li-moukhtasar-khalil-al-mawwaq-al-maliki.html',\n",
       "       'https://www.sifatusafwa.com/fr/fiqh-maliki/at-tawdih-fi-charh-al-mukhtasar-ibn-al-hajib-imam-khalil.html',\n",
       "       'https://www.sifatusafwa.com/fr/fiqh-maliki/charh-al-achmawiya-al-jawahir-az-zakiya-ibn-turki-al-maliki-979h.html',\n",
       "       'https://www.sifatusafwa.com/fr/fiqh-maliki/charh-aqidah-malik-as-saghir-al-qayrawani-al-qadi-abdelwahhab.html',\n",
       "       'https://www.sifatusafwa.com/fr/fiqh-maliki/charh-mandhouma-ibn-achir-fi-fiqh-al-maliki-ahmad-mustafa-at-tahtawi.html',\n",
       "       'https://www.sifatusafwa.com/fr/fiqh-maliki/charh-nadhm-risalah-al-qayrawani-ala-al-madhahib-al-arba-a.html',\n",
       "       'https://www.sifatusafwa.com/fr/fiqh-maliki/chifaa-al-ghalil-annotations-au-moukhtasar-khalil-ibn-ghazi-909h.html',\n",
       "       'https://www.sifatusafwa.com/fr/fiqh-maliki/dalil-as-salik-ala-as-hal-al-massalik-houssain-as-soulaymani.html',\n",
       "       'https://www.sifatusafwa.com/fr/fiqh-maliki/fiqh-al-ibadat-wa-adillah-ala-madhhab-sadah-al-malikiyah.html',\n",
       "       'https://www.sifatusafwa.com/fr/fiqh-maliki/hachiyah-ad-dousouqi-ala-ach-charh-al-kabir-fiqh-maliki.html',\n",
       "       'https://www.sifatusafwa.com/fr/fiqh-maliki/hachiyah-ibn-hamdoun-ala-charh-al-mayyarah.html',\n",
       "       'https://www.sifatusafwa.com/fr/fiqh-maliki/hachiyyah-charaf-ad-din-at-toukhaykhi-ala-moukhtasar-khalil.html',\n",
       "       'https://www.sifatusafwa.com/fr/fiqh-maliki/idah-al-masalik-ila-qawa-id-al-imam-malik-al-wansharisi.html',\n",
       "       'https://www.sifatusafwa.com/fr/fiqh-maliki/ikhtisar-al-mabsoutah-fi-ikhtilaf-as-hab-malik-wa-aqwalouhou.html',\n",
       "       'https://www.sifatusafwa.com/fr/fiqh-maliki/introduction-a-letude-du-fiqh-maliki-ahmed-dib.html',\n",
       "       'https://www.sifatusafwa.com/fr/fiqh-maliki/isal-a-salik-ila-usul-madhahb-al-imam-malik-al-walati.html#/28-edition-couverture_souple',\n",
       "       'https://www.sifatusafwa.com/fr/fiqh-maliki/isal-a-salik-ila-usul-madhahb-al-imam-malik-al-walati.html#/29-edition-couverture_rigide',\n",
       "       'https://www.sifatusafwa.com/fr/fiqh-maliki/jami-al-oummahat-moukhtasar-ibn-al-hajib-al-far-i.html',\n",
       "       'https://www.sifatusafwa.com/fr/fiqh-maliki/jawahir-ad-dourar-fi-hall-alfadh-al-moukhtasar-al-tata-i-al-maliki.html',\n",
       "       'https://www.sifatusafwa.com/fr/fiqh-maliki/kitab-al-ajwibah-imam-muhammad-ibn-sahnoun-256h.html',\n",
       "       'https://www.sifatusafwa.com/fr/fiqh-maliki/lawami-al-durar-fi-hatk-astar-al-mukhtasar-al-majlisi-ash-shinqiti.html',\n",
       "       'https://www.sifatusafwa.com/fr/fiqh-maliki/le-statut-du-qabd-dans-la-prière-chez-l-imam-malik-al-mekki-ibn-azouz.html',\n",
       "       'https://www.sifatusafwa.com/fr/fiqh-maliki/les-regles-juridiques-contenues-dans-al-moudawanah-al-koubra.html',\n",
       "       'https://www.sifatusafwa.com/fr/fiqh-maliki/majmou-al-amir-moukhtasar-al-amir-fiqh-maliki.html',\n",
       "       'https://www.sifatusafwa.com/fr/fiqh-maliki/majmou-chourouh-matn-al-achmawiyyah.html',\n",
       "       'https://www.sifatusafwa.com/fr/fiqh-maliki/manahij-at-tahsil-charh-al-moudawanah-al-rajwaji-10-vol.html',\n",
       "       'https://www.sifatusafwa.com/fr/fiqh-maliki/matn-ibn-ashir-fil-fiqh-al-maliki-al-murshid-al-muin.html#/40-edition-petit_format',\n",
       "       'https://www.sifatusafwa.com/fr/fiqh-maliki/matn-ibn-ashir-fil-fiqh-al-maliki-al-murshid-al-muin.html#/41-edition-format_moyen',\n",
       "       'https://www.sifatusafwa.com/fr/fiqh-maliki/mawahib-al-jalil-li-charh-moukhtasar-khalil-harakat-8-vol.html',\n",
       "       'https://www.sifatusafwa.com/fr/fiqh-maliki/moudawanah-al-fiqh-al-malikiyyah-wa-adillatuh-sadiq-al-ghariani.html',\n",
       "       'https://www.sifatusafwa.com/fr/fiqh-maliki/muntakhab-al-ahkam-de-l-imam-ibn-abi-zamanin-399h-fiqh-maliki.html#/30-edition-1_volume',\n",
       "       'https://www.sifatusafwa.com/fr/fiqh-maliki/muntakhab-al-ahkam-de-l-imam-ibn-abi-zamanin-399h-fiqh-maliki.html#/31-edition-2_volumes',\n",
       "       'https://www.sifatusafwa.com/fr/fiqh-maliki/nadhm-matn-al-akhdari-ibn-al-hajj-chanqiti.html',\n",
       "       'https://www.sifatusafwa.com/fr/fiqh-maliki/siraj-as-salik-charh-as-hal-al-massalik-othman-al-jou-ali-al-maliki.html',\n",
       "       'https://www.sifatusafwa.com/fr/fiqh-maliki/tabiyyin-al-massalik-charh-tadrib-as-salik-ila-aqrab-al-masalik-ach-chibani-ach-chanqiti.html',\n",
       "       'https://www.sifatusafwa.com/fr/fiqh-maliki/tahrir-al-maqalah-fi-charh-ar-risalah-al-qalchani-863h.html',\n",
       "       'https://www.sifatusafwa.com/fr/fiqh-maliki/taqrib-al-woussoul-ila-ilm-al-oussoul-ibn-jouzay.html',\n",
       "       'https://www.sifatusafwa.com/fr/oussoul-al-fiqh/taqrib-al-wousoul-ila-ilm-al-ousoul-100-harakat.html',\n",
       "       'https://www.sifatusafwa.com/fr/fiqh-maliki/tawdih-ad-din-ala-mourchid-al-mou-in-cheikh-boucena.html',\n",
       "       'https://www.sifatusafwa.com/fr/hadith/awali-al-imam-malik-al-hakim-al-kabir-378h.html',\n",
       "       'https://www.sifatusafwa.com/fr/minhaj-et-sectes/la-aqida-de-l-imam-malik.html',\n",
       "       'https://www.sifatusafwa.com/fr/minhaj-et-sectes/manhaj-al-imam-malik-fi-ithbat-al-aqida.html',\n",
       "       'https://www.sifatusafwa.com/fr/oussoul-al-fiqh/al-fourouq-imam-al-qarafi.html',\n",
       "       'https://www.sifatusafwa.com/fr/oussoul-al-fiqh/miftah-al-woussoul-ila-bina-al-fourou-ala-al-oussoul-at-talmisani.html',\n",
       "       'https://www.sifatusafwa.com/fr/oussoul-al-fiqh/tanqih-al-fusul-fi-ilm-al-usul-al-qurafi-harakat.html#/33-edition-édition_1',\n",
       "       'https://www.sifatusafwa.com/fr/oussoul-al-fiqh/tanqih-al-fusul-fi-ilm-al-usul-al-qurafi-harakat.html#/34-edition-édition_2',\n",
       "       'https://www.sifatusafwa.com/fr/poèmes-scientifiques-nadhm/nadhm-mukhtasar-akhdari-nadhm-ajrumiyyah-nadhm-fil-faraid.html',\n",
       "       'https://www.sifatusafwa.com/fr/recueils-classiques-de-hadith/al-mouwatta-bi-riwayah-mohammed-ach-chaybani.html',\n",
       "       'https://www.sifatusafwa.com/fr/recueils-classiques-de-hadith/al-muwatta-de-l-imam-malik-divisé-en-sahih-et-da-if.html',\n",
       "       'https://www.sifatusafwa.com/fr/recueils-classiques-de-hadith/al-muwatta-de-l-imam-malik.html#/143-edition-syrienne_qualité_saoudienne',\n",
       "       'https://www.sifatusafwa.com/fr/recueils-classiques-de-hadith/al-muwatta-de-l-imam-malik.html#/23-edition-libanaise_qualité_saoudienne',\n",
       "       'https://www.sifatusafwa.com/fr/recueils-classiques-de-hadith/al-muwatta-de-l-imam-malik.html#/24-edition-egyptienne_avec_harakat',\n",
       "       'https://www.sifatusafwa.com/fr/tout-le-catalogue/biographie-des-4-imams-abu-hanifa-malik-shafii-ahmad-s-ruhayli.html'],\n",
       "      dtype=object)"
      ]
     },
     "execution_count": 41,
     "metadata": {},
     "output_type": "execute_result"
    }
   ],
   "source": [
    "M_join[M_join['fr'] == 'none']['site'].values"
   ]
  },
  {
   "cell_type": "code",
   "execution_count": null,
   "metadata": {},
   "outputs": [
    {
     "data": {
      "text/plain": [
       "ar                             0.000000\n",
       "Titre                          0.422925\n",
       "Auteur                         0.438735\n",
       "Pages                          0.648221\n",
       "Édition                        0.596838\n",
       "Couverture                     0.529644\n",
       "Format                         0.525692\n",
       "Harakat                        0.438735\n",
       "Volumes                        0.845850\n",
       "Vérification et préparation    0.877470\n",
       "Préface                        0.960474\n",
       "Annotations                    0.968379\n",
       "site                           0.422925\n",
       "index                          0.422925\n",
       "fr                             0.000000\n",
       "dtype: float64"
      ]
     },
     "execution_count": 42,
     "metadata": {},
     "output_type": "execute_result"
    }
   ],
   "source": [
    "M_join.isnull().sum()/len(M_join)"
   ]
  },
  {
   "cell_type": "markdown",
   "metadata": {},
   "source": [
    "40% des valeurs de site français n'ont pas été trouvés. On peut essayer de joindre sur l'index:"
   ]
  },
  {
   "cell_type": "markdown",
   "metadata": {},
   "source": [
    "### Jointure sur l'index"
   ]
  },
  {
   "cell_type": "code",
   "execution_count": null,
   "metadata": {},
   "outputs": [],
   "source": [
    "M.columns = ['Titre', 'Auteur', 'Pages', 'Édition', 'Couverture', 'Format',\n",
    "       'Harakat', 'Volumes', 'Vérification et préparation', 'Préface',\n",
    "       'Annotations', 'site', 'index_col']"
   ]
  },
  {
   "cell_type": "code",
   "execution_count": null,
   "metadata": {},
   "outputs": [
    {
     "name": "stdout",
     "output_type": "stream",
     "text": [
      "(136, 1) (132, 12) (136, 14)\n"
     ]
    }
   ],
   "source": [
    "#On change l'index pour faire la jointure\n",
    "M.set_index(M['index_col'], inplace = True)\n",
    "M = M.drop(['index_col'], axis = 1)\n",
    "df.set_index(np.arange(len(df)), inplace = True)\n",
    "\n",
    "M_join = M.join(other =df, on = 'index_col', rsuffix = '_df2', how = 'outer')\n",
    "\n",
    "#Aperçu des tailles après jointure\n",
    "print(df.shape, M.shape, M_join.shape)"
   ]
  },
  {
   "cell_type": "markdown",
   "metadata": {},
   "source": [
    "On peut afficher les sites qui ont un `nan` dans la colonne `fr`"
   ]
  },
  {
   "cell_type": "code",
   "execution_count": null,
   "metadata": {},
   "outputs": [],
   "source": [
    "M_join['fr'] = M_join['fr'].fillna(value = 'none')"
   ]
  },
  {
   "cell_type": "code",
   "execution_count": null,
   "metadata": {
    "scrolled": false
   },
   "outputs": [
    {
     "data": {
      "text/html": [
       "<div>\n",
       "<style scoped>\n",
       "    .dataframe tbody tr th:only-of-type {\n",
       "        vertical-align: middle;\n",
       "    }\n",
       "\n",
       "    .dataframe tbody tr th {\n",
       "        vertical-align: top;\n",
       "    }\n",
       "\n",
       "    .dataframe thead th {\n",
       "        text-align: right;\n",
       "    }\n",
       "</style>\n",
       "<table border=\"1\" class=\"dataframe\">\n",
       "  <thead>\n",
       "    <tr style=\"text-align: right;\">\n",
       "      <th></th>\n",
       "      <th>index_col</th>\n",
       "      <th>Titre</th>\n",
       "      <th>Auteur</th>\n",
       "      <th>Pages</th>\n",
       "      <th>Édition</th>\n",
       "      <th>Couverture</th>\n",
       "      <th>Format</th>\n",
       "      <th>Harakat</th>\n",
       "      <th>Volumes</th>\n",
       "      <th>Vérification et préparation</th>\n",
       "      <th>Préface</th>\n",
       "      <th>Annotations</th>\n",
       "      <th>site</th>\n",
       "      <th>fr</th>\n",
       "    </tr>\n",
       "  </thead>\n",
       "  <tbody>\n",
       "    <tr>\n",
       "      <th>0.0</th>\n",
       "      <td>0</td>\n",
       "      <td>فتاوى علماء المالكية في تقرير عقيدة أهل السنة ...</td>\n",
       "      <td>د. فاضل بن نورالدين الإمام</td>\n",
       "      <td>871</td>\n",
       "      <td>دار التوحيد للنشر</td>\n",
       "      <td>Rigide</td>\n",
       "      <td>17x24cm</td>\n",
       "      <td>Pas ou peu (ou que sur le Matn)</td>\n",
       "      <td>NaN</td>\n",
       "      <td>NaN</td>\n",
       "      <td>NaN</td>\n",
       "      <td>NaN</td>\n",
       "      <td>https://www.sifatusafwa.com/fr/aqida-croyance/...</td>\n",
       "      <td>Majmou’ al-Amir (Moukhtasar al-Amir) - Fiqh Ma...</td>\n",
       "    </tr>\n",
       "    <tr>\n",
       "      <th>1.0</th>\n",
       "      <td>1</td>\n",
       "      <td>جهود المالكية في تقرير توحيد العبادة</td>\n",
       "      <td>د. عبد الله بن فهد العرفج</td>\n",
       "      <td>487</td>\n",
       "      <td>دار التوحيد للنشر</td>\n",
       "      <td>Rigide</td>\n",
       "      <td>17x24cm</td>\n",
       "      <td>Pas ou peu (ou que sur le Matn)</td>\n",
       "      <td>NaN</td>\n",
       "      <td>NaN</td>\n",
       "      <td>NaN</td>\n",
       "      <td>NaN</td>\n",
       "      <td>https://www.sifatusafwa.com/fr/aqida-croyance/...</td>\n",
       "      <td>Lawami' al-Durar fi Hatk Astar al-Mukhtasar - ...</td>\n",
       "    </tr>\n",
       "    <tr>\n",
       "      <th>2.0</th>\n",
       "      <td>2</td>\n",
       "      <td>ملامح من حياة الإمام مالك ، إمام دار الهجرة وص...</td>\n",
       "      <td>د. أحمد علي طه ريان</td>\n",
       "      <td>103</td>\n",
       "      <td>دار الفضيلة القاهرة</td>\n",
       "      <td>Souple</td>\n",
       "      <td>17x24cm</td>\n",
       "      <td>Pas ou peu (ou que sur le Matn)</td>\n",
       "      <td>NaN</td>\n",
       "      <td>NaN</td>\n",
       "      <td>NaN</td>\n",
       "      <td>NaN</td>\n",
       "      <td>https://www.sifatusafwa.com/fr/biographies/mal...</td>\n",
       "      <td>Al-Jami' li Masa-il al-Mudawwanah - Ibn Yunus ...</td>\n",
       "    </tr>\n",
       "  </tbody>\n",
       "</table>\n",
       "</div>"
      ],
      "text/plain": [
       "     index_col                                              Titre  \\\n",
       "0.0          0  فتاوى علماء المالكية في تقرير عقيدة أهل السنة ...   \n",
       "1.0          1               جهود المالكية في تقرير توحيد العبادة   \n",
       "2.0          2  ملامح من حياة الإمام مالك ، إمام دار الهجرة وص...   \n",
       "\n",
       "                         Auteur Pages              Édition Couverture  \\\n",
       "0.0  د. فاضل بن نورالدين الإمام   871    دار التوحيد للنشر     Rigide   \n",
       "1.0   د. عبد الله بن فهد العرفج   487    دار التوحيد للنشر     Rigide   \n",
       "2.0         د. أحمد علي طه ريان   103  دار الفضيلة القاهرة     Souple   \n",
       "\n",
       "      Format                          Harakat Volumes  \\\n",
       "0.0  17x24cm  Pas ou peu (ou que sur le Matn)     NaN   \n",
       "1.0  17x24cm  Pas ou peu (ou que sur le Matn)     NaN   \n",
       "2.0  17x24cm  Pas ou peu (ou que sur le Matn)     NaN   \n",
       "\n",
       "    Vérification et préparation Préface Annotations  \\\n",
       "0.0                         NaN     NaN         NaN   \n",
       "1.0                         NaN     NaN         NaN   \n",
       "2.0                         NaN     NaN         NaN   \n",
       "\n",
       "                                                  site  \\\n",
       "0.0  https://www.sifatusafwa.com/fr/aqida-croyance/...   \n",
       "1.0  https://www.sifatusafwa.com/fr/aqida-croyance/...   \n",
       "2.0  https://www.sifatusafwa.com/fr/biographies/mal...   \n",
       "\n",
       "                                                    fr  \n",
       "0.0  Majmou’ al-Amir (Moukhtasar al-Amir) - Fiqh Ma...  \n",
       "1.0  Lawami' al-Durar fi Hatk Astar al-Mukhtasar - ...  \n",
       "2.0  Al-Jami' li Masa-il al-Mudawwanah - Ibn Yunus ...  "
      ]
     },
     "execution_count": 46,
     "metadata": {},
     "output_type": "execute_result"
    }
   ],
   "source": [
    "M_join.head(3)"
   ]
  },
  {
   "cell_type": "markdown",
   "metadata": {},
   "source": [
    "On voit que les titres francais correspondent pas aux titres arabes, comme on l'avait supposé, on va essayer d'utiliser l'url pour les extraire"
   ]
  },
  {
   "cell_type": "markdown",
   "metadata": {},
   "source": [
    "### Titres français extraits avec l'url"
   ]
  },
  {
   "cell_type": "code",
   "execution_count": null,
   "metadata": {},
   "outputs": [
    {
     "data": {
      "text/html": [
       "<div>\n",
       "<style scoped>\n",
       "    .dataframe tbody tr th:only-of-type {\n",
       "        vertical-align: middle;\n",
       "    }\n",
       "\n",
       "    .dataframe tbody tr th {\n",
       "        vertical-align: top;\n",
       "    }\n",
       "\n",
       "    .dataframe thead th {\n",
       "        text-align: right;\n",
       "    }\n",
       "</style>\n",
       "<table border=\"1\" class=\"dataframe\">\n",
       "  <thead>\n",
       "    <tr style=\"text-align: right;\">\n",
       "      <th></th>\n",
       "      <th>Titre</th>\n",
       "      <th>Auteur</th>\n",
       "      <th>Pages</th>\n",
       "      <th>Édition</th>\n",
       "      <th>Couverture</th>\n",
       "      <th>Format</th>\n",
       "      <th>Harakat</th>\n",
       "      <th>Volumes</th>\n",
       "      <th>Vérification et préparation</th>\n",
       "      <th>Préface</th>\n",
       "      <th>Annotations</th>\n",
       "      <th>site</th>\n",
       "    </tr>\n",
       "    <tr>\n",
       "      <th>index_col</th>\n",
       "      <th></th>\n",
       "      <th></th>\n",
       "      <th></th>\n",
       "      <th></th>\n",
       "      <th></th>\n",
       "      <th></th>\n",
       "      <th></th>\n",
       "      <th></th>\n",
       "      <th></th>\n",
       "      <th></th>\n",
       "      <th></th>\n",
       "      <th></th>\n",
       "    </tr>\n",
       "  </thead>\n",
       "  <tbody>\n",
       "    <tr>\n",
       "      <th>0</th>\n",
       "      <td>فتاوى علماء المالكية في تقرير عقيدة أهل السنة ...</td>\n",
       "      <td>د. فاضل بن نورالدين الإمام</td>\n",
       "      <td>871</td>\n",
       "      <td>دار التوحيد للنشر</td>\n",
       "      <td>Rigide</td>\n",
       "      <td>17x24cm</td>\n",
       "      <td>Pas ou peu (ou que sur le Matn)</td>\n",
       "      <td>NaN</td>\n",
       "      <td>NaN</td>\n",
       "      <td>NaN</td>\n",
       "      <td>NaN</td>\n",
       "      <td>https://www.sifatusafwa.com/fr/aqida-croyance/...</td>\n",
       "    </tr>\n",
       "    <tr>\n",
       "      <th>1</th>\n",
       "      <td>جهود المالكية في تقرير توحيد العبادة</td>\n",
       "      <td>د. عبد الله بن فهد العرفج</td>\n",
       "      <td>487</td>\n",
       "      <td>دار التوحيد للنشر</td>\n",
       "      <td>Rigide</td>\n",
       "      <td>17x24cm</td>\n",
       "      <td>Pas ou peu (ou que sur le Matn)</td>\n",
       "      <td>NaN</td>\n",
       "      <td>NaN</td>\n",
       "      <td>NaN</td>\n",
       "      <td>NaN</td>\n",
       "      <td>https://www.sifatusafwa.com/fr/aqida-croyance/...</td>\n",
       "    </tr>\n",
       "    <tr>\n",
       "      <th>2</th>\n",
       "      <td>ملامح من حياة الإمام مالك ، إمام دار الهجرة وص...</td>\n",
       "      <td>د. أحمد علي طه ريان</td>\n",
       "      <td>103</td>\n",
       "      <td>دار الفضيلة القاهرة</td>\n",
       "      <td>Souple</td>\n",
       "      <td>17x24cm</td>\n",
       "      <td>Pas ou peu (ou que sur le Matn)</td>\n",
       "      <td>NaN</td>\n",
       "      <td>NaN</td>\n",
       "      <td>NaN</td>\n",
       "      <td>NaN</td>\n",
       "      <td>https://www.sifatusafwa.com/fr/biographies/mal...</td>\n",
       "    </tr>\n",
       "  </tbody>\n",
       "</table>\n",
       "</div>"
      ],
      "text/plain": [
       "                                                       Titre  \\\n",
       "index_col                                                      \n",
       "0          فتاوى علماء المالكية في تقرير عقيدة أهل السنة ...   \n",
       "1                       جهود المالكية في تقرير توحيد العبادة   \n",
       "2          ملامح من حياة الإمام مالك ، إمام دار الهجرة وص...   \n",
       "\n",
       "                               Auteur Pages              Édition Couverture  \\\n",
       "index_col                                                                     \n",
       "0          د. فاضل بن نورالدين الإمام   871    دار التوحيد للنشر     Rigide   \n",
       "1           د. عبد الله بن فهد العرفج   487    دار التوحيد للنشر     Rigide   \n",
       "2                 د. أحمد علي طه ريان   103  دار الفضيلة القاهرة     Souple   \n",
       "\n",
       "            Format                          Harakat Volumes  \\\n",
       "index_col                                                     \n",
       "0          17x24cm  Pas ou peu (ou que sur le Matn)     NaN   \n",
       "1          17x24cm  Pas ou peu (ou que sur le Matn)     NaN   \n",
       "2          17x24cm  Pas ou peu (ou que sur le Matn)     NaN   \n",
       "\n",
       "          Vérification et préparation Préface Annotations  \\\n",
       "index_col                                                   \n",
       "0                                 NaN     NaN         NaN   \n",
       "1                                 NaN     NaN         NaN   \n",
       "2                                 NaN     NaN         NaN   \n",
       "\n",
       "                                                        site  \n",
       "index_col                                                     \n",
       "0          https://www.sifatusafwa.com/fr/aqida-croyance/...  \n",
       "1          https://www.sifatusafwa.com/fr/aqida-croyance/...  \n",
       "2          https://www.sifatusafwa.com/fr/biographies/mal...  "
      ]
     },
     "execution_count": 47,
     "metadata": {},
     "output_type": "execute_result"
    }
   ],
   "source": [
    "M.head(3)"
   ]
  },
  {
   "cell_type": "code",
   "execution_count": null,
   "metadata": {},
   "outputs": [],
   "source": [
    "titresfr = M['site'].str.split('/')"
   ]
  },
  {
   "cell_type": "code",
   "execution_count": null,
   "metadata": {},
   "outputs": [
    {
     "data": {
      "text/plain": [
       "index_col\n",
       "0    [https:, , www.sifatusafwa.com, fr, aqida-croy...\n",
       "1    [https:, , www.sifatusafwa.com, fr, aqida-croy...\n",
       "2    [https:, , www.sifatusafwa.com, fr, biographie...\n",
       "3    [https:, , www.sifatusafwa.com, fr, biographie...\n",
       "4    [https:, , www.sifatusafwa.com, fr, biographie...\n",
       "Name: site, dtype: object"
      ]
     },
     "execution_count": 49,
     "metadata": {},
     "output_type": "execute_result"
    }
   ],
   "source": [
    "titresfr[:5]"
   ]
  },
  {
   "cell_type": "code",
   "execution_count": null,
   "metadata": {},
   "outputs": [],
   "source": [
    "titresfr = titresfr.tolist()#pour que le DataFrame soit splitté par virgule."
   ]
  },
  {
   "cell_type": "code",
   "execution_count": null,
   "metadata": {},
   "outputs": [
    {
     "data": {
      "text/plain": [
       "[['https:',\n",
       "  '',\n",
       "  'www.sifatusafwa.com',\n",
       "  'fr',\n",
       "  'aqida-croyance',\n",
       "  'fatawa-ulema-al-malikiyah-fi-taqrir-aqidah-ahl-as-sounnah.html'],\n",
       " ['https:',\n",
       "  '',\n",
       "  'www.sifatusafwa.com',\n",
       "  'fr',\n",
       "  'aqida-croyance',\n",
       "  'jouhoud-al-malikiyah-fi-taqrir-tawhid-al-ibadah.html'],\n",
       " ['https:',\n",
       "  '',\n",
       "  'www.sifatusafwa.com',\n",
       "  'fr',\n",
       "  'biographies',\n",
       "  'malamih-min-hayat-al-imam-malik-ahmad-taha-rayan.html']]"
      ]
     },
     "execution_count": 51,
     "metadata": {},
     "output_type": "execute_result"
    }
   ],
   "source": [
    "titresfr[:3]"
   ]
  },
  {
   "cell_type": "markdown",
   "metadata": {},
   "source": [
    "On remarque que le titre est en position 6..."
   ]
  },
  {
   "cell_type": "code",
   "execution_count": null,
   "metadata": {},
   "outputs": [],
   "source": [
    "titresfr = pd.DataFrame(titresfr)"
   ]
  },
  {
   "cell_type": "code",
   "execution_count": null,
   "metadata": {
    "scrolled": true
   },
   "outputs": [],
   "source": [
    "#titresfr.head(3)"
   ]
  },
  {
   "cell_type": "code",
   "execution_count": null,
   "metadata": {},
   "outputs": [],
   "source": [
    "titresfr.columns = ['col'+str(i) for i in range(1,8)] #On renomme les colonnes de titresfr"
   ]
  },
  {
   "cell_type": "code",
   "execution_count": null,
   "metadata": {},
   "outputs": [
    {
     "data": {
      "text/html": [
       "<div>\n",
       "<style scoped>\n",
       "    .dataframe tbody tr th:only-of-type {\n",
       "        vertical-align: middle;\n",
       "    }\n",
       "\n",
       "    .dataframe tbody tr th {\n",
       "        vertical-align: top;\n",
       "    }\n",
       "\n",
       "    .dataframe thead th {\n",
       "        text-align: right;\n",
       "    }\n",
       "</style>\n",
       "<table border=\"1\" class=\"dataframe\">\n",
       "  <thead>\n",
       "    <tr style=\"text-align: right;\">\n",
       "      <th></th>\n",
       "      <th>col1</th>\n",
       "      <th>col2</th>\n",
       "      <th>col3</th>\n",
       "      <th>col4</th>\n",
       "      <th>col5</th>\n",
       "      <th>col6</th>\n",
       "      <th>col7</th>\n",
       "    </tr>\n",
       "  </thead>\n",
       "  <tbody>\n",
       "    <tr>\n",
       "      <th>0</th>\n",
       "      <td>https:</td>\n",
       "      <td></td>\n",
       "      <td>www.sifatusafwa.com</td>\n",
       "      <td>fr</td>\n",
       "      <td>aqida-croyance</td>\n",
       "      <td>fatawa-ulema-al-malikiyah-fi-taqrir-aqidah-ahl...</td>\n",
       "      <td>None</td>\n",
       "    </tr>\n",
       "    <tr>\n",
       "      <th>1</th>\n",
       "      <td>https:</td>\n",
       "      <td></td>\n",
       "      <td>www.sifatusafwa.com</td>\n",
       "      <td>fr</td>\n",
       "      <td>aqida-croyance</td>\n",
       "      <td>jouhoud-al-malikiyah-fi-taqrir-tawhid-al-ibada...</td>\n",
       "      <td>None</td>\n",
       "    </tr>\n",
       "    <tr>\n",
       "      <th>2</th>\n",
       "      <td>https:</td>\n",
       "      <td></td>\n",
       "      <td>www.sifatusafwa.com</td>\n",
       "      <td>fr</td>\n",
       "      <td>biographies</td>\n",
       "      <td>malamih-min-hayat-al-imam-malik-ahmad-taha-ray...</td>\n",
       "      <td>None</td>\n",
       "    </tr>\n",
       "  </tbody>\n",
       "</table>\n",
       "</div>"
      ],
      "text/plain": [
       "     col1 col2                 col3 col4            col5  \\\n",
       "0  https:       www.sifatusafwa.com   fr  aqida-croyance   \n",
       "1  https:       www.sifatusafwa.com   fr  aqida-croyance   \n",
       "2  https:       www.sifatusafwa.com   fr     biographies   \n",
       "\n",
       "                                                col6  col7  \n",
       "0  fatawa-ulema-al-malikiyah-fi-taqrir-aqidah-ahl...  None  \n",
       "1  jouhoud-al-malikiyah-fi-taqrir-tawhid-al-ibada...  None  \n",
       "2  malamih-min-hayat-al-imam-malik-ahmad-taha-ray...  None  "
      ]
     },
     "execution_count": 55,
     "metadata": {},
     "output_type": "execute_result"
    }
   ],
   "source": [
    "titresfr.head(3)"
   ]
  },
  {
   "cell_type": "code",
   "execution_count": null,
   "metadata": {},
   "outputs": [],
   "source": [
    "M['fr'] = titresfr['col6']"
   ]
  },
  {
   "cell_type": "code",
   "execution_count": null,
   "metadata": {},
   "outputs": [
    {
     "data": {
      "text/html": [
       "<div>\n",
       "<style scoped>\n",
       "    .dataframe tbody tr th:only-of-type {\n",
       "        vertical-align: middle;\n",
       "    }\n",
       "\n",
       "    .dataframe tbody tr th {\n",
       "        vertical-align: top;\n",
       "    }\n",
       "\n",
       "    .dataframe thead th {\n",
       "        text-align: right;\n",
       "    }\n",
       "</style>\n",
       "<table border=\"1\" class=\"dataframe\">\n",
       "  <thead>\n",
       "    <tr style=\"text-align: right;\">\n",
       "      <th></th>\n",
       "      <th>Titre</th>\n",
       "      <th>Auteur</th>\n",
       "      <th>Pages</th>\n",
       "      <th>Édition</th>\n",
       "      <th>Couverture</th>\n",
       "      <th>Format</th>\n",
       "      <th>Harakat</th>\n",
       "      <th>Volumes</th>\n",
       "      <th>Vérification et préparation</th>\n",
       "      <th>Préface</th>\n",
       "      <th>Annotations</th>\n",
       "      <th>site</th>\n",
       "      <th>fr</th>\n",
       "    </tr>\n",
       "    <tr>\n",
       "      <th>index_col</th>\n",
       "      <th></th>\n",
       "      <th></th>\n",
       "      <th></th>\n",
       "      <th></th>\n",
       "      <th></th>\n",
       "      <th></th>\n",
       "      <th></th>\n",
       "      <th></th>\n",
       "      <th></th>\n",
       "      <th></th>\n",
       "      <th></th>\n",
       "      <th></th>\n",
       "      <th></th>\n",
       "    </tr>\n",
       "  </thead>\n",
       "  <tbody>\n",
       "    <tr>\n",
       "      <th>0</th>\n",
       "      <td>فتاوى علماء المالكية في تقرير عقيدة أهل السنة ...</td>\n",
       "      <td>د. فاضل بن نورالدين الإمام</td>\n",
       "      <td>871</td>\n",
       "      <td>دار التوحيد للنشر</td>\n",
       "      <td>Rigide</td>\n",
       "      <td>17x24cm</td>\n",
       "      <td>Pas ou peu (ou que sur le Matn)</td>\n",
       "      <td>NaN</td>\n",
       "      <td>NaN</td>\n",
       "      <td>NaN</td>\n",
       "      <td>NaN</td>\n",
       "      <td>https://www.sifatusafwa.com/fr/aqida-croyance/...</td>\n",
       "      <td>fatawa-ulema-al-malikiyah-fi-taqrir-aqidah-ahl...</td>\n",
       "    </tr>\n",
       "    <tr>\n",
       "      <th>1</th>\n",
       "      <td>جهود المالكية في تقرير توحيد العبادة</td>\n",
       "      <td>د. عبد الله بن فهد العرفج</td>\n",
       "      <td>487</td>\n",
       "      <td>دار التوحيد للنشر</td>\n",
       "      <td>Rigide</td>\n",
       "      <td>17x24cm</td>\n",
       "      <td>Pas ou peu (ou que sur le Matn)</td>\n",
       "      <td>NaN</td>\n",
       "      <td>NaN</td>\n",
       "      <td>NaN</td>\n",
       "      <td>NaN</td>\n",
       "      <td>https://www.sifatusafwa.com/fr/aqida-croyance/...</td>\n",
       "      <td>jouhoud-al-malikiyah-fi-taqrir-tawhid-al-ibada...</td>\n",
       "    </tr>\n",
       "  </tbody>\n",
       "</table>\n",
       "</div>"
      ],
      "text/plain": [
       "                                                       Titre  \\\n",
       "index_col                                                      \n",
       "0          فتاوى علماء المالكية في تقرير عقيدة أهل السنة ...   \n",
       "1                       جهود المالكية في تقرير توحيد العبادة   \n",
       "\n",
       "                               Auteur Pages            Édition Couverture  \\\n",
       "index_col                                                                   \n",
       "0          د. فاضل بن نورالدين الإمام   871  دار التوحيد للنشر     Rigide   \n",
       "1           د. عبد الله بن فهد العرفج   487  دار التوحيد للنشر     Rigide   \n",
       "\n",
       "            Format                          Harakat Volumes  \\\n",
       "index_col                                                     \n",
       "0          17x24cm  Pas ou peu (ou que sur le Matn)     NaN   \n",
       "1          17x24cm  Pas ou peu (ou que sur le Matn)     NaN   \n",
       "\n",
       "          Vérification et préparation Préface Annotations  \\\n",
       "index_col                                                   \n",
       "0                                 NaN     NaN         NaN   \n",
       "1                                 NaN     NaN         NaN   \n",
       "\n",
       "                                                        site  \\\n",
       "index_col                                                      \n",
       "0          https://www.sifatusafwa.com/fr/aqida-croyance/...   \n",
       "1          https://www.sifatusafwa.com/fr/aqida-croyance/...   \n",
       "\n",
       "                                                          fr  \n",
       "index_col                                                     \n",
       "0          fatawa-ulema-al-malikiyah-fi-taqrir-aqidah-ahl...  \n",
       "1          jouhoud-al-malikiyah-fi-taqrir-tawhid-al-ibada...  "
      ]
     },
     "execution_count": 57,
     "metadata": {},
     "output_type": "execute_result"
    }
   ],
   "source": [
    "M.head(2)"
   ]
  },
  {
   "cell_type": "markdown",
   "metadata": {},
   "source": [
    "Renommer les colonnes et réordonner légèrement:"
   ]
  },
  {
   "cell_type": "code",
   "execution_count": null,
   "metadata": {},
   "outputs": [],
   "source": [
    "M.rename(columns={'Titre':'Titre_ar', 'fr':'Titre_fr'}, inplace=True)"
   ]
  },
  {
   "cell_type": "code",
   "execution_count": null,
   "metadata": {},
   "outputs": [],
   "source": [
    "titresfr = M['Titre_fr']"
   ]
  },
  {
   "cell_type": "code",
   "execution_count": null,
   "metadata": {},
   "outputs": [],
   "source": [
    "M.drop(['Titre_fr'], axis = 1, inplace = True)"
   ]
  },
  {
   "cell_type": "code",
   "execution_count": null,
   "metadata": {},
   "outputs": [],
   "source": [
    "M.insert(loc = 1, column = \"Titre_fr\", value = titresfr)"
   ]
  },
  {
   "cell_type": "code",
   "execution_count": null,
   "metadata": {},
   "outputs": [
    {
     "data": {
      "text/html": [
       "<div>\n",
       "<style scoped>\n",
       "    .dataframe tbody tr th:only-of-type {\n",
       "        vertical-align: middle;\n",
       "    }\n",
       "\n",
       "    .dataframe tbody tr th {\n",
       "        vertical-align: top;\n",
       "    }\n",
       "\n",
       "    .dataframe thead th {\n",
       "        text-align: right;\n",
       "    }\n",
       "</style>\n",
       "<table border=\"1\" class=\"dataframe\">\n",
       "  <thead>\n",
       "    <tr style=\"text-align: right;\">\n",
       "      <th></th>\n",
       "      <th>Titre_ar</th>\n",
       "      <th>Titre_fr</th>\n",
       "      <th>Auteur</th>\n",
       "      <th>Pages</th>\n",
       "      <th>Édition</th>\n",
       "      <th>Couverture</th>\n",
       "      <th>Format</th>\n",
       "      <th>Harakat</th>\n",
       "      <th>Volumes</th>\n",
       "      <th>Vérification et préparation</th>\n",
       "      <th>Préface</th>\n",
       "      <th>Annotations</th>\n",
       "      <th>site</th>\n",
       "    </tr>\n",
       "    <tr>\n",
       "      <th>index_col</th>\n",
       "      <th></th>\n",
       "      <th></th>\n",
       "      <th></th>\n",
       "      <th></th>\n",
       "      <th></th>\n",
       "      <th></th>\n",
       "      <th></th>\n",
       "      <th></th>\n",
       "      <th></th>\n",
       "      <th></th>\n",
       "      <th></th>\n",
       "      <th></th>\n",
       "      <th></th>\n",
       "    </tr>\n",
       "  </thead>\n",
       "  <tbody>\n",
       "    <tr>\n",
       "      <th>0</th>\n",
       "      <td>فتاوى علماء المالكية في تقرير عقيدة أهل السنة ...</td>\n",
       "      <td>fatawa-ulema-al-malikiyah-fi-taqrir-aqidah-ahl...</td>\n",
       "      <td>د. فاضل بن نورالدين الإمام</td>\n",
       "      <td>871</td>\n",
       "      <td>دار التوحيد للنشر</td>\n",
       "      <td>Rigide</td>\n",
       "      <td>17x24cm</td>\n",
       "      <td>Pas ou peu (ou que sur le Matn)</td>\n",
       "      <td>NaN</td>\n",
       "      <td>NaN</td>\n",
       "      <td>NaN</td>\n",
       "      <td>NaN</td>\n",
       "      <td>https://www.sifatusafwa.com/fr/aqida-croyance/...</td>\n",
       "    </tr>\n",
       "    <tr>\n",
       "      <th>1</th>\n",
       "      <td>جهود المالكية في تقرير توحيد العبادة</td>\n",
       "      <td>jouhoud-al-malikiyah-fi-taqrir-tawhid-al-ibada...</td>\n",
       "      <td>د. عبد الله بن فهد العرفج</td>\n",
       "      <td>487</td>\n",
       "      <td>دار التوحيد للنشر</td>\n",
       "      <td>Rigide</td>\n",
       "      <td>17x24cm</td>\n",
       "      <td>Pas ou peu (ou que sur le Matn)</td>\n",
       "      <td>NaN</td>\n",
       "      <td>NaN</td>\n",
       "      <td>NaN</td>\n",
       "      <td>NaN</td>\n",
       "      <td>https://www.sifatusafwa.com/fr/aqida-croyance/...</td>\n",
       "    </tr>\n",
       "  </tbody>\n",
       "</table>\n",
       "</div>"
      ],
      "text/plain": [
       "                                                    Titre_ar  \\\n",
       "index_col                                                      \n",
       "0          فتاوى علماء المالكية في تقرير عقيدة أهل السنة ...   \n",
       "1                       جهود المالكية في تقرير توحيد العبادة   \n",
       "\n",
       "                                                    Titre_fr  \\\n",
       "index_col                                                      \n",
       "0          fatawa-ulema-al-malikiyah-fi-taqrir-aqidah-ahl...   \n",
       "1          jouhoud-al-malikiyah-fi-taqrir-tawhid-al-ibada...   \n",
       "\n",
       "                               Auteur Pages            Édition Couverture  \\\n",
       "index_col                                                                   \n",
       "0          د. فاضل بن نورالدين الإمام   871  دار التوحيد للنشر     Rigide   \n",
       "1           د. عبد الله بن فهد العرفج   487  دار التوحيد للنشر     Rigide   \n",
       "\n",
       "            Format                          Harakat Volumes  \\\n",
       "index_col                                                     \n",
       "0          17x24cm  Pas ou peu (ou que sur le Matn)     NaN   \n",
       "1          17x24cm  Pas ou peu (ou que sur le Matn)     NaN   \n",
       "\n",
       "          Vérification et préparation Préface Annotations  \\\n",
       "index_col                                                   \n",
       "0                                 NaN     NaN         NaN   \n",
       "1                                 NaN     NaN         NaN   \n",
       "\n",
       "                                                        site  \n",
       "index_col                                                     \n",
       "0          https://www.sifatusafwa.com/fr/aqida-croyance/...  \n",
       "1          https://www.sifatusafwa.com/fr/aqida-croyance/...  "
      ]
     },
     "execution_count": 62,
     "metadata": {},
     "output_type": "execute_result"
    }
   ],
   "source": [
    "M.head(2)"
   ]
  },
  {
   "cell_type": "markdown",
   "metadata": {},
   "source": [
    "الحمد لله , on peut étendre aux autres domaines inchAllah"
   ]
  },
  {
   "cell_type": "code",
   "execution_count": null,
   "metadata": {},
   "outputs": [],
   "source": [
    "M.to_csv('fiqh-maliki.csv')"
   ]
  },
  {
   "cell_type": "markdown",
   "metadata": {},
   "source": [
    "Finalement on gardera les fichiers en csv."
   ]
  }
 ],
 "metadata": {
  "kernelspec": {
   "display_name": "Python 3",
   "language": "python",
   "name": "python3"
  },
  "language_info": {
   "codemirror_mode": {
    "name": "ipython",
    "version": 3
   },
   "file_extension": ".py",
   "mimetype": "text/x-python",
   "name": "python",
   "nbconvert_exporter": "python",
   "pygments_lexer": "ipython3",
   "version": "3.8.5"
  },
  "vscode": {
   "interpreter": {
    "hash": "258996d679d8e259ac990df9fdfc128ec5eb77c39bd98f0b9ba2b9004f62dd43"
   }
  }
 },
 "nbformat": 4,
 "nbformat_minor": 4
}
