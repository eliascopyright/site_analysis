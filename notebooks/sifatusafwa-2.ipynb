{
 "cells": [
  {
   "cell_type": "markdown",
   "metadata": {},
   "source": [
    "بسم الله الرحمن الرحيم"
   ]
  },
  {
   "cell_type": "markdown",
   "metadata": {},
   "source": [
    "\n",
    "Deuxième étape: On a réussi à prendre les livres de fiqh maliki, maintenant on va essayer de mettre l'auteur..."
   ]
  },
  {
   "cell_type": "markdown",
   "metadata": {},
   "source": [
    "## Première étape : aller chercher les urls de chacun des livres"
   ]
  },
  {
   "cell_type": "code",
   "execution_count": 1,
   "metadata": {},
   "outputs": [],
   "source": [
    "import requests\n",
    "from bs4 import BeautifulSoup\n",
    "import numpy as np\n",
    "import pandas as pd\n",
    "\n",
    "r = requests.get('https://www.sifatusafwa.com/fr/fiqh-maliki/')\n",
    "soup = BeautifulSoup(r.content, 'html.parser')\n",
    "s = soup.find('section', id = 'products')\n",
    "#s = s.find_all('div', class_ = 'products product_list row grid')\n",
    "#lines = s.find('h3', class_ = 's_title_block flex_child')\n",
    "#Affichage du contenu de la page\n",
    "#print(lines)\n",
    "\n",
    "#Extraire les liens\n",
    "urls = []\n",
    "for line in s.findAll('a'):\n",
    "    urls.append(line.get('href'))#line.text.split(\\'n') est une liste de hcaine de caractères, donc [0] est \n",
    "    #seulement le str.\n",
    "    #print(line.text.split('\\n'))#line.text enlève les balises et les choses propres à html/css. Le .split split sur les \\n"
   ]
  },
  {
   "cell_type": "markdown",
   "metadata": {},
   "source": [
    "Tous les liens sont en double/ triple... on va les faire apparaitre qu'une seule fois."
   ]
  },
  {
   "cell_type": "code",
   "execution_count": 2,
   "metadata": {},
   "outputs": [],
   "source": [
    "#Tous les liens sont en double/ triple... on va les faire apparaitre qu'une seule fois.\n",
    "urls = list(np.unique(urls))\n",
    "#urls"
   ]
  },
  {
   "cell_type": "markdown",
   "metadata": {},
   "source": [
    "On va supprimer les liens qui ne renvoient pas vers des livres : \n",
    " - Ceux qui finissent pas '.asc' ou 'desc\n",
    " - Les liens de page (\"?page=2\", \"?page=3\"...) et le lien 'fiqh-maliki/'\n",
    " - les \"javascript\""
   ]
  },
  {
   "cell_type": "code",
   "execution_count": 3,
   "metadata": {},
   "outputs": [],
   "source": [
    "#Suppression des liens ne renvoyant pas vers des livres.\n",
    "urls.remove('javascript:')\n",
    "urls.remove('javascript:;')\n",
    "urls.remove('https://www.sifatusafwa.com/fr/fiqh-maliki/')\n",
    "to_supp = []\n",
    "for link in range(len(urls)):\n",
    "    if urls[link].endswith('asc') or urls[link].endswith('.desc') or urls[link].startswith('https://www.sifatusafwa.com/fr/fiqh-maliki/?'):\n",
    "        to_supp.append(urls[link])\n",
    "    else:\n",
    "        to_supp.append('')\n",
    "    "
   ]
  },
  {
   "cell_type": "code",
   "execution_count": 4,
   "metadata": {},
   "outputs": [],
   "source": [
    "urls = pd.DataFrame(urls)\n",
    "A = urls == pd.DataFrame(to_supp) \n",
    "urls = urls[A == False].dropna()"
   ]
  },
  {
   "cell_type": "code",
   "execution_count": 5,
   "metadata": {},
   "outputs": [],
   "source": [
    "urls = urls.values.T.tolist()[0]"
   ]
  },
  {
   "cell_type": "code",
   "execution_count": 6,
   "metadata": {},
   "outputs": [
    {
     "data": {
      "text/plain": [
       "['https://www.sifatusafwa.com/fr/fiqh-ahkam/charh-bidayah-al-mujtahid-wa-nihayah-al-muqtasid-abdullah-al-abadi.html',\n",
       " 'https://www.sifatusafwa.com/fr/fiqh-ahkam/tabsirah-al-hukkam-fi-usul-al-aqdhiyyah-ibn-farhun-799h.html',\n",
       " 'https://www.sifatusafwa.com/fr/fiqh-maliki/al-jami-li-masa-il-al-mudawwanah-ibn-yunus-as-siqilli-451h.html',\n",
       " 'https://www.sifatusafwa.com/fr/fiqh-maliki/al-mou-amalat-fi-al-fiqh-al-maliki-sadiq-al-ghariani.html',\n",
       " 'https://www.sifatusafwa.com/fr/fiqh-maliki/al-muqaddimah-al-qurtubiyyah-bi-charh-cheikh-zarrouk-el-bernoussi.html',\n",
       " 'https://www.sifatusafwa.com/fr/fiqh-maliki/al-usul-fi-ma-rifah-al-usul-risalah-fi-usul-ad-din-ibn-al-arabi.html',\n",
       " 'https://www.sifatusafwa.com/fr/fiqh-maliki/charh-aqidah-malik-as-saghir-al-qayrawani-al-qadi-abdelwahhab.html',\n",
       " 'https://www.sifatusafwa.com/fr/fiqh-maliki/dalil-as-salik-ala-as-hal-al-massalik-houssain-as-soulaymani.html',\n",
       " 'https://www.sifatusafwa.com/fr/fiqh-maliki/hachiyah-ad-dousouqi-ala-ach-charh-al-kabir-fiqh-maliki.html',\n",
       " 'https://www.sifatusafwa.com/fr/fiqh-maliki/lawami-al-durar-fi-hatk-astar-al-mukhtasar-al-majlisi-ash-shinqiti.html',\n",
       " 'https://www.sifatusafwa.com/fr/fiqh-maliki/le-statut-du-qabd-dans-la-prière-chez-l-imam-malik-al-mekki-ibn-azouz.html',\n",
       " 'https://www.sifatusafwa.com/fr/fiqh-maliki/majmou-al-amir-moukhtasar-al-amir-fiqh-maliki.html']"
      ]
     },
     "execution_count": 6,
     "metadata": {},
     "output_type": "execute_result"
    }
   ],
   "source": [
    "urls"
   ]
  },
  {
   "cell_type": "markdown",
   "metadata": {},
   "source": [
    "On va maintenant essayer de regrouper les données des liens dans un dataframe."
   ]
  },
  {
   "cell_type": "markdown",
   "metadata": {},
   "source": [
    "## Essai pour le premier lien"
   ]
  },
  {
   "cell_type": "code",
   "execution_count": 7,
   "metadata": {},
   "outputs": [],
   "source": [
    "url = urls[0]\n",
    "r = requests.get(url)\n",
    "soup = BeautifulSoup(r.content, 'html.parser')\n",
    "s = soup.find('section', class_='product-features')\n",
    "L_string = []\n",
    "for text in s.findAll(class_ ='data-sheet flex_container'):\n",
    "    L_string.append(text.text.split('\\n'))"
   ]
  },
  {
   "cell_type": "code",
   "execution_count": 8,
   "metadata": {},
   "outputs": [],
   "source": [
    "#L_string"
   ]
  },
  {
   "cell_type": "markdown",
   "metadata": {},
   "source": [
    "On essaye d'unifier pour enlever les deux \"\" et afficher en colonnes:"
   ]
  },
  {
   "cell_type": "code",
   "execution_count": 9,
   "metadata": {},
   "outputs": [
    {
     "data": {
      "text/html": [
       "<div>\n",
       "<style scoped>\n",
       "    .dataframe tbody tr th:only-of-type {\n",
       "        vertical-align: middle;\n",
       "    }\n",
       "\n",
       "    .dataframe tbody tr th {\n",
       "        vertical-align: top;\n",
       "    }\n",
       "\n",
       "    .dataframe thead th {\n",
       "        text-align: right;\n",
       "    }\n",
       "</style>\n",
       "<table border=\"1\" class=\"dataframe\">\n",
       "  <thead>\n",
       "    <tr style=\"text-align: right;\">\n",
       "      <th></th>\n",
       "      <th>0</th>\n",
       "      <th>1</th>\n",
       "      <th>2</th>\n",
       "      <th>3</th>\n",
       "    </tr>\n",
       "  </thead>\n",
       "  <tbody>\n",
       "    <tr>\n",
       "      <th>0</th>\n",
       "      <td></td>\n",
       "      <td>Titre</td>\n",
       "      <td>شرح بداية المجتهد ونهاية المقتصد وبهامشه السبي...</td>\n",
       "      <td></td>\n",
       "    </tr>\n",
       "    <tr>\n",
       "      <th>1</th>\n",
       "      <td></td>\n",
       "      <td>Auteur</td>\n",
       "      <td>د. عبد الله العبادي</td>\n",
       "      <td></td>\n",
       "    </tr>\n",
       "    <tr>\n",
       "      <th>2</th>\n",
       "      <td></td>\n",
       "      <td>Volumes</td>\n",
       "      <td>4</td>\n",
       "      <td></td>\n",
       "    </tr>\n",
       "    <tr>\n",
       "      <th>3</th>\n",
       "      <td></td>\n",
       "      <td>Pages</td>\n",
       "      <td>2328</td>\n",
       "      <td></td>\n",
       "    </tr>\n",
       "    <tr>\n",
       "      <th>4</th>\n",
       "      <td></td>\n",
       "      <td>Édition</td>\n",
       "      <td>دار السلام</td>\n",
       "      <td></td>\n",
       "    </tr>\n",
       "  </tbody>\n",
       "</table>\n",
       "</div>"
      ],
      "text/plain": [
       "  0        1                                                  2 3\n",
       "0      Titre  شرح بداية المجتهد ونهاية المقتصد وبهامشه السبي...  \n",
       "1     Auteur                                د. عبد الله العبادي  \n",
       "2    Volumes                                                  4  \n",
       "3      Pages                                               2328  \n",
       "4    Édition                                         دار السلام  "
      ]
     },
     "execution_count": 9,
     "metadata": {},
     "output_type": "execute_result"
    }
   ],
   "source": [
    "df = pd.DataFrame(L_string)\n",
    "df = df.drop_duplicates() #des fois les volumes apparaissent deux fois\n",
    "df.head() #Pour avoir un aperçu"
   ]
  },
  {
   "cell_type": "code",
   "execution_count": 10,
   "metadata": {},
   "outputs": [],
   "source": [
    "df.columns = ['supp', 'categories', 'test', 'supp2']\n",
    "df.drop(['supp', 'supp2'], axis = 1, inplace=True)"
   ]
  },
  {
   "cell_type": "code",
   "execution_count": 11,
   "metadata": {},
   "outputs": [
    {
     "data": {
      "text/html": [
       "<div>\n",
       "<style scoped>\n",
       "    .dataframe tbody tr th:only-of-type {\n",
       "        vertical-align: middle;\n",
       "    }\n",
       "\n",
       "    .dataframe tbody tr th {\n",
       "        vertical-align: top;\n",
       "    }\n",
       "\n",
       "    .dataframe thead th {\n",
       "        text-align: right;\n",
       "    }\n",
       "</style>\n",
       "<table border=\"1\" class=\"dataframe\">\n",
       "  <thead>\n",
       "    <tr style=\"text-align: right;\">\n",
       "      <th></th>\n",
       "      <th>test</th>\n",
       "    </tr>\n",
       "    <tr>\n",
       "      <th>categories</th>\n",
       "      <th></th>\n",
       "    </tr>\n",
       "  </thead>\n",
       "  <tbody>\n",
       "    <tr>\n",
       "      <th>Titre</th>\n",
       "      <td>شرح بداية المجتهد ونهاية المقتصد وبهامشه السبي...</td>\n",
       "    </tr>\n",
       "    <tr>\n",
       "      <th>Auteur</th>\n",
       "      <td>د. عبد الله العبادي</td>\n",
       "    </tr>\n",
       "    <tr>\n",
       "      <th>Volumes</th>\n",
       "      <td>4</td>\n",
       "    </tr>\n",
       "    <tr>\n",
       "      <th>Pages</th>\n",
       "      <td>2328</td>\n",
       "    </tr>\n",
       "    <tr>\n",
       "      <th>Édition</th>\n",
       "      <td>دار السلام</td>\n",
       "    </tr>\n",
       "  </tbody>\n",
       "</table>\n",
       "</div>"
      ],
      "text/plain": [
       "                                                         test\n",
       "categories                                                   \n",
       "Titre       شرح بداية المجتهد ونهاية المقتصد وبهامشه السبي...\n",
       "Auteur                                    د. عبد الله العبادي\n",
       "Volumes                                                     4\n",
       "Pages                                                    2328\n",
       "Édition                                            دار السلام"
      ]
     },
     "execution_count": 11,
     "metadata": {},
     "output_type": "execute_result"
    }
   ],
   "source": [
    "df.set_index('categories', inplace = True)\n",
    "df.head()"
   ]
  },
  {
   "cell_type": "markdown",
   "metadata": {},
   "source": [
    "الحمد لله, il faut maintenant transposer ce tableau et le faire tourner pour tous les sites."
   ]
  },
  {
   "cell_type": "markdown",
   "metadata": {},
   "source": [
    "## Tentative de concaténation de deux dataframes"
   ]
  },
  {
   "cell_type": "markdown",
   "metadata": {},
   "source": [
    "On a pas réussi à concaténer les deux transposés, on va essayer de les concaténer et de les transposer après."
   ]
  },
  {
   "cell_type": "code",
   "execution_count": 12,
   "metadata": {},
   "outputs": [
    {
     "data": {
      "text/html": [
       "<div>\n",
       "<style scoped>\n",
       "    .dataframe tbody tr th:only-of-type {\n",
       "        vertical-align: middle;\n",
       "    }\n",
       "\n",
       "    .dataframe tbody tr th {\n",
       "        vertical-align: top;\n",
       "    }\n",
       "\n",
       "    .dataframe thead th {\n",
       "        text-align: right;\n",
       "    }\n",
       "</style>\n",
       "<table border=\"1\" class=\"dataframe\">\n",
       "  <thead>\n",
       "    <tr style=\"text-align: right;\">\n",
       "      <th></th>\n",
       "      <th>0</th>\n",
       "      <th>1</th>\n",
       "      <th>2</th>\n",
       "      <th>3</th>\n",
       "    </tr>\n",
       "  </thead>\n",
       "  <tbody>\n",
       "    <tr>\n",
       "      <th>0</th>\n",
       "      <td></td>\n",
       "      <td>Titre</td>\n",
       "      <td>تبصرة الحكام في أصول الأقضية ومناهج الأحكام</td>\n",
       "      <td></td>\n",
       "    </tr>\n",
       "    <tr>\n",
       "      <th>1</th>\n",
       "      <td></td>\n",
       "      <td>Auteur</td>\n",
       "      <td>ابن فرحون المالكي</td>\n",
       "      <td></td>\n",
       "    </tr>\n",
       "    <tr>\n",
       "      <th>2</th>\n",
       "      <td></td>\n",
       "      <td>Volumes</td>\n",
       "      <td>3</td>\n",
       "      <td></td>\n",
       "    </tr>\n",
       "    <tr>\n",
       "      <th>3</th>\n",
       "      <td></td>\n",
       "      <td>Pages</td>\n",
       "      <td>2013</td>\n",
       "      <td></td>\n",
       "    </tr>\n",
       "    <tr>\n",
       "      <th>4</th>\n",
       "      <td></td>\n",
       "      <td>Édition</td>\n",
       "      <td>دار القلم</td>\n",
       "      <td></td>\n",
       "    </tr>\n",
       "    <tr>\n",
       "      <th>5</th>\n",
       "      <td></td>\n",
       "      <td>Couverture</td>\n",
       "      <td>Rigide</td>\n",
       "      <td></td>\n",
       "    </tr>\n",
       "    <tr>\n",
       "      <th>6</th>\n",
       "      <td></td>\n",
       "      <td>Vérification et préparation</td>\n",
       "      <td>د. عثمان ضميرية</td>\n",
       "      <td></td>\n",
       "    </tr>\n",
       "    <tr>\n",
       "      <th>8</th>\n",
       "      <td></td>\n",
       "      <td>Format</td>\n",
       "      <td>17x24cm</td>\n",
       "      <td></td>\n",
       "    </tr>\n",
       "    <tr>\n",
       "      <th>9</th>\n",
       "      <td></td>\n",
       "      <td>Harakat</td>\n",
       "      <td>En Majorité ou en Totalité</td>\n",
       "      <td></td>\n",
       "    </tr>\n",
       "  </tbody>\n",
       "</table>\n",
       "</div>"
      ],
      "text/plain": [
       "  0                            1                                            2  \\\n",
       "0                          Titre  تبصرة الحكام في أصول الأقضية ومناهج الأحكام   \n",
       "1                         Auteur                            ابن فرحون المالكي   \n",
       "2                        Volumes                                            3   \n",
       "3                          Pages                                         2013   \n",
       "4                        Édition                                    دار القلم   \n",
       "5                     Couverture                                       Rigide   \n",
       "6    Vérification et préparation                              د. عثمان ضميرية   \n",
       "8                         Format                                      17x24cm   \n",
       "9                        Harakat                   En Majorité ou en Totalité   \n",
       "\n",
       "  3  \n",
       "0    \n",
       "1    \n",
       "2    \n",
       "3    \n",
       "4    \n",
       "5    \n",
       "6    \n",
       "8    \n",
       "9    "
      ]
     },
     "execution_count": 12,
     "metadata": {},
     "output_type": "execute_result"
    }
   ],
   "source": [
    "url = urls[1]\n",
    "r = requests.get(url)\n",
    "soup = BeautifulSoup(r.content, 'html.parser')\n",
    "s = soup.find('section', class_='product-features')\n",
    "L_string = []\n",
    "for text in s.findAll(class_ ='data-sheet flex_container'):\n",
    "    L_string.append(text.text.split('\\n'))\n",
    "L_string = np.array(L_string)\n",
    "df2 = pd.DataFrame((L_string))\n",
    "df2 = df2.drop_duplicates()\n",
    "df2 #Pour avoir un aperçu"
   ]
  },
  {
   "cell_type": "code",
   "execution_count": 13,
   "metadata": {},
   "outputs": [
    {
     "data": {
      "text/html": [
       "<div>\n",
       "<style scoped>\n",
       "    .dataframe tbody tr th:only-of-type {\n",
       "        vertical-align: middle;\n",
       "    }\n",
       "\n",
       "    .dataframe tbody tr th {\n",
       "        vertical-align: top;\n",
       "    }\n",
       "\n",
       "    .dataframe thead th {\n",
       "        text-align: right;\n",
       "    }\n",
       "</style>\n",
       "<table border=\"1\" class=\"dataframe\">\n",
       "  <thead>\n",
       "    <tr style=\"text-align: right;\">\n",
       "      <th></th>\n",
       "      <th>test</th>\n",
       "    </tr>\n",
       "    <tr>\n",
       "      <th>categories</th>\n",
       "      <th></th>\n",
       "    </tr>\n",
       "  </thead>\n",
       "  <tbody>\n",
       "    <tr>\n",
       "      <th>Titre</th>\n",
       "      <td>تبصرة الحكام في أصول الأقضية ومناهج الأحكام</td>\n",
       "    </tr>\n",
       "    <tr>\n",
       "      <th>Auteur</th>\n",
       "      <td>ابن فرحون المالكي</td>\n",
       "    </tr>\n",
       "    <tr>\n",
       "      <th>Volumes</th>\n",
       "      <td>3</td>\n",
       "    </tr>\n",
       "    <tr>\n",
       "      <th>Pages</th>\n",
       "      <td>2013</td>\n",
       "    </tr>\n",
       "    <tr>\n",
       "      <th>Édition</th>\n",
       "      <td>دار القلم</td>\n",
       "    </tr>\n",
       "    <tr>\n",
       "      <th>Couverture</th>\n",
       "      <td>Rigide</td>\n",
       "    </tr>\n",
       "    <tr>\n",
       "      <th>Vérification et préparation</th>\n",
       "      <td>د. عثمان ضميرية</td>\n",
       "    </tr>\n",
       "    <tr>\n",
       "      <th>Format</th>\n",
       "      <td>17x24cm</td>\n",
       "    </tr>\n",
       "    <tr>\n",
       "      <th>Harakat</th>\n",
       "      <td>En Majorité ou en Totalité</td>\n",
       "    </tr>\n",
       "  </tbody>\n",
       "</table>\n",
       "</div>"
      ],
      "text/plain": [
       "                                                                    test\n",
       "categories                                                              \n",
       "Titre                        تبصرة الحكام في أصول الأقضية ومناهج الأحكام\n",
       "Auteur                                                 ابن فرحون المالكي\n",
       "Volumes                                                                3\n",
       "Pages                                                               2013\n",
       "Édition                                                        دار القلم\n",
       "Couverture                                                        Rigide\n",
       "Vérification et préparation                              د. عثمان ضميرية\n",
       "Format                                                           17x24cm\n",
       "Harakat                                       En Majorité ou en Totalité"
      ]
     },
     "execution_count": 13,
     "metadata": {},
     "output_type": "execute_result"
    }
   ],
   "source": [
    "df2.columns = ['supp', 'categories', 'test', 'supp2']\n",
    "df2.drop(['supp', 'supp2'], axis = 1, inplace=True)\n",
    "df2.set_index('categories', inplace = True)\n",
    "df2 #pour comparer avec df"
   ]
  },
  {
   "cell_type": "code",
   "execution_count": 14,
   "metadata": {},
   "outputs": [],
   "source": [
    "M = df.join(on='categories', other = df2, rsuffix='_df2', how = 'outer')"
   ]
  },
  {
   "cell_type": "code",
   "execution_count": 15,
   "metadata": {},
   "outputs": [],
   "source": [
    "M.set_index(M['categories'], inplace = True)#Si il y a un tahqiq (authentification), une colonne supplémentaire apparaît,\n",
    "#en faisant ca on dit que l'index sera la colonne \"categories\" avec le plus de champs remplis.\n",
    "M.drop(['categories'], axis = 1, inplace = True)"
   ]
  },
  {
   "cell_type": "code",
   "execution_count": 16,
   "metadata": {},
   "outputs": [],
   "source": [
    "#M"
   ]
  },
  {
   "cell_type": "code",
   "execution_count": 17,
   "metadata": {},
   "outputs": [],
   "source": [
    "#M.T"
   ]
  },
  {
   "cell_type": "markdown",
   "metadata": {},
   "source": [
    "Maintenant on peut essayer de faire une boucles sur toutes les pages. On pourra renommer les \"categories\" par le site où on pourra trouver ce livre."
   ]
  },
  {
   "cell_type": "markdown",
   "metadata": {},
   "source": [
    "## Essai de boucle sur tous les sites d'une page donnée"
   ]
  },
  {
   "cell_type": "markdown",
   "metadata": {},
   "source": [
    "On fait juste le premier lien pour qu'on puisse fusionner sur un DataFrame, on le supprimera juste après inchAllah"
   ]
  },
  {
   "cell_type": "code",
   "execution_count": 18,
   "metadata": {},
   "outputs": [],
   "source": [
    "url = urls[0]\n",
    "r = requests.get(url)\n",
    "soup = BeautifulSoup(r.content, 'html.parser')\n",
    "s = soup.find('section', class_='product-features')\n",
    "L_string = []\n",
    "for text in s.findAll(class_ ='data-sheet flex_container'):\n",
    "    L_string.append(text.text.split('\\n'))\n",
    "L_string = np.array(L_string)\n",
    "df = pd.DataFrame((L_string))\n",
    "df = df.drop_duplicates()#des fois les volumes apparaissent deux fois\n",
    "df.columns = ['supp', 'categories', str(url), 'supp2']# a cette étape on remplace ce qu'il faut pour voir les sites en colonnes\n",
    "df.drop(['supp', 'supp2'], axis = 1, inplace=True)\n",
    "df.set_index('categories', inplace = True)"
   ]
  },
  {
   "cell_type": "code",
   "execution_count": 19,
   "metadata": {},
   "outputs": [],
   "source": [
    "urls.remove(urls[0]) #On enlève le lien qu'on a déjà mis dans le dataframe de base"
   ]
  },
  {
   "cell_type": "markdown",
   "metadata": {},
   "source": [
    "Changements dans la boucle:\n",
    " - df2 devient df_other\n",
    " - on ajoute le site en colonne"
   ]
  },
  {
   "cell_type": "code",
   "execution_count": 20,
   "metadata": {},
   "outputs": [
    {
     "name": "stdout",
     "output_type": "stream",
     "text": [
      "0\n"
     ]
    }
   ],
   "source": [
    "print(urls.index(urls[0]))"
   ]
  },
  {
   "cell_type": "code",
   "execution_count": 42,
   "metadata": {},
   "outputs": [],
   "source": [
    "dfs = []\n",
    "i = 0\n",
    "for url in urls:\n",
    "    r = requests.get(url)\n",
    "    soup = BeautifulSoup(r.content, 'html.parser')\n",
    "    s = soup.find('section', class_='product-features')\n",
    "    L_string = []\n",
    "    for text in s.findAll(class_ ='data-sheet flex_container'):\n",
    "        L_string.append(text.text.split('\\n'))\n",
    "    L_string = np.array(L_string)\n",
    "    df_other = pd.DataFrame((L_string))\n",
    "    df_other = df_other.drop_duplicates()#des fois les volumes apparaissent deux fois\n",
    "    df_other.columns = ['supp', 'categories',str(url), 'supp2']# a cette étape on remplace ce qu'il faut pour voir les sites en colonnes\n",
    "    df_other.drop(['supp', 'supp2'], axis = 1, inplace=True)\n",
    "    df_other.set_index('categories', inplace = True)\n",
    "    dfs.append(df_other)"
   ]
  },
  {
   "cell_type": "code",
   "execution_count": 43,
   "metadata": {},
   "outputs": [],
   "source": [
    "M = pd.concat((d for d in dfs), axis = 1)"
   ]
  },
  {
   "cell_type": "code",
   "execution_count": 45,
   "metadata": {},
   "outputs": [
    {
     "data": {
      "text/html": [
       "<div>\n",
       "<style scoped>\n",
       "    .dataframe tbody tr th:only-of-type {\n",
       "        vertical-align: middle;\n",
       "    }\n",
       "\n",
       "    .dataframe tbody tr th {\n",
       "        vertical-align: top;\n",
       "    }\n",
       "\n",
       "    .dataframe thead th {\n",
       "        text-align: right;\n",
       "    }\n",
       "</style>\n",
       "<table border=\"1\" class=\"dataframe\">\n",
       "  <thead>\n",
       "    <tr style=\"text-align: right;\">\n",
       "      <th></th>\n",
       "      <th>Titre</th>\n",
       "      <th>Auteur</th>\n",
       "      <th>Volumes</th>\n",
       "      <th>Pages</th>\n",
       "      <th>Édition</th>\n",
       "      <th>Couverture</th>\n",
       "      <th>Vérification et préparation</th>\n",
       "      <th>Format</th>\n",
       "      <th>Harakat</th>\n",
       "      <th>Préface</th>\n",
       "    </tr>\n",
       "  </thead>\n",
       "  <tbody>\n",
       "    <tr>\n",
       "      <th>https://www.sifatusafwa.com/fr/fiqh-ahkam/tabsirah-al-hukkam-fi-usul-al-aqdhiyyah-ibn-farhun-799h.html</th>\n",
       "      <td>تبصرة الحكام في أصول الأقضية ومناهج الأحكام</td>\n",
       "      <td>ابن فرحون المالكي</td>\n",
       "      <td>3</td>\n",
       "      <td>2013</td>\n",
       "      <td>دار القلم</td>\n",
       "      <td>Rigide</td>\n",
       "      <td>د. عثمان ضميرية</td>\n",
       "      <td>17x24cm</td>\n",
       "      <td>En Majorité ou en Totalité</td>\n",
       "      <td>NaN</td>\n",
       "    </tr>\n",
       "    <tr>\n",
       "      <th>https://www.sifatusafwa.com/fr/fiqh-maliki/al-jami-li-masa-il-al-mudawwanah-ibn-yunus-as-siqilli-451h.html</th>\n",
       "      <td>الجامع لمسائل المدونة المسمى مصحف المذهب المالكي</td>\n",
       "      <td>ابن يونس الصقلي</td>\n",
       "      <td>10</td>\n",
       "      <td>5520</td>\n",
       "      <td>إبداع - دار ابن الجوزي القاهرة</td>\n",
       "      <td>Rigide</td>\n",
       "      <td>NaN</td>\n",
       "      <td>17x24cm</td>\n",
       "      <td>Pas ou peu (ou que sur le Matn)</td>\n",
       "      <td>NaN</td>\n",
       "    </tr>\n",
       "    <tr>\n",
       "      <th>https://www.sifatusafwa.com/fr/fiqh-maliki/al-mou-amalat-fi-al-fiqh-al-maliki-sadiq-al-ghariani.html</th>\n",
       "      <td>المعاملات في الفقه المالكي</td>\n",
       "      <td>الصادق بن عبد الرحمن الغرياني</td>\n",
       "      <td>NaN</td>\n",
       "      <td>333</td>\n",
       "      <td>دار ابن حزم</td>\n",
       "      <td>Rigide</td>\n",
       "      <td>NaN</td>\n",
       "      <td>17x24cm</td>\n",
       "      <td>Pas ou peu (ou que sur le Matn)</td>\n",
       "      <td>NaN</td>\n",
       "    </tr>\n",
       "    <tr>\n",
       "      <th>https://www.sifatusafwa.com/fr/fiqh-maliki/al-muqaddimah-al-qurtubiyyah-bi-charh-cheikh-zarrouk-el-bernoussi.html</th>\n",
       "      <td>شرح المقدمة القرطبية ليحيى القرطبي</td>\n",
       "      <td>الشيخ أحمد زروق البرنسي</td>\n",
       "      <td>NaN</td>\n",
       "      <td>334</td>\n",
       "      <td>دار ابن حزم</td>\n",
       "      <td>Rigide</td>\n",
       "      <td>د. أحسن زقور</td>\n",
       "      <td>17x24cm</td>\n",
       "      <td>Pas ou peu (ou que sur le Matn)</td>\n",
       "      <td>NaN</td>\n",
       "    </tr>\n",
       "    <tr>\n",
       "      <th>https://www.sifatusafwa.com/fr/fiqh-maliki/al-usul-fi-ma-rifah-al-usul-risalah-fi-usul-ad-din-ibn-al-arabi.html</th>\n",
       "      <td>الوصول إلى معرفة الأصول</td>\n",
       "      <td>الإمام أبو بكر ابن العربي المالكي</td>\n",
       "      <td>NaN</td>\n",
       "      <td>172</td>\n",
       "      <td>دار الفتح</td>\n",
       "      <td>Rigide</td>\n",
       "      <td>NaN</td>\n",
       "      <td>17x24cm</td>\n",
       "      <td>Pas ou peu (ou que sur le Matn)</td>\n",
       "      <td>NaN</td>\n",
       "    </tr>\n",
       "    <tr>\n",
       "      <th>https://www.sifatusafwa.com/fr/fiqh-maliki/charh-aqidah-malik-as-saghir-al-qayrawani-al-qadi-abdelwahhab.html</th>\n",
       "      <td>شرح عقيدة مالك الصغير ابن أبي زيد القيرواني</td>\n",
       "      <td>القاضي عبد الوهاب بن نصر البغدادي</td>\n",
       "      <td>NaN</td>\n",
       "      <td>344</td>\n",
       "      <td>الرابطة المحمدية للعلماء في المغرب</td>\n",
       "      <td>Rigide</td>\n",
       "      <td>NaN</td>\n",
       "      <td>17x24cm</td>\n",
       "      <td>Pas ou peu (ou que sur le Matn)</td>\n",
       "      <td>NaN</td>\n",
       "    </tr>\n",
       "    <tr>\n",
       "      <th>https://www.sifatusafwa.com/fr/fiqh-maliki/dalil-as-salik-ala-as-hal-al-massalik-houssain-as-soulaymani.html</th>\n",
       "      <td>دليل السالك على أسهل المسالك</td>\n",
       "      <td>لحسن بن محمد سليماني</td>\n",
       "      <td>NaN</td>\n",
       "      <td>613</td>\n",
       "      <td>دار ابن حزم</td>\n",
       "      <td>Rigide</td>\n",
       "      <td>NaN</td>\n",
       "      <td>17x24cm</td>\n",
       "      <td>Pas ou peu (ou que sur le Matn)</td>\n",
       "      <td>NaN</td>\n",
       "    </tr>\n",
       "    <tr>\n",
       "      <th>https://www.sifatusafwa.com/fr/fiqh-maliki/hachiyah-ad-dousouqi-ala-ach-charh-al-kabir-fiqh-maliki.html</th>\n",
       "      <td>حاشية العلامة الدسوقي على الشرح الكبير للإمام ...</td>\n",
       "      <td>العلامة الدسوقي</td>\n",
       "      <td>15</td>\n",
       "      <td>NaN</td>\n",
       "      <td>دار ابن حزم</td>\n",
       "      <td>Rigide</td>\n",
       "      <td>أحمد بن علي الدمياطي</td>\n",
       "      <td>17x24cm</td>\n",
       "      <td>En Majorité ou en Totalité</td>\n",
       "      <td>NaN</td>\n",
       "    </tr>\n",
       "    <tr>\n",
       "      <th>https://www.sifatusafwa.com/fr/fiqh-maliki/lawami-al-durar-fi-hatk-astar-al-mukhtasar-al-majlisi-ash-shinqiti.html</th>\n",
       "      <td>لوامع الدرر في هتك أستار المختصر</td>\n",
       "      <td>محمد المجلسي الشنقيطي</td>\n",
       "      <td>14</td>\n",
       "      <td>9032</td>\n",
       "      <td>إبداع - دار ابن الجوزي القاهرة</td>\n",
       "      <td>Rigide</td>\n",
       "      <td>NaN</td>\n",
       "      <td>17x24cm</td>\n",
       "      <td>Pas ou peu (ou que sur le Matn)</td>\n",
       "      <td>NaN</td>\n",
       "    </tr>\n",
       "    <tr>\n",
       "      <th>https://www.sifatusafwa.com/fr/fiqh-maliki/le-statut-du-qabd-dans-la-prière-chez-l-imam-malik-al-mekki-ibn-azouz.html</th>\n",
       "      <td>هيئة الناسك في أن القبض في الصلاة هو مذهب الإم...</td>\n",
       "      <td>محمد المكي بن عزوز</td>\n",
       "      <td>NaN</td>\n",
       "      <td>176</td>\n",
       "      <td>دار الإمام مسلم</td>\n",
       "      <td>Rigide</td>\n",
       "      <td>NaN</td>\n",
       "      <td>17x24cm</td>\n",
       "      <td>Pas ou peu (ou que sur le Matn)</td>\n",
       "      <td>NaN</td>\n",
       "    </tr>\n",
       "    <tr>\n",
       "      <th>https://www.sifatusafwa.com/fr/fiqh-maliki/majmou-al-amir-moukhtasar-al-amir-fiqh-maliki.html</th>\n",
       "      <td>مجموع الأمير وشرحه</td>\n",
       "      <td>محمد الأمير المالكي</td>\n",
       "      <td>4</td>\n",
       "      <td>1532</td>\n",
       "      <td>مكتبة المشارق</td>\n",
       "      <td>Rigide</td>\n",
       "      <td>حمدي عبد المنعم شلبي</td>\n",
       "      <td>17x24cm</td>\n",
       "      <td>En Majorité ou en Totalité</td>\n",
       "      <td>د. أحمد علي طه ريان</td>\n",
       "    </tr>\n",
       "  </tbody>\n",
       "</table>\n",
       "</div>"
      ],
      "text/plain": [
       "                                                                                                Titre  \\\n",
       "https://www.sifatusafwa.com/fr/fiqh-ahkam/tabsi...        تبصرة الحكام في أصول الأقضية ومناهج الأحكام   \n",
       "https://www.sifatusafwa.com/fr/fiqh-maliki/al-j...   الجامع لمسائل المدونة المسمى مصحف المذهب المالكي   \n",
       "https://www.sifatusafwa.com/fr/fiqh-maliki/al-m...                         المعاملات في الفقه المالكي   \n",
       "https://www.sifatusafwa.com/fr/fiqh-maliki/al-m...                 شرح المقدمة القرطبية ليحيى القرطبي   \n",
       "https://www.sifatusafwa.com/fr/fiqh-maliki/al-u...                            الوصول إلى معرفة الأصول   \n",
       "https://www.sifatusafwa.com/fr/fiqh-maliki/char...        شرح عقيدة مالك الصغير ابن أبي زيد القيرواني   \n",
       "https://www.sifatusafwa.com/fr/fiqh-maliki/dali...                       دليل السالك على أسهل المسالك   \n",
       "https://www.sifatusafwa.com/fr/fiqh-maliki/hach...  حاشية العلامة الدسوقي على الشرح الكبير للإمام ...   \n",
       "https://www.sifatusafwa.com/fr/fiqh-maliki/lawa...                   لوامع الدرر في هتك أستار المختصر   \n",
       "https://www.sifatusafwa.com/fr/fiqh-maliki/le-s...  هيئة الناسك في أن القبض في الصلاة هو مذهب الإم...   \n",
       "https://www.sifatusafwa.com/fr/fiqh-maliki/majm...                                 مجموع الأمير وشرحه   \n",
       "\n",
       "                                                                               Auteur  \\\n",
       "https://www.sifatusafwa.com/fr/fiqh-ahkam/tabsi...                  ابن فرحون المالكي   \n",
       "https://www.sifatusafwa.com/fr/fiqh-maliki/al-j...                    ابن يونس الصقلي   \n",
       "https://www.sifatusafwa.com/fr/fiqh-maliki/al-m...      الصادق بن عبد الرحمن الغرياني   \n",
       "https://www.sifatusafwa.com/fr/fiqh-maliki/al-m...            الشيخ أحمد زروق البرنسي   \n",
       "https://www.sifatusafwa.com/fr/fiqh-maliki/al-u...  الإمام أبو بكر ابن العربي المالكي   \n",
       "https://www.sifatusafwa.com/fr/fiqh-maliki/char...  القاضي عبد الوهاب بن نصر البغدادي   \n",
       "https://www.sifatusafwa.com/fr/fiqh-maliki/dali...               لحسن بن محمد سليماني   \n",
       "https://www.sifatusafwa.com/fr/fiqh-maliki/hach...                    العلامة الدسوقي   \n",
       "https://www.sifatusafwa.com/fr/fiqh-maliki/lawa...              محمد المجلسي الشنقيطي   \n",
       "https://www.sifatusafwa.com/fr/fiqh-maliki/le-s...                 محمد المكي بن عزوز   \n",
       "https://www.sifatusafwa.com/fr/fiqh-maliki/majm...                محمد الأمير المالكي   \n",
       "\n",
       "                                                   Volumes Pages  \\\n",
       "https://www.sifatusafwa.com/fr/fiqh-ahkam/tabsi...       3  2013   \n",
       "https://www.sifatusafwa.com/fr/fiqh-maliki/al-j...      10  5520   \n",
       "https://www.sifatusafwa.com/fr/fiqh-maliki/al-m...     NaN   333   \n",
       "https://www.sifatusafwa.com/fr/fiqh-maliki/al-m...     NaN   334   \n",
       "https://www.sifatusafwa.com/fr/fiqh-maliki/al-u...     NaN   172   \n",
       "https://www.sifatusafwa.com/fr/fiqh-maliki/char...     NaN   344   \n",
       "https://www.sifatusafwa.com/fr/fiqh-maliki/dali...     NaN   613   \n",
       "https://www.sifatusafwa.com/fr/fiqh-maliki/hach...      15   NaN   \n",
       "https://www.sifatusafwa.com/fr/fiqh-maliki/lawa...      14  9032   \n",
       "https://www.sifatusafwa.com/fr/fiqh-maliki/le-s...     NaN   176   \n",
       "https://www.sifatusafwa.com/fr/fiqh-maliki/majm...       4  1532   \n",
       "\n",
       "                                                                               Édition  \\\n",
       "https://www.sifatusafwa.com/fr/fiqh-ahkam/tabsi...                           دار القلم   \n",
       "https://www.sifatusafwa.com/fr/fiqh-maliki/al-j...      إبداع - دار ابن الجوزي القاهرة   \n",
       "https://www.sifatusafwa.com/fr/fiqh-maliki/al-m...                         دار ابن حزم   \n",
       "https://www.sifatusafwa.com/fr/fiqh-maliki/al-m...                         دار ابن حزم   \n",
       "https://www.sifatusafwa.com/fr/fiqh-maliki/al-u...                           دار الفتح   \n",
       "https://www.sifatusafwa.com/fr/fiqh-maliki/char...  الرابطة المحمدية للعلماء في المغرب   \n",
       "https://www.sifatusafwa.com/fr/fiqh-maliki/dali...                         دار ابن حزم   \n",
       "https://www.sifatusafwa.com/fr/fiqh-maliki/hach...                         دار ابن حزم   \n",
       "https://www.sifatusafwa.com/fr/fiqh-maliki/lawa...      إبداع - دار ابن الجوزي القاهرة   \n",
       "https://www.sifatusafwa.com/fr/fiqh-maliki/le-s...                     دار الإمام مسلم   \n",
       "https://www.sifatusafwa.com/fr/fiqh-maliki/majm...                       مكتبة المشارق   \n",
       "\n",
       "                                                   Couverture  \\\n",
       "https://www.sifatusafwa.com/fr/fiqh-ahkam/tabsi...     Rigide   \n",
       "https://www.sifatusafwa.com/fr/fiqh-maliki/al-j...     Rigide   \n",
       "https://www.sifatusafwa.com/fr/fiqh-maliki/al-m...     Rigide   \n",
       "https://www.sifatusafwa.com/fr/fiqh-maliki/al-m...     Rigide   \n",
       "https://www.sifatusafwa.com/fr/fiqh-maliki/al-u...     Rigide   \n",
       "https://www.sifatusafwa.com/fr/fiqh-maliki/char...     Rigide   \n",
       "https://www.sifatusafwa.com/fr/fiqh-maliki/dali...     Rigide   \n",
       "https://www.sifatusafwa.com/fr/fiqh-maliki/hach...     Rigide   \n",
       "https://www.sifatusafwa.com/fr/fiqh-maliki/lawa...     Rigide   \n",
       "https://www.sifatusafwa.com/fr/fiqh-maliki/le-s...     Rigide   \n",
       "https://www.sifatusafwa.com/fr/fiqh-maliki/majm...     Rigide   \n",
       "\n",
       "                                                   Vérification et préparation  \\\n",
       "https://www.sifatusafwa.com/fr/fiqh-ahkam/tabsi...             د. عثمان ضميرية   \n",
       "https://www.sifatusafwa.com/fr/fiqh-maliki/al-j...                         NaN   \n",
       "https://www.sifatusafwa.com/fr/fiqh-maliki/al-m...                         NaN   \n",
       "https://www.sifatusafwa.com/fr/fiqh-maliki/al-m...                د. أحسن زقور   \n",
       "https://www.sifatusafwa.com/fr/fiqh-maliki/al-u...                         NaN   \n",
       "https://www.sifatusafwa.com/fr/fiqh-maliki/char...                         NaN   \n",
       "https://www.sifatusafwa.com/fr/fiqh-maliki/dali...                         NaN   \n",
       "https://www.sifatusafwa.com/fr/fiqh-maliki/hach...        أحمد بن علي الدمياطي   \n",
       "https://www.sifatusafwa.com/fr/fiqh-maliki/lawa...                         NaN   \n",
       "https://www.sifatusafwa.com/fr/fiqh-maliki/le-s...                         NaN   \n",
       "https://www.sifatusafwa.com/fr/fiqh-maliki/majm...        حمدي عبد المنعم شلبي   \n",
       "\n",
       "                                                     Format  \\\n",
       "https://www.sifatusafwa.com/fr/fiqh-ahkam/tabsi...  17x24cm   \n",
       "https://www.sifatusafwa.com/fr/fiqh-maliki/al-j...  17x24cm   \n",
       "https://www.sifatusafwa.com/fr/fiqh-maliki/al-m...  17x24cm   \n",
       "https://www.sifatusafwa.com/fr/fiqh-maliki/al-m...  17x24cm   \n",
       "https://www.sifatusafwa.com/fr/fiqh-maliki/al-u...  17x24cm   \n",
       "https://www.sifatusafwa.com/fr/fiqh-maliki/char...  17x24cm   \n",
       "https://www.sifatusafwa.com/fr/fiqh-maliki/dali...  17x24cm   \n",
       "https://www.sifatusafwa.com/fr/fiqh-maliki/hach...  17x24cm   \n",
       "https://www.sifatusafwa.com/fr/fiqh-maliki/lawa...  17x24cm   \n",
       "https://www.sifatusafwa.com/fr/fiqh-maliki/le-s...  17x24cm   \n",
       "https://www.sifatusafwa.com/fr/fiqh-maliki/majm...  17x24cm   \n",
       "\n",
       "                                                                            Harakat  \\\n",
       "https://www.sifatusafwa.com/fr/fiqh-ahkam/tabsi...       En Majorité ou en Totalité   \n",
       "https://www.sifatusafwa.com/fr/fiqh-maliki/al-j...  Pas ou peu (ou que sur le Matn)   \n",
       "https://www.sifatusafwa.com/fr/fiqh-maliki/al-m...  Pas ou peu (ou que sur le Matn)   \n",
       "https://www.sifatusafwa.com/fr/fiqh-maliki/al-m...  Pas ou peu (ou que sur le Matn)   \n",
       "https://www.sifatusafwa.com/fr/fiqh-maliki/al-u...  Pas ou peu (ou que sur le Matn)   \n",
       "https://www.sifatusafwa.com/fr/fiqh-maliki/char...  Pas ou peu (ou que sur le Matn)   \n",
       "https://www.sifatusafwa.com/fr/fiqh-maliki/dali...  Pas ou peu (ou que sur le Matn)   \n",
       "https://www.sifatusafwa.com/fr/fiqh-maliki/hach...       En Majorité ou en Totalité   \n",
       "https://www.sifatusafwa.com/fr/fiqh-maliki/lawa...  Pas ou peu (ou que sur le Matn)   \n",
       "https://www.sifatusafwa.com/fr/fiqh-maliki/le-s...  Pas ou peu (ou que sur le Matn)   \n",
       "https://www.sifatusafwa.com/fr/fiqh-maliki/majm...       En Majorité ou en Totalité   \n",
       "\n",
       "                                                                Préface  \n",
       "https://www.sifatusafwa.com/fr/fiqh-ahkam/tabsi...                  NaN  \n",
       "https://www.sifatusafwa.com/fr/fiqh-maliki/al-j...                  NaN  \n",
       "https://www.sifatusafwa.com/fr/fiqh-maliki/al-m...                  NaN  \n",
       "https://www.sifatusafwa.com/fr/fiqh-maliki/al-m...                  NaN  \n",
       "https://www.sifatusafwa.com/fr/fiqh-maliki/al-u...                  NaN  \n",
       "https://www.sifatusafwa.com/fr/fiqh-maliki/char...                  NaN  \n",
       "https://www.sifatusafwa.com/fr/fiqh-maliki/dali...                  NaN  \n",
       "https://www.sifatusafwa.com/fr/fiqh-maliki/hach...                  NaN  \n",
       "https://www.sifatusafwa.com/fr/fiqh-maliki/lawa...                  NaN  \n",
       "https://www.sifatusafwa.com/fr/fiqh-maliki/le-s...                  NaN  \n",
       "https://www.sifatusafwa.com/fr/fiqh-maliki/majm...  د. أحمد علي طه ريان  "
      ]
     },
     "execution_count": 45,
     "metadata": {},
     "output_type": "execute_result"
    }
   ],
   "source": [
    "M.T"
   ]
  },
  {
   "cell_type": "markdown",
   "metadata": {},
   "source": [
    "الحمد لله Maintenant on peut essayer de généraliser à toutes les pages"
   ]
  },
  {
   "cell_type": "markdown",
   "metadata": {},
   "source": [
    "## Généralisation à toutes les pages."
   ]
  },
  {
   "cell_type": "markdown",
   "metadata": {},
   "source": [
    "J'ai pris le même modèle de code que dans sifatusafwa-1.ipynb. Ici on va préparer la liste des urls."
   ]
  },
  {
   "cell_type": "code",
   "execution_count": 244,
   "metadata": {},
   "outputs": [
    {
     "name": "stdout",
     "output_type": "stream",
     "text": [
      "https://www.sifatusafwa.com/fr/fiqh-maliki/?rewrite=fiqh-maliki&page=12 False\n",
      "https://www.sifatusafwa.com/fr/fiqh-maliki/?rewrite=fiqh-maliki&order=product.position.asc False\n",
      "https://www.sifatusafwa.com/fr/fiqh-maliki/?rewrite=fiqh-maliki&order=product.name.desc True\n",
      "https://www.sifatusafwa.com/fr/fiqh-maliki/?rewrite=fiqh-maliki False\n",
      "https://www.sifatusafwa.com/fr/fiqh-maliki/?page=6 False\n",
      "https://www.sifatusafwa.com/fr/fiqh-maliki/?page=12 False\n",
      "https://www.sifatusafwa.com/fr/fiqh-maliki/?order=product.quantity.desc True\n",
      "https://www.sifatusafwa.com/fr/fiqh-maliki/?order=product.position.asc False\n",
      "https://www.sifatusafwa.com/fr/fiqh-maliki/?order=product.date_add.desc True\n",
      "https://www.sifatusafwa.com/fr/fiqh-maliki/-amal-ahl-al-madinah-inda-al-malikiyyah.html False\n",
      "https://www.sifatusafwa.com/fr/fiqh-maliki/-amal-ahl-al-madinah-inda-al-malikiyyah.html False\n",
      "https://www.sifatusafwa.com/fr/fiqh-maliki/-amal-ahl-al-madinah-inda-al-malikiyyah.html False\n",
      "https://www.sifatusafwa.com/fr/fiqh-maliki/-amal-ahl-al-madinah-inda-al-malikiyyah.html False\n"
     ]
    }
   ],
   "source": [
    "##Aller chercher les urls des livres\n",
    "urls = []\n",
    "to_supp =[]\n",
    "NB_MAX_PAGES = 15\n",
    "for i in range(1,NB_MAX_PAGES):\n",
    "    i = str(i)\n",
    "    r = requests.get('https://www.sifatusafwa.com/fr/fiqh-maliki/?page=' + i)\n",
    "    soup = BeautifulSoup(r.content, 'html.parser')\n",
    "    s = soup.find('section', id = 'products')\n",
    "    #s = s.find_all('div', class_ = 'products product_list row grid')\n",
    "    #lines = s.find('h3', class_ = 's_title_block flex_child')\n",
    "    #Affichage du contenu de la page\n",
    "    #print(lines)\n",
    "\n",
    "    #Extraire les liens\n",
    "    \n",
    "    for line in s.findAll('a'):\n",
    "        urls.append(line.get('href'))#line.text.split(\\'n') est une liste de hcaine de caractères, donc [0] est \n",
    "        #seulement le str.\n",
    "        #print(line.text.split('\\n'))#line.text enlève les balises et les choses propres à html/css. Le .split split sur les \\n\n",
    "    #Tous les liens sont en double/ triple... on va les faire apparaitre qu'une seule fois.\n",
    "    urls = list(np.unique(urls))\n",
    "    #urls\n",
    "    # On va supprimer les liens qui ne renvoient pas vers des livres : \n",
    "    #  - Ceux qui finissent pas '.asc' ou 'desc\n",
    "    #  - Les liens de page (\"?page=2\", \"?page=3\"...) et le lien 'fiqh-maliki/'\n",
    "    #  - les \"javascript\"\n",
    "    #Suppression des liens ne renvoyant pas vers des livres.\n",
    "    for link in range(len(urls)):\n",
    "        if (urls[link].endswith('asc')) or (urls[link].endswith('.desc')) or (urls[link].startswith('https://www.sifatusafwa.com/fr/fiqh-maliki/?')):\n",
    "            to_supp.append(urls[link])\n",
    "        #else:\n",
    "        if link == 28:\n",
    "            print(urls[link],urls[link].endswith('.desc') )\n",
    "            \n",
    "try:\n",
    "    urls.remove('javascript:')\n",
    "    urls.remove('javascript:;')\n",
    "    urls.remove('https://www.sifatusafwa.com/fr/fiqh-maliki/')\n",
    "except ValueError:\n",
    "    pass\n",
    "urls = pd.DataFrame(urls)\n",
    "#pour qu'on puisse comparer deux DataFrame avec la meme taille:\n",
    "for i in range(len(to_supp)-len(urls)):\n",
    "    urls = urls.append(dict(zip(urls.columns,['col'])), ignore_index=True)\n",
    "\n",
    "#On compare avec les liens à supprimer\n",
    "A = urls == pd.DataFrame(to_supp) \n",
    "urls = urls[A == False].dropna() #ce qui n'est pas False est NaN\n",
    "urls = urls.values.T.tolist()[0]\n",
    "#on enlève tout ce qu'on a rajouté maintenant qu'on a pu faire la comparaison avec ce qu'il y avait\n",
    "#a supprimer\n",
    "urls = list(np.unique(urls))\n",
    "urls.remove('col')"
   ]
  },
  {
   "cell_type": "code",
   "execution_count": 245,
   "metadata": {},
   "outputs": [
    {
     "data": {
      "text/plain": [
       "'https://www.sifatusafwa.com/fr/fiqh-maliki/?order=product.date_add.desc'"
      ]
     },
     "execution_count": 245,
     "metadata": {},
     "output_type": "execute_result"
    }
   ],
   "source": [
    "urls[28]"
   ]
  },
  {
   "cell_type": "markdown",
   "metadata": {},
   "source": [
    "A ce stade, `urls` devrait contenir les adresses de chacun des livres, pour toutes les pages de fiqh maliki."
   ]
  },
  {
   "cell_type": "markdown",
   "metadata": {},
   "source": [
    "Ici, on va construire les dataframes pour chaque page. \n",
    "Une page a plusieurs livres. On aura une seule liste qui contiendra toutes les livres de la page 1, ceux de la page2... et on concatènera tout inchAllah"
   ]
  },
  {
   "cell_type": "code",
   "execution_count": 205,
   "metadata": {},
   "outputs": [
    {
     "name": "stdout",
     "output_type": "stream",
     "text": [
      "0\n"
     ]
    }
   ],
   "source": [
    "url = urls[0]\n",
    "r = requests.get(url)\n",
    "soup = BeautifulSoup(r.content, 'html.parser')\n",
    "s = soup.find('section', class_='product-features')\n",
    "L_string = []\n",
    "for text in s.findAll(class_ ='data-sheet flex_container'):\n",
    "    L_string.append(text.text.split('\\n'))\n",
    "L_string = np.array(L_string)\n",
    "df = pd.DataFrame((L_string))\n",
    "df = df.drop_duplicates()#des fois les volumes apparaissent deux fois\n",
    "df.columns = ['supp', 'categories', str(url), 'supp2']# a cette étape on remplace ce qu'il faut pour voir les sites en colonnes\n",
    "df.drop(['supp', 'supp2'], axis = 1, inplace=True)\n",
    "df.set_index('categories', inplace = True)\n",
    "urls.remove(urls[0]) #On enlève le lien qu'on a déjà mis dans le dataframe de base\n"
   ]
  },
  {
   "cell_type": "code",
   "execution_count": 207,
   "metadata": {},
   "outputs": [
    {
     "ename": "AttributeError",
     "evalue": "'NoneType' object has no attribute 'findAll'",
     "output_type": "error",
     "traceback": [
      "\u001b[1;31m---------------------------------------------------------------------------\u001b[0m",
      "\u001b[1;31mAttributeError\u001b[0m                            Traceback (most recent call last)",
      "\u001b[1;32m<ipython-input-207-576a69afe38d>\u001b[0m in \u001b[0;36m<module>\u001b[1;34m\u001b[0m\n\u001b[0;32m      5\u001b[0m     \u001b[0ms\u001b[0m \u001b[1;33m=\u001b[0m \u001b[0msoup\u001b[0m\u001b[1;33m.\u001b[0m\u001b[0mfind\u001b[0m\u001b[1;33m(\u001b[0m\u001b[1;34m'section'\u001b[0m\u001b[1;33m,\u001b[0m \u001b[0mclass_\u001b[0m\u001b[1;33m=\u001b[0m\u001b[1;34m'product-features'\u001b[0m\u001b[1;33m)\u001b[0m\u001b[1;33m\u001b[0m\u001b[1;33m\u001b[0m\u001b[0m\n\u001b[0;32m      6\u001b[0m     \u001b[0mL_string\u001b[0m \u001b[1;33m=\u001b[0m \u001b[1;33m[\u001b[0m\u001b[1;33m]\u001b[0m\u001b[1;33m\u001b[0m\u001b[1;33m\u001b[0m\u001b[0m\n\u001b[1;32m----> 7\u001b[1;33m     \u001b[1;32mfor\u001b[0m \u001b[0mtext\u001b[0m \u001b[1;32min\u001b[0m \u001b[0ms\u001b[0m\u001b[1;33m.\u001b[0m\u001b[0mfindAll\u001b[0m\u001b[1;33m(\u001b[0m\u001b[0mclass_\u001b[0m \u001b[1;33m=\u001b[0m\u001b[1;34m'data-sheet flex_container'\u001b[0m\u001b[1;33m)\u001b[0m\u001b[1;33m:\u001b[0m\u001b[1;33m\u001b[0m\u001b[1;33m\u001b[0m\u001b[0m\n\u001b[0m\u001b[0;32m      8\u001b[0m         \u001b[0mL_string\u001b[0m\u001b[1;33m.\u001b[0m\u001b[0mappend\u001b[0m\u001b[1;33m(\u001b[0m\u001b[0mtext\u001b[0m\u001b[1;33m.\u001b[0m\u001b[0mtext\u001b[0m\u001b[1;33m.\u001b[0m\u001b[0msplit\u001b[0m\u001b[1;33m(\u001b[0m\u001b[1;34m'\\n'\u001b[0m\u001b[1;33m)\u001b[0m\u001b[1;33m)\u001b[0m\u001b[1;33m\u001b[0m\u001b[1;33m\u001b[0m\u001b[0m\n\u001b[0;32m      9\u001b[0m     \u001b[0mL_string\u001b[0m \u001b[1;33m=\u001b[0m \u001b[0mnp\u001b[0m\u001b[1;33m.\u001b[0m\u001b[0marray\u001b[0m\u001b[1;33m(\u001b[0m\u001b[0mL_string\u001b[0m\u001b[1;33m)\u001b[0m\u001b[1;33m\u001b[0m\u001b[1;33m\u001b[0m\u001b[0m\n",
      "\u001b[1;31mAttributeError\u001b[0m: 'NoneType' object has no attribute 'findAll'"
     ]
    }
   ],
   "source": [
    "dfs = []\n",
    "for url in urls:\n",
    "    r = requests.get(url)\n",
    "    soup = BeautifulSoup(r.content, 'html.parser')\n",
    "    s = soup.find('section', class_='product-features')\n",
    "    L_string = []\n",
    "    for text in s.findAll(class_ ='data-sheet flex_container'):\n",
    "        L_string.append(text.text.split('\\n'))\n",
    "    L_string = np.array(L_string)\n",
    "    df_other = pd.DataFrame((L_string))\n",
    "    df_other = df_other.drop_duplicates()#des fois les volumes apparaissent deux fois\n",
    "    df_other.columns = ['supp', 'categories',str(url), 'supp2']# a cette étape on remplace ce qu'il faut pour voir les sites en colonnes\n",
    "    df_other.drop(['supp', 'supp2'], axis = 1, inplace=True)\n",
    "    df_other.set_index('categories', inplace = True)\n",
    "    dfs.append(df_other)\n",
    "M = pd.concat((d for d in dfs), axis = 1)\n",
    "M.T"
   ]
  },
  {
   "cell_type": "code",
   "execution_count": 221,
   "metadata": {},
   "outputs": [
    {
     "ename": "ValueError",
     "evalue": "Can only compare identically-labeled DataFrame objects",
     "output_type": "error",
     "traceback": [
      "\u001b[1;31m---------------------------------------------------------------------------\u001b[0m",
      "\u001b[1;31mValueError\u001b[0m                                Traceback (most recent call last)",
      "\u001b[1;32m<ipython-input-221-d3eb00d10ded>\u001b[0m in \u001b[0;36m<module>\u001b[1;34m\u001b[0m\n\u001b[1;32m----> 1\u001b[1;33m \u001b[0mpd\u001b[0m\u001b[1;33m.\u001b[0m\u001b[0mDataFrame\u001b[0m\u001b[1;33m(\u001b[0m\u001b[0mto_supp\u001b[0m\u001b[1;33m)\u001b[0m \u001b[1;33m==\u001b[0m \u001b[0mpd\u001b[0m\u001b[1;33m.\u001b[0m\u001b[0mDataFrame\u001b[0m\u001b[1;33m(\u001b[0m\u001b[0murls\u001b[0m\u001b[1;33m)\u001b[0m\u001b[1;33m\u001b[0m\u001b[1;33m\u001b[0m\u001b[0m\n\u001b[0m",
      "\u001b[1;32mc:\\Users\\elias\\anaconda3\\lib\\site-packages\\pandas\\core\\ops\\__init__.py\u001b[0m in \u001b[0;36mf\u001b[1;34m(self, other)\u001b[0m\n\u001b[0;32m    699\u001b[0m         \u001b[0maxis\u001b[0m \u001b[1;33m=\u001b[0m \u001b[1;36m1\u001b[0m  \u001b[1;31m# only relevant for Series other case\u001b[0m\u001b[1;33m\u001b[0m\u001b[1;33m\u001b[0m\u001b[0m\n\u001b[0;32m    700\u001b[0m \u001b[1;33m\u001b[0m\u001b[0m\n\u001b[1;32m--> 701\u001b[1;33m         \u001b[0mself\u001b[0m\u001b[1;33m,\u001b[0m \u001b[0mother\u001b[0m \u001b[1;33m=\u001b[0m \u001b[0m_align_method_FRAME\u001b[0m\u001b[1;33m(\u001b[0m\u001b[0mself\u001b[0m\u001b[1;33m,\u001b[0m \u001b[0mother\u001b[0m\u001b[1;33m,\u001b[0m \u001b[0maxis\u001b[0m\u001b[1;33m,\u001b[0m \u001b[0mlevel\u001b[0m\u001b[1;33m=\u001b[0m\u001b[1;32mNone\u001b[0m\u001b[1;33m,\u001b[0m \u001b[0mflex\u001b[0m\u001b[1;33m=\u001b[0m\u001b[1;32mFalse\u001b[0m\u001b[1;33m)\u001b[0m\u001b[1;33m\u001b[0m\u001b[1;33m\u001b[0m\u001b[0m\n\u001b[0m\u001b[0;32m    702\u001b[0m \u001b[1;33m\u001b[0m\u001b[0m\n\u001b[0;32m    703\u001b[0m         \u001b[1;31m# See GH#4537 for discussion of scalar op behavior\u001b[0m\u001b[1;33m\u001b[0m\u001b[1;33m\u001b[0m\u001b[1;33m\u001b[0m\u001b[0m\n",
      "\u001b[1;32mc:\\Users\\elias\\anaconda3\\lib\\site-packages\\pandas\\core\\ops\\__init__.py\u001b[0m in \u001b[0;36m_align_method_FRAME\u001b[1;34m(left, right, axis, flex, level)\u001b[0m\n\u001b[0;32m    508\u001b[0m                 \u001b[0mleft\u001b[0m\u001b[1;33m,\u001b[0m \u001b[0mright\u001b[0m \u001b[1;33m=\u001b[0m \u001b[0mleft\u001b[0m\u001b[1;33m.\u001b[0m\u001b[0malign\u001b[0m\u001b[1;33m(\u001b[0m\u001b[0mright\u001b[0m\u001b[1;33m,\u001b[0m \u001b[0mjoin\u001b[0m\u001b[1;33m=\u001b[0m\u001b[1;34m\"outer\"\u001b[0m\u001b[1;33m,\u001b[0m \u001b[0mlevel\u001b[0m\u001b[1;33m=\u001b[0m\u001b[0mlevel\u001b[0m\u001b[1;33m,\u001b[0m \u001b[0mcopy\u001b[0m\u001b[1;33m=\u001b[0m\u001b[1;32mFalse\u001b[0m\u001b[1;33m)\u001b[0m\u001b[1;33m\u001b[0m\u001b[1;33m\u001b[0m\u001b[0m\n\u001b[0;32m    509\u001b[0m             \u001b[1;32melse\u001b[0m\u001b[1;33m:\u001b[0m\u001b[1;33m\u001b[0m\u001b[1;33m\u001b[0m\u001b[0m\n\u001b[1;32m--> 510\u001b[1;33m                 raise ValueError(\n\u001b[0m\u001b[0;32m    511\u001b[0m                     \u001b[1;34m\"Can only compare identically-labeled DataFrame objects\"\u001b[0m\u001b[1;33m\u001b[0m\u001b[1;33m\u001b[0m\u001b[0m\n\u001b[0;32m    512\u001b[0m                 )\n",
      "\u001b[1;31mValueError\u001b[0m: Can only compare identically-labeled DataFrame objects"
     ]
    }
   ],
   "source": [
    "pd.DataFrame(to_supp) == pd.DataFrame(urls)"
   ]
  },
  {
   "cell_type": "code",
   "execution_count": null,
   "metadata": {},
   "outputs": [],
   "source": []
  }
 ],
 "metadata": {
  "kernelspec": {
   "display_name": "Python 3",
   "language": "python",
   "name": "python3"
  },
  "language_info": {
   "codemirror_mode": {
    "name": "ipython",
    "version": 3
   },
   "file_extension": ".py",
   "mimetype": "text/x-python",
   "name": "python",
   "nbconvert_exporter": "python",
   "pygments_lexer": "ipython3",
   "version": "3.8.5"
  },
  "vscode": {
   "interpreter": {
    "hash": "258996d679d8e259ac990df9fdfc128ec5eb77c39bd98f0b9ba2b9004f62dd43"
   }
  }
 },
 "nbformat": 4,
 "nbformat_minor": 4
}
