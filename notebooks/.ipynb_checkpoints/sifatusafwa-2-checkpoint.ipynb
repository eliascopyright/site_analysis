{
 "cells": [
  {
   "cell_type": "markdown",
   "metadata": {},
   "source": [
    "بسم الله الرحمن الرحيم"
   ]
  },
  {
   "cell_type": "markdown",
   "metadata": {},
   "source": [
    "\n",
    "Deuxième étape: On a réussi à prendre les livres de fiqh maliki, maintenant on va essayer de mettre l'auteur..."
   ]
  },
  {
   "cell_type": "code",
   "execution_count": 115,
   "metadata": {},
   "outputs": [],
   "source": [
    "import requests\n",
    "from bs4 import BeautifulSoup\n",
    "import numpy as np\n",
    "import pandas as pd\n",
    "\n",
    "r = requests.get('https://www.sifatusafwa.com/fr/fiqh-maliki/')\n",
    "soup = BeautifulSoup(r.content, 'html.parser')\n",
    "s = soup.find('section', id = 'products')\n",
    "#s = s.find_all('div', class_ = 'products product_list row grid')\n",
    "#lines = s.find('h3', class_ = 's_title_block flex_child')\n",
    "#Affichage du contenu de la page\n",
    "#print(lines)\n",
    "\n",
    "#Extraire les liens\n",
    "urls = []\n",
    "for line in s.findAll('a'):\n",
    "    urls.append(line.get('href'))#line.text.split(\\'n') est une liste de hcaine de caractères, donc [0] est \n",
    "    #seulement le str.\n",
    "    #print(line.text.split('\\n'))#line.text enlève les balises et les choses propres à html/css. Le .split split sur les \\n"
   ]
  },
  {
   "cell_type": "markdown",
   "metadata": {},
   "source": [
    "Tous les liens sont en double/ triple... on va les faire apparaitre qu'une seule fois."
   ]
  },
  {
   "cell_type": "code",
   "execution_count": 116,
   "metadata": {},
   "outputs": [],
   "source": [
    "#Tous les liens sont en double/ triple... on va les faire apparaitre qu'une seule fois.\n",
    "urls = list(np.unique(urls))\n",
    "#urls"
   ]
  },
  {
   "cell_type": "markdown",
   "metadata": {},
   "source": [
    "On va supprimer les liens qui ne renvoient pas vers des livres : \n",
    " - Ceux qui finissent pas '.asc' ou 'desc\n",
    " - Les liens de page (\"?page=2\", \"?page=3\"...) et le lien 'fiqh-maliki/'\n",
    " - les \"javascript\""
   ]
  },
  {
   "cell_type": "code",
   "execution_count": 117,
   "metadata": {},
   "outputs": [],
   "source": [
    "#Suppression des liens ne renvoyant pas vers des livres.\n",
    "urls.remove('javascript:')\n",
    "urls.remove('javascript:;')\n",
    "urls.remove('https://www.sifatusafwa.com/fr/fiqh-maliki/')\n",
    "to_supp = []\n",
    "for link in range(len(urls)):\n",
    "    if urls[link].endswith('asc') or urls[link].endswith('.desc') or urls[link].startswith('https://www.sifatusafwa.com/fr/fiqh-maliki/?'):\n",
    "        to_supp.append(urls[link])\n",
    "    else:\n",
    "        to_supp.append('')\n",
    "    "
   ]
  },
  {
   "cell_type": "code",
   "execution_count": 118,
   "metadata": {},
   "outputs": [],
   "source": [
    "urls = pd.DataFrame(urls)\n",
    "A = urls == pd.DataFrame(to_supp) \n",
    "urls = urls[A == False].dropna()"
   ]
  },
  {
   "cell_type": "code",
   "execution_count": 119,
   "metadata": {},
   "outputs": [],
   "source": [
    "urls = urls.values.T.tolist()[0]"
   ]
  },
  {
   "cell_type": "code",
   "execution_count": 120,
   "metadata": {},
   "outputs": [
    {
     "data": {
      "text/plain": [
       "['https://www.sifatusafwa.com/fr/fiqh-ahkam/charh-bidayah-al-mujtahid-wa-nihayah-al-muqtasid-abdullah-al-abadi.html',\n",
       " 'https://www.sifatusafwa.com/fr/fiqh-ahkam/tabsirah-al-hukkam-fi-usul-al-aqdhiyyah-ibn-farhun-799h.html',\n",
       " 'https://www.sifatusafwa.com/fr/fiqh-maliki/al-jami-li-masa-il-al-mudawwanah-ibn-yunus-as-siqilli-451h.html',\n",
       " 'https://www.sifatusafwa.com/fr/fiqh-maliki/al-mou-amalat-fi-al-fiqh-al-maliki-sadiq-al-ghariani.html',\n",
       " 'https://www.sifatusafwa.com/fr/fiqh-maliki/al-muqaddimah-al-qurtubiyyah-bi-charh-cheikh-zarrouk-el-bernoussi.html',\n",
       " 'https://www.sifatusafwa.com/fr/fiqh-maliki/al-usul-fi-ma-rifah-al-usul-risalah-fi-usul-ad-din-ibn-al-arabi.html',\n",
       " 'https://www.sifatusafwa.com/fr/fiqh-maliki/charh-aqidah-malik-as-saghir-al-qayrawani-al-qadi-abdelwahhab.html',\n",
       " 'https://www.sifatusafwa.com/fr/fiqh-maliki/dalil-as-salik-ala-as-hal-al-massalik-houssain-as-soulaymani.html',\n",
       " 'https://www.sifatusafwa.com/fr/fiqh-maliki/hachiyah-ad-dousouqi-ala-ach-charh-al-kabir-fiqh-maliki.html',\n",
       " 'https://www.sifatusafwa.com/fr/fiqh-maliki/lawami-al-durar-fi-hatk-astar-al-mukhtasar-al-majlisi-ash-shinqiti.html',\n",
       " 'https://www.sifatusafwa.com/fr/fiqh-maliki/le-statut-du-qabd-dans-la-prière-chez-l-imam-malik-al-mekki-ibn-azouz.html',\n",
       " 'https://www.sifatusafwa.com/fr/fiqh-maliki/majmou-al-amir-moukhtasar-al-amir-fiqh-maliki.html']"
      ]
     },
     "execution_count": 120,
     "metadata": {},
     "output_type": "execute_result"
    }
   ],
   "source": [
    "urls"
   ]
  },
  {
   "cell_type": "markdown",
   "metadata": {},
   "source": [
    "On va maintenant essayer de regrouper les données des liens dans un dataframe."
   ]
  },
  {
   "cell_type": "markdown",
   "metadata": {},
   "source": [
    "## Essai pour le premier lien"
   ]
  },
  {
   "cell_type": "code",
   "execution_count": 121,
   "metadata": {},
   "outputs": [],
   "source": [
    "url = urls[0]\n",
    "r = requests.get(url)\n",
    "soup = BeautifulSoup(r.content, 'html.parser')\n",
    "s = soup.find('section', class_='product-features')\n",
    "L_string = []\n",
    "for text in s.findAll(class_ ='data-sheet flex_container'):\n",
    "    L_string.append(text.text.split('\\n'))"
   ]
  },
  {
   "cell_type": "code",
   "execution_count": 122,
   "metadata": {},
   "outputs": [],
   "source": [
    "#L_string"
   ]
  },
  {
   "cell_type": "markdown",
   "metadata": {},
   "source": [
    "On essaye d'unifier pour enlever les deux \"\" et afficher en colonnes:"
   ]
  },
  {
   "cell_type": "code",
   "execution_count": 123,
   "metadata": {},
   "outputs": [
    {
     "data": {
      "text/html": [
       "<div>\n",
       "<style scoped>\n",
       "    .dataframe tbody tr th:only-of-type {\n",
       "        vertical-align: middle;\n",
       "    }\n",
       "\n",
       "    .dataframe tbody tr th {\n",
       "        vertical-align: top;\n",
       "    }\n",
       "\n",
       "    .dataframe thead th {\n",
       "        text-align: right;\n",
       "    }\n",
       "</style>\n",
       "<table border=\"1\" class=\"dataframe\">\n",
       "  <thead>\n",
       "    <tr style=\"text-align: right;\">\n",
       "      <th></th>\n",
       "      <th>0</th>\n",
       "      <th>1</th>\n",
       "      <th>2</th>\n",
       "      <th>3</th>\n",
       "    </tr>\n",
       "  </thead>\n",
       "  <tbody>\n",
       "    <tr>\n",
       "      <th>0</th>\n",
       "      <td></td>\n",
       "      <td>Titre</td>\n",
       "      <td>شرح بداية المجتهد ونهاية المقتصد وبهامشه السبي...</td>\n",
       "      <td></td>\n",
       "    </tr>\n",
       "    <tr>\n",
       "      <th>1</th>\n",
       "      <td></td>\n",
       "      <td>Auteur</td>\n",
       "      <td>د. عبد الله العبادي</td>\n",
       "      <td></td>\n",
       "    </tr>\n",
       "    <tr>\n",
       "      <th>2</th>\n",
       "      <td></td>\n",
       "      <td>Volumes</td>\n",
       "      <td>4</td>\n",
       "      <td></td>\n",
       "    </tr>\n",
       "    <tr>\n",
       "      <th>3</th>\n",
       "      <td></td>\n",
       "      <td>Pages</td>\n",
       "      <td>2328</td>\n",
       "      <td></td>\n",
       "    </tr>\n",
       "    <tr>\n",
       "      <th>4</th>\n",
       "      <td></td>\n",
       "      <td>Édition</td>\n",
       "      <td>دار السلام</td>\n",
       "      <td></td>\n",
       "    </tr>\n",
       "  </tbody>\n",
       "</table>\n",
       "</div>"
      ],
      "text/plain": [
       "  0        1                                                  2 3\n",
       "0      Titre  شرح بداية المجتهد ونهاية المقتصد وبهامشه السبي...  \n",
       "1     Auteur                                د. عبد الله العبادي  \n",
       "2    Volumes                                                  4  \n",
       "3      Pages                                               2328  \n",
       "4    Édition                                         دار السلام  "
      ]
     },
     "execution_count": 123,
     "metadata": {},
     "output_type": "execute_result"
    }
   ],
   "source": [
    "df = pd.DataFrame(L_string)\n",
    "df = df.drop_duplicates() #des fois les volumes apparaissent deux fois\n",
    "df.head() #Pour avoir un aperçu"
   ]
  },
  {
   "cell_type": "code",
   "execution_count": 124,
   "metadata": {},
   "outputs": [],
   "source": [
    "df.columns = ['supp', 'categories', 'test', 'supp2']\n",
    "df.drop(['supp', 'supp2'], axis = 1, inplace=True)"
   ]
  },
  {
   "cell_type": "code",
   "execution_count": 125,
   "metadata": {},
   "outputs": [
    {
     "data": {
      "text/html": [
       "<div>\n",
       "<style scoped>\n",
       "    .dataframe tbody tr th:only-of-type {\n",
       "        vertical-align: middle;\n",
       "    }\n",
       "\n",
       "    .dataframe tbody tr th {\n",
       "        vertical-align: top;\n",
       "    }\n",
       "\n",
       "    .dataframe thead th {\n",
       "        text-align: right;\n",
       "    }\n",
       "</style>\n",
       "<table border=\"1\" class=\"dataframe\">\n",
       "  <thead>\n",
       "    <tr style=\"text-align: right;\">\n",
       "      <th></th>\n",
       "      <th>test</th>\n",
       "    </tr>\n",
       "    <tr>\n",
       "      <th>categories</th>\n",
       "      <th></th>\n",
       "    </tr>\n",
       "  </thead>\n",
       "  <tbody>\n",
       "    <tr>\n",
       "      <th>Titre</th>\n",
       "      <td>شرح بداية المجتهد ونهاية المقتصد وبهامشه السبي...</td>\n",
       "    </tr>\n",
       "    <tr>\n",
       "      <th>Auteur</th>\n",
       "      <td>د. عبد الله العبادي</td>\n",
       "    </tr>\n",
       "    <tr>\n",
       "      <th>Volumes</th>\n",
       "      <td>4</td>\n",
       "    </tr>\n",
       "    <tr>\n",
       "      <th>Pages</th>\n",
       "      <td>2328</td>\n",
       "    </tr>\n",
       "    <tr>\n",
       "      <th>Édition</th>\n",
       "      <td>دار السلام</td>\n",
       "    </tr>\n",
       "  </tbody>\n",
       "</table>\n",
       "</div>"
      ],
      "text/plain": [
       "                                                         test\n",
       "categories                                                   \n",
       "Titre       شرح بداية المجتهد ونهاية المقتصد وبهامشه السبي...\n",
       "Auteur                                    د. عبد الله العبادي\n",
       "Volumes                                                     4\n",
       "Pages                                                    2328\n",
       "Édition                                            دار السلام"
      ]
     },
     "execution_count": 125,
     "metadata": {},
     "output_type": "execute_result"
    }
   ],
   "source": [
    "df.set_index('categories', inplace = True)\n",
    "df.head()"
   ]
  },
  {
   "cell_type": "markdown",
   "metadata": {},
   "source": [
    "الحمد لله, il faut maintenant transposer ce tableau et le faire tourner pour tous les sites."
   ]
  },
  {
   "cell_type": "markdown",
   "metadata": {},
   "source": [
    "## Tentative de concaténation de deux dataframes"
   ]
  },
  {
   "cell_type": "markdown",
   "metadata": {},
   "source": [
    "On a pas réussi à concaténer les deux transposés, on va essayer de les concaténer et de les transposer après."
   ]
  },
  {
   "cell_type": "code",
   "execution_count": 126,
   "metadata": {},
   "outputs": [
    {
     "data": {
      "text/html": [
       "<div>\n",
       "<style scoped>\n",
       "    .dataframe tbody tr th:only-of-type {\n",
       "        vertical-align: middle;\n",
       "    }\n",
       "\n",
       "    .dataframe tbody tr th {\n",
       "        vertical-align: top;\n",
       "    }\n",
       "\n",
       "    .dataframe thead th {\n",
       "        text-align: right;\n",
       "    }\n",
       "</style>\n",
       "<table border=\"1\" class=\"dataframe\">\n",
       "  <thead>\n",
       "    <tr style=\"text-align: right;\">\n",
       "      <th></th>\n",
       "      <th>0</th>\n",
       "      <th>1</th>\n",
       "      <th>2</th>\n",
       "      <th>3</th>\n",
       "    </tr>\n",
       "  </thead>\n",
       "  <tbody>\n",
       "    <tr>\n",
       "      <th>0</th>\n",
       "      <td></td>\n",
       "      <td>Titre</td>\n",
       "      <td>تبصرة الحكام في أصول الأقضية ومناهج الأحكام</td>\n",
       "      <td></td>\n",
       "    </tr>\n",
       "    <tr>\n",
       "      <th>1</th>\n",
       "      <td></td>\n",
       "      <td>Auteur</td>\n",
       "      <td>ابن فرحون المالكي</td>\n",
       "      <td></td>\n",
       "    </tr>\n",
       "    <tr>\n",
       "      <th>2</th>\n",
       "      <td></td>\n",
       "      <td>Volumes</td>\n",
       "      <td>3</td>\n",
       "      <td></td>\n",
       "    </tr>\n",
       "    <tr>\n",
       "      <th>3</th>\n",
       "      <td></td>\n",
       "      <td>Pages</td>\n",
       "      <td>2013</td>\n",
       "      <td></td>\n",
       "    </tr>\n",
       "    <tr>\n",
       "      <th>4</th>\n",
       "      <td></td>\n",
       "      <td>Édition</td>\n",
       "      <td>دار القلم</td>\n",
       "      <td></td>\n",
       "    </tr>\n",
       "    <tr>\n",
       "      <th>5</th>\n",
       "      <td></td>\n",
       "      <td>Couverture</td>\n",
       "      <td>Rigide</td>\n",
       "      <td></td>\n",
       "    </tr>\n",
       "    <tr>\n",
       "      <th>6</th>\n",
       "      <td></td>\n",
       "      <td>Vérification et préparation</td>\n",
       "      <td>د. عثمان ضميرية</td>\n",
       "      <td></td>\n",
       "    </tr>\n",
       "    <tr>\n",
       "      <th>8</th>\n",
       "      <td></td>\n",
       "      <td>Format</td>\n",
       "      <td>17x24cm</td>\n",
       "      <td></td>\n",
       "    </tr>\n",
       "    <tr>\n",
       "      <th>9</th>\n",
       "      <td></td>\n",
       "      <td>Harakat</td>\n",
       "      <td>En Majorité ou en Totalité</td>\n",
       "      <td></td>\n",
       "    </tr>\n",
       "  </tbody>\n",
       "</table>\n",
       "</div>"
      ],
      "text/plain": [
       "  0                            1                                            2  \\\n",
       "0                          Titre  تبصرة الحكام في أصول الأقضية ومناهج الأحكام   \n",
       "1                         Auteur                            ابن فرحون المالكي   \n",
       "2                        Volumes                                            3   \n",
       "3                          Pages                                         2013   \n",
       "4                        Édition                                    دار القلم   \n",
       "5                     Couverture                                       Rigide   \n",
       "6    Vérification et préparation                              د. عثمان ضميرية   \n",
       "8                         Format                                      17x24cm   \n",
       "9                        Harakat                   En Majorité ou en Totalité   \n",
       "\n",
       "  3  \n",
       "0    \n",
       "1    \n",
       "2    \n",
       "3    \n",
       "4    \n",
       "5    \n",
       "6    \n",
       "8    \n",
       "9    "
      ]
     },
     "execution_count": 126,
     "metadata": {},
     "output_type": "execute_result"
    }
   ],
   "source": [
    "url = urls[1]\n",
    "r = requests.get(url)\n",
    "soup = BeautifulSoup(r.content, 'html.parser')\n",
    "s = soup.find('section', class_='product-features')\n",
    "L_string = []\n",
    "for text in s.findAll(class_ ='data-sheet flex_container'):\n",
    "    L_string.append(text.text.split('\\n'))\n",
    "L_string = np.array(L_string)\n",
    "df2 = pd.DataFrame((L_string))\n",
    "df2 = df2.drop_duplicates()\n",
    "df2 #Pour avoir un aperçu"
   ]
  },
  {
   "cell_type": "code",
   "execution_count": 127,
   "metadata": {},
   "outputs": [
    {
     "data": {
      "text/html": [
       "<div>\n",
       "<style scoped>\n",
       "    .dataframe tbody tr th:only-of-type {\n",
       "        vertical-align: middle;\n",
       "    }\n",
       "\n",
       "    .dataframe tbody tr th {\n",
       "        vertical-align: top;\n",
       "    }\n",
       "\n",
       "    .dataframe thead th {\n",
       "        text-align: right;\n",
       "    }\n",
       "</style>\n",
       "<table border=\"1\" class=\"dataframe\">\n",
       "  <thead>\n",
       "    <tr style=\"text-align: right;\">\n",
       "      <th></th>\n",
       "      <th>test</th>\n",
       "    </tr>\n",
       "    <tr>\n",
       "      <th>categories</th>\n",
       "      <th></th>\n",
       "    </tr>\n",
       "  </thead>\n",
       "  <tbody>\n",
       "    <tr>\n",
       "      <th>Titre</th>\n",
       "      <td>تبصرة الحكام في أصول الأقضية ومناهج الأحكام</td>\n",
       "    </tr>\n",
       "    <tr>\n",
       "      <th>Auteur</th>\n",
       "      <td>ابن فرحون المالكي</td>\n",
       "    </tr>\n",
       "    <tr>\n",
       "      <th>Volumes</th>\n",
       "      <td>3</td>\n",
       "    </tr>\n",
       "    <tr>\n",
       "      <th>Pages</th>\n",
       "      <td>2013</td>\n",
       "    </tr>\n",
       "    <tr>\n",
       "      <th>Édition</th>\n",
       "      <td>دار القلم</td>\n",
       "    </tr>\n",
       "    <tr>\n",
       "      <th>Couverture</th>\n",
       "      <td>Rigide</td>\n",
       "    </tr>\n",
       "    <tr>\n",
       "      <th>Vérification et préparation</th>\n",
       "      <td>د. عثمان ضميرية</td>\n",
       "    </tr>\n",
       "    <tr>\n",
       "      <th>Format</th>\n",
       "      <td>17x24cm</td>\n",
       "    </tr>\n",
       "    <tr>\n",
       "      <th>Harakat</th>\n",
       "      <td>En Majorité ou en Totalité</td>\n",
       "    </tr>\n",
       "  </tbody>\n",
       "</table>\n",
       "</div>"
      ],
      "text/plain": [
       "                                                                    test\n",
       "categories                                                              \n",
       "Titre                        تبصرة الحكام في أصول الأقضية ومناهج الأحكام\n",
       "Auteur                                                 ابن فرحون المالكي\n",
       "Volumes                                                                3\n",
       "Pages                                                               2013\n",
       "Édition                                                        دار القلم\n",
       "Couverture                                                        Rigide\n",
       "Vérification et préparation                              د. عثمان ضميرية\n",
       "Format                                                           17x24cm\n",
       "Harakat                                       En Majorité ou en Totalité"
      ]
     },
     "execution_count": 127,
     "metadata": {},
     "output_type": "execute_result"
    }
   ],
   "source": [
    "df2.columns = ['supp', 'categories', 'test', 'supp2']\n",
    "df2.drop(['supp', 'supp2'], axis = 1, inplace=True)\n",
    "df2.set_index('categories', inplace = True)\n",
    "df2 #pour comparer avec df"
   ]
  },
  {
   "cell_type": "code",
   "execution_count": 128,
   "metadata": {},
   "outputs": [],
   "source": [
    "M = df.join(on='categories', other = df2, rsuffix='_df2', how = 'outer')"
   ]
  },
  {
   "cell_type": "code",
   "execution_count": 129,
   "metadata": {},
   "outputs": [],
   "source": [
    "M.set_index(M['categories'], inplace = True)#Si il y a un tahqiq (authentification), une colonne supplémentaire apparaît,\n",
    "#en faisant ca on dit que l'index sera la colonne \"categories\" avec le plus de champs remplis.\n",
    "M.drop(['categories'], axis = 1, inplace = True)"
   ]
  },
  {
   "cell_type": "code",
   "execution_count": 130,
   "metadata": {},
   "outputs": [],
   "source": [
    "#M"
   ]
  },
  {
   "cell_type": "code",
   "execution_count": 131,
   "metadata": {},
   "outputs": [],
   "source": [
    "#M.T"
   ]
  },
  {
   "cell_type": "markdown",
   "metadata": {},
   "source": [
    "Maintenant on peut essayer de faire une boucles sur toutes les pages. On pourra renommer les \"categories\" par le site où on pourra trouver ce livre."
   ]
  },
  {
   "cell_type": "markdown",
   "metadata": {},
   "source": [
    "## Essai de boucle sur tous les sites d'une page donnée"
   ]
  },
  {
   "cell_type": "markdown",
   "metadata": {},
   "source": [
    "On fait juste le premier lien pour qu'on puisse fusionner sur un DataFrame, on le supprimera juste après inchAllah"
   ]
  },
  {
   "cell_type": "code",
   "execution_count": 146,
   "metadata": {},
   "outputs": [],
   "source": [
    "url = urls[0]\n",
    "r = requests.get(url)\n",
    "soup = BeautifulSoup(r.content, 'html.parser')\n",
    "s = soup.find('section', class_='product-features')\n",
    "L_string = []\n",
    "for text in s.findAll(class_ ='data-sheet flex_container'):\n",
    "    L_string.append(text.text.split('\\n'))\n",
    "L_string = np.array(L_string)\n",
    "df = pd.DataFrame((L_string))\n",
    "df = df.drop_duplicates()#des fois les volumes apparaissent deux fois\n",
    "df.columns = ['supp', 'categories', str(url), 'supp2']# a cette étape on remplace ce qu'il faut pour voir les sites en colonnes\n",
    "df.drop(['supp', 'supp2'], axis = 1, inplace=True)\n",
    "df.set_index('categories', inplace = True)"
   ]
  },
  {
   "cell_type": "code",
   "execution_count": 134,
   "metadata": {},
   "outputs": [],
   "source": [
    "urls.remove(urls[0]) #On enlève le lien qu'on a déjà mis dans le dataframe de base"
   ]
  },
  {
   "cell_type": "markdown",
   "metadata": {},
   "source": [
    "Changements dans la boucle:\n",
    " - df2 devient df_other\n",
    " - on ajoute le site en colonne"
   ]
  },
  {
   "cell_type": "code",
   "execution_count": 137,
   "metadata": {},
   "outputs": [
    {
     "name": "stdout",
     "output_type": "stream",
     "text": [
      "0\n"
     ]
    }
   ],
   "source": [
    "print(urls.index(urls[0]))"
   ]
  },
  {
   "cell_type": "code",
   "execution_count": 173,
   "metadata": {},
   "outputs": [],
   "source": [
    "i = 0\n",
    "for url in urls:\n",
    "    r = requests.get(url)\n",
    "    soup = BeautifulSoup(r.content, 'html.parser')\n",
    "    s = soup.find('section', class_='product-features')\n",
    "    L_string = []\n",
    "    for text in s.findAll(class_ ='data-sheet flex_container'):\n",
    "        L_string.append(text.text.split('\\n'))\n",
    "    L_string = np.array(L_string)\n",
    "    df_other = pd.DataFrame((L_string))\n",
    "    df_other = df_other.drop_duplicates()#des fois les volumes apparaissent deux fois\n",
    "    df_other.columns = ['supp', 'categories',str(url), 'supp2']# a cette étape on remplace ce qu'il faut pour voir les sites en colonnes\n",
    "    df_other.drop(['supp', 'supp2'], axis = 1, inplace=True)\n",
    "    df_other.set_index('categories', inplace = True)\n",
    "    dfs = []\n",
    "    dfs.append(url)\n",
    "    i = i+1"
   ]
  },
  {
   "cell_type": "code",
   "execution_count": 175,
   "metadata": {},
   "outputs": [
    {
     "data": {
      "text/plain": [
       "['https://www.sifatusafwa.com/fr/fiqh-ahkam/tabsirah-al-hukkam-fi-usul-al-aqdhiyyah-ibn-farhun-799h.html',\n",
       " 'https://www.sifatusafwa.com/fr/fiqh-maliki/al-jami-li-masa-il-al-mudawwanah-ibn-yunus-as-siqilli-451h.html',\n",
       " 'https://www.sifatusafwa.com/fr/fiqh-maliki/al-mou-amalat-fi-al-fiqh-al-maliki-sadiq-al-ghariani.html',\n",
       " 'https://www.sifatusafwa.com/fr/fiqh-maliki/al-muqaddimah-al-qurtubiyyah-bi-charh-cheikh-zarrouk-el-bernoussi.html',\n",
       " 'https://www.sifatusafwa.com/fr/fiqh-maliki/al-usul-fi-ma-rifah-al-usul-risalah-fi-usul-ad-din-ibn-al-arabi.html',\n",
       " 'https://www.sifatusafwa.com/fr/fiqh-maliki/charh-aqidah-malik-as-saghir-al-qayrawani-al-qadi-abdelwahhab.html',\n",
       " 'https://www.sifatusafwa.com/fr/fiqh-maliki/dalil-as-salik-ala-as-hal-al-massalik-houssain-as-soulaymani.html',\n",
       " 'https://www.sifatusafwa.com/fr/fiqh-maliki/hachiyah-ad-dousouqi-ala-ach-charh-al-kabir-fiqh-maliki.html',\n",
       " 'https://www.sifatusafwa.com/fr/fiqh-maliki/lawami-al-durar-fi-hatk-astar-al-mukhtasar-al-majlisi-ash-shinqiti.html',\n",
       " 'https://www.sifatusafwa.com/fr/fiqh-maliki/le-statut-du-qabd-dans-la-prière-chez-l-imam-malik-al-mekki-ibn-azouz.html',\n",
       " 'https://www.sifatusafwa.com/fr/fiqh-maliki/majmou-al-amir-moukhtasar-al-amir-fiqh-maliki.html']"
      ]
     },
     "execution_count": 175,
     "metadata": {},
     "output_type": "execute_result"
    }
   ],
   "source": [
    "url"
   ]
  },
  {
   "cell_type": "code",
   "execution_count": 171,
   "metadata": {},
   "outputs": [],
   "source": [
    "df_other = pd.DataFrame((L_string))\n",
    "df_other = df_other.drop_duplicates()#des fois les volumes apparaissent deux fois\n",
    "df_other.columns = ['supp', 'categories',str(url), 'supp2']# a cette étape on remplace ce qu'il faut pour voir les sites en colonnes\n",
    "df_other.drop(['supp', 'supp2'], axis = 1, inplace=True)\n",
    "df_other.set_index('categories', inplace = True)"
   ]
  },
  {
   "cell_type": "code",
   "execution_count": 172,
   "metadata": {},
   "outputs": [
    {
     "data": {
      "text/html": [
       "<div>\n",
       "<style scoped>\n",
       "    .dataframe tbody tr th:only-of-type {\n",
       "        vertical-align: middle;\n",
       "    }\n",
       "\n",
       "    .dataframe tbody tr th {\n",
       "        vertical-align: top;\n",
       "    }\n",
       "\n",
       "    .dataframe thead th {\n",
       "        text-align: right;\n",
       "    }\n",
       "</style>\n",
       "<table border=\"1\" class=\"dataframe\">\n",
       "  <thead>\n",
       "    <tr style=\"text-align: right;\">\n",
       "      <th></th>\n",
       "      <th>https://www.sifatusafwa.com/fr/fiqh-maliki/majmou-al-amir-moukhtasar-al-amir-fiqh-maliki.html</th>\n",
       "    </tr>\n",
       "    <tr>\n",
       "      <th>categories</th>\n",
       "      <th></th>\n",
       "    </tr>\n",
       "  </thead>\n",
       "  <tbody>\n",
       "    <tr>\n",
       "      <th>Titre</th>\n",
       "      <td>مجموع الأمير وشرحه</td>\n",
       "    </tr>\n",
       "    <tr>\n",
       "      <th>Auteur</th>\n",
       "      <td>محمد الأمير المالكي</td>\n",
       "    </tr>\n",
       "    <tr>\n",
       "      <th>Volumes</th>\n",
       "      <td>4</td>\n",
       "    </tr>\n",
       "    <tr>\n",
       "      <th>Pages</th>\n",
       "      <td>1532</td>\n",
       "    </tr>\n",
       "    <tr>\n",
       "      <th>Édition</th>\n",
       "      <td>مكتبة المشارق</td>\n",
       "    </tr>\n",
       "    <tr>\n",
       "      <th>Couverture</th>\n",
       "      <td>Rigide</td>\n",
       "    </tr>\n",
       "    <tr>\n",
       "      <th>Préface</th>\n",
       "      <td>د. أحمد علي طه ريان</td>\n",
       "    </tr>\n",
       "    <tr>\n",
       "      <th>Vérification et préparation</th>\n",
       "      <td>حمدي عبد المنعم شلبي</td>\n",
       "    </tr>\n",
       "    <tr>\n",
       "      <th>Format</th>\n",
       "      <td>17x24cm</td>\n",
       "    </tr>\n",
       "    <tr>\n",
       "      <th>Harakat</th>\n",
       "      <td>En Majorité ou en Totalité</td>\n",
       "    </tr>\n",
       "  </tbody>\n",
       "</table>\n",
       "</div>"
      ],
      "text/plain": [
       "                            https://www.sifatusafwa.com/fr/fiqh-maliki/majmou-al-amir-moukhtasar-al-amir-fiqh-maliki.html\n",
       "categories                                                                                                               \n",
       "Titre                                                       مجموع الأمير وشرحه                                           \n",
       "Auteur                                                     محمد الأمير المالكي                                           \n",
       "Volumes                                                                      4                                           \n",
       "Pages                                                                     1532                                           \n",
       "Édition                                                          مكتبة المشارق                                           \n",
       "Couverture                                                              Rigide                                           \n",
       "Préface                                                    د. أحمد علي طه ريان                                           \n",
       "Vérification et préparation                               حمدي عبد المنعم شلبي                                           \n",
       "Format                                                                 17x24cm                                           \n",
       "Harakat                                             En Majorité ou en Totalité                                           "
      ]
     },
     "execution_count": 172,
     "metadata": {},
     "output_type": "execute_result"
    }
   ],
   "source": [
    "df_other"
   ]
  },
  {
   "cell_type": "code",
   "execution_count": null,
   "metadata": {},
   "outputs": [],
   "source": []
  }
 ],
 "metadata": {
  "kernelspec": {
   "display_name": "Python 3",
   "language": "python",
   "name": "python3"
  },
  "language_info": {
   "codemirror_mode": {
    "name": "ipython",
    "version": 3
   },
   "file_extension": ".py",
   "mimetype": "text/x-python",
   "name": "python",
   "nbconvert_exporter": "python",
   "pygments_lexer": "ipython3",
   "version": "3.8.5"
  },
  "vscode": {
   "interpreter": {
    "hash": "258996d679d8e259ac990df9fdfc128ec5eb77c39bd98f0b9ba2b9004f62dd43"
   }
  }
 },
 "nbformat": 4,
 "nbformat_minor": 4
}
