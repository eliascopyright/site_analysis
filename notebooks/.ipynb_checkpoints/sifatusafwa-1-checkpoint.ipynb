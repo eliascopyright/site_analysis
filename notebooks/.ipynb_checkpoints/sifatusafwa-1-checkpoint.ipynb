{
 "cells": [
  {
   "cell_type": "markdown",
   "metadata": {},
   "source": [
    "   # بسم الله الرحمن الرحيم"
   ]
  },
  {
   "cell_type": "code",
   "execution_count": 1,
   "metadata": {},
   "outputs": [],
   "source": [
    "import requests\n",
    "from bs4 import BeautifulSoup\n",
    "import numpy as np\n",
    "import pandas as pd\n",
    "r = requests.get('https://www.sifatusafwa.com/fr/fiqh-maliki/')"
   ]
  },
  {
   "cell_type": "code",
   "execution_count": 2,
   "metadata": {},
   "outputs": [
    {
     "data": {
      "text/plain": [
       "'https://www.sifatusafwa.com/fr/fiqh-maliki/'"
      ]
     },
     "execution_count": 2,
     "metadata": {},
     "output_type": "execute_result"
    }
   ],
   "source": [
    "#Affichage de l'url\n",
    "r.url"
   ]
  },
  {
   "cell_type": "code",
   "execution_count": 3,
   "metadata": {},
   "outputs": [
    {
     "name": "stdout",
     "output_type": "stream",
     "text": [
      "<title>Les meilleurs livres du Fiqh Maliki - SifatuSafwa</title>\n"
     ]
    }
   ],
   "source": [
    "#Affichage du titre de la page\n",
    "soup = BeautifulSoup(r.content, 'html.parser')\n",
    "print(soup.title)"
   ]
  },
  {
   "cell_type": "markdown",
   "metadata": {},
   "source": [
    "## Page 1"
   ]
  },
  {
   "cell_type": "code",
   "execution_count": 4,
   "metadata": {},
   "outputs": [],
   "source": [
    "#Préparation du contenu de la page\n",
    "s = soup.find('section', id = 'products')\n",
    "s = s.find('div', class_ = 'products product_list row grid')"
   ]
  },
  {
   "cell_type": "code",
   "execution_count": 5,
   "metadata": {},
   "outputs": [],
   "source": [
    "#Affichage du contenu de la page\n",
    "#print(s)"
   ]
  },
  {
   "cell_type": "code",
   "execution_count": 6,
   "metadata": {},
   "outputs": [],
   "source": [
    "#Affichage des titres des livres en francais et en arabe\n",
    "lines = s.find_all('a')\n",
    "#for line in lines:\n",
    "#    print(line.text.split('\\n'))"
   ]
  },
  {
   "cell_type": "markdown",
   "metadata": {},
   "source": [
    "**Création d'une liste avec des chaine de caractères**"
   ]
  },
  {
   "cell_type": "code",
   "execution_count": 7,
   "metadata": {},
   "outputs": [],
   "source": [
    "L = []\n",
    "for line in lines:\n",
    "    L.append(line.text.split('\\n'))"
   ]
  },
  {
   "cell_type": "code",
   "execution_count": 8,
   "metadata": {},
   "outputs": [],
   "source": [
    "L_string = []\n",
    "for l in L:\n",
    "    L_string.append(l[0])"
   ]
  },
  {
   "cell_type": "code",
   "execution_count": 9,
   "metadata": {
    "scrolled": true
   },
   "outputs": [],
   "source": [
    "#Affichage de la liste chaine de caractères\n",
    "#L_string"
   ]
  },
  {
   "cell_type": "code",
   "execution_count": 10,
   "metadata": {},
   "outputs": [],
   "source": [
    "#Remplacement des termes peu importants par des \"\"\n",
    "r_item =['Aperçu rapide', 'Ajouter à la liste de souhaits', 'Ajouter au panier', 'Afficher plus']\n",
    "for r in r_item:\n",
    "    L_string = list(filter((r).__ne__, L_string))\n",
    "    \n",
    "#Suppression des \"\"\n",
    "#for i in range(len(L_string)):\n",
    " #   L_string.remove('')"
   ]
  },
  {
   "cell_type": "code",
   "execution_count": 11,
   "metadata": {
    "scrolled": true
   },
   "outputs": [],
   "source": [
    "#Affichage du résultat\n",
    "#L_string"
   ]
  },
  {
   "cell_type": "code",
   "execution_count": 13,
   "metadata": {},
   "outputs": [],
   "source": [
    "try:\n",
    "    for i in range(len(L_string)):\n",
    "        L_string.remove('')\n",
    "except:\n",
    "    pass"
   ]
  },
  {
   "cell_type": "code",
   "execution_count": 14,
   "metadata": {},
   "outputs": [],
   "source": [
    "#L_string"
   ]
  },
  {
   "cell_type": "code",
   "execution_count": 15,
   "metadata": {},
   "outputs": [],
   "source": [
    "#Création des colonnes pour DataFrame\n",
    "Y = []\n",
    "X =[]\n",
    "for i in L_string:\n",
    "    if L_string.index(i)%2 == 1:\n",
    "        X.append(i)\n",
    "    elif L_string.index(i)%2==0:\n",
    "        Y.append(i)"
   ]
  },
  {
   "cell_type": "code",
   "execution_count": 16,
   "metadata": {},
   "outputs": [],
   "source": [
    "X = pd.Series(X)\n",
    "Y = pd.Series(Y)"
   ]
  },
  {
   "cell_type": "code",
   "execution_count": 17,
   "metadata": {},
   "outputs": [],
   "source": [
    "M1 = pd.concat((Y, X), axis = 1)"
   ]
  },
  {
   "cell_type": "code",
   "execution_count": 18,
   "metadata": {},
   "outputs": [],
   "source": [
    "M1.columns = ['fr', 'ar']"
   ]
  },
  {
   "cell_type": "code",
   "execution_count": 19,
   "metadata": {
    "scrolled": false
   },
   "outputs": [
    {
     "data": {
      "text/html": [
       "<div>\n",
       "<style scoped>\n",
       "    .dataframe tbody tr th:only-of-type {\n",
       "        vertical-align: middle;\n",
       "    }\n",
       "\n",
       "    .dataframe tbody tr th {\n",
       "        vertical-align: top;\n",
       "    }\n",
       "\n",
       "    .dataframe thead th {\n",
       "        text-align: right;\n",
       "    }\n",
       "</style>\n",
       "<table border=\"1\" class=\"dataframe\">\n",
       "  <thead>\n",
       "    <tr style=\"text-align: right;\">\n",
       "      <th></th>\n",
       "      <th>fr</th>\n",
       "      <th>ar</th>\n",
       "    </tr>\n",
       "  </thead>\n",
       "  <tbody>\n",
       "    <tr>\n",
       "      <th>0</th>\n",
       "      <td>Majmou’ al-Amir (Moukhtasar al-Amir) - Fiqh Ma...</td>\n",
       "      <td>مجموع الأمير وشرحه - محمد الأمير المالكي</td>\n",
       "    </tr>\n",
       "    <tr>\n",
       "      <th>1</th>\n",
       "      <td>Lawami' al-Durar fi Hatk Astar al-Mukhtasar - ...</td>\n",
       "      <td>لوامع الدرر في هتك أستار المختصر - محمد المجلس...</td>\n",
       "    </tr>\n",
       "    <tr>\n",
       "      <th>2</th>\n",
       "      <td>Al-Jami' li Masa-il al-Mudawwanah - Ibn Yunus ...</td>\n",
       "      <td>الجامع لمسائل المدونة - ابن يونس الصقلي</td>\n",
       "    </tr>\n",
       "    <tr>\n",
       "      <th>3</th>\n",
       "      <td>Le statut du Qabd dans la prière chez l'Imam M...</td>\n",
       "      <td>هيئة الناسك في أن القبض في الصلاة هو مذهب الإم...</td>\n",
       "    </tr>\n",
       "    <tr>\n",
       "      <th>4</th>\n",
       "      <td>Al-Usul fi Ma'rifah al-Usul (Risalah fi Usul a...</td>\n",
       "      <td>الوصول إلى معرفة الأصول - الإمام أبو بكر ابن ا...</td>\n",
       "    </tr>\n",
       "  </tbody>\n",
       "</table>\n",
       "</div>"
      ],
      "text/plain": [
       "                                                  fr  \\\n",
       "0  Majmou’ al-Amir (Moukhtasar al-Amir) - Fiqh Ma...   \n",
       "1  Lawami' al-Durar fi Hatk Astar al-Mukhtasar - ...   \n",
       "2  Al-Jami' li Masa-il al-Mudawwanah - Ibn Yunus ...   \n",
       "3  Le statut du Qabd dans la prière chez l'Imam M...   \n",
       "4  Al-Usul fi Ma'rifah al-Usul (Risalah fi Usul a...   \n",
       "\n",
       "                                                  ar  \n",
       "0           مجموع الأمير وشرحه - محمد الأمير المالكي  \n",
       "1  لوامع الدرر في هتك أستار المختصر - محمد المجلس...  \n",
       "2            الجامع لمسائل المدونة - ابن يونس الصقلي  \n",
       "3  هيئة الناسك في أن القبض في الصلاة هو مذهب الإم...  \n",
       "4  الوصول إلى معرفة الأصول - الإمام أبو بكر ابن ا...  "
      ]
     },
     "execution_count": 19,
     "metadata": {},
     "output_type": "execute_result"
    }
   ],
   "source": [
    "M1.head()"
   ]
  },
  {
   "cell_type": "markdown",
   "metadata": {},
   "source": [
    "## Page 2"
   ]
  },
  {
   "cell_type": "code",
   "execution_count": 20,
   "metadata": {},
   "outputs": [],
   "source": [
    "#Préparation du contenu de la page\n",
    "r = requests.get(\"https://www.sifatusafwa.com/fr/fiqh-maliki/?page=2\")\n",
    "soup = BeautifulSoup(r.content, 'html.parser')\n",
    "s = soup.find('section', id = 'products')\n",
    "#s = s.find_all('div', class_ = 'products product_list row grid')\n",
    "lines = s.find_all('h3', class_ = 's_title_block flex_child')\n",
    "#Affichage du contenu de la page\n",
    "#print(lines)\n",
    "\n",
    "#Enlever les balises\n",
    "L_string = []\n",
    "for line in lines:\n",
    "    L_string.append((line.text.split('\\n')[0]))#line.text.split(\\'n') est une liste de hcaine de caractères, donc [0] est \n",
    "    #seulement le str.\n",
    "    #print(line.text.split('\\n'))#line.text enlève les balises et les choses propres à html/css. Le .split split sur les \\n"
   ]
  },
  {
   "cell_type": "code",
   "execution_count": 21,
   "metadata": {},
   "outputs": [
    {
     "data": {
      "text/html": [
       "<div>\n",
       "<style scoped>\n",
       "    .dataframe tbody tr th:only-of-type {\n",
       "        vertical-align: middle;\n",
       "    }\n",
       "\n",
       "    .dataframe tbody tr th {\n",
       "        vertical-align: top;\n",
       "    }\n",
       "\n",
       "    .dataframe thead th {\n",
       "        text-align: right;\n",
       "    }\n",
       "</style>\n",
       "<table border=\"1\" class=\"dataframe\">\n",
       "  <thead>\n",
       "    <tr style=\"text-align: right;\">\n",
       "      <th></th>\n",
       "      <th>fr</th>\n",
       "      <th>ar</th>\n",
       "    </tr>\n",
       "  </thead>\n",
       "  <tbody>\n",
       "    <tr>\n",
       "      <th>0</th>\n",
       "      <td>Miftah al-Woussoul ila Bina al-Fourou' 'ala al...</td>\n",
       "      <td>مفتاح الوصول إلى بناء الفروع على الأصول - الإم...</td>\n",
       "    </tr>\n",
       "    <tr>\n",
       "      <th>1</th>\n",
       "      <td>Ikhtisar al-Mabsoutah fi Ikhtilaf As-hab Malik...</td>\n",
       "      <td>اختصار المبسوطة في اختلاف أصحاب مالك وأقواله -...</td>\n",
       "    </tr>\n",
       "    <tr>\n",
       "      <th>2</th>\n",
       "      <td>Machariq al-Anwar ‘ala Sahih al-Athar - Al-Qad...</td>\n",
       "      <td>مشارق الأنوار على صحاح الآثار - القاضي عياض</td>\n",
       "    </tr>\n",
       "    <tr>\n",
       "      <th>3</th>\n",
       "      <td>Hachiyyah Charaf ad-Din at-Toukhaykhi ‘ala Mou...</td>\n",
       "      <td>حاشية الإمام شرف الدين الطخيخي على مختصر خليل</td>\n",
       "    </tr>\n",
       "    <tr>\n",
       "      <th>4</th>\n",
       "      <td>Moubtilat as-Salat ‘ala al-Madhhab al-Maliki</td>\n",
       "      <td>مبطلات الصلاة على المذهب المالكي - أحمد مصطفى ...</td>\n",
       "    </tr>\n",
       "  </tbody>\n",
       "</table>\n",
       "</div>"
      ],
      "text/plain": [
       "                                                  fr  \\\n",
       "0  Miftah al-Woussoul ila Bina al-Fourou' 'ala al...   \n",
       "1  Ikhtisar al-Mabsoutah fi Ikhtilaf As-hab Malik...   \n",
       "2  Machariq al-Anwar ‘ala Sahih al-Athar - Al-Qad...   \n",
       "3  Hachiyyah Charaf ad-Din at-Toukhaykhi ‘ala Mou...   \n",
       "4       Moubtilat as-Salat ‘ala al-Madhhab al-Maliki   \n",
       "\n",
       "                                                  ar  \n",
       "0  مفتاح الوصول إلى بناء الفروع على الأصول - الإم...  \n",
       "1  اختصار المبسوطة في اختلاف أصحاب مالك وأقواله -...  \n",
       "2        مشارق الأنوار على صحاح الآثار - القاضي عياض  \n",
       "3      حاشية الإمام شرف الدين الطخيخي على مختصر خليل  \n",
       "4  مبطلات الصلاة على المذهب المالكي - أحمد مصطفى ...  "
      ]
     },
     "execution_count": 21,
     "metadata": {},
     "output_type": "execute_result"
    }
   ],
   "source": [
    "#Affichage de la liste\n",
    "#print(L_string) \n",
    "#Dispatchement en colonne arabe/ colonne français\n",
    "X = []\n",
    "Y = []\n",
    "for l in range(len(L_string)):\n",
    "    if l%2 == 0:\n",
    "        X.append(L_string[l])\n",
    "    else:\n",
    "        Y.append(L_string[l])\n",
    "M2 = pd.DataFrame({'fr': X, 'ar': Y})\n",
    "M2.head()"
   ]
  },
  {
   "cell_type": "markdown",
   "metadata": {},
   "source": [
    "## Tentative d'extension à page 3"
   ]
  },
  {
   "cell_type": "markdown",
   "metadata": {},
   "source": [
    "On a réussi pour les pages 1 et 2 on va tenter un copier coller jusqu'à la page 3:"
   ]
  },
  {
   "cell_type": "code",
   "execution_count": 22,
   "metadata": {},
   "outputs": [],
   "source": [
    "#Préparation du contenu de la page\n",
    "r = requests.get(\"https://www.sifatusafwa.com/fr/fiqh-maliki/?page=3\")\n",
    "soup = BeautifulSoup(r.content, 'html.parser')\n",
    "s = soup.find('section', id = 'products')\n",
    "#s = s.find_all('div', class_ = 'products product_list row grid')\n",
    "lines = s.find_all('h3', class_ = 's_title_block flex_child')\n",
    "#Affichage du contenu de la page\n",
    "#print(lines)\n",
    "\n",
    "#Enlever les balises\n",
    "L_string = []\n",
    "for line in lines:\n",
    "    L_string.append((line.text.split('\\n')[0]))#line.text.split(\\'n') est une liste de hcaine de caractères, donc [0] est \n",
    "    #seulement le str.\n",
    "    #print(line.text.split('\\n'))#line.text enlève les balises et les choses propres à html/css. Le .split split sur les \\n"
   ]
  },
  {
   "cell_type": "code",
   "execution_count": 23,
   "metadata": {},
   "outputs": [
    {
     "data": {
      "text/html": [
       "<div>\n",
       "<style scoped>\n",
       "    .dataframe tbody tr th:only-of-type {\n",
       "        vertical-align: middle;\n",
       "    }\n",
       "\n",
       "    .dataframe tbody tr th {\n",
       "        vertical-align: top;\n",
       "    }\n",
       "\n",
       "    .dataframe thead th {\n",
       "        text-align: right;\n",
       "    }\n",
       "</style>\n",
       "<table border=\"1\" class=\"dataframe\">\n",
       "  <thead>\n",
       "    <tr style=\"text-align: right;\">\n",
       "      <th></th>\n",
       "      <th>fr</th>\n",
       "      <th>ar</th>\n",
       "    </tr>\n",
       "  </thead>\n",
       "  <tbody>\n",
       "    <tr>\n",
       "      <th>8</th>\n",
       "      <td>Al-Khulasah al-Fiqhiyyah 'ala Madhhab al-Malik...</td>\n",
       "      <td>الخلاصة الفقهية على مذهب السادة المالكية - ابن...</td>\n",
       "    </tr>\n",
       "    <tr>\n",
       "      <th>9</th>\n",
       "      <td>Hidayah al-Muta'abid as-Salik (charh al-Akhdar...</td>\n",
       "      <td>هداية المتعبد السالك في مذهب الإمام مالك - ابن...</td>\n",
       "    </tr>\n",
       "    <tr>\n",
       "      <th>10</th>\n",
       "      <td>Les Prosternations de Distraction dans le Madh...</td>\n",
       "      <td>سجود السهو أو ترقيع الصلاة في المذهب المالكي</td>\n",
       "    </tr>\n",
       "    <tr>\n",
       "      <th>11</th>\n",
       "      <td>Charh Mandhouma ibn Achir fi Fiqh al-Maliki - ...</td>\n",
       "      <td>شرح منظومة ابن عاشر في الفقه المالكي - الشيخ أ...</td>\n",
       "    </tr>\n",
       "  </tbody>\n",
       "</table>\n",
       "</div>"
      ],
      "text/plain": [
       "                                                   fr  \\\n",
       "8   Al-Khulasah al-Fiqhiyyah 'ala Madhhab al-Malik...   \n",
       "9   Hidayah al-Muta'abid as-Salik (charh al-Akhdar...   \n",
       "10  Les Prosternations de Distraction dans le Madh...   \n",
       "11  Charh Mandhouma ibn Achir fi Fiqh al-Maliki - ...   \n",
       "\n",
       "                                                   ar  \n",
       "8   الخلاصة الفقهية على مذهب السادة المالكية - ابن...  \n",
       "9   هداية المتعبد السالك في مذهب الإمام مالك - ابن...  \n",
       "10       سجود السهو أو ترقيع الصلاة في المذهب المالكي  \n",
       "11  شرح منظومة ابن عاشر في الفقه المالكي - الشيخ أ...  "
      ]
     },
     "execution_count": 23,
     "metadata": {},
     "output_type": "execute_result"
    }
   ],
   "source": [
    "#Affichage de la liste\n",
    "#print(L_string) \n",
    "#Dispatchement en colonne arabe/ colonne français\n",
    "X = []\n",
    "Y = []\n",
    "for l in range(len(L_string)):\n",
    "    if l%2 == 0:\n",
    "        X.append(L_string[l])\n",
    "    else:\n",
    "        Y.append(L_string[l])\n",
    "M3 = pd.DataFrame({'fr': X, 'ar': Y})\n",
    "M3.tail(4)"
   ]
  },
  {
   "cell_type": "markdown",
   "metadata": {},
   "source": [
    "Ca fonctionne الحمد لله. On va essayer de tout concaténer."
   ]
  },
  {
   "cell_type": "code",
   "execution_count": 24,
   "metadata": {},
   "outputs": [
    {
     "data": {
      "text/html": [
       "<div>\n",
       "<style scoped>\n",
       "    .dataframe tbody tr th:only-of-type {\n",
       "        vertical-align: middle;\n",
       "    }\n",
       "\n",
       "    .dataframe tbody tr th {\n",
       "        vertical-align: top;\n",
       "    }\n",
       "\n",
       "    .dataframe thead th {\n",
       "        text-align: right;\n",
       "    }\n",
       "</style>\n",
       "<table border=\"1\" class=\"dataframe\">\n",
       "  <thead>\n",
       "    <tr style=\"text-align: right;\">\n",
       "      <th></th>\n",
       "      <th>fr</th>\n",
       "      <th>ar</th>\n",
       "    </tr>\n",
       "  </thead>\n",
       "  <tbody>\n",
       "    <tr>\n",
       "      <th>0</th>\n",
       "      <td>Majmou’ al-Amir (Moukhtasar al-Amir) - Fiqh Ma...</td>\n",
       "      <td>مجموع الأمير وشرحه - محمد الأمير المالكي</td>\n",
       "    </tr>\n",
       "    <tr>\n",
       "      <th>1</th>\n",
       "      <td>Lawami' al-Durar fi Hatk Astar al-Mukhtasar - ...</td>\n",
       "      <td>لوامع الدرر في هتك أستار المختصر - محمد المجلس...</td>\n",
       "    </tr>\n",
       "    <tr>\n",
       "      <th>2</th>\n",
       "      <td>Al-Jami' li Masa-il al-Mudawwanah - Ibn Yunus ...</td>\n",
       "      <td>الجامع لمسائل المدونة - ابن يونس الصقلي</td>\n",
       "    </tr>\n",
       "    <tr>\n",
       "      <th>3</th>\n",
       "      <td>Le statut du Qabd dans la prière chez l'Imam M...</td>\n",
       "      <td>هيئة الناسك في أن القبض في الصلاة هو مذهب الإم...</td>\n",
       "    </tr>\n",
       "    <tr>\n",
       "      <th>4</th>\n",
       "      <td>Al-Usul fi Ma'rifah al-Usul (Risalah fi Usul a...</td>\n",
       "      <td>الوصول إلى معرفة الأصول - الإمام أبو بكر ابن ا...</td>\n",
       "    </tr>\n",
       "    <tr>\n",
       "      <th>5</th>\n",
       "      <td>Charh Bidayah al-Mujtahid wa Nihayah al-Muqtas...</td>\n",
       "      <td>شرح بداية المجتهد ونهاية المقتصد وبهامشه السبي...</td>\n",
       "    </tr>\n",
       "    <tr>\n",
       "      <th>6</th>\n",
       "      <td>Hachiyah ad-Dousouqi 'ala ach-Charh al-Kabir (...</td>\n",
       "      <td>حاشية العلامة الدسوقي على الشرح الكبير للإمام ...</td>\n",
       "    </tr>\n",
       "    <tr>\n",
       "      <th>7</th>\n",
       "      <td>Al-Mou'amalat fi al-Fiqh al-Maliki - Sadiq al-...</td>\n",
       "      <td>المعاملات في الفقه المالكي - الصادق الغرياني</td>\n",
       "    </tr>\n",
       "    <tr>\n",
       "      <th>8</th>\n",
       "      <td>Tabsirah al-Hukkam fi Usul al-Aqdhiyyah - Ibn ...</td>\n",
       "      <td>تبصرة الحكام في أصول الأقضية ومناهج الأحكام - ...</td>\n",
       "    </tr>\n",
       "    <tr>\n",
       "      <th>9</th>\n",
       "      <td>Al-Muqaddimah Al-Qurtubiyyah bi Charh Cheikh Z...</td>\n",
       "      <td>المقدمة القرطبية على مذهب السادة المالكية بشرح...</td>\n",
       "    </tr>\n",
       "    <tr>\n",
       "      <th>10</th>\n",
       "      <td>Charh Aqidah Malik as-Saghir al-Qayrawani - Al...</td>\n",
       "      <td>شرح عقيدة مالك الصغير ابن أبي زيد القيرواني - ...</td>\n",
       "    </tr>\n",
       "    <tr>\n",
       "      <th>11</th>\n",
       "      <td>Dalil as-Salik 'ala As-hal al-Massalik - Lahsa...</td>\n",
       "      <td>دليل السالك على أسهل المسالك - لحسن بن محمد سل...</td>\n",
       "    </tr>\n",
       "    <tr>\n",
       "      <th>0</th>\n",
       "      <td>Miftah al-Woussoul ila Bina al-Fourou' 'ala al...</td>\n",
       "      <td>مفتاح الوصول إلى بناء الفروع على الأصول - الإم...</td>\n",
       "    </tr>\n",
       "    <tr>\n",
       "      <th>1</th>\n",
       "      <td>Ikhtisar al-Mabsoutah fi Ikhtilaf As-hab Malik...</td>\n",
       "      <td>اختصار المبسوطة في اختلاف أصحاب مالك وأقواله -...</td>\n",
       "    </tr>\n",
       "    <tr>\n",
       "      <th>2</th>\n",
       "      <td>Machariq al-Anwar ‘ala Sahih al-Athar - Al-Qad...</td>\n",
       "      <td>مشارق الأنوار على صحاح الآثار - القاضي عياض</td>\n",
       "    </tr>\n",
       "    <tr>\n",
       "      <th>3</th>\n",
       "      <td>Hachiyyah Charaf ad-Din at-Toukhaykhi ‘ala Mou...</td>\n",
       "      <td>حاشية الإمام شرف الدين الطخيخي على مختصر خليل</td>\n",
       "    </tr>\n",
       "    <tr>\n",
       "      <th>4</th>\n",
       "      <td>Moubtilat as-Salat ‘ala al-Madhhab al-Maliki</td>\n",
       "      <td>مبطلات الصلاة على المذهب المالكي - أحمد مصطفى ...</td>\n",
       "    </tr>\n",
       "    <tr>\n",
       "      <th>5</th>\n",
       "      <td>Tanqih al-Fusul fi 'Ilm al-Usul - Al-Qarafi (H...</td>\n",
       "      <td>تنقيح الفصول في علم الأصول - القرافي</td>\n",
       "    </tr>\n",
       "    <tr>\n",
       "      <th>6</th>\n",
       "      <td>Tanqih al-Fusul fi 'Ilm al-Usul - Al-Qarafi (H...</td>\n",
       "      <td>تنقيح الفصول في علم الأصول - القرافي</td>\n",
       "    </tr>\n",
       "    <tr>\n",
       "      <th>7</th>\n",
       "      <td>Al-Fiqh al-Maliki wa Adillatuhu - Préface Ahma...</td>\n",
       "      <td>الفقه المالكي وأدلته - د. رمضان حافظ عبد الرحمن</td>\n",
       "    </tr>\n",
       "    <tr>\n",
       "      <th>8</th>\n",
       "      <td>Jami' Moutoun al-Fiqh al-Malikiya (7 Matn de l...</td>\n",
       "      <td>جامع متون الفقه المالكي</td>\n",
       "    </tr>\n",
       "    <tr>\n",
       "      <th>9</th>\n",
       "      <td>Al-Mouwatta bi Riwayah Mohammed ach-Chaybani</td>\n",
       "      <td>الموطأ (رواية محمد بن حسن) - الإمام مالك بن أنس</td>\n",
       "    </tr>\n",
       "    <tr>\n",
       "      <th>10</th>\n",
       "      <td>Fatawa Ulema al-Malikiyah fi Taqrir Aqidah Ahl...</td>\n",
       "      <td>فتاوى علماء المالكية في تقرير عقيدة أهل السنة ...</td>\n",
       "    </tr>\n",
       "    <tr>\n",
       "      <th>11</th>\n",
       "      <td>Malamih min Hayat al-Imam Malik - Ahmad Taha R...</td>\n",
       "      <td>ملامح من حياة الإمام مالك - د. أحمد علي طه ريان</td>\n",
       "    </tr>\n",
       "    <tr>\n",
       "      <th>0</th>\n",
       "      <td>Fiqh as-Sounnah ‘ala Madhhab al-Maliki (2 volu...</td>\n",
       "      <td>فقه السنة على المذهب المالكي - د. محمد القياتي</td>\n",
       "    </tr>\n",
       "    <tr>\n",
       "      <th>1</th>\n",
       "      <td>Al-Muwatta de l'imam Malik divisé en Sahih et ...</td>\n",
       "      <td>صحيح و ضعيف الموطأ - الإمام مالك بن أنس</td>\n",
       "    </tr>\n",
       "    <tr>\n",
       "      <th>2</th>\n",
       "      <td>Al-Masail allati banaha al-Imam Malik 'ala 'Am...</td>\n",
       "      <td>المسائل التي بناها الإمام مالك على عمل أهل الم...</td>\n",
       "    </tr>\n",
       "    <tr>\n",
       "      <th>3</th>\n",
       "      <td>Charh az-Zarqani ‘ala Mouwatta al-Imam Malik</td>\n",
       "      <td>شرح الزرقاني على موطأ الإمام مالك</td>\n",
       "    </tr>\n",
       "    <tr>\n",
       "      <th>4</th>\n",
       "      <td>Taqrib al-Woussoul ila 'Ilm al-Oussoul - Ibn J...</td>\n",
       "      <td>تقريب الوصول إلى علم الأصول - ابن جزي</td>\n",
       "    </tr>\n",
       "    <tr>\n",
       "      <th>5</th>\n",
       "      <td>Majmou’ Chourouh Matn al-’Achmawiyyah</td>\n",
       "      <td>مجموع شروح متن العشماوية - مجموعة من العلماء</td>\n",
       "    </tr>\n",
       "    <tr>\n",
       "      <th>6</th>\n",
       "      <td>Malik ibn Anas (Sirah A-immah al-Madhahib al-A...</td>\n",
       "      <td>مالك بن أنس (سير أئمة المذاهب) - عبد الغني الدقر</td>\n",
       "    </tr>\n",
       "    <tr>\n",
       "      <th>7</th>\n",
       "      <td>At-Ta’aroud bayna ar-Rajih wa l-Machhour fi l-...</td>\n",
       "      <td>التعارض بين الراجح والمشهور في المذهب المالكي</td>\n",
       "    </tr>\n",
       "    <tr>\n",
       "      <th>8</th>\n",
       "      <td>Al-Khulasah al-Fiqhiyyah 'ala Madhhab al-Malik...</td>\n",
       "      <td>الخلاصة الفقهية على مذهب السادة المالكية - ابن...</td>\n",
       "    </tr>\n",
       "    <tr>\n",
       "      <th>9</th>\n",
       "      <td>Hidayah al-Muta'abid as-Salik (charh al-Akhdar...</td>\n",
       "      <td>هداية المتعبد السالك في مذهب الإمام مالك - ابن...</td>\n",
       "    </tr>\n",
       "    <tr>\n",
       "      <th>10</th>\n",
       "      <td>Les Prosternations de Distraction dans le Madh...</td>\n",
       "      <td>سجود السهو أو ترقيع الصلاة في المذهب المالكي</td>\n",
       "    </tr>\n",
       "    <tr>\n",
       "      <th>11</th>\n",
       "      <td>Charh Mandhouma ibn Achir fi Fiqh al-Maliki - ...</td>\n",
       "      <td>شرح منظومة ابن عاشر في الفقه المالكي - الشيخ أ...</td>\n",
       "    </tr>\n",
       "  </tbody>\n",
       "</table>\n",
       "</div>"
      ],
      "text/plain": [
       "                                                   fr  \\\n",
       "0   Majmou’ al-Amir (Moukhtasar al-Amir) - Fiqh Ma...   \n",
       "1   Lawami' al-Durar fi Hatk Astar al-Mukhtasar - ...   \n",
       "2   Al-Jami' li Masa-il al-Mudawwanah - Ibn Yunus ...   \n",
       "3   Le statut du Qabd dans la prière chez l'Imam M...   \n",
       "4   Al-Usul fi Ma'rifah al-Usul (Risalah fi Usul a...   \n",
       "5   Charh Bidayah al-Mujtahid wa Nihayah al-Muqtas...   \n",
       "6   Hachiyah ad-Dousouqi 'ala ach-Charh al-Kabir (...   \n",
       "7   Al-Mou'amalat fi al-Fiqh al-Maliki - Sadiq al-...   \n",
       "8   Tabsirah al-Hukkam fi Usul al-Aqdhiyyah - Ibn ...   \n",
       "9   Al-Muqaddimah Al-Qurtubiyyah bi Charh Cheikh Z...   \n",
       "10  Charh Aqidah Malik as-Saghir al-Qayrawani - Al...   \n",
       "11  Dalil as-Salik 'ala As-hal al-Massalik - Lahsa...   \n",
       "0   Miftah al-Woussoul ila Bina al-Fourou' 'ala al...   \n",
       "1   Ikhtisar al-Mabsoutah fi Ikhtilaf As-hab Malik...   \n",
       "2   Machariq al-Anwar ‘ala Sahih al-Athar - Al-Qad...   \n",
       "3   Hachiyyah Charaf ad-Din at-Toukhaykhi ‘ala Mou...   \n",
       "4        Moubtilat as-Salat ‘ala al-Madhhab al-Maliki   \n",
       "5   Tanqih al-Fusul fi 'Ilm al-Usul - Al-Qarafi (H...   \n",
       "6   Tanqih al-Fusul fi 'Ilm al-Usul - Al-Qarafi (H...   \n",
       "7   Al-Fiqh al-Maliki wa Adillatuhu - Préface Ahma...   \n",
       "8   Jami' Moutoun al-Fiqh al-Malikiya (7 Matn de l...   \n",
       "9        Al-Mouwatta bi Riwayah Mohammed ach-Chaybani   \n",
       "10  Fatawa Ulema al-Malikiyah fi Taqrir Aqidah Ahl...   \n",
       "11  Malamih min Hayat al-Imam Malik - Ahmad Taha R...   \n",
       "0   Fiqh as-Sounnah ‘ala Madhhab al-Maliki (2 volu...   \n",
       "1   Al-Muwatta de l'imam Malik divisé en Sahih et ...   \n",
       "2   Al-Masail allati banaha al-Imam Malik 'ala 'Am...   \n",
       "3        Charh az-Zarqani ‘ala Mouwatta al-Imam Malik   \n",
       "4   Taqrib al-Woussoul ila 'Ilm al-Oussoul - Ibn J...   \n",
       "5               Majmou’ Chourouh Matn al-’Achmawiyyah   \n",
       "6   Malik ibn Anas (Sirah A-immah al-Madhahib al-A...   \n",
       "7   At-Ta’aroud bayna ar-Rajih wa l-Machhour fi l-...   \n",
       "8   Al-Khulasah al-Fiqhiyyah 'ala Madhhab al-Malik...   \n",
       "9   Hidayah al-Muta'abid as-Salik (charh al-Akhdar...   \n",
       "10  Les Prosternations de Distraction dans le Madh...   \n",
       "11  Charh Mandhouma ibn Achir fi Fiqh al-Maliki - ...   \n",
       "\n",
       "                                                   ar  \n",
       "0            مجموع الأمير وشرحه - محمد الأمير المالكي  \n",
       "1   لوامع الدرر في هتك أستار المختصر - محمد المجلس...  \n",
       "2             الجامع لمسائل المدونة - ابن يونس الصقلي  \n",
       "3   هيئة الناسك في أن القبض في الصلاة هو مذهب الإم...  \n",
       "4   الوصول إلى معرفة الأصول - الإمام أبو بكر ابن ا...  \n",
       "5   شرح بداية المجتهد ونهاية المقتصد وبهامشه السبي...  \n",
       "6   حاشية العلامة الدسوقي على الشرح الكبير للإمام ...  \n",
       "7        المعاملات في الفقه المالكي - الصادق الغرياني  \n",
       "8   تبصرة الحكام في أصول الأقضية ومناهج الأحكام - ...  \n",
       "9   المقدمة القرطبية على مذهب السادة المالكية بشرح...  \n",
       "10  شرح عقيدة مالك الصغير ابن أبي زيد القيرواني - ...  \n",
       "11  دليل السالك على أسهل المسالك - لحسن بن محمد سل...  \n",
       "0   مفتاح الوصول إلى بناء الفروع على الأصول - الإم...  \n",
       "1   اختصار المبسوطة في اختلاف أصحاب مالك وأقواله -...  \n",
       "2         مشارق الأنوار على صحاح الآثار - القاضي عياض  \n",
       "3       حاشية الإمام شرف الدين الطخيخي على مختصر خليل  \n",
       "4   مبطلات الصلاة على المذهب المالكي - أحمد مصطفى ...  \n",
       "5                تنقيح الفصول في علم الأصول - القرافي  \n",
       "6                تنقيح الفصول في علم الأصول - القرافي  \n",
       "7     الفقه المالكي وأدلته - د. رمضان حافظ عبد الرحمن  \n",
       "8                             جامع متون الفقه المالكي  \n",
       "9     الموطأ (رواية محمد بن حسن) - الإمام مالك بن أنس  \n",
       "10  فتاوى علماء المالكية في تقرير عقيدة أهل السنة ...  \n",
       "11    ملامح من حياة الإمام مالك - د. أحمد علي طه ريان  \n",
       "0      فقه السنة على المذهب المالكي - د. محمد القياتي  \n",
       "1             صحيح و ضعيف الموطأ - الإمام مالك بن أنس  \n",
       "2   المسائل التي بناها الإمام مالك على عمل أهل الم...  \n",
       "3                   شرح الزرقاني على موطأ الإمام مالك  \n",
       "4               تقريب الوصول إلى علم الأصول - ابن جزي  \n",
       "5       مجموع شروح متن العشماوية - مجموعة من العلماء   \n",
       "6    مالك بن أنس (سير أئمة المذاهب) - عبد الغني الدقر  \n",
       "7       التعارض بين الراجح والمشهور في المذهب المالكي  \n",
       "8   الخلاصة الفقهية على مذهب السادة المالكية - ابن...  \n",
       "9   هداية المتعبد السالك في مذهب الإمام مالك - ابن...  \n",
       "10       سجود السهو أو ترقيع الصلاة في المذهب المالكي  \n",
       "11  شرح منظومة ابن عاشر في الفقه المالكي - الشيخ أ...  "
      ]
     },
     "execution_count": 24,
     "metadata": {},
     "output_type": "execute_result"
    }
   ],
   "source": [
    "M = pd.concat((M1, M2, M3), axis = 0)\n",
    "M"
   ]
  },
  {
   "cell_type": "markdown",
   "metadata": {},
   "source": [
    "On a bien trois fois 11 titres, tout va bien الحمد لله. On va refaire l'index et on essaye de généraliser."
   ]
  },
  {
   "cell_type": "code",
   "execution_count": 25,
   "metadata": {},
   "outputs": [],
   "source": [
    "M.set_index(np.arange(len(M)), inplace = True)"
   ]
  },
  {
   "cell_type": "markdown",
   "metadata": {},
   "source": [
    "## Généralisation à toutes les pages"
   ]
  },
  {
   "cell_type": "markdown",
   "metadata": {},
   "source": [
    "Maintenant on va essayer de trouver le nombre de pages total qu'il y a. On va prendre un maximum (100) et voir ce qui se passe si on envoie pour tous les nombres entre 3 et 100."
   ]
  },
  {
   "cell_type": "code",
   "execution_count": 26,
   "metadata": {},
   "outputs": [],
   "source": [
    "#Préparation du contenu de la page\n",
    "M_list = []\n",
    "for i in range(4,15):\n",
    "    i = str(i)\n",
    "    r = requests.get(\"https://www.sifatusafwa.com/fr/fiqh-maliki/?page=\" + i)\n",
    "    soup = BeautifulSoup(r.content, 'html.parser')\n",
    "    s = soup.find('section', id = 'products')\n",
    "    #s = s.find_all('div', class_ = 'products product_list row grid')\n",
    "    lines = s.find_all('h3', class_ = 's_title_block flex_child')\n",
    "    #Affichage du contenu de la page\n",
    "    #print(lines)\n",
    "\n",
    "    #Enlever les balises\n",
    "    L_string = []\n",
    "    for line in lines:\n",
    "        L_string.append((line.text.split('\\n')[0]))#line.text.split(\\'n') est une liste de hcaine de caractères, donc [0] \n",
    "        #est seulement le str.\n",
    "        #print(line.text.split('\\n'))#line.text enlève les balises et les choses propres à html/css. Le .split split sur\n",
    "        #les \\n\n",
    "        \n",
    "        \n",
    "    #Création des colonnes pour DataFrame\n",
    "    Y = []\n",
    "    X =[]\n",
    "    for i in L_string:\n",
    "        if L_string.index(i)%2 == 1:\n",
    "            X.append(i)\n",
    "        elif L_string.index(i)%2==0:\n",
    "            Y.append(i)\n",
    "\n",
    "    X = pd.Series(X)\n",
    "    Y = pd.Series(Y)\n",
    "\n",
    "    M_temp = pd.DataFrame({'fr':Y, 'ar':X})\n",
    "\n",
    "    M_list.append(M_temp)"
   ]
  },
  {
   "cell_type": "markdown",
   "metadata": {},
   "source": [
    "الحمد لله on a bien toutes nos pages. Maintenant on va essayer de tout concaténer : on aura tous les livres des malikiya du site dans un DataFrame"
   ]
  },
  {
   "cell_type": "code",
   "execution_count": 27,
   "metadata": {},
   "outputs": [],
   "source": [
    "for i in range(len(M_list)):\n",
    "    M = pd.concat((M, M_list[i]), axis = 0)"
   ]
  },
  {
   "cell_type": "code",
   "execution_count": 28,
   "metadata": {},
   "outputs": [
    {
     "data": {
      "text/html": [
       "<div>\n",
       "<style scoped>\n",
       "    .dataframe tbody tr th:only-of-type {\n",
       "        vertical-align: middle;\n",
       "    }\n",
       "\n",
       "    .dataframe tbody tr th {\n",
       "        vertical-align: top;\n",
       "    }\n",
       "\n",
       "    .dataframe thead th {\n",
       "        text-align: right;\n",
       "    }\n",
       "</style>\n",
       "<table border=\"1\" class=\"dataframe\">\n",
       "  <thead>\n",
       "    <tr style=\"text-align: right;\">\n",
       "      <th></th>\n",
       "      <th>fr</th>\n",
       "      <th>ar</th>\n",
       "    </tr>\n",
       "  </thead>\n",
       "  <tbody>\n",
       "    <tr>\n",
       "      <th>3</th>\n",
       "      <td>Al-Kafi fi Fiqh 'ala madh-hab Ahl al-Medina - ...</td>\n",
       "      <td>الكافي في الفقه على مذهب أهل المدينة ـ الحافظ ...</td>\n",
       "    </tr>\n",
       "    <tr>\n",
       "      <th>0</th>\n",
       "      <td>َQa'idah fi Tafdil Madhhab Imam Ahl al-Madina ...</td>\n",
       "      <td>صحة مذهب أهل المدينة أو قاعدة في تفضيل مذهب أه...</td>\n",
       "    </tr>\n",
       "    <tr>\n",
       "      <th>1</th>\n",
       "      <td>َQa'idah fi Tafdil Madhhab Imam Ahl al-Madina ...</td>\n",
       "      <td>صحة مذهب أهل المدينة أو قاعدة في تفضيل مذهب أه...</td>\n",
       "    </tr>\n",
       "    <tr>\n",
       "      <th>2</th>\n",
       "      <td>Al-Kafi fi Fiqh 'ala madh-hab Ahl al-Medina - ...</td>\n",
       "      <td>الكافي في الفقه على مذهب أهل المدينة ـ الحافظ ...</td>\n",
       "    </tr>\n",
       "    <tr>\n",
       "      <th>3</th>\n",
       "      <td>Al-Kafi fi Fiqh 'ala madh-hab Ahl al-Medina - ...</td>\n",
       "      <td>الكافي في الفقه على مذهب أهل المدينة ـ الحافظ ...</td>\n",
       "    </tr>\n",
       "  </tbody>\n",
       "</table>\n",
       "</div>"
      ],
      "text/plain": [
       "                                                  fr  \\\n",
       "3  Al-Kafi fi Fiqh 'ala madh-hab Ahl al-Medina - ...   \n",
       "0  َQa'idah fi Tafdil Madhhab Imam Ahl al-Madina ...   \n",
       "1  َQa'idah fi Tafdil Madhhab Imam Ahl al-Madina ...   \n",
       "2  Al-Kafi fi Fiqh 'ala madh-hab Ahl al-Medina - ...   \n",
       "3  Al-Kafi fi Fiqh 'ala madh-hab Ahl al-Medina - ...   \n",
       "\n",
       "                                                  ar  \n",
       "3  الكافي في الفقه على مذهب أهل المدينة ـ الحافظ ...  \n",
       "0  صحة مذهب أهل المدينة أو قاعدة في تفضيل مذهب أه...  \n",
       "1  صحة مذهب أهل المدينة أو قاعدة في تفضيل مذهب أه...  \n",
       "2  الكافي في الفقه على مذهب أهل المدينة ـ الحافظ ...  \n",
       "3  الكافي في الفقه على مذهب أهل المدينة ـ الحافظ ...  "
      ]
     },
     "execution_count": 28,
     "metadata": {},
     "output_type": "execute_result"
    }
   ],
   "source": [
    "M.tail()"
   ]
  },
  {
   "cell_type": "markdown",
   "metadata": {},
   "source": [
    "الحمد لله !!!!"
   ]
  },
  {
   "cell_type": "code",
   "execution_count": 29,
   "metadata": {},
   "outputs": [],
   "source": [
    "M.set_index(np.arange(len(M)), inplace = True)"
   ]
  },
  {
   "cell_type": "code",
   "execution_count": 30,
   "metadata": {},
   "outputs": [
    {
     "data": {
      "text/html": [
       "<div>\n",
       "<style scoped>\n",
       "    .dataframe tbody tr th:only-of-type {\n",
       "        vertical-align: middle;\n",
       "    }\n",
       "\n",
       "    .dataframe tbody tr th {\n",
       "        vertical-align: top;\n",
       "    }\n",
       "\n",
       "    .dataframe thead th {\n",
       "        text-align: right;\n",
       "    }\n",
       "</style>\n",
       "<table border=\"1\" class=\"dataframe\">\n",
       "  <thead>\n",
       "    <tr style=\"text-align: right;\">\n",
       "      <th></th>\n",
       "      <th>fr</th>\n",
       "      <th>ar</th>\n",
       "    </tr>\n",
       "  </thead>\n",
       "  <tbody>\n",
       "    <tr>\n",
       "      <th>129</th>\n",
       "      <td>Matn Risala al-Qayrawani (ibn Abi Zayd) - Liba...</td>\n",
       "      <td>متن رسالة القيرواني</td>\n",
       "    </tr>\n",
       "    <tr>\n",
       "      <th>130</th>\n",
       "      <td>Matn Risala al-Qayrawani (ibn Abi Zayd) - Egyp...</td>\n",
       "      <td>متن رسالة القيرواني</td>\n",
       "    </tr>\n",
       "    <tr>\n",
       "      <th>131</th>\n",
       "      <td>Matn Ibn 'Ashir fil-Fiqh al-Maliki (Al-Murshid...</td>\n",
       "      <td>متن ابن عاشر في الفقه المالكي [المرشد المعين ع...</td>\n",
       "    </tr>\n",
       "    <tr>\n",
       "      <th>132</th>\n",
       "      <td>َQa'idah fi Tafdil Madhhab Imam Ahl al-Madina ...</td>\n",
       "      <td>صحة مذهب أهل المدينة أو قاعدة في تفضيل مذهب أه...</td>\n",
       "    </tr>\n",
       "    <tr>\n",
       "      <th>133</th>\n",
       "      <td>َQa'idah fi Tafdil Madhhab Imam Ahl al-Madina ...</td>\n",
       "      <td>صحة مذهب أهل المدينة أو قاعدة في تفضيل مذهب أه...</td>\n",
       "    </tr>\n",
       "    <tr>\n",
       "      <th>134</th>\n",
       "      <td>Al-Kafi fi Fiqh 'ala madh-hab Ahl al-Medina - ...</td>\n",
       "      <td>الكافي في الفقه على مذهب أهل المدينة ـ الحافظ ...</td>\n",
       "    </tr>\n",
       "    <tr>\n",
       "      <th>135</th>\n",
       "      <td>Al-Kafi fi Fiqh 'ala madh-hab Ahl al-Medina - ...</td>\n",
       "      <td>الكافي في الفقه على مذهب أهل المدينة ـ الحافظ ...</td>\n",
       "    </tr>\n",
       "    <tr>\n",
       "      <th>136</th>\n",
       "      <td>َQa'idah fi Tafdil Madhhab Imam Ahl al-Madina ...</td>\n",
       "      <td>صحة مذهب أهل المدينة أو قاعدة في تفضيل مذهب أه...</td>\n",
       "    </tr>\n",
       "    <tr>\n",
       "      <th>137</th>\n",
       "      <td>َQa'idah fi Tafdil Madhhab Imam Ahl al-Madina ...</td>\n",
       "      <td>صحة مذهب أهل المدينة أو قاعدة في تفضيل مذهب أه...</td>\n",
       "    </tr>\n",
       "    <tr>\n",
       "      <th>138</th>\n",
       "      <td>Al-Kafi fi Fiqh 'ala madh-hab Ahl al-Medina - ...</td>\n",
       "      <td>الكافي في الفقه على مذهب أهل المدينة ـ الحافظ ...</td>\n",
       "    </tr>\n",
       "    <tr>\n",
       "      <th>139</th>\n",
       "      <td>Al-Kafi fi Fiqh 'ala madh-hab Ahl al-Medina - ...</td>\n",
       "      <td>الكافي في الفقه على مذهب أهل المدينة ـ الحافظ ...</td>\n",
       "    </tr>\n",
       "    <tr>\n",
       "      <th>140</th>\n",
       "      <td>َQa'idah fi Tafdil Madhhab Imam Ahl al-Madina ...</td>\n",
       "      <td>صحة مذهب أهل المدينة أو قاعدة في تفضيل مذهب أه...</td>\n",
       "    </tr>\n",
       "    <tr>\n",
       "      <th>141</th>\n",
       "      <td>َQa'idah fi Tafdil Madhhab Imam Ahl al-Madina ...</td>\n",
       "      <td>صحة مذهب أهل المدينة أو قاعدة في تفضيل مذهب أه...</td>\n",
       "    </tr>\n",
       "    <tr>\n",
       "      <th>142</th>\n",
       "      <td>Al-Kafi fi Fiqh 'ala madh-hab Ahl al-Medina - ...</td>\n",
       "      <td>الكافي في الفقه على مذهب أهل المدينة ـ الحافظ ...</td>\n",
       "    </tr>\n",
       "    <tr>\n",
       "      <th>143</th>\n",
       "      <td>Al-Kafi fi Fiqh 'ala madh-hab Ahl al-Medina - ...</td>\n",
       "      <td>الكافي في الفقه على مذهب أهل المدينة ـ الحافظ ...</td>\n",
       "    </tr>\n",
       "  </tbody>\n",
       "</table>\n",
       "</div>"
      ],
      "text/plain": [
       "                                                    fr  \\\n",
       "129  Matn Risala al-Qayrawani (ibn Abi Zayd) - Liba...   \n",
       "130  Matn Risala al-Qayrawani (ibn Abi Zayd) - Egyp...   \n",
       "131  Matn Ibn 'Ashir fil-Fiqh al-Maliki (Al-Murshid...   \n",
       "132  َQa'idah fi Tafdil Madhhab Imam Ahl al-Madina ...   \n",
       "133  َQa'idah fi Tafdil Madhhab Imam Ahl al-Madina ...   \n",
       "134  Al-Kafi fi Fiqh 'ala madh-hab Ahl al-Medina - ...   \n",
       "135  Al-Kafi fi Fiqh 'ala madh-hab Ahl al-Medina - ...   \n",
       "136  َQa'idah fi Tafdil Madhhab Imam Ahl al-Madina ...   \n",
       "137  َQa'idah fi Tafdil Madhhab Imam Ahl al-Madina ...   \n",
       "138  Al-Kafi fi Fiqh 'ala madh-hab Ahl al-Medina - ...   \n",
       "139  Al-Kafi fi Fiqh 'ala madh-hab Ahl al-Medina - ...   \n",
       "140  َQa'idah fi Tafdil Madhhab Imam Ahl al-Madina ...   \n",
       "141  َQa'idah fi Tafdil Madhhab Imam Ahl al-Madina ...   \n",
       "142  Al-Kafi fi Fiqh 'ala madh-hab Ahl al-Medina - ...   \n",
       "143  Al-Kafi fi Fiqh 'ala madh-hab Ahl al-Medina - ...   \n",
       "\n",
       "                                                    ar  \n",
       "129                                متن رسالة القيرواني  \n",
       "130                                متن رسالة القيرواني  \n",
       "131  متن ابن عاشر في الفقه المالكي [المرشد المعين ع...  \n",
       "132  صحة مذهب أهل المدينة أو قاعدة في تفضيل مذهب أه...  \n",
       "133  صحة مذهب أهل المدينة أو قاعدة في تفضيل مذهب أه...  \n",
       "134  الكافي في الفقه على مذهب أهل المدينة ـ الحافظ ...  \n",
       "135  الكافي في الفقه على مذهب أهل المدينة ـ الحافظ ...  \n",
       "136  صحة مذهب أهل المدينة أو قاعدة في تفضيل مذهب أه...  \n",
       "137  صحة مذهب أهل المدينة أو قاعدة في تفضيل مذهب أه...  \n",
       "138  الكافي في الفقه على مذهب أهل المدينة ـ الحافظ ...  \n",
       "139  الكافي في الفقه على مذهب أهل المدينة ـ الحافظ ...  \n",
       "140  صحة مذهب أهل المدينة أو قاعدة في تفضيل مذهب أه...  \n",
       "141  صحة مذهب أهل المدينة أو قاعدة في تفضيل مذهب أه...  \n",
       "142  الكافي في الفقه على مذهب أهل المدينة ـ الحافظ ...  \n",
       "143  الكافي في الفقه على مذهب أهل المدينة ـ الحافظ ...  "
      ]
     },
     "execution_count": 30,
     "metadata": {},
     "output_type": "execute_result"
    }
   ],
   "source": [
    "M.tail(15)"
   ]
  },
  {
   "cell_type": "markdown",
   "metadata": {},
   "source": [
    "On remarque que les dernieres lignes se répètent: on va essayer de mettre une condition pour que si on voit que ca se repète, la boucle ne se relance pas."
   ]
  },
  {
   "cell_type": "code",
   "execution_count": 31,
   "metadata": {},
   "outputs": [],
   "source": [
    "L= []\n",
    "for i in range(5):\n",
    "    try:\n",
    "        M_list[-1] == M_list[-2]\n",
    "        break\n",
    "    except ValueError:\n",
    "        print(\"le code continue\")\n",
    "    print(i)"
   ]
  },
  {
   "cell_type": "markdown",
   "metadata": {},
   "source": [
    "On le rajoute au grand code: on prendra un nombre de pages max de 15"
   ]
  },
  {
   "cell_type": "code",
   "execution_count": 40,
   "metadata": {},
   "outputs": [],
   "source": [
    "#Préparation du contenu de la page\n",
    "M_list = []\n",
    "NB_MAX_PAGES = 15\n",
    "for i in range(2,NB_MAX_PAGES):\n",
    "        i = str(i)\n",
    "        r = requests.get(\"https://www.sifatusafwa.com/fr/fiqh-maliki/?page=\" + i)\n",
    "        soup = BeautifulSoup(r.content, 'html.parser')\n",
    "        s = soup.find('section', id = 'products')\n",
    "        #s = s.find_all('div', class_ = 'products product_list row grid')\n",
    "        lines = s.find_all('h3', class_ = 's_title_block flex_child')\n",
    "        #Affichage du contenu de la page\n",
    "        #print(lines)\n",
    "\n",
    "        #Enlever les balises\n",
    "        L_string = []\n",
    "        for line in lines:\n",
    "            L_string.append((line.text.split('\\n')[0]))#line.text.split(\\'n') est une liste de hcaine de caractères, donc [0] \n",
    "            #est seulement le str.\n",
    "            #print(line.text.split('\\n'))#line.text enlève les balises et les choses propres à html/css. Le .split split sur\n",
    "            #les \\n\n",
    "\n",
    "\n",
    "        #Création des colonnes pour DataFrame\n",
    "        Y = []\n",
    "        X =[]\n",
    "        for i in L_string:\n",
    "            if L_string.index(i)%2 == 1:\n",
    "                X.append(i)\n",
    "            elif L_string.index(i)%2==0:\n",
    "                Y.append(i)\n",
    "\n",
    "        X = pd.Series(X)\n",
    "        Y = pd.Series(Y)\n",
    "\n",
    "        M_temp = pd.DataFrame({'fr':Y, 'ar':X})\n",
    "        try :\n",
    "            if (M_list[-1] == M_temp).fr.sum()!=0:\n",
    "                break\n",
    "            else:\n",
    "                M_list.append(M_temp)\n",
    "        except ValueError:\n",
    "            M_list.append(M_temp)\n",
    "            pass\n",
    "        except IndexError:\n",
    "            M_list.append(M_temp)\n",
    "            pass"
   ]
  },
  {
   "cell_type": "markdown",
   "metadata": {},
   "source": [
    "On concatène tout:"
   ]
  },
  {
   "cell_type": "code",
   "execution_count": 41,
   "metadata": {},
   "outputs": [],
   "source": [
    "for i in range(len(M_list)):\n",
    "    M = pd.concat((M, M_list[i]), axis = 0)"
   ]
  },
  {
   "cell_type": "code",
   "execution_count": 42,
   "metadata": {},
   "outputs": [
    {
     "data": {
      "text/html": [
       "<div>\n",
       "<style scoped>\n",
       "    .dataframe tbody tr th:only-of-type {\n",
       "        vertical-align: middle;\n",
       "    }\n",
       "\n",
       "    .dataframe tbody tr th {\n",
       "        vertical-align: top;\n",
       "    }\n",
       "\n",
       "    .dataframe thead th {\n",
       "        text-align: right;\n",
       "    }\n",
       "</style>\n",
       "<table border=\"1\" class=\"dataframe\">\n",
       "  <thead>\n",
       "    <tr style=\"text-align: right;\">\n",
       "      <th></th>\n",
       "      <th>fr</th>\n",
       "      <th>ar</th>\n",
       "    </tr>\n",
       "  </thead>\n",
       "  <tbody>\n",
       "    <tr>\n",
       "      <th>6</th>\n",
       "      <td>Al-Muwatta de l'imam Malik - Libanaise (qualit...</td>\n",
       "      <td>الموطأ للإمام مالك</td>\n",
       "    </tr>\n",
       "    <tr>\n",
       "      <th>7</th>\n",
       "      <td>Al-Muwatta de l'imam Malik - Egyptienne avec h...</td>\n",
       "      <td>الموطأ للإمام مالك</td>\n",
       "    </tr>\n",
       "    <tr>\n",
       "      <th>8</th>\n",
       "      <td>Matn Risala al-Qayrawani (ibn Abi Zayd) - Gran...</td>\n",
       "      <td>متن رسالة القيرواني</td>\n",
       "    </tr>\n",
       "    <tr>\n",
       "      <th>9</th>\n",
       "      <td>Matn Risala al-Qayrawani (ibn Abi Zayd) - Liba...</td>\n",
       "      <td>متن رسالة القيرواني</td>\n",
       "    </tr>\n",
       "    <tr>\n",
       "      <th>10</th>\n",
       "      <td>Matn Risala al-Qayrawani (ibn Abi Zayd) - Egyp...</td>\n",
       "      <td>متن رسالة القيرواني</td>\n",
       "    </tr>\n",
       "    <tr>\n",
       "      <th>11</th>\n",
       "      <td>Matn Ibn 'Ashir fil-Fiqh al-Maliki (Al-Murshid...</td>\n",
       "      <td>متن ابن عاشر في الفقه المالكي [المرشد المعين ع...</td>\n",
       "    </tr>\n",
       "    <tr>\n",
       "      <th>0</th>\n",
       "      <td>َQa'idah fi Tafdil Madhhab Imam Ahl al-Madina ...</td>\n",
       "      <td>صحة مذهب أهل المدينة أو قاعدة في تفضيل مذهب أه...</td>\n",
       "    </tr>\n",
       "    <tr>\n",
       "      <th>1</th>\n",
       "      <td>َQa'idah fi Tafdil Madhhab Imam Ahl al-Madina ...</td>\n",
       "      <td>صحة مذهب أهل المدينة أو قاعدة في تفضيل مذهب أه...</td>\n",
       "    </tr>\n",
       "    <tr>\n",
       "      <th>2</th>\n",
       "      <td>Al-Kafi fi Fiqh 'ala madh-hab Ahl al-Medina - ...</td>\n",
       "      <td>الكافي في الفقه على مذهب أهل المدينة ـ الحافظ ...</td>\n",
       "    </tr>\n",
       "    <tr>\n",
       "      <th>3</th>\n",
       "      <td>Al-Kafi fi Fiqh 'ala madh-hab Ahl al-Medina - ...</td>\n",
       "      <td>الكافي في الفقه على مذهب أهل المدينة ـ الحافظ ...</td>\n",
       "    </tr>\n",
       "  </tbody>\n",
       "</table>\n",
       "</div>"
      ],
      "text/plain": [
       "                                                   fr  \\\n",
       "6   Al-Muwatta de l'imam Malik - Libanaise (qualit...   \n",
       "7   Al-Muwatta de l'imam Malik - Egyptienne avec h...   \n",
       "8   Matn Risala al-Qayrawani (ibn Abi Zayd) - Gran...   \n",
       "9   Matn Risala al-Qayrawani (ibn Abi Zayd) - Liba...   \n",
       "10  Matn Risala al-Qayrawani (ibn Abi Zayd) - Egyp...   \n",
       "11  Matn Ibn 'Ashir fil-Fiqh al-Maliki (Al-Murshid...   \n",
       "0   َQa'idah fi Tafdil Madhhab Imam Ahl al-Madina ...   \n",
       "1   َQa'idah fi Tafdil Madhhab Imam Ahl al-Madina ...   \n",
       "2   Al-Kafi fi Fiqh 'ala madh-hab Ahl al-Medina - ...   \n",
       "3   Al-Kafi fi Fiqh 'ala madh-hab Ahl al-Medina - ...   \n",
       "\n",
       "                                                   ar  \n",
       "6                                  الموطأ للإمام مالك  \n",
       "7                                  الموطأ للإمام مالك  \n",
       "8                                 متن رسالة القيرواني  \n",
       "9                                 متن رسالة القيرواني  \n",
       "10                                متن رسالة القيرواني  \n",
       "11  متن ابن عاشر في الفقه المالكي [المرشد المعين ع...  \n",
       "0   صحة مذهب أهل المدينة أو قاعدة في تفضيل مذهب أه...  \n",
       "1   صحة مذهب أهل المدينة أو قاعدة في تفضيل مذهب أه...  \n",
       "2   الكافي في الفقه على مذهب أهل المدينة ـ الحافظ ...  \n",
       "3   الكافي في الفقه على مذهب أهل المدينة ـ الحافظ ...  "
      ]
     },
     "execution_count": 42,
     "metadata": {},
     "output_type": "execute_result"
    }
   ],
   "source": [
    "M.tail(10)"
   ]
  },
  {
   "cell_type": "markdown",
   "metadata": {},
   "source": [
    "C'est bon ألحمد لله "
   ]
  },
  {
   "cell_type": "code",
   "execution_count": 43,
   "metadata": {},
   "outputs": [],
   "source": [
    "M.set_index(np.arange(len(M)), inplace = True)"
   ]
  },
  {
   "cell_type": "code",
   "execution_count": 44,
   "metadata": {},
   "outputs": [],
   "source": [
    "M.to_excel('fiqh_maliki.xlsx', encoding='utf-8', index = False)"
   ]
  },
  {
   "cell_type": "markdown",
   "metadata": {},
   "source": [
    "## Fin "
   ]
  }
 ],
 "metadata": {
  "kernelspec": {
   "display_name": "Python 3",
   "language": "python",
   "name": "python3"
  },
  "language_info": {
   "codemirror_mode": {
    "name": "ipython",
    "version": 3
   },
   "file_extension": ".py",
   "mimetype": "text/x-python",
   "name": "python",
   "nbconvert_exporter": "python",
   "pygments_lexer": "ipython3",
   "version": "3.8.5"
  },
  "vscode": {
   "interpreter": {
    "hash": "3fc63de107a3995f66d33859f380f73bd26ac40da4b187ce627a4472b1acbfe0"
   }
  }
 },
 "nbformat": 4,
 "nbformat_minor": 4
}
