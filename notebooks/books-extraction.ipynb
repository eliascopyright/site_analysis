{
 "cells": [
  {
   "cell_type": "markdown",
   "metadata": {},
   "source": [
    "بسم الله\n",
    "\n",
    "**Troisième extraction**\n",
    "\n",
    "Troisième notebook. Le but est d'essayer d'extraire tous les livres du site, en une fois, sans passer par des sous catégories comme on l'a fait dans la première étape.\n",
    "\n",
    "On utilisera cependant la même démarche pour récupérer les urls que dans fiqhqmaliki-extract-1/2."
   ]
  },
  {
   "cell_type": "markdown",
   "metadata": {},
   "source": [
    "## Etape 1 : Récupérer les urls"
   ]
  },
  {
   "cell_type": "code",
   "execution_count": 2,
   "metadata": {},
   "outputs": [],
   "source": [
    "import requests\n",
    "import pandas as pd\n",
    "import numpy as np\n",
    "from bs4 import BeautifulSoup"
   ]
  },
  {
   "cell_type": "code",
   "execution_count": 36,
   "metadata": {},
   "outputs": [
    {
     "name": "stdout",
     "output_type": "stream",
     "text": [
      "page  5 / 50 10.0 %\n",
      "page  10 / 50 20.0 %\n",
      "page  15 / 50 30.0 %\n",
      "page  20 / 50 40.0 %\n",
      "page  25 / 50 50.0 %\n",
      "page  30 / 50 60.0 %\n",
      "page  35 / 50 70.0 %\n",
      "page  40 / 50 80.0 %\n",
      "page  45 / 50 90.0 %\n"
     ]
    }
   ],
   "source": [
    "##Aller chercher les urls des livres\n",
    "urls = []\n",
    "new_urls = []\n",
    "to_supp =[]\n",
    "NB_MAX_PAGES = 50\n",
    "for i in range(2,NB_MAX_PAGES):\n",
    "    if i%5 == 0:\n",
    "        print('page ', i, '/', NB_MAX_PAGES, (i/NB_MAX_PAGES)*100, '%')\n",
    "    i = str(i)\n",
    "    r = requests.get('https://www.sifatusafwa.com/fr/accueil/?page=' + i)\n",
    "    soup = BeautifulSoup(r.content, 'html.parser')\n",
    "    s = soup.find('section', id = 'products')\n",
    "    #s = s.find_all('div', class_ = 'products product_list row grid')\n",
    "    #lines = s.find('h3', class_ = 's_title_block flex_child')\n",
    "    #Affichage du contenu de la page\n",
    "    #print(lines)\n",
    "\n",
    "    #Extraire les liens\n",
    "    \n",
    "    for line in s.findAll('a'):\n",
    "        urls.append(line.get('href'))#line.text.split(\\'n') est une liste de chaine de caractères, donc [0] est \n",
    "        #seulement le str.\n",
    "        #print(line.text.split('\\n'))#line.text enlève les balises et les choses propres à html/css. Le .split split sur les \\n\n",
    "    #Tous les liens sont en double/ triple... on va les faire apparaitre qu'une seule fois.\n",
    "    urls = list(np.unique(urls))\n",
    "    #urls\n",
    "    # On va supprimer les liens qui ne renvoient pas vers des livres : \n",
    "    #  - Ceux qui finissent pas '.asc' ou 'desc\n",
    "    #  - Les liens de page (\"?page=2\", \"?page=3\"...) et le lien 'fiqh-maliki/'\n",
    "    #  - les \"javascript\"\n",
    "    \n",
    "    #Suppression des liens ne renvoyant pas vers des livres.\n",
    "\n"
   ]
  },
  {
   "cell_type": "code",
   "execution_count": 37,
   "metadata": {},
   "outputs": [
    {
     "data": {
      "text/plain": [
       "635"
      ]
     },
     "execution_count": 37,
     "metadata": {},
     "output_type": "execute_result"
    }
   ],
   "source": [
    "len(urls)"
   ]
  },
  {
   "cell_type": "code",
   "execution_count": 38,
   "metadata": {},
   "outputs": [],
   "source": [
    "for link in urls:\n",
    "    if (link.endswith('asc'))==False and \\\n",
    "        (link.endswith('.desc'))==False and \\\n",
    "        len(link.split('/'))>5 and \\\n",
    "        (link.split('/')[5].startswith('?page=')) == False and \\\n",
    "        (link.startswith('https://www.sifatusafwa.com/fr/accueil/?rewrite'))== False:\n",
    "        new_urls.append(link)            \n",
    "    \n",
    "for i in range(3):\n",
    "    try:\n",
    "        new_urls.remove('javascript:')\n",
    "        new_urls.remove('javascript:;')\n",
    "    except ValueError:\n",
    "        continue\n",
    "new_urls = pd.DataFrame(new_urls)\n",
    "new_urls = new_urls.values.T.tolist()[0]\n",
    "#on enlève tout ce qu'on a rajouté maintenant qu'on a pu faire la comparaison avec ce qu'il y avait\n",
    "#a supprimer"
   ]
  },
  {
   "cell_type": "code",
   "execution_count": 39,
   "metadata": {},
   "outputs": [
    {
     "data": {
      "text/plain": [
       "575"
      ]
     },
     "execution_count": 39,
     "metadata": {},
     "output_type": "execute_result"
    }
   ],
   "source": [
    "len(new_urls)"
   ]
  },
  {
   "cell_type": "markdown",
   "metadata": {},
   "source": [
    "## Etape 2 : Boucle 1 (par ouvrage)"
   ]
  },
  {
   "cell_type": "code",
   "execution_count": 54,
   "metadata": {},
   "outputs": [],
   "source": [
    "urls = new_urls"
   ]
  },
  {
   "cell_type": "code",
   "execution_count": 40,
   "metadata": {},
   "outputs": [
    {
     "ename": "AttributeError",
     "evalue": "'NoneType' object has no attribute 'findAll'",
     "output_type": "error",
     "traceback": [
      "\u001b[1;31m---------------------------------------------------------------------------\u001b[0m",
      "\u001b[1;31mAttributeError\u001b[0m                            Traceback (most recent call last)",
      "\u001b[1;32m<ipython-input-40-7d072b003b29>\u001b[0m in \u001b[0;36m<module>\u001b[1;34m\u001b[0m\n\u001b[0;32m      4\u001b[0m \u001b[0ms\u001b[0m \u001b[1;33m=\u001b[0m \u001b[0msoup\u001b[0m\u001b[1;33m.\u001b[0m\u001b[0mfind\u001b[0m\u001b[1;33m(\u001b[0m\u001b[1;34m'section'\u001b[0m\u001b[1;33m,\u001b[0m \u001b[0mclass_\u001b[0m\u001b[1;33m=\u001b[0m\u001b[1;34m'product-features'\u001b[0m\u001b[1;33m)\u001b[0m\u001b[1;33m\u001b[0m\u001b[1;33m\u001b[0m\u001b[0m\n\u001b[0;32m      5\u001b[0m \u001b[0mL_string\u001b[0m \u001b[1;33m=\u001b[0m \u001b[1;33m[\u001b[0m\u001b[1;33m]\u001b[0m\u001b[1;33m\u001b[0m\u001b[1;33m\u001b[0m\u001b[0m\n\u001b[1;32m----> 6\u001b[1;33m \u001b[1;32mfor\u001b[0m \u001b[0mtext\u001b[0m \u001b[1;32min\u001b[0m \u001b[0ms\u001b[0m\u001b[1;33m.\u001b[0m\u001b[0mfindAll\u001b[0m\u001b[1;33m(\u001b[0m\u001b[0mclass_\u001b[0m \u001b[1;33m=\u001b[0m\u001b[1;34m'data-sheet flex_container'\u001b[0m\u001b[1;33m)\u001b[0m\u001b[1;33m:\u001b[0m\u001b[1;33m\u001b[0m\u001b[1;33m\u001b[0m\u001b[0m\n\u001b[0m\u001b[0;32m      7\u001b[0m     \u001b[0mL_string\u001b[0m\u001b[1;33m.\u001b[0m\u001b[0mappend\u001b[0m\u001b[1;33m(\u001b[0m\u001b[0mtext\u001b[0m\u001b[1;33m.\u001b[0m\u001b[0mtext\u001b[0m\u001b[1;33m.\u001b[0m\u001b[0msplit\u001b[0m\u001b[1;33m(\u001b[0m\u001b[1;34m'\\n'\u001b[0m\u001b[1;33m)\u001b[0m\u001b[1;33m)\u001b[0m\u001b[1;33m\u001b[0m\u001b[1;33m\u001b[0m\u001b[0m\n\u001b[0;32m      8\u001b[0m \u001b[0mL_string\u001b[0m \u001b[1;33m=\u001b[0m \u001b[0mnp\u001b[0m\u001b[1;33m.\u001b[0m\u001b[0marray\u001b[0m\u001b[1;33m(\u001b[0m\u001b[0mL_string\u001b[0m\u001b[1;33m)\u001b[0m\u001b[1;33m\u001b[0m\u001b[1;33m\u001b[0m\u001b[0m\n",
      "\u001b[1;31mAttributeError\u001b[0m: 'NoneType' object has no attribute 'findAll'"
     ]
    }
   ],
   "source": [
    "url = urls[0]\n",
    "r = requests.get(url)\n",
    "soup = BeautifulSoup(r.content, 'html.parser')\n",
    "s = soup.find('section', class_='product-features')\n",
    "L_string = []\n",
    "for text in s.findAll(class_ ='data-sheet flex_container'):\n",
    "    L_string.append(text.text.split('\\n'))\n",
    "L_string = np.array(L_string)\n",
    "df = pd.DataFrame((L_string))\n",
    "df = df.drop_duplicates()#des fois les volumes apparaissent deux fois\n",
    "df.columns = ['supp', 'categories', str(url), 'supp2']# a cette étape on remplace ce qu'il faut pour voir les sites en colonnes\n",
    "df.drop(['supp', 'supp2'], axis = 1, inplace=True)\n",
    "df.set_index('categories', inplace = True)\n",
    "urls.remove(urls[0]) #On enlève le lien qu'on a déjà mis dans le dataframe de base\n"
   ]
  },
  {
   "cell_type": "code",
   "execution_count": 55,
   "metadata": {},
   "outputs": [
    {
     "name": "stderr",
     "output_type": "stream",
     "text": [
      "  0%|          | 1/575 [00:04<39:50,  4.16s/it]"
     ]
    },
    {
     "name": "stdout",
     "output_type": "stream",
     "text": [
      "https://www.sifatusafwa.com/fr/accueil/ etape 1\n",
      "https://www.sifatusafwa.com/fr/accueil/ etape 2\n"
     ]
    },
    {
     "name": "stderr",
     "output_type": "stream",
     "text": [
      " 24%|██▍       | 139/575 [04:32<13:55,  1.92s/it]"
     ]
    },
    {
     "name": "stdout",
     "output_type": "stream",
     "text": [
      "https://www.sifatusafwa.com/fr/déstockage-et-occasion/as-siyam-question-réponse-waqf-min-majmu-ah-zad.html etape 1\n",
      "https://www.sifatusafwa.com/fr/déstockage-et-occasion/as-siyam-question-réponse-waqf-min-majmu-ah-zad.html etape 2\n"
     ]
    },
    {
     "name": "stderr",
     "output_type": "stream",
     "text": [
      " 49%|████▉     | 281/575 [09:10<07:51,  1.60s/it]"
     ]
    },
    {
     "name": "stdout",
     "output_type": "stream",
     "text": [
      "https://www.sifatusafwa.com/fr/fiqh-shafii/étude-simplifiée-du-fiqh-de-l-imam-shafi-i-schémas-tableaux-exercices.html etape 1\n",
      "https://www.sifatusafwa.com/fr/fiqh-shafii/étude-simplifiée-du-fiqh-de-l-imam-shafi-i-schémas-tableaux-exercices.html etape 2\n"
     ]
    },
    {
     "name": "stderr",
     "output_type": "stream",
     "text": [
      " 54%|█████▎    | 309/575 [09:55<06:53,  1.55s/it]"
     ]
    },
    {
     "name": "stdout",
     "output_type": "stream",
     "text": [
      "https://www.sifatusafwa.com/fr/langue-arabe/al-moufrad-al-alam-ahmad-al-hachimi-imlae.html etape 1\n",
      "https://www.sifatusafwa.com/fr/langue-arabe/al-moufrad-al-alam-ahmad-al-hachimi-imlae.html etape 2\n"
     ]
    },
    {
     "name": "stderr",
     "output_type": "stream",
     "text": [
      " 77%|███████▋  | 442/575 [13:10<03:06,  1.40s/it]"
     ]
    },
    {
     "name": "stdout",
     "output_type": "stream",
     "text": [
      "https://www.sifatusafwa.com/fr/papeterie/beau-stylo-bille-gravé-fin-et-raffiné-sifatusafwa.html etape 1\n",
      "https://www.sifatusafwa.com/fr/papeterie/beau-stylo-bille-gravé-fin-et-raffiné-sifatusafwa.html etape 2\n"
     ]
    },
    {
     "name": "stderr",
     "output_type": "stream",
     "text": [
      " 77%|███████▋  | 443/575 [13:11<03:10,  1.44s/it]"
     ]
    },
    {
     "name": "stdout",
     "output_type": "stream",
     "text": [
      "https://www.sifatusafwa.com/fr/papeterie/calepin-à-spirale-éco-responsable-avec-stylo-à-bille-sifatusafwa.html etape 1\n",
      "https://www.sifatusafwa.com/fr/papeterie/calepin-à-spirale-éco-responsable-avec-stylo-à-bille-sifatusafwa.html etape 2\n"
     ]
    },
    {
     "name": "stderr",
     "output_type": "stream",
     "text": [
      " 77%|███████▋  | 444/575 [13:13<03:35,  1.64s/it]"
     ]
    },
    {
     "name": "stdout",
     "output_type": "stream",
     "text": [
      "https://www.sifatusafwa.com/fr/papeterie/carnet-a5-deluxe-flexible-couverture-souple-noir-avec-calligraphie-dorée.html etape 1\n",
      "https://www.sifatusafwa.com/fr/papeterie/carnet-a5-deluxe-flexible-couverture-souple-noir-avec-calligraphie-dorée.html etape 2\n"
     ]
    },
    {
     "name": "stderr",
     "output_type": "stream",
     "text": [
      " 77%|███████▋  | 445/575 [13:14<03:16,  1.51s/it]"
     ]
    },
    {
     "name": "stdout",
     "output_type": "stream",
     "text": [
      "https://www.sifatusafwa.com/fr/papeterie/carnet-de-note-a5-argent-avec-calligraphie-gravée-rabbi-zidni-ilma.html etape 1\n",
      "https://www.sifatusafwa.com/fr/papeterie/carnet-de-note-a5-argent-avec-calligraphie-gravée-rabbi-zidni-ilma.html etape 2\n"
     ]
    },
    {
     "name": "stderr",
     "output_type": "stream",
     "text": [
      " 78%|███████▊  | 446/575 [13:16<03:10,  1.47s/it]"
     ]
    },
    {
     "name": "stdout",
     "output_type": "stream",
     "text": [
      "https://www.sifatusafwa.com/fr/papeterie/carnet-de-note-a5-noir-avec-calligraphie-dorée-rabbi-zidni-ilma.html etape 1\n",
      "https://www.sifatusafwa.com/fr/papeterie/carnet-de-note-a5-noir-avec-calligraphie-dorée-rabbi-zidni-ilma.html etape 2\n"
     ]
    },
    {
     "name": "stderr",
     "output_type": "stream",
     "text": [
      " 78%|███████▊  | 447/575 [13:17<03:06,  1.46s/it]"
     ]
    },
    {
     "name": "stdout",
     "output_type": "stream",
     "text": [
      "https://www.sifatusafwa.com/fr/papeterie/carnet-de-note-a6-noir-avec-calligraphie-dorée-rabbi-zidni-ilma.html etape 1\n",
      "https://www.sifatusafwa.com/fr/papeterie/carnet-de-note-a6-noir-avec-calligraphie-dorée-rabbi-zidni-ilma.html etape 2\n"
     ]
    },
    {
     "name": "stderr",
     "output_type": "stream",
     "text": [
      " 78%|███████▊  | 448/575 [13:19<03:00,  1.42s/it]"
     ]
    },
    {
     "name": "stdout",
     "output_type": "stream",
     "text": [
      "https://www.sifatusafwa.com/fr/papeterie/gobelet-de-voyage-thermique-en-bambou-450ml-avec-calligraphie-gravée-sifatusafwa.html etape 1\n",
      "https://www.sifatusafwa.com/fr/papeterie/gobelet-de-voyage-thermique-en-bambou-450ml-avec-calligraphie-gravée-sifatusafwa.html etape 2\n"
     ]
    },
    {
     "name": "stderr",
     "output_type": "stream",
     "text": [
      " 78%|███████▊  | 449/575 [13:21<03:17,  1.57s/it]"
     ]
    },
    {
     "name": "stdout",
     "output_type": "stream",
     "text": [
      "https://www.sifatusafwa.com/fr/papeterie/luxueux-set-de-stylo-en-metal-cuir-bille-et-portemine-sifatusafwa.html etape 1\n",
      "https://www.sifatusafwa.com/fr/papeterie/luxueux-set-de-stylo-en-metal-cuir-bille-et-portemine-sifatusafwa.html etape 2\n"
     ]
    },
    {
     "name": "stderr",
     "output_type": "stream",
     "text": [
      " 78%|███████▊  | 450/575 [13:22<03:08,  1.51s/it]"
     ]
    },
    {
     "name": "stdout",
     "output_type": "stream",
     "text": [
      "https://www.sifatusafwa.com/fr/papeterie/porte-mines-noir-bic-matic-avec-calligraphie-dorée-sifatusafwa.html etape 1\n",
      "https://www.sifatusafwa.com/fr/papeterie/porte-mines-noir-bic-matic-avec-calligraphie-dorée-sifatusafwa.html etape 2\n"
     ]
    },
    {
     "name": "stderr",
     "output_type": "stream",
     "text": [
      " 78%|███████▊  | 451/575 [13:23<02:59,  1.45s/it]"
     ]
    },
    {
     "name": "stdout",
     "output_type": "stream",
     "text": [
      "https://www.sifatusafwa.com/fr/papeterie/set-de-stylo-en-bambou-bille-et-portemine-sifatusafwa.html etape 1\n",
      "https://www.sifatusafwa.com/fr/papeterie/set-de-stylo-en-bambou-bille-et-portemine-sifatusafwa.html etape 2\n"
     ]
    },
    {
     "name": "stderr",
     "output_type": "stream",
     "text": [
      " 79%|███████▊  | 452/575 [13:24<02:45,  1.35s/it]"
     ]
    },
    {
     "name": "stdout",
     "output_type": "stream",
     "text": [
      "https://www.sifatusafwa.com/fr/papeterie/stylo-bille-métal-et-liège-dans-son-coffret-calligraphie-sifatusafwa-gravée.html etape 1\n",
      "https://www.sifatusafwa.com/fr/papeterie/stylo-bille-métal-et-liège-dans-son-coffret-calligraphie-sifatusafwa-gravée.html etape 2\n"
     ]
    },
    {
     "name": "stderr",
     "output_type": "stream",
     "text": [
      " 79%|███████▉  | 453/575 [13:26<02:40,  1.31s/it]"
     ]
    },
    {
     "name": "stdout",
     "output_type": "stream",
     "text": [
      "https://www.sifatusafwa.com/fr/papeterie/stylo-bille-parker-gravé-dans-son-coffret-noirargent-calligraphie-sifatusafwa.html etape 1\n",
      "https://www.sifatusafwa.com/fr/papeterie/stylo-bille-parker-gravé-dans-son-coffret-noirargent-calligraphie-sifatusafwa.html etape 2\n"
     ]
    },
    {
     "name": "stderr",
     "output_type": "stream",
     "text": [
      " 79%|███████▉  | 454/575 [13:27<02:59,  1.48s/it]"
     ]
    },
    {
     "name": "stdout",
     "output_type": "stream",
     "text": [
      "https://www.sifatusafwa.com/fr/papeterie/élégant-stylo-en-bois-avec-la-calligraphie-arabe-de-sifatusafwa.html etape 1\n",
      "https://www.sifatusafwa.com/fr/papeterie/élégant-stylo-en-bois-avec-la-calligraphie-arabe-de-sifatusafwa.html etape 2\n"
     ]
    },
    {
     "name": "stderr",
     "output_type": "stream",
     "text": [
      "100%|██████████| 575/575 [16:34<00:00,  1.73s/it]\n"
     ]
    }
   ],
   "source": [
    "dfs = []\n",
    "prices = []\n",
    "auteurs = []\n",
    "dates = []\n",
    "domaines =[]\n",
    "from tqdm import tqdm  \n",
    "i = 0\n",
    "for url in tqdm(urls):\n",
    "    # Ajout des caractéristiques du livre (de fiqhmaliki-extract-1)\n",
    "    i = i+1\n",
    "    #print('url numero', i, '/', len(urls), (i/len(urls))*100, \"%\")\n",
    "    if url.endswith('html'): #Pour pas que les javascript:: donnent une erreur\n",
    "        r = requests.get(url)\n",
    "    soup = BeautifulSoup(r.content, 'html.parser')\n",
    "    s = soup.find('section', class_='product-features')\n",
    "    L_string = []\n",
    "    if s !=None:\n",
    "        for text in s.findAll(class_ ='data-sheet flex_container'):\n",
    "            L_string.append(text.text.split('\\n'))\n",
    "    else:\n",
    "        print(url, \"etape 1\")\n",
    "    L_string = np.array(L_string)\n",
    "    df_other = pd.DataFrame((L_string))\n",
    "    df_other = df_other.drop_duplicates()#des fois les volumes apparaissent deux fois\n",
    "    if len(df_other.columns) == 4:\n",
    "        df_other.columns = ['supp', 'categories',str(url), 'supp2']# a cette étape on remplace ce qu'il faut pour voir les sites en colonnes\n",
    "        df_other.drop(['supp', 'supp2'], axis = 1, inplace=True)\n",
    "        df_other.set_index('categories', inplace = True)\n",
    "        dfs.append(df_other)\n",
    "    else:\n",
    "        print(url, 'etape 2')"
   ]
  },
  {
   "cell_type": "code",
   "execution_count": 62,
   "metadata": {},
   "outputs": [
    {
     "name": "stderr",
     "output_type": "stream",
     "text": [
      " 54%|█████▎    | 309/575 [07:33<05:29,  1.24s/it]"
     ]
    },
    {
     "name": "stdout",
     "output_type": "stream",
     "text": [
      "https://www.sifatusafwa.com/fr/langue-arabe/al-moufrad-al-alam-ahmad-al-hachimi-imlae.html <class 'bs4.element.Tag'>\n"
     ]
    },
    {
     "name": "stderr",
     "output_type": "stream",
     "text": [
      "100%|██████████| 575/575 [13:35<00:00,  1.42s/it]\n"
     ]
    }
   ],
   "source": [
    "dfs_2 = []\n",
    "from tqdm import tqdm  \n",
    "prices = []\n",
    "auteurs = []\n",
    "dates = []\n",
    "domaines = []\n",
    "i = 0\n",
    "for url in tqdm(urls):\n",
    "    i = i+1\n",
    "    #print('url numero', i, '/', len(urls), (i/len(urls))*100, \"%\")\n",
    "    if url.endswith('html'): #Pour pas que les javascript:: donnent une erreur\n",
    "        r = requests.get(url)\n",
    "    soup = BeautifulSoup(r.content, 'html.parser')\n",
    "    s = soup.find('section', id ='main')\n",
    "## Ajout des auteurs/dates de décès/prix/domaines/descriptions (de fiqhmaliki-extract-2)\n",
    "    #On vérifie si l'auteur du livre est disponible:\n",
    "    s_auteur = s.find(\"a\", class_= 'pro_extra_info_brand') #Si on divise pas en s_auteur et s_prix le find deviendra une liste car ce sera un find d'un find...\n",
    "    \n",
    "    #Soit pas d'auteur, soit auteur avec date, soit auteur sans date, soit auteur avec date mais deux\n",
    "    #fois la parenthèse.\n",
    "\n",
    "    if  s_auteur != None:#Auteur existe\n",
    "        s_auteur = s_auteur.text         \n",
    "        #Le try c'est juste pour couvrir tous les cas de date de décès possible\n",
    "        try:#Cas 1 : La date existe : on l'ajoute\n",
    "            s_dateauteur = s_auteur.split('(')[1].split('H)')[0]#s_auteur.split('(') = ['al qadhi iyyadh ', '544H)']\n",
    "            dates.append(int(s_dateauteur))            \n",
    "\n",
    "           #Ibn Rushd (Al-Jadd) (520H)\t: split('\\n') = ['', 'ibn rushd (Al hafid)', '']\n",
    "        except IndexError:#Cas 2: Pas de date de décès disponible\n",
    "            dates.append('') #On ne met pas de date pour pas qu'il y ait de décalage: un auteur avec la date de décès de l'auteur \n",
    "            #suivant\n",
    "        except ValueError:#Cas 3: deux fois la parenthèse, il ne peut pas convertir en entier: c'est une \n",
    "            #chaine de caractères\n",
    "            dates.append('') #Avantageux de remplir les auteurs après avoir vérifié la date car ibn rushd (al hafid) est coupé\n",
    "\n",
    "        auteur = (s_auteur.split('\\n')[1].split('(')[0])#s_auteur.split('\\n) = ['', 'ibn rushd (Al hafid)', '']\n",
    "         # ou ['', 'al qadi iyadd','(544)]\n",
    "        auteurs.append(auteur) #Pour pas qu'on ait un espace à la fin.\n",
    "            \n",
    "    else: #Pas d'auteur\n",
    "        auteurs.append('Auteur non disponible')\n",
    "        dates.append('') #pour pas qu'il y ait de décalage: un auteur avec la date de décès de l'auteur suivant\n",
    "    \n",
    "    #Ajour du prix    \n",
    "    s_prix = s.find(\"span\", class_ = 'price')\n",
    "    try:\n",
    "        price = s_prix.text\n",
    "        prices.append(price)\n",
    "\n",
    "    except AttributeError: #s.find eset une liste et .text n'existe pas pour une liste: normalement plus d'erreur\n",
    "        print(url, type(s))\n",
    "    #Ajout du domaine:\n",
    "    domaine = url.split('/')[4]\n",
    "    domaines.append(domaine)"
   ]
  },
  {
   "cell_type": "code",
   "execution_count": 68,
   "metadata": {},
   "outputs": [],
   "source": [
    "prices.append('')"
   ]
  },
  {
   "cell_type": "markdown",
   "metadata": {},
   "source": [
    "On va faire un DataFrame avec les informations des livres (titre arabe, auteur, édition, volumes... de fiqh-extract1) et un autre avec les auteurs, les domaines.... (de fiqhmaliki-extract-2)"
   ]
  },
  {
   "cell_type": "code",
   "execution_count": 69,
   "metadata": {},
   "outputs": [],
   "source": [
    "dfs_1 = pd.concat((i for i in dfs), axis = 1)\n",
    "dfs_2 = pd.DataFrame({\"lien\": urls, 'auteurs': auteurs, 'date': dates, 'domaine':domaines, 'prix': prices})"
   ]
  },
  {
   "cell_type": "code",
   "execution_count": 70,
   "metadata": {},
   "outputs": [],
   "source": [
    "dfs_1 = dfs_1.T\n"
   ]
  },
  {
   "cell_type": "code",
   "execution_count": 72,
   "metadata": {},
   "outputs": [],
   "source": [
    "dfs_1['lien'] = dfs_1.index\n",
    "dfs_1.set_index(np.arange(len(dfs_1)), inplace = True)"
   ]
  },
  {
   "cell_type": "code",
   "execution_count": 87,
   "metadata": {},
   "outputs": [
    {
     "ename": "ValueError",
     "evalue": "Can only compare identically-labeled Series objects",
     "output_type": "error",
     "traceback": [
      "\u001b[1;31m---------------------------------------------------------------------------\u001b[0m",
      "\u001b[1;31mValueError\u001b[0m                                Traceback (most recent call last)",
      "\u001b[1;32m<ipython-input-87-d2224621af71>\u001b[0m in \u001b[0;36m<module>\u001b[1;34m\u001b[0m\n\u001b[1;32m----> 1\u001b[1;33m \u001b[0mdfs_2\u001b[0m\u001b[1;33m[\u001b[0m\u001b[1;34m'lien'\u001b[0m\u001b[1;33m]\u001b[0m \u001b[1;33m==\u001b[0m  \u001b[0mdfs_1\u001b[0m\u001b[1;33m[\u001b[0m\u001b[1;34m'lien'\u001b[0m\u001b[1;33m]\u001b[0m\u001b[1;33m\u001b[0m\u001b[1;33m\u001b[0m\u001b[0m\n\u001b[0m",
      "\u001b[1;32mc:\\Users\\elias\\anaconda3\\lib\\site-packages\\pandas\\core\\ops\\common.py\u001b[0m in \u001b[0;36mnew_method\u001b[1;34m(self, other)\u001b[0m\n\u001b[0;32m     63\u001b[0m         \u001b[0mother\u001b[0m \u001b[1;33m=\u001b[0m \u001b[0mitem_from_zerodim\u001b[0m\u001b[1;33m(\u001b[0m\u001b[0mother\u001b[0m\u001b[1;33m)\u001b[0m\u001b[1;33m\u001b[0m\u001b[1;33m\u001b[0m\u001b[0m\n\u001b[0;32m     64\u001b[0m \u001b[1;33m\u001b[0m\u001b[0m\n\u001b[1;32m---> 65\u001b[1;33m         \u001b[1;32mreturn\u001b[0m \u001b[0mmethod\u001b[0m\u001b[1;33m(\u001b[0m\u001b[0mself\u001b[0m\u001b[1;33m,\u001b[0m \u001b[0mother\u001b[0m\u001b[1;33m)\u001b[0m\u001b[1;33m\u001b[0m\u001b[1;33m\u001b[0m\u001b[0m\n\u001b[0m\u001b[0;32m     66\u001b[0m \u001b[1;33m\u001b[0m\u001b[0m\n\u001b[0;32m     67\u001b[0m     \u001b[1;32mreturn\u001b[0m \u001b[0mnew_method\u001b[0m\u001b[1;33m\u001b[0m\u001b[1;33m\u001b[0m\u001b[0m\n",
      "\u001b[1;32mc:\\Users\\elias\\anaconda3\\lib\\site-packages\\pandas\\core\\ops\\__init__.py\u001b[0m in \u001b[0;36mwrapper\u001b[1;34m(self, other)\u001b[0m\n\u001b[0;32m    363\u001b[0m \u001b[1;33m\u001b[0m\u001b[0m\n\u001b[0;32m    364\u001b[0m         \u001b[1;32mif\u001b[0m \u001b[0misinstance\u001b[0m\u001b[1;33m(\u001b[0m\u001b[0mother\u001b[0m\u001b[1;33m,\u001b[0m \u001b[0mABCSeries\u001b[0m\u001b[1;33m)\u001b[0m \u001b[1;32mand\u001b[0m \u001b[1;32mnot\u001b[0m \u001b[0mself\u001b[0m\u001b[1;33m.\u001b[0m\u001b[0m_indexed_same\u001b[0m\u001b[1;33m(\u001b[0m\u001b[0mother\u001b[0m\u001b[1;33m)\u001b[0m\u001b[1;33m:\u001b[0m\u001b[1;33m\u001b[0m\u001b[1;33m\u001b[0m\u001b[0m\n\u001b[1;32m--> 365\u001b[1;33m             \u001b[1;32mraise\u001b[0m \u001b[0mValueError\u001b[0m\u001b[1;33m(\u001b[0m\u001b[1;34m\"Can only compare identically-labeled Series objects\"\u001b[0m\u001b[1;33m)\u001b[0m\u001b[1;33m\u001b[0m\u001b[1;33m\u001b[0m\u001b[0m\n\u001b[0m\u001b[0;32m    366\u001b[0m \u001b[1;33m\u001b[0m\u001b[0m\n\u001b[0;32m    367\u001b[0m         \u001b[0mlvalues\u001b[0m \u001b[1;33m=\u001b[0m \u001b[0mextract_array\u001b[0m\u001b[1;33m(\u001b[0m\u001b[0mself\u001b[0m\u001b[1;33m,\u001b[0m \u001b[0mextract_numpy\u001b[0m\u001b[1;33m=\u001b[0m\u001b[1;32mTrue\u001b[0m\u001b[1;33m)\u001b[0m\u001b[1;33m\u001b[0m\u001b[1;33m\u001b[0m\u001b[0m\n",
      "\u001b[1;31mValueError\u001b[0m: Can only compare identically-labeled Series objects"
     ]
    }
   ],
   "source": [
    "dfs_2['lien'] ==  dfs_1['lien']"
   ]
  },
  {
   "cell_type": "code",
   "execution_count": 95,
   "metadata": {},
   "outputs": [],
   "source": [
    "dfs_1.drop(['isbn', 'ean13'], axis = 1, inplace=True)#Données propres à l'édition d'un livre. Elles ont du\n",
    "#etre présentes sur un des liens."
   ]
  },
  {
   "cell_type": "markdown",
   "metadata": {},
   "source": [
    "On pourra donc faire une jointure si besoin car les deux dataframes ont les mêmes sites aux mêmes index\n",
    "\n",
    "On va faire un troisième DataFrame avec les descriptions des livres."
   ]
  },
  {
   "cell_type": "code",
   "execution_count": 98,
   "metadata": {},
   "outputs": [
    {
     "name": "stderr",
     "output_type": "stream",
     "text": [
      " 54%|█████▎    | 309/575 [11:13<06:44,  1.52s/it]"
     ]
    },
    {
     "name": "stdout",
     "output_type": "stream",
     "text": [
      "erreur url https://www.sifatusafwa.com/fr/langue-arabe/al-moufrad-al-alam-ahmad-al-hachimi-imlae.html 'NoneType' object has no attribute 'text'\n"
     ]
    },
    {
     "name": "stderr",
     "output_type": "stream",
     "text": [
      "100%|██████████| 575/575 [18:33<00:00,  1.94s/it]\n"
     ]
    }
   ],
   "source": [
    "descriptions = []\n",
    "descriptions_edition = []\n",
    "i = 0\n",
    "from tqdm import tqdm\n",
    "for url in tqdm(urls):\n",
    "    i = i+1\n",
    "    #if i%10 == 0:\n",
    "     #   print('url numero', i, '/', len(urls), (i/len(urls))*100, \"%\")\n",
    "    if url.endswith('.html'):\n",
    "        r = requests.get(url)\n",
    "    soup = BeautifulSoup(r.content, 'html.parser')\n",
    "    s = soup.find('section', id ='main')\n",
    "\n",
    "    #On atteint le stade où les guillemets ne sont plus disponibles:\n",
    "    # url = 'https://www.sifatusafwa.com/fr/fiqh-maliki/ikhtiyarat-al-hafidh-ibn-abdil-barr-al-fiqhiya.html'\n",
    "    char = 1\n",
    "    description = \"\"\n",
    "    s_description = s.find(class_ = 'product-information')\n",
    "    try:\n",
    "        s_description = s_description.text.split('\\n')\n",
    "        while s_description[char] != \"\":\n",
    "            description = description + s_description[char] + '\\n' \n",
    "            char = char + 1\n",
    "        descriptions.append(description)#On met entre crochets pour que plusieurs lignes = 1 élément\n",
    "    except AttributeError as e:\n",
    "        print('erreur url', url, e)#ces liens ne renvoient plus vers des livres, pas important\n",
    "\n",
    "        \n",
    "    #description d'édition: table avec juste ce qu'il faut car plusieurs editions pas toujours disponible, on fera une jointure sur le site si \n",
    "    # besoin. On met donc le site dans le tableau.\n",
    "    \n",
    "    s_editiondescription =  s.find(class_ = 'rte')\n",
    "    if s_editiondescription!= None:\n",
    "        descriptions_edition.append([s_editiondescription.text.split('\\n')[0], url])"
   ]
  },
  {
   "cell_type": "code",
   "execution_count": 106,
   "metadata": {},
   "outputs": [
    {
     "data": {
      "text/html": [
       "<div>\n",
       "<style scoped>\n",
       "    .dataframe tbody tr th:only-of-type {\n",
       "        vertical-align: middle;\n",
       "    }\n",
       "\n",
       "    .dataframe tbody tr th {\n",
       "        vertical-align: top;\n",
       "    }\n",
       "\n",
       "    .dataframe thead th {\n",
       "        text-align: right;\n",
       "    }\n",
       "</style>\n",
       "<table border=\"1\" class=\"dataframe\">\n",
       "  <thead>\n",
       "    <tr style=\"text-align: right;\">\n",
       "      <th></th>\n",
       "      <th>description</th>\n",
       "      <th>lien</th>\n",
       "    </tr>\n",
       "  </thead>\n",
       "  <tbody>\n",
       "    <tr>\n",
       "      <th>0</th>\n",
       "      <td>Cet ouvrage, accessible et bénéfique à tout un...</td>\n",
       "      <td>https://www.sifatusafwa.com/fr/accueil/al-char...</td>\n",
       "    </tr>\n",
       "    <tr>\n",
       "      <th>1</th>\n",
       "      <td>Explication simplifiée du Matn Zad al-Moustaqn...</td>\n",
       "      <td>https://www.sifatusafwa.com/fr/accueil/al-iqna...</td>\n",
       "    </tr>\n",
       "    <tr>\n",
       "      <th>2</th>\n",
       "      <td>Le livre “Al-Iqna’a fi Masa’il al-Ijma’a” de l...</td>\n",
       "      <td>https://www.sifatusafwa.com/fr/accueil/al-matl...</td>\n",
       "    </tr>\n",
       "    <tr>\n",
       "      <th>3</th>\n",
       "      <td>Parmi les œuvres de Cheikh al-Islam Zakaria al...</td>\n",
       "      <td>https://www.sifatusafwa.com/fr/accueil/kitab-h...</td>\n",
       "    </tr>\n",
       "    <tr>\n",
       "      <th>4</th>\n",
       "      <td>Cet ouvrage d'Ibn Abi Dounia, parle des djinns...</td>\n",
       "      <td>https://www.sifatusafwa.com/fr/actes-blamables...</td>\n",
       "    </tr>\n",
       "  </tbody>\n",
       "</table>\n",
       "</div>"
      ],
      "text/plain": [
       "                                         description  \\\n",
       "0  Cet ouvrage, accessible et bénéfique à tout un...   \n",
       "1  Explication simplifiée du Matn Zad al-Moustaqn...   \n",
       "2  Le livre “Al-Iqna’a fi Masa’il al-Ijma’a” de l...   \n",
       "3  Parmi les œuvres de Cheikh al-Islam Zakaria al...   \n",
       "4  Cet ouvrage d'Ibn Abi Dounia, parle des djinns...   \n",
       "\n",
       "                                                lien  \n",
       "0  https://www.sifatusafwa.com/fr/accueil/al-char...  \n",
       "1  https://www.sifatusafwa.com/fr/accueil/al-iqna...  \n",
       "2  https://www.sifatusafwa.com/fr/accueil/al-matl...  \n",
       "3  https://www.sifatusafwa.com/fr/accueil/kitab-h...  \n",
       "4  https://www.sifatusafwa.com/fr/actes-blamables...  "
      ]
     },
     "execution_count": 106,
     "metadata": {},
     "output_type": "execute_result"
    }
   ],
   "source": [
    "dfs_3 = pd.DataFrame({'description':descriptions, 'lien':urls})\n",
    "dfs_3.head()"
   ]
  },
  {
   "cell_type": "code",
   "execution_count": 108,
   "metadata": {},
   "outputs": [
    {
     "data": {
      "text/plain": [
       "True"
      ]
     },
     "execution_count": 108,
     "metadata": {},
     "output_type": "execute_result"
    }
   ],
   "source": [
    "dfs_2['lien'][1] == dfs_3['lien'][0]"
   ]
  },
  {
   "cell_type": "markdown",
   "metadata": {},
   "source": [
    "On ajoute un dernier DataFrame avec les descriptions éditions (certains ouvrages ne possèdent qu'une seule édition donc beaucoup de valeurs nulles si on les met dans le même DataFrame)"
   ]
  },
  {
   "cell_type": "code",
   "execution_count": 109,
   "metadata": {},
   "outputs": [
    {
     "data": {
      "text/html": [
       "<div>\n",
       "<style scoped>\n",
       "    .dataframe tbody tr th:only-of-type {\n",
       "        vertical-align: middle;\n",
       "    }\n",
       "\n",
       "    .dataframe tbody tr th {\n",
       "        vertical-align: top;\n",
       "    }\n",
       "\n",
       "    .dataframe thead th {\n",
       "        text-align: right;\n",
       "    }\n",
       "</style>\n",
       "<table border=\"1\" class=\"dataframe\">\n",
       "  <thead>\n",
       "    <tr style=\"text-align: right;\">\n",
       "      <th></th>\n",
       "      <th>description-edition</th>\n",
       "      <th>lien</th>\n",
       "    </tr>\n",
       "  </thead>\n",
       "  <tbody>\n",
       "    <tr>\n",
       "      <th>0</th>\n",
       "      <td></td>\n",
       "      <td>https://www.sifatusafwa.com/fr/al-hakimiya-kou...</td>\n",
       "    </tr>\n",
       "    <tr>\n",
       "      <th>1</th>\n",
       "      <td></td>\n",
       "      <td>https://www.sifatusafwa.com/fr/az-zuhd-wa-al-a...</td>\n",
       "    </tr>\n",
       "    <tr>\n",
       "      <th>2</th>\n",
       "      <td></td>\n",
       "      <td>https://www.sifatusafwa.com/fr/biographies/mou...</td>\n",
       "    </tr>\n",
       "    <tr>\n",
       "      <th>3</th>\n",
       "      <td></td>\n",
       "      <td>https://www.sifatusafwa.com/fr/déstockage-et-o...</td>\n",
       "    </tr>\n",
       "    <tr>\n",
       "      <th>4</th>\n",
       "      <td></td>\n",
       "      <td>https://www.sifatusafwa.com/fr/déstockage-et-o...</td>\n",
       "    </tr>\n",
       "  </tbody>\n",
       "</table>\n",
       "</div>"
      ],
      "text/plain": [
       "  description-edition                                               lien\n",
       "0                      https://www.sifatusafwa.com/fr/al-hakimiya-kou...\n",
       "1                      https://www.sifatusafwa.com/fr/az-zuhd-wa-al-a...\n",
       "2                      https://www.sifatusafwa.com/fr/biographies/mou...\n",
       "3                      https://www.sifatusafwa.com/fr/déstockage-et-o...\n",
       "4                      https://www.sifatusafwa.com/fr/déstockage-et-o..."
      ]
     },
     "execution_count": 109,
     "metadata": {},
     "output_type": "execute_result"
    }
   ],
   "source": [
    "dfs_editions = pd.DataFrame(descriptions_edition, columns=['description-edition', 'lien'])\n",
    "dfs_editions.head()"
   ]
  },
  {
   "cell_type": "code",
   "execution_count": 110,
   "metadata": {},
   "outputs": [],
   "source": [
    "dfs_1.to_csv('books_1.csv')\n",
    "dfs_2.to_csv('books_2.csv')\n",
    "dfs_3.to_csv('books_3.csv')"
   ]
  },
  {
   "cell_type": "markdown",
   "metadata": {},
   "source": [
    "الحمد لله; la construction du dataset est terminée."
   ]
  },
  {
   "cell_type": "markdown",
   "metadata": {},
   "source": []
  }
 ],
 "metadata": {
  "kernelspec": {
   "display_name": "Python 3.8.5 ('base')",
   "language": "python",
   "name": "python3"
  },
  "language_info": {
   "codemirror_mode": {
    "name": "ipython",
    "version": 3
   },
   "file_extension": ".py",
   "mimetype": "text/x-python",
   "name": "python",
   "nbconvert_exporter": "python",
   "pygments_lexer": "ipython3",
   "version": "3.8.5"
  },
  "orig_nbformat": 4,
  "vscode": {
   "interpreter": {
    "hash": "258996d679d8e259ac990df9fdfc128ec5eb77c39bd98f0b9ba2b9004f62dd43"
   }
  }
 },
 "nbformat": 4,
 "nbformat_minor": 2
}
